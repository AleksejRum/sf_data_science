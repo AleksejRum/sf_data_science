{
  "cells": [
    {
      "cell_type": "markdown",
      "source": [
        "# Inhomogeneous systems of linear equations"
      ],
      "metadata": {
        "id": "yPVyoKDGbZnd"
      },
      "id": "yPVyoKDGbZnd"
    },
    {
      "cell_type": "code",
      "execution_count": null,
      "id": "4a6e54dc",
      "metadata": {
        "id": "4a6e54dc"
      },
      "outputs": [],
      "source": [
        "import pandas as pd\n",
        "import numpy as np\n",
        "from collections import Counter\n",
        "from collections import deque"
      ]
    },
    {
      "cell_type": "markdown",
      "source": [
        "### TASK 1.4"
      ],
      "metadata": {
        "id": "CIX2mgPXtHVW"
      },
      "id": "CIX2mgPXtHVW"
    },
    {
      "cell_type": "code",
      "source": [
        "A = np.array([\n",
        "    [1, 1],\n",
        "    [1, 2]\n",
        "])\n",
        "\n",
        "G = A.T @ A\n",
        "print(G)"
      ],
      "metadata": {
        "colab": {
          "base_uri": "https://localhost:8080/"
        },
        "id": "dIYIjpOPMvGp",
        "outputId": "19e68f64-c056-4a70-dc87-3240b93c7a40"
      },
      "id": "dIYIjpOPMvGp",
      "execution_count": null,
      "outputs": [
        {
          "output_type": "stream",
          "name": "stdout",
          "text": [
            "[[2 3]\n",
            " [3 5]]\n"
          ]
        }
      ]
    },
    {
      "cell_type": "code",
      "source": [
        "A = np.array([\n",
        "    [1, 2],\n",
        "    [3, 7]\n",
        "])\n",
        "\n",
        "A_inv = np.linalg.inv(A)\n",
        "print(A_inv)"
      ],
      "metadata": {
        "colab": {
          "base_uri": "https://localhost:8080/"
        },
        "id": "NWqAqJGctwRA",
        "outputId": "33f3e17b-cd1e-41a5-b5fe-11039951803e"
      },
      "id": "NWqAqJGctwRA",
      "execution_count": null,
      "outputs": [
        {
          "output_type": "stream",
          "name": "stdout",
          "text": [
            "[[ 7. -2.]\n",
            " [-3.  1.]]\n"
          ]
        }
      ]
    },
    {
      "cell_type": "markdown",
      "source": [
        "### TASK 1.7"
      ],
      "metadata": {
        "id": "Pv3sLRkouZfv"
      },
      "id": "Pv3sLRkouZfv"
    },
    {
      "cell_type": "code",
      "source": [
        "v1 = np.array([2, 10, -2])\n",
        "v2 = np.array([3, 2, -2])\n",
        "v3 = np.array([8, 14, -6])\n",
        "\n",
        "A = np.array([v1, v2, v3]).T\n",
        "\n",
        "print(A)\n",
        "print('-----')\n",
        "print(np.linalg.matrix_rank(A))"
      ],
      "metadata": {
        "colab": {
          "base_uri": "https://localhost:8080/"
        },
        "id": "etQ1sJWOub7Q",
        "outputId": "af194ace-6b7a-48c1-85b3-c6896d4c16f1"
      },
      "id": "etQ1sJWOub7Q",
      "execution_count": null,
      "outputs": [
        {
          "output_type": "stream",
          "name": "stdout",
          "text": [
            "[[ 2  3  8]\n",
            " [10  2 14]\n",
            " [-2 -2 -6]]\n",
            "-----\n",
            "2\n"
          ]
        }
      ]
    },
    {
      "cell_type": "markdown",
      "source": [
        "### TASK 1.8"
      ],
      "metadata": {
        "id": "BohbUYdKwOYC"
      },
      "id": "BohbUYdKwOYC"
    },
    {
      "cell_type": "code",
      "source": [
        "v1 = np.array([2, 10, -2])\n",
        "v2 = np.array([3, 2, -2])\n",
        "v3 = np.array([8, 14, -6])\n",
        "\n",
        "A = np.array([v1, v2, v3])\n",
        "print(np.linalg.matrix_rank(A))\n",
        "print('-----')\n",
        "print(np.linalg.det(A))"
      ],
      "metadata": {
        "colab": {
          "base_uri": "https://localhost:8080/"
        },
        "id": "menhQxMEwQbY",
        "outputId": "bb8881b2-ebbb-45ab-9418-78a3d218766c"
      },
      "id": "menhQxMEwQbY",
      "execution_count": null,
      "outputs": [
        {
          "output_type": "stream",
          "name": "stdout",
          "text": [
            "2\n",
            "-----\n",
            "0.0\n"
          ]
        }
      ]
    },
    {
      "cell_type": "markdown",
      "source": [
        "### TASK 1.10"
      ],
      "metadata": {
        "id": "YFP7Iioxw3Ro"
      },
      "id": "YFP7Iioxw3Ro"
    },
    {
      "cell_type": "markdown",
      "source": [
        "A = np.array([\n",
        "<br>  [5, 1, 3],\n",
        "<br>  [0, 2, 8],\n",
        "<br>  [10, 0, 2]\n",
        "<br>])\n",
        "<br>\n",
        "<br>v = np.array([v1, v2, v3]).T\n",
        "<br>\n",
        "<br>b = np.array([1, 10, 0]).T"
      ],
      "metadata": {
        "id": "mTQH9l7yygtY"
      },
      "id": "mTQH9l7yygtY"
    },
    {
      "cell_type": "markdown",
      "source": [
        "### Inhomogeneous system of linear equations"
      ],
      "metadata": {
        "id": "t1oNHf1iUtNY"
      },
      "id": "t1oNHf1iUtNY"
    },
    {
      "cell_type": "markdown",
      "source": [
        "(A|b) = np.array([\n",
        "<br>  [a11, a12 ... a1m, b1],\n",
        "<br>  [a11, a12 ... a1m, b1],\n",
        "<br>   ...  ... ... ...  ...\n",
        "<br>  [an1, an2 ... anm, bn],\n",
        "<br>])\n",
        "<br>\n",
        "<br>Aw = b\n",
        "<br>A = np.array([\n",
        "<br>  [1, 1],\n",
        "<br>  [1, 2]  \n",
        "])\n",
        "<br>w = np.array([w1, w2)].T\n",
        "<br>b = np.array([b1, b2]).T"
      ],
      "metadata": {
        "id": "zYab-fwrUye3"
      },
      "id": "zYab-fwrUye3"
    },
    {
      "cell_type": "markdown",
      "source": [
        "### The perfect couple"
      ],
      "metadata": {
        "id": "JLgH_XMxdbT9"
      },
      "id": "JLgH_XMxdbT9"
    },
    {
      "cell_type": "code",
      "source": [
        "A = np.array([\n",
        "    [1, 1],\n",
        "    [1, 2]\n",
        "])\n",
        "\n",
        "b = np.array([1, 2]).T\n",
        "\n",
        "# w = A_inv @ b\n",
        "A_inv = np.linalg.inv(A)\n",
        "w = A_inv @ b\n",
        "print(w)"
      ],
      "metadata": {
        "colab": {
          "base_uri": "https://localhost:8080/"
        },
        "id": "dhZftyDew1aX",
        "outputId": "c09fcd18-d520-4966-dee9-d0a7519edd2c"
      },
      "id": "dhZftyDew1aX",
      "execution_count": null,
      "outputs": [
        {
          "output_type": "stream",
          "name": "stdout",
          "text": [
            "[0. 1.]\n"
          ]
        }
      ]
    },
    {
      "cell_type": "markdown",
      "source": [
        "### TASK 2.4"
      ],
      "metadata": {
        "id": "8PBZDeZIoLBR"
      },
      "id": "8PBZDeZIoLBR"
    },
    {
      "cell_type": "code",
      "source": [
        "A = np.array([\n",
        "    [4, 7],\n",
        "    [5, 10]\n",
        "])\n",
        "\n",
        "b = np.array([20, 30]).T\n",
        "\n",
        "w = np.linalg.inv(A) @ b\n",
        "print(w)"
      ],
      "metadata": {
        "colab": {
          "base_uri": "https://localhost:8080/"
        },
        "id": "ON26GYp4oKwC",
        "outputId": "8a804a78-0e6f-46b5-bffa-54a555b69bcd"
      },
      "id": "ON26GYp4oKwC",
      "execution_count": null,
      "outputs": [
        {
          "output_type": "stream",
          "name": "stdout",
          "text": [
            "[-2.  4.]\n"
          ]
        }
      ]
    },
    {
      "cell_type": "code",
      "source": [],
      "metadata": {
        "id": "0-GtLg2QpRvD"
      },
      "id": "0-GtLg2QpRvD",
      "execution_count": null,
      "outputs": []
    },
    {
      "cell_type": "markdown",
      "source": [
        "### In active search"
      ],
      "metadata": {
        "id": "qXiwj5E-o87P"
      },
      "id": "qXiwj5E-o87P"
    },
    {
      "cell_type": "markdown",
      "source": [
        "A = np.array([\n",
        "<br>[4w1 + 7w2 - w3 = 7\n",
        "<br>[2w1 + w2 + w3 = 2\n",
        "])"
      ],
      "metadata": {
        "id": "6rpV2XMhutpl"
      },
      "id": "6rpV2XMhutpl"
    },
    {
      "cell_type": "markdown",
      "source": [
        "### TASK 2.5"
      ],
      "metadata": {
        "id": "xIcZB9vGv-a5"
      },
      "id": "xIcZB9vGv-a5"
    },
    {
      "cell_type": "code",
      "source": [
        "w = 3\n",
        "A = np.array([\n",
        "    [4, 7, -1],\n",
        "    [2, 1, 1]\n",
        "])\n",
        "\n",
        "b = np.array([7, 2]).T\n",
        "\n",
        "A_b = np.array([\n",
        "    [4, 7, -1, 7],\n",
        "    [2, 1, 1, 2]\n",
        "])\n",
        "\n",
        "rank_A = np.linalg.matrix_rank(A)\n",
        "rank_A_b = np.linalg.matrix_rank(A_b)\n",
        "print(rank_A)\n",
        "print(rank_A_b)\n",
        "print(rank_A == rank_A_b == w)"
      ],
      "metadata": {
        "colab": {
          "base_uri": "https://localhost:8080/"
        },
        "id": "aydU_psbo9RH",
        "outputId": "2ace0b6f-fe87-47b9-a04f-7bb6377b8968"
      },
      "id": "aydU_psbo9RH",
      "execution_count": null,
      "outputs": [
        {
          "output_type": "stream",
          "name": "stdout",
          "text": [
            "2\n",
            "2\n",
            "False\n"
          ]
        }
      ]
    },
    {
      "cell_type": "markdown",
      "source": [
        "### TASK 2.6"
      ],
      "metadata": {
        "id": "CYzoyml6wBAe"
      },
      "id": "CYzoyml6wBAe"
    },
    {
      "cell_type": "code",
      "source": [
        "A = np.array([\n",
        "    [4, 7, -1],\n",
        "    [-4, 2, 5],\n",
        "    [0, 9, 4]\n",
        "])\n",
        "\n",
        "A = np.array([\n",
        "    [-4, 2, 5],\n",
        "    [0, 9, 4]\n",
        "])\n",
        "\n",
        "b = np.array([7, 3, 10]).T\n",
        "\n",
        "A_b = np.array([\n",
        "    [4, 7, -1, 7],\n",
        "    [0, 9, 4, 10]\n",
        "])\n",
        "\n",
        "rank_A = np.linalg.matrix_rank(A)\n",
        "rank_A_b = np.linalg.matrix_rank(A_b)\n",
        "print(rank_A)\n",
        "print(rank_A_b)\n",
        "print(rank_A == rank_A_b == w)"
      ],
      "metadata": {
        "colab": {
          "base_uri": "https://localhost:8080/"
        },
        "id": "SPaLuEzVv6nn",
        "outputId": "4b546142-eda8-479b-90d4-93b41a9401cc"
      },
      "id": "SPaLuEzVv6nn",
      "execution_count": null,
      "outputs": [
        {
          "output_type": "stream",
          "name": "stdout",
          "text": [
            "2\n",
            "2\n",
            "False\n"
          ]
        }
      ]
    },
    {
      "cell_type": "markdown",
      "source": [
        "### Everything is complicated"
      ],
      "metadata": {
        "id": "gbalFYg-xxQo"
      },
      "id": "gbalFYg-xxQo"
    },
    {
      "cell_type": "markdown",
      "source": [
        "A = np.array([\n",
        "<br>[w1 + w2 = 1\n",
        "<br>[w1 + 2w2 = 2\n",
        "<br>[w1 + w2 = 12\n",
        "])"
      ],
      "metadata": {
        "id": "L5Wd6hZ3csdU"
      },
      "id": "L5Wd6hZ3csdU"
    },
    {
      "cell_type": "code",
      "source": [
        "A = np.array([\n",
        "    [1, 1],\n",
        "    [1, 2],\n",
        "    [1, 1]\n",
        "])\n",
        "\n",
        "b = np.array([1, 2, 12]).T"
      ],
      "metadata": {
        "id": "H-FqvrSnxsps"
      },
      "id": "H-FqvrSnxsps",
      "execution_count": null,
      "outputs": []
    },
    {
      "cell_type": "code",
      "source": [
        "# e = b - b_approx = b - A*w_approx\n",
        "w_approx1 = np.array([1, 1]).T\n",
        "w_approx2 = np.array([4, -1]).T\n",
        "\n",
        "b_approx1 = A @ w_approx1\n",
        "e1 = b - b_approx1\n",
        "\n",
        "b_approx2 = A @ w_approx2\n",
        "e2 = b - b_approx2\n",
        "\n",
        "print(b_approx1)\n",
        "print(e1)\n",
        "print('-----')\n",
        "print(b_approx2)\n",
        "print(e2)"
      ],
      "metadata": {
        "colab": {
          "base_uri": "https://localhost:8080/"
        },
        "id": "COuUJyVhewY2",
        "outputId": "af56ef18-80a6-40e1-c8c3-23e2ddc26387"
      },
      "id": "COuUJyVhewY2",
      "execution_count": null,
      "outputs": [
        {
          "output_type": "stream",
          "name": "stdout",
          "text": [
            "[2 3 2]\n",
            "[-1 -1 10]\n",
            "-----\n",
            "[3 2 3]\n",
            "[-2  0  9]\n"
          ]
        }
      ]
    },
    {
      "cell_type": "code",
      "source": [
        "e1_norm = np.linalg.norm(e1)\n",
        "print(e1_norm)\n",
        "\n",
        "print('------')\n",
        "\n",
        "e2_norm = np.linalg.norm(e2)\n",
        "print(e2_norm)"
      ],
      "metadata": {
        "colab": {
          "base_uri": "https://localhost:8080/"
        },
        "id": "S1ntkTjdidBW",
        "outputId": "89dc9ed7-6a39-483d-a1cf-e28d411cf918"
      },
      "id": "S1ntkTjdidBW",
      "execution_count": null,
      "outputs": [
        {
          "output_type": "stream",
          "name": "stdout",
          "text": [
            "10.099504938362077\n",
            "------\n",
            "9.219544457292887\n"
          ]
        }
      ]
    },
    {
      "cell_type": "markdown",
      "source": [
        "### Least Mean Square"
      ],
      "metadata": {
        "id": "HerfFogZugPY"
      },
      "id": "HerfFogZugPY"
    },
    {
      "cell_type": "code",
      "source": [
        "import numpy as np\n",
        "A = np.array([\n",
        "    [1, 1],\n",
        "    [1, 2],\n",
        "    [1, 1]\n",
        "])\n",
        "\n",
        "b = np.array([1, 2, 12])\n",
        "\n",
        "#w = np.array([w1, w2]).T\n",
        "\n",
        "# A.T @ A @ w = A.T @ b\n",
        "# G @ w = A.T @ b\n",
        "G = A.T @ A\n",
        "A_t_b = A.T @ b\n",
        "print(G)\n",
        "print('----')\n",
        "print(A_t_b)\n"
      ],
      "metadata": {
        "id": "NulCDZCRjr72",
        "colab": {
          "base_uri": "https://localhost:8080/"
        },
        "outputId": "c06e72a2-6e11-4f1b-e044-aef34a545af2"
      },
      "id": "NulCDZCRjr72",
      "execution_count": null,
      "outputs": [
        {
          "output_type": "stream",
          "name": "stdout",
          "text": [
            "[[3 4]\n",
            " [4 6]]\n",
            "----\n",
            "[15 17]\n"
          ]
        }
      ]
    },
    {
      "cell_type": "code",
      "source": [
        "# (A.T @ A)**(-1) @ (A.T @ A) @ w = (A.T @ A)**(-1)@ (A.T @ b)\n",
        "# (A.T @ A)**(-1) @ (A.T @ A) = 1\n",
        "w = np.linalg.inv(A.T @ A) @ (A.T @ b)\n",
        "print(w)"
      ],
      "metadata": {
        "colab": {
          "base_uri": "https://localhost:8080/"
        },
        "id": "AsDY7hhY17Av",
        "outputId": "8143e7b7-e7a4-4871-97ec-1578f97b488a"
      },
      "id": "AsDY7hhY17Av",
      "execution_count": null,
      "outputs": [
        {
          "output_type": "stream",
          "name": "stdout",
          "text": [
            "[11.  -4.5]\n"
          ]
        }
      ]
    },
    {
      "cell_type": "code",
      "source": [
        "b_pred = A @ w.T\n",
        "print(b_pred)"
      ],
      "metadata": {
        "colab": {
          "base_uri": "https://localhost:8080/"
        },
        "id": "2K6cuRoL2-bG",
        "outputId": "3e6c5997-30e5-4818-c8e5-65362b146c02"
      },
      "id": "2K6cuRoL2-bG",
      "execution_count": null,
      "outputs": [
        {
          "output_type": "stream",
          "name": "stdout",
          "text": [
            "[6.5 2.  6.5]\n"
          ]
        }
      ]
    },
    {
      "cell_type": "code",
      "source": [
        "e = b - b_pred\n",
        "print(e)\n",
        "print('-----')\n",
        "A1 = A[:,0].T\n",
        "e_A = e @ A1\n",
        "print(e_A)"
      ],
      "metadata": {
        "colab": {
          "base_uri": "https://localhost:8080/"
        },
        "id": "Q7KiXxJ03aHk",
        "outputId": "c33b3f47-a8d2-48d7-f7bb-cc3c0fb7817e"
      },
      "id": "Q7KiXxJ03aHk",
      "execution_count": null,
      "outputs": [
        {
          "output_type": "stream",
          "name": "stdout",
          "text": [
            "[-5.5  0.   5.5]\n",
            "-----\n",
            "0.0\n"
          ]
        }
      ]
    },
    {
      "cell_type": "markdown",
      "source": [
        "### TASK 2.9"
      ],
      "metadata": {
        "id": "QoAyHbMy5x0c"
      },
      "id": "QoAyHbMy5x0c"
    },
    {
      "cell_type": "code",
      "source": [
        "A = np.array([\n",
        "    [1, -5],\n",
        "    [2, 1],\n",
        "    [1, 1]\n",
        "])\n",
        "w_pred = np.array([1, 1]).T\n",
        "b_pred = A @ w_pred\n",
        "b = np.array([1, 2, 2])\n",
        "print(b_pred)\n",
        "print('----')\n",
        "e = b - b_pred\n",
        "print(e)"
      ],
      "metadata": {
        "colab": {
          "base_uri": "https://localhost:8080/"
        },
        "id": "kngTliOK50dl",
        "outputId": "0e884ff1-e25e-4f64-fa7b-0dbf6bb0573e"
      },
      "id": "kngTliOK50dl",
      "execution_count": null,
      "outputs": [
        {
          "output_type": "stream",
          "name": "stdout",
          "text": [
            "[-4  3  2]\n",
            "----\n",
            "[ 5 -1  0]\n"
          ]
        }
      ]
    },
    {
      "cell_type": "markdown",
      "source": [
        "### TASK 2.11"
      ],
      "metadata": {
        "id": "RctWU0qi66pm"
      },
      "id": "RctWU0qi66pm"
    },
    {
      "cell_type": "code",
      "source": [
        "A = np.array([\n",
        "    [1, 2],\n",
        "    [-3, 1],\n",
        "    [1, 2],\n",
        "    [1, -1]\n",
        "])\n",
        "\n",
        "b = np.array([1, 4, 5, 0])\n",
        "\n",
        "G = A.T @ A\n",
        "print(G)"
      ],
      "metadata": {
        "colab": {
          "base_uri": "https://localhost:8080/"
        },
        "id": "E4VMi62O68uQ",
        "outputId": "72343889-cc58-4e4e-c181-3ad1de3fb96c"
      },
      "id": "E4VMi62O68uQ",
      "execution_count": null,
      "outputs": [
        {
          "output_type": "stream",
          "name": "stdout",
          "text": [
            "[[12  0]\n",
            " [ 0 10]]\n"
          ]
        }
      ]
    },
    {
      "cell_type": "code",
      "source": [
        "det = np.linalg.det(G)\n",
        "print(det)\n",
        "print('----')\n",
        "inv_G = np.linalg.inv(G)\n",
        "print(inv_G)"
      ],
      "metadata": {
        "colab": {
          "base_uri": "https://localhost:8080/"
        },
        "id": "4Ezil6JL8c-x",
        "outputId": "3268fe7d-78d9-4d65-ca0e-b270a036e3db"
      },
      "id": "4Ezil6JL8c-x",
      "execution_count": null,
      "outputs": [
        {
          "output_type": "stream",
          "name": "stdout",
          "text": [
            "120.00000000000009\n",
            "----\n",
            "[[0.08333333 0.        ]\n",
            " [0.         0.1       ]]\n"
          ]
        }
      ]
    },
    {
      "cell_type": "code",
      "source": [
        "A_t_b = A.T @ b\n",
        "print(A_t_b)"
      ],
      "metadata": {
        "colab": {
          "base_uri": "https://localhost:8080/"
        },
        "id": "nQXADnTU-3dV",
        "outputId": "c666a06d-3249-453f-a9c0-19b60c1dab27"
      },
      "id": "nQXADnTU-3dV",
      "execution_count": null,
      "outputs": [
        {
          "output_type": "stream",
          "name": "stdout",
          "text": [
            "[-6 16]\n"
          ]
        }
      ]
    },
    {
      "cell_type": "code",
      "source": [
        "w = inv_G @ A_t_b\n",
        "print(w)"
      ],
      "metadata": {
        "colab": {
          "base_uri": "https://localhost:8080/"
        },
        "id": "8MbCA2op_S-K",
        "outputId": "40b95f72-ca91-473c-a5f2-84ff25ebcfd5"
      },
      "id": "8MbCA2op_S-K",
      "execution_count": null,
      "outputs": [
        {
          "output_type": "stream",
          "name": "stdout",
          "text": [
            "[-0.5  1.6]\n"
          ]
        }
      ]
    },
    {
      "cell_type": "markdown",
      "source": [
        "### Linear regression. LMS method."
      ],
      "metadata": {
        "id": "LrFgIrS7UZvs"
      },
      "id": "LrFgIrS7UZvs"
    },
    {
      "cell_type": "markdown",
      "source": [
        "y = np.array([y1, y2, ... yN]).T\n",
        "<br>w0 = np.array([1, 1 ... 1])\n",
        "<br>w1 = np.array([x11, x12 ... x1N]).T\n",
        "<br>wk = np.array([xk1, xk2 ... xkN]).T\n",
        "<br>y = w0 + w1 + ... + wk\n",
        "<br>\n",
        "<br>np.array([\n",
        "<br>[w01 + w1*x11 + ... + wk*xk1 = y1],\n",
        "<br>[w01 + w1*x12 + ... + wk*xk2 = y2],\n",
        "<br>                ...\n",
        "<br>[w01 + w1*x1N + ... + wk*xkN = yN]     \n",
        "])\n"
      ],
      "metadata": {
        "id": "obQ1W-K1mb9Y"
      },
      "id": "obQ1W-K1mb9Y"
    },
    {
      "cell_type": "markdown",
      "source": [
        "A = np.array([\n",
        "<br>[1, x11 ... xk1],\n",
        "<br>[1, x12 ... xk2],\n",
        "<br>... ... ... ...\n",
        "<br>[1, x1N ... xkN]\n",
        "<br>])\n",
        "<br>\n",
        "<br>w_pred = (A.T * A) ** (-1) * (A.T * y)\n",
        "<br>\n",
        "<br>X_new = np.array([x1_new, x2_new, ... .xk_new]).T\n",
        "<br>y_new = w0 + w1 * x1_new + ... + wk * xk_new\n",
        "<br>y_new = (w, x_new)"
      ],
      "metadata": {
        "id": "NwYWuIjtpYPh"
      },
      "id": "NwYWuIjtpYPh"
    },
    {
      "cell_type": "code",
      "source": [
        "import numpy as np\n",
        "import pandas as pd\n",
        "from sklearn import datasets\n",
        "import seaborn as sns\n",
        "import matplotlib.pyplot as plt\n",
        "\n",
        "# upload dataset\n",
        "boston = datasets.load_boston()\n",
        "boston_data = pd.DataFrame(\n",
        "    data = boston.data,\n",
        "    columns = boston.feature_names\n",
        ")\n",
        "\n",
        "boston_data['PRICE'] = boston.target\n",
        "boston_data.head()"
      ],
      "metadata": {
        "colab": {
          "base_uri": "https://localhost:8080/",
          "height": 831
        },
        "id": "kaLuc9SyUZbF",
        "outputId": "011e967b-c65d-4edc-b869-9e0e42825c58"
      },
      "id": "kaLuc9SyUZbF",
      "execution_count": null,
      "outputs": [
        {
          "output_type": "stream",
          "name": "stderr",
          "text": [
            "/usr/local/lib/python3.8/dist-packages/sklearn/utils/deprecation.py:87: FutureWarning: Function load_boston is deprecated; `load_boston` is deprecated in 1.0 and will be removed in 1.2.\n",
            "\n",
            "    The Boston housing prices dataset has an ethical problem. You can refer to\n",
            "    the documentation of this function for further details.\n",
            "\n",
            "    The scikit-learn maintainers therefore strongly discourage the use of this\n",
            "    dataset unless the purpose of the code is to study and educate about\n",
            "    ethical issues in data science and machine learning.\n",
            "\n",
            "    In this special case, you can fetch the dataset from the original\n",
            "    source::\n",
            "\n",
            "        import pandas as pd\n",
            "        import numpy as np\n",
            "\n",
            "\n",
            "        data_url = \"http://lib.stat.cmu.edu/datasets/boston\"\n",
            "        raw_df = pd.read_csv(data_url, sep=\"\\s+\", skiprows=22, header=None)\n",
            "        data = np.hstack([raw_df.values[::2, :], raw_df.values[1::2, :2]])\n",
            "        target = raw_df.values[1::2, 2]\n",
            "\n",
            "    Alternative datasets include the California housing dataset (i.e.\n",
            "    :func:`~sklearn.datasets.fetch_california_housing`) and the Ames housing\n",
            "    dataset. You can load the datasets as follows::\n",
            "\n",
            "        from sklearn.datasets import fetch_california_housing\n",
            "        housing = fetch_california_housing()\n",
            "\n",
            "    for the California housing dataset and::\n",
            "\n",
            "        from sklearn.datasets import fetch_openml\n",
            "        housing = fetch_openml(name=\"house_prices\", as_frame=True)\n",
            "\n",
            "    for the Ames housing dataset.\n",
            "    \n",
            "  warnings.warn(msg, category=FutureWarning)\n"
          ]
        },
        {
          "output_type": "execute_result",
          "data": {
            "text/plain": [
              "      CRIM    ZN  INDUS  CHAS    NOX     RM   AGE     DIS  RAD    TAX  \\\n",
              "0  0.00632  18.0   2.31   0.0  0.538  6.575  65.2  4.0900  1.0  296.0   \n",
              "1  0.02731   0.0   7.07   0.0  0.469  6.421  78.9  4.9671  2.0  242.0   \n",
              "2  0.02729   0.0   7.07   0.0  0.469  7.185  61.1  4.9671  2.0  242.0   \n",
              "3  0.03237   0.0   2.18   0.0  0.458  6.998  45.8  6.0622  3.0  222.0   \n",
              "4  0.06905   0.0   2.18   0.0  0.458  7.147  54.2  6.0622  3.0  222.0   \n",
              "\n",
              "   PTRATIO       B  LSTAT  PRICE  \n",
              "0     15.3  396.90   4.98   24.0  \n",
              "1     17.8  396.90   9.14   21.6  \n",
              "2     17.8  392.83   4.03   34.7  \n",
              "3     18.7  394.63   2.94   33.4  \n",
              "4     18.7  396.90   5.33   36.2  "
            ],
            "text/html": [
              "\n",
              "  <div id=\"df-62279e1f-83e4-43d4-9f63-bbd583900b4f\">\n",
              "    <div class=\"colab-df-container\">\n",
              "      <div>\n",
              "<style scoped>\n",
              "    .dataframe tbody tr th:only-of-type {\n",
              "        vertical-align: middle;\n",
              "    }\n",
              "\n",
              "    .dataframe tbody tr th {\n",
              "        vertical-align: top;\n",
              "    }\n",
              "\n",
              "    .dataframe thead th {\n",
              "        text-align: right;\n",
              "    }\n",
              "</style>\n",
              "<table border=\"1\" class=\"dataframe\">\n",
              "  <thead>\n",
              "    <tr style=\"text-align: right;\">\n",
              "      <th></th>\n",
              "      <th>CRIM</th>\n",
              "      <th>ZN</th>\n",
              "      <th>INDUS</th>\n",
              "      <th>CHAS</th>\n",
              "      <th>NOX</th>\n",
              "      <th>RM</th>\n",
              "      <th>AGE</th>\n",
              "      <th>DIS</th>\n",
              "      <th>RAD</th>\n",
              "      <th>TAX</th>\n",
              "      <th>PTRATIO</th>\n",
              "      <th>B</th>\n",
              "      <th>LSTAT</th>\n",
              "      <th>PRICE</th>\n",
              "    </tr>\n",
              "  </thead>\n",
              "  <tbody>\n",
              "    <tr>\n",
              "      <th>0</th>\n",
              "      <td>0.00632</td>\n",
              "      <td>18.0</td>\n",
              "      <td>2.31</td>\n",
              "      <td>0.0</td>\n",
              "      <td>0.538</td>\n",
              "      <td>6.575</td>\n",
              "      <td>65.2</td>\n",
              "      <td>4.0900</td>\n",
              "      <td>1.0</td>\n",
              "      <td>296.0</td>\n",
              "      <td>15.3</td>\n",
              "      <td>396.90</td>\n",
              "      <td>4.98</td>\n",
              "      <td>24.0</td>\n",
              "    </tr>\n",
              "    <tr>\n",
              "      <th>1</th>\n",
              "      <td>0.02731</td>\n",
              "      <td>0.0</td>\n",
              "      <td>7.07</td>\n",
              "      <td>0.0</td>\n",
              "      <td>0.469</td>\n",
              "      <td>6.421</td>\n",
              "      <td>78.9</td>\n",
              "      <td>4.9671</td>\n",
              "      <td>2.0</td>\n",
              "      <td>242.0</td>\n",
              "      <td>17.8</td>\n",
              "      <td>396.90</td>\n",
              "      <td>9.14</td>\n",
              "      <td>21.6</td>\n",
              "    </tr>\n",
              "    <tr>\n",
              "      <th>2</th>\n",
              "      <td>0.02729</td>\n",
              "      <td>0.0</td>\n",
              "      <td>7.07</td>\n",
              "      <td>0.0</td>\n",
              "      <td>0.469</td>\n",
              "      <td>7.185</td>\n",
              "      <td>61.1</td>\n",
              "      <td>4.9671</td>\n",
              "      <td>2.0</td>\n",
              "      <td>242.0</td>\n",
              "      <td>17.8</td>\n",
              "      <td>392.83</td>\n",
              "      <td>4.03</td>\n",
              "      <td>34.7</td>\n",
              "    </tr>\n",
              "    <tr>\n",
              "      <th>3</th>\n",
              "      <td>0.03237</td>\n",
              "      <td>0.0</td>\n",
              "      <td>2.18</td>\n",
              "      <td>0.0</td>\n",
              "      <td>0.458</td>\n",
              "      <td>6.998</td>\n",
              "      <td>45.8</td>\n",
              "      <td>6.0622</td>\n",
              "      <td>3.0</td>\n",
              "      <td>222.0</td>\n",
              "      <td>18.7</td>\n",
              "      <td>394.63</td>\n",
              "      <td>2.94</td>\n",
              "      <td>33.4</td>\n",
              "    </tr>\n",
              "    <tr>\n",
              "      <th>4</th>\n",
              "      <td>0.06905</td>\n",
              "      <td>0.0</td>\n",
              "      <td>2.18</td>\n",
              "      <td>0.0</td>\n",
              "      <td>0.458</td>\n",
              "      <td>7.147</td>\n",
              "      <td>54.2</td>\n",
              "      <td>6.0622</td>\n",
              "      <td>3.0</td>\n",
              "      <td>222.0</td>\n",
              "      <td>18.7</td>\n",
              "      <td>396.90</td>\n",
              "      <td>5.33</td>\n",
              "      <td>36.2</td>\n",
              "    </tr>\n",
              "  </tbody>\n",
              "</table>\n",
              "</div>\n",
              "      <button class=\"colab-df-convert\" onclick=\"convertToInteractive('df-62279e1f-83e4-43d4-9f63-bbd583900b4f')\"\n",
              "              title=\"Convert this dataframe to an interactive table.\"\n",
              "              style=\"display:none;\">\n",
              "        \n",
              "  <svg xmlns=\"http://www.w3.org/2000/svg\" height=\"24px\"viewBox=\"0 0 24 24\"\n",
              "       width=\"24px\">\n",
              "    <path d=\"M0 0h24v24H0V0z\" fill=\"none\"/>\n",
              "    <path d=\"M18.56 5.44l.94 2.06.94-2.06 2.06-.94-2.06-.94-.94-2.06-.94 2.06-2.06.94zm-11 1L8.5 8.5l.94-2.06 2.06-.94-2.06-.94L8.5 2.5l-.94 2.06-2.06.94zm10 10l.94 2.06.94-2.06 2.06-.94-2.06-.94-.94-2.06-.94 2.06-2.06.94z\"/><path d=\"M17.41 7.96l-1.37-1.37c-.4-.4-.92-.59-1.43-.59-.52 0-1.04.2-1.43.59L10.3 9.45l-7.72 7.72c-.78.78-.78 2.05 0 2.83L4 21.41c.39.39.9.59 1.41.59.51 0 1.02-.2 1.41-.59l7.78-7.78 2.81-2.81c.8-.78.8-2.07 0-2.86zM5.41 20L4 18.59l7.72-7.72 1.47 1.35L5.41 20z\"/>\n",
              "  </svg>\n",
              "      </button>\n",
              "      \n",
              "  <style>\n",
              "    .colab-df-container {\n",
              "      display:flex;\n",
              "      flex-wrap:wrap;\n",
              "      gap: 12px;\n",
              "    }\n",
              "\n",
              "    .colab-df-convert {\n",
              "      background-color: #E8F0FE;\n",
              "      border: none;\n",
              "      border-radius: 50%;\n",
              "      cursor: pointer;\n",
              "      display: none;\n",
              "      fill: #1967D2;\n",
              "      height: 32px;\n",
              "      padding: 0 0 0 0;\n",
              "      width: 32px;\n",
              "    }\n",
              "\n",
              "    .colab-df-convert:hover {\n",
              "      background-color: #E2EBFA;\n",
              "      box-shadow: 0px 1px 2px rgba(60, 64, 67, 0.3), 0px 1px 3px 1px rgba(60, 64, 67, 0.15);\n",
              "      fill: #174EA6;\n",
              "    }\n",
              "\n",
              "    [theme=dark] .colab-df-convert {\n",
              "      background-color: #3B4455;\n",
              "      fill: #D2E3FC;\n",
              "    }\n",
              "\n",
              "    [theme=dark] .colab-df-convert:hover {\n",
              "      background-color: #434B5C;\n",
              "      box-shadow: 0px 1px 3px 1px rgba(0, 0, 0, 0.15);\n",
              "      filter: drop-shadow(0px 1px 2px rgba(0, 0, 0, 0.3));\n",
              "      fill: #FFFFFF;\n",
              "    }\n",
              "  </style>\n",
              "\n",
              "      <script>\n",
              "        const buttonEl =\n",
              "          document.querySelector('#df-62279e1f-83e4-43d4-9f63-bbd583900b4f button.colab-df-convert');\n",
              "        buttonEl.style.display =\n",
              "          google.colab.kernel.accessAllowed ? 'block' : 'none';\n",
              "\n",
              "        async function convertToInteractive(key) {\n",
              "          const element = document.querySelector('#df-62279e1f-83e4-43d4-9f63-bbd583900b4f');\n",
              "          const dataTable =\n",
              "            await google.colab.kernel.invokeFunction('convertToInteractive',\n",
              "                                                     [key], {});\n",
              "          if (!dataTable) return;\n",
              "\n",
              "          const docLinkHtml = 'Like what you see? Visit the ' +\n",
              "            '<a target=\"_blank\" href=https://colab.research.google.com/notebooks/data_table.ipynb>data table notebook</a>'\n",
              "            + ' to learn more about interactive tables.';\n",
              "          element.innerHTML = '';\n",
              "          dataTable['output_type'] = 'display_data';\n",
              "          await google.colab.output.renderOutput(dataTable, element);\n",
              "          const docLink = document.createElement('div');\n",
              "          docLink.innerHTML = docLinkHtml;\n",
              "          element.appendChild(docLink);\n",
              "        }\n",
              "      </script>\n",
              "    </div>\n",
              "  </div>\n",
              "  "
            ]
          },
          "metadata": {},
          "execution_count": 22
        }
      ]
    },
    {
      "cell_type": "code",
      "source": [
        "boston_data.shape"
      ],
      "metadata": {
        "colab": {
          "base_uri": "https://localhost:8080/"
        },
        "id": "XLXW3na054fN",
        "outputId": "e6e221a4-9cbb-4dcb-9b2a-ef163cc966fe"
      },
      "id": "XLXW3na054fN",
      "execution_count": null,
      "outputs": [
        {
          "output_type": "execute_result",
          "data": {
            "text/plain": [
              "(506, 14)"
            ]
          },
          "metadata": {},
          "execution_count": 23
        }
      ]
    },
    {
      "cell_type": "code",
      "source": [
        "# составляем матрицу A и вектор целевой переменной\n",
        "CRIM = boston_data['CRIM']\n",
        "RM = boston_data[['RM']]\n",
        "A = np.column_stack((np.ones(506), CRIM, RM))\n",
        "y = boston_data['PRICE']\n",
        "print(y)\n",
        "print('-----')\n",
        "print(A)\n",
        "print('-----')\n",
        "print(A.shape)"
      ],
      "metadata": {
        "colab": {
          "base_uri": "https://localhost:8080/"
        },
        "id": "CkWFg1F5zDQq",
        "outputId": "ad978491-6eb5-4789-d82d-ed01e0ef8bc8"
      },
      "id": "CkWFg1F5zDQq",
      "execution_count": null,
      "outputs": [
        {
          "output_type": "stream",
          "name": "stdout",
          "text": [
            "0      24.0\n",
            "1      21.6\n",
            "2      34.7\n",
            "3      33.4\n",
            "4      36.2\n",
            "       ... \n",
            "501    22.4\n",
            "502    20.6\n",
            "503    23.9\n",
            "504    22.0\n",
            "505    11.9\n",
            "Name: PRICE, Length: 506, dtype: float64\n",
            "-----\n",
            "[[1.0000e+00 6.3200e-03 6.5750e+00]\n",
            " [1.0000e+00 2.7310e-02 6.4210e+00]\n",
            " [1.0000e+00 2.7290e-02 7.1850e+00]\n",
            " ...\n",
            " [1.0000e+00 6.0760e-02 6.9760e+00]\n",
            " [1.0000e+00 1.0959e-01 6.7940e+00]\n",
            " [1.0000e+00 4.7410e-02 6.0300e+00]]\n",
            "-----\n",
            "(506, 3)\n"
          ]
        }
      ]
    },
    {
      "cell_type": "code",
      "source": [
        "# вычислим OLS-оценку для коэффициентов\n",
        "w_hat = np.linalg.inv(A.T @ A) @ A.T @ y\n",
        "print(w_hat.T)"
      ],
      "metadata": {
        "colab": {
          "base_uri": "https://localhost:8080/"
        },
        "id": "iTxNLM1g7MH8",
        "outputId": "4dde58b0-ab42-4e3c-b8b1-7c896973412c"
      },
      "id": "iTxNLM1g7MH8",
      "execution_count": null,
      "outputs": [
        {
          "output_type": "stream",
          "name": "stdout",
          "text": [
            "[-29.24471945  -0.26491325   8.39106825]\n"
          ]
        }
      ]
    },
    {
      "cell_type": "code",
      "source": [
        "# добавим новые данные\n",
        "CRIM_new = 0.1\n",
        "RM_new = 8\n",
        "# делаем прогноз типичной стоимости дома\n",
        "PRICE_new = w_hat[0] + w_hat[1]*CRIM_new + w_hat[2]*RM_new\n",
        "print(PRICE_new)"
      ],
      "metadata": {
        "colab": {
          "base_uri": "https://localhost:8080/"
        },
        "id": "Vhawvfw38bX5",
        "outputId": "d243c6f7-18dd-408f-afed-7bab844d47c0"
      },
      "id": "Vhawvfw38bX5",
      "execution_count": null,
      "outputs": [
        {
          "output_type": "stream",
          "name": "stdout",
          "text": [
            "37.857335194293526\n"
          ]
        }
      ]
    },
    {
      "cell_type": "code",
      "source": [
        "# короткий способ сделать прогноз через скалярное произведение\n",
        "new = np.array([[1, CRIM_new, RM_new]])\n",
        "print('prediction:', (new@w_hat.T))"
      ],
      "metadata": {
        "colab": {
          "base_uri": "https://localhost:8080/"
        },
        "id": "EhA1krSJ-R6n",
        "outputId": "79996780-2145-4123-d2b9-b5530ea32f3c"
      },
      "id": "EhA1krSJ-R6n",
      "execution_count": null,
      "outputs": [
        {
          "output_type": "stream",
          "name": "stdout",
          "text": [
            "prediction: [37.85733519]\n"
          ]
        }
      ]
    },
    {
      "cell_type": "code",
      "source": [
        "# построение модели линейное регрессии с помощью Sklearn\n",
        "from sklearn.linear_model import LinearRegression\n",
        "# создаем модель линейной регрессии\n",
        "model = LinearRegression(fit_intercept=False)\n",
        "# вычисляем коэффициенты регрессии\n",
        "model.fit(A, y)\n",
        "print('w_hat:', model.coef_)\n",
        "new_prediction = model.predict(new)\n",
        "print('prediction:', new_prediction)"
      ],
      "metadata": {
        "colab": {
          "base_uri": "https://localhost:8080/"
        },
        "id": "cXrkbGUA_mx_",
        "outputId": "eb4be27c-f6f2-4b54-bc4c-3dd42e13a5e6"
      },
      "id": "cXrkbGUA_mx_",
      "execution_count": null,
      "outputs": [
        {
          "output_type": "stream",
          "name": "stdout",
          "text": [
            "w_hat: [-29.24471945  -0.26491325   8.39106825]\n",
            "prediction: [37.85733519]\n"
          ]
        }
      ]
    },
    {
      "cell_type": "markdown",
      "source": [
        "### TASK 3.5"
      ],
      "metadata": {
        "id": "eyh3U0omEAiY"
      },
      "id": "eyh3U0omEAiY"
    },
    {
      "cell_type": "code",
      "source": [
        "CRIM_new2 = 0.2\n",
        "RM_new2 = 6\n",
        "w_hat_new = np.array([-29.3, -0.26, 8.4]).T\n",
        "y_pred = w_hat_new @ np.array([1, CRIM_new2, RM_new2]).T\n",
        "\n",
        "print(round(y_pred))"
      ],
      "metadata": {
        "colab": {
          "base_uri": "https://localhost:8080/"
        },
        "id": "JVwbXaXNBXiF",
        "outputId": "572ca1e8-f79b-4f5e-e736-5d82d8194936"
      },
      "id": "JVwbXaXNBXiF",
      "execution_count": null,
      "outputs": [
        {
          "output_type": "stream",
          "name": "stdout",
          "text": [
            "21\n"
          ]
        }
      ]
    },
    {
      "cell_type": "code",
      "source": [
        "y_pred = w_hat_new[0] + w_hat_new[1]*CRIM_new2 + w_hat_new[2]*RM_new2\n",
        "print(round(y_pred))"
      ],
      "metadata": {
        "colab": {
          "base_uri": "https://localhost:8080/"
        },
        "id": "Ms9HKHd6Jeak",
        "outputId": "37a83edf-f84d-4c15-b258-2f39aa1d547f"
      },
      "id": "Ms9HKHd6Jeak",
      "execution_count": null,
      "outputs": [
        {
          "output_type": "stream",
          "name": "stdout",
          "text": [
            "21\n"
          ]
        }
      ]
    },
    {
      "cell_type": "markdown",
      "source": [
        "### Problems in the classical OLS model"
      ],
      "metadata": {
        "id": "Mcw9UcbLL47r"
      },
      "id": "Mcw9UcbLL47r"
    },
    {
      "cell_type": "code",
      "source": [
        "A = np.array([\n",
        "    [1, 2, -2],\n",
        "    [1, 1, -1],\n",
        "    [1, 1, -1],\n",
        "    [1, 2, -2]\n",
        "])\n",
        "\n",
        "print(A.T)"
      ],
      "metadata": {
        "colab": {
          "base_uri": "https://localhost:8080/"
        },
        "id": "4V96fWhXL_u6",
        "outputId": "fe68d62e-7b59-4290-c88e-8c874b913ec8"
      },
      "id": "4V96fWhXL_u6",
      "execution_count": null,
      "outputs": [
        {
          "output_type": "stream",
          "name": "stdout",
          "text": [
            "[[ 1  1  1  1]\n",
            " [ 2  1  1  2]\n",
            " [-2 -1 -1 -2]]\n"
          ]
        }
      ]
    },
    {
      "cell_type": "code",
      "source": [
        "G = A.T @ A\n",
        "print(G)\n",
        "print('-----')\n",
        "print(np.linalg.det(G))\n",
        "print('-----')\n",
        "print(np.linalg.matrix_rank(G))"
      ],
      "metadata": {
        "colab": {
          "base_uri": "https://localhost:8080/"
        },
        "id": "eq_529dlM36x",
        "outputId": "f896b3d9-dbd7-48ee-f386-933e7d3c3b24"
      },
      "id": "eq_529dlM36x",
      "execution_count": null,
      "outputs": [
        {
          "output_type": "stream",
          "name": "stdout",
          "text": [
            "[[  4   6  -6]\n",
            " [  6  10 -10]\n",
            " [ -6 -10  10]]\n",
            "-----\n",
            "0.0\n",
            "-----\n",
            "2\n"
          ]
        }
      ]
    },
    {
      "cell_type": "markdown",
      "source": [
        "### Degenerate matrix in sklearn and Python"
      ],
      "metadata": {
        "id": "2mQoLBJJSFsh"
      },
      "id": "2mQoLBJJSFsh"
    },
    {
      "cell_type": "code",
      "source": [
        "# создадим вырожденную матрицу A\n",
        "A = np.array([\n",
        "    [1, 1, 1, 1],\n",
        "    [2, 1, 1, 2],\n",
        "    [-2, -1, -1, -2]\n",
        "]).T\n",
        "\n",
        "y = np.array([1, 2, 5, 1])\n",
        "\n",
        "# вычислим OLS-оценку для коэффициентов\n",
        "# w_hat = np.linalg.inv(A.T @ A) @ A.T @ y\n",
        "# print(w_hat)"
      ],
      "metadata": {
        "id": "VC85cvUxRgPQ"
      },
      "id": "VC85cvUxRgPQ",
      "execution_count": null,
      "outputs": []
    },
    {
      "cell_type": "code",
      "source": [
        "# создаем модель линейной регрессии\n",
        "mpodel = LinearRegression(fit_intercept=False)\n",
        "# вычисляем коэффициенты регрессии\n",
        "model.fit(A, y)\n",
        "print('w_hat:', model.coef_)"
      ],
      "metadata": {
        "colab": {
          "base_uri": "https://localhost:8080/"
        },
        "id": "yTYJZ9JwTA8J",
        "outputId": "539a8467-ec2a-4363-85c0-33b8f0119bb8"
      },
      "id": "yTYJZ9JwTA8J",
      "execution_count": null,
      "outputs": [
        {
          "output_type": "stream",
          "name": "stdout",
          "text": [
            "w_hat: [ 6.   -1.25  1.25]\n"
          ]
        }
      ]
    },
    {
      "cell_type": "code",
      "source": [
        "# OLS для numpy для вырожденных матриц\n",
        "A = np.array([\n",
        "    [1, 1, 1, 1],\n",
        "    [2, 1, 1, 2],\n",
        "    [-2, -1, -1, -2]\n",
        "]).T\n",
        "\n",
        "y = np.array([1, 2, 5, 1])\n",
        "\n",
        "np.linalg.lstsq(A, y, rcond=None)"
      ],
      "metadata": {
        "colab": {
          "base_uri": "https://localhost:8080/"
        },
        "id": "Oy3fN8PCYWfZ",
        "outputId": "37d11fbb-a1be-4033-bda4-59c672d84b8d"
      },
      "id": "Oy3fN8PCYWfZ",
      "execution_count": null,
      "outputs": [
        {
          "output_type": "execute_result",
          "data": {
            "text/plain": [
              "(array([ 6.  , -1.25,  1.25]),\n",
              " array([], dtype=float64),\n",
              " 2,\n",
              " array([4.86435029, 0.58146041, 0.        ]))"
            ]
          },
          "metadata": {},
          "execution_count": 35
        }
      ]
    },
    {
      "cell_type": "markdown",
      "source": [
        "### Standardization of vectors. Correlation matrix."
      ],
      "metadata": {
        "id": "pEaenbYDDYXr"
      },
      "id": "pEaenbYDDYXr"
    },
    {
      "cell_type": "markdown",
      "source": [
        "### Example 1"
      ],
      "metadata": {
        "id": "_9FX0D0rVZWg"
      },
      "id": "_9FX0D0rVZWg"
    },
    {
      "cell_type": "code",
      "source": [
        "x1 = np.array([1, 2, 6]).T\n",
        "x2 = np.array([3000, 1000, 2000])\n",
        "\n",
        "# центрируем вектор 1\n",
        "x1_mean = x1.mean()\n",
        "x1_cent = x1 - x1_mean\n",
        "print('x1_mean:', x1_mean)\n",
        "print('x1_cent:', x1_cent)\n",
        "\n",
        "print('----')\n",
        "\n",
        "# центрируем вектор 2\n",
        "x2_mean = x2.mean()\n",
        "x2_cent = x2 - x2_mean\n",
        "print('x2_mean:', x2_mean)\n",
        "print('x2_cent:', x2_cent)"
      ],
      "metadata": {
        "colab": {
          "base_uri": "https://localhost:8080/"
        },
        "id": "RzCbLyMNDxqO",
        "outputId": "17b62644-b38e-4b49-c438-81f6000b4268"
      },
      "id": "RzCbLyMNDxqO",
      "execution_count": null,
      "outputs": [
        {
          "output_type": "stream",
          "name": "stdout",
          "text": [
            "x1_mean: 3.0\n",
            "x1_cent: [-2. -1.  3.]\n",
            "----\n",
            "x2_mean: 2000.0\n",
            "x2_cent: [ 1000. -1000.     0.]\n"
          ]
        }
      ]
    },
    {
      "cell_type": "code",
      "source": [
        "# нормируем вектор x1_cent\n",
        "x1_cent_norm = np.linalg.norm(x1_cent)\n",
        "# стандартизируем вектор 1\n",
        "x1_std = 1/x1_cent_norm * x1_cent\n",
        "print('x1_cent_norm:', x1_cent_norm)\n",
        "print('x1_std', x1_std)\n",
        "\n",
        "print('----')\n",
        "\n",
        "# нормируем вектор x2_cent\n",
        "x2_cent_norm = np.linalg.norm(x2_cent)\n",
        "# стандартизируем вектор 1\n",
        "x2_std = 1/x2_cent_norm * x2_cent\n",
        "print('x2_cent_norm:', x2_cent_norm)\n",
        "print('x2_std', x2_std)"
      ],
      "metadata": {
        "colab": {
          "base_uri": "https://localhost:8080/"
        },
        "id": "2_5o2qAjSWq5",
        "outputId": "7dafb345-eee4-4f35-dd8e-10fc09268457"
      },
      "id": "2_5o2qAjSWq5",
      "execution_count": null,
      "outputs": [
        {
          "output_type": "stream",
          "name": "stdout",
          "text": [
            "x1_cent_norm: 3.7416573867739413\n",
            "x1_std [-0.53452248 -0.26726124  0.80178373]\n",
            "----\n",
            "x2_cent_norm: 1414.213562373095\n",
            "x2_std [ 0.70710678 -0.70710678  0.        ]\n"
          ]
        }
      ]
    },
    {
      "cell_type": "markdown",
      "source": [
        "#### Example 2"
      ],
      "metadata": {
        "id": "KeS_5jK1Vdm3"
      },
      "id": "KeS_5jK1Vdm3"
    },
    {
      "cell_type": "code",
      "source": [
        "x1_std\n",
        "x2_std\n",
        "\n",
        "print(x1_std)\n",
        "print('-----')\n",
        "print(x2_std)\n",
        "print('-----')\n",
        "# корреляционная матрица\n",
        "G = np.array([\n",
        "    [x1_std@x1_std, x1_std@x2_std],\n",
        "    [x2_std@x1_std, x2_std@x2_std],\n",
        "])\n",
        "print(G)"
      ],
      "metadata": {
        "colab": {
          "base_uri": "https://localhost:8080/"
        },
        "id": "KaGNtj03USoP",
        "outputId": "3709cc11-ec70-4fa8-9c85-f77a779c9968"
      },
      "id": "KaGNtj03USoP",
      "execution_count": null,
      "outputs": [
        {
          "output_type": "stream",
          "name": "stdout",
          "text": [
            "[-0.53452248 -0.26726124  0.80178373]\n",
            "-----\n",
            "[ 0.70710678 -0.70710678  0.        ]\n",
            "-----\n",
            "[[ 1.         -0.18898224]\n",
            " [-0.18898224  1.        ]]\n"
          ]
        }
      ]
    },
    {
      "cell_type": "markdown",
      "source": [
        "### Example 3"
      ],
      "metadata": {
        "id": "fVCh9VFTnqIC"
      },
      "id": "fVCh9VFTnqIC"
    },
    {
      "cell_type": "code",
      "source": [
        "boston_data[['CHAS', 'LSTAT', 'CRIM', 'RM']].describe()"
      ],
      "metadata": {
        "id": "EDqE2t9IY9dQ",
        "colab": {
          "base_uri": "https://localhost:8080/",
          "height": 300
        },
        "outputId": "1bc19045-0c95-40fc-d02b-5ab18fb5b094"
      },
      "id": "EDqE2t9IY9dQ",
      "execution_count": null,
      "outputs": [
        {
          "output_type": "execute_result",
          "data": {
            "text/plain": [
              "             CHAS       LSTAT        CRIM          RM\n",
              "count  506.000000  506.000000  506.000000  506.000000\n",
              "mean     0.069170   12.653063    3.613524    6.284634\n",
              "std      0.253994    7.141062    8.601545    0.702617\n",
              "min      0.000000    1.730000    0.006320    3.561000\n",
              "25%      0.000000    6.950000    0.082045    5.885500\n",
              "50%      0.000000   11.360000    0.256510    6.208500\n",
              "75%      0.000000   16.955000    3.677083    6.623500\n",
              "max      1.000000   37.970000   88.976200    8.780000"
            ],
            "text/html": [
              "\n",
              "  <div id=\"df-c7caa66e-5936-4e12-9197-bc42fbfc93be\">\n",
              "    <div class=\"colab-df-container\">\n",
              "      <div>\n",
              "<style scoped>\n",
              "    .dataframe tbody tr th:only-of-type {\n",
              "        vertical-align: middle;\n",
              "    }\n",
              "\n",
              "    .dataframe tbody tr th {\n",
              "        vertical-align: top;\n",
              "    }\n",
              "\n",
              "    .dataframe thead th {\n",
              "        text-align: right;\n",
              "    }\n",
              "</style>\n",
              "<table border=\"1\" class=\"dataframe\">\n",
              "  <thead>\n",
              "    <tr style=\"text-align: right;\">\n",
              "      <th></th>\n",
              "      <th>CHAS</th>\n",
              "      <th>LSTAT</th>\n",
              "      <th>CRIM</th>\n",
              "      <th>RM</th>\n",
              "    </tr>\n",
              "  </thead>\n",
              "  <tbody>\n",
              "    <tr>\n",
              "      <th>count</th>\n",
              "      <td>506.000000</td>\n",
              "      <td>506.000000</td>\n",
              "      <td>506.000000</td>\n",
              "      <td>506.000000</td>\n",
              "    </tr>\n",
              "    <tr>\n",
              "      <th>mean</th>\n",
              "      <td>0.069170</td>\n",
              "      <td>12.653063</td>\n",
              "      <td>3.613524</td>\n",
              "      <td>6.284634</td>\n",
              "    </tr>\n",
              "    <tr>\n",
              "      <th>std</th>\n",
              "      <td>0.253994</td>\n",
              "      <td>7.141062</td>\n",
              "      <td>8.601545</td>\n",
              "      <td>0.702617</td>\n",
              "    </tr>\n",
              "    <tr>\n",
              "      <th>min</th>\n",
              "      <td>0.000000</td>\n",
              "      <td>1.730000</td>\n",
              "      <td>0.006320</td>\n",
              "      <td>3.561000</td>\n",
              "    </tr>\n",
              "    <tr>\n",
              "      <th>25%</th>\n",
              "      <td>0.000000</td>\n",
              "      <td>6.950000</td>\n",
              "      <td>0.082045</td>\n",
              "      <td>5.885500</td>\n",
              "    </tr>\n",
              "    <tr>\n",
              "      <th>50%</th>\n",
              "      <td>0.000000</td>\n",
              "      <td>11.360000</td>\n",
              "      <td>0.256510</td>\n",
              "      <td>6.208500</td>\n",
              "    </tr>\n",
              "    <tr>\n",
              "      <th>75%</th>\n",
              "      <td>0.000000</td>\n",
              "      <td>16.955000</td>\n",
              "      <td>3.677083</td>\n",
              "      <td>6.623500</td>\n",
              "    </tr>\n",
              "    <tr>\n",
              "      <th>max</th>\n",
              "      <td>1.000000</td>\n",
              "      <td>37.970000</td>\n",
              "      <td>88.976200</td>\n",
              "      <td>8.780000</td>\n",
              "    </tr>\n",
              "  </tbody>\n",
              "</table>\n",
              "</div>\n",
              "      <button class=\"colab-df-convert\" onclick=\"convertToInteractive('df-c7caa66e-5936-4e12-9197-bc42fbfc93be')\"\n",
              "              title=\"Convert this dataframe to an interactive table.\"\n",
              "              style=\"display:none;\">\n",
              "        \n",
              "  <svg xmlns=\"http://www.w3.org/2000/svg\" height=\"24px\"viewBox=\"0 0 24 24\"\n",
              "       width=\"24px\">\n",
              "    <path d=\"M0 0h24v24H0V0z\" fill=\"none\"/>\n",
              "    <path d=\"M18.56 5.44l.94 2.06.94-2.06 2.06-.94-2.06-.94-.94-2.06-.94 2.06-2.06.94zm-11 1L8.5 8.5l.94-2.06 2.06-.94-2.06-.94L8.5 2.5l-.94 2.06-2.06.94zm10 10l.94 2.06.94-2.06 2.06-.94-2.06-.94-.94-2.06-.94 2.06-2.06.94z\"/><path d=\"M17.41 7.96l-1.37-1.37c-.4-.4-.92-.59-1.43-.59-.52 0-1.04.2-1.43.59L10.3 9.45l-7.72 7.72c-.78.78-.78 2.05 0 2.83L4 21.41c.39.39.9.59 1.41.59.51 0 1.02-.2 1.41-.59l7.78-7.78 2.81-2.81c.8-.78.8-2.07 0-2.86zM5.41 20L4 18.59l7.72-7.72 1.47 1.35L5.41 20z\"/>\n",
              "  </svg>\n",
              "      </button>\n",
              "      \n",
              "  <style>\n",
              "    .colab-df-container {\n",
              "      display:flex;\n",
              "      flex-wrap:wrap;\n",
              "      gap: 12px;\n",
              "    }\n",
              "\n",
              "    .colab-df-convert {\n",
              "      background-color: #E8F0FE;\n",
              "      border: none;\n",
              "      border-radius: 50%;\n",
              "      cursor: pointer;\n",
              "      display: none;\n",
              "      fill: #1967D2;\n",
              "      height: 32px;\n",
              "      padding: 0 0 0 0;\n",
              "      width: 32px;\n",
              "    }\n",
              "\n",
              "    .colab-df-convert:hover {\n",
              "      background-color: #E2EBFA;\n",
              "      box-shadow: 0px 1px 2px rgba(60, 64, 67, 0.3), 0px 1px 3px 1px rgba(60, 64, 67, 0.15);\n",
              "      fill: #174EA6;\n",
              "    }\n",
              "\n",
              "    [theme=dark] .colab-df-convert {\n",
              "      background-color: #3B4455;\n",
              "      fill: #D2E3FC;\n",
              "    }\n",
              "\n",
              "    [theme=dark] .colab-df-convert:hover {\n",
              "      background-color: #434B5C;\n",
              "      box-shadow: 0px 1px 3px 1px rgba(0, 0, 0, 0.15);\n",
              "      filter: drop-shadow(0px 1px 2px rgba(0, 0, 0, 0.3));\n",
              "      fill: #FFFFFF;\n",
              "    }\n",
              "  </style>\n",
              "\n",
              "      <script>\n",
              "        const buttonEl =\n",
              "          document.querySelector('#df-c7caa66e-5936-4e12-9197-bc42fbfc93be button.colab-df-convert');\n",
              "        buttonEl.style.display =\n",
              "          google.colab.kernel.accessAllowed ? 'block' : 'none';\n",
              "\n",
              "        async function convertToInteractive(key) {\n",
              "          const element = document.querySelector('#df-c7caa66e-5936-4e12-9197-bc42fbfc93be');\n",
              "          const dataTable =\n",
              "            await google.colab.kernel.invokeFunction('convertToInteractive',\n",
              "                                                     [key], {});\n",
              "          if (!dataTable) return;\n",
              "\n",
              "          const docLinkHtml = 'Like what you see? Visit the ' +\n",
              "            '<a target=\"_blank\" href=https://colab.research.google.com/notebooks/data_table.ipynb>data table notebook</a>'\n",
              "            + ' to learn more about interactive tables.';\n",
              "          element.innerHTML = '';\n",
              "          dataTable['output_type'] = 'display_data';\n",
              "          await google.colab.output.renderOutput(dataTable, element);\n",
              "          const docLink = document.createElement('div');\n",
              "          docLink.innerHTML = docLinkHtml;\n",
              "          element.appendChild(docLink);\n",
              "        }\n",
              "      </script>\n",
              "    </div>\n",
              "  </div>\n",
              "  "
            ]
          },
          "metadata": {},
          "execution_count": 39
        }
      ]
    },
    {
      "cell_type": "code",
      "source": [
        "boston_data[['PRICE']].head()"
      ],
      "metadata": {
        "colab": {
          "base_uri": "https://localhost:8080/",
          "height": 206
        },
        "id": "oL1bjmCGqFnk",
        "outputId": "f192aa58-b775-49bc-dfed-550aff8da557"
      },
      "id": "oL1bjmCGqFnk",
      "execution_count": null,
      "outputs": [
        {
          "output_type": "execute_result",
          "data": {
            "text/plain": [
              "   PRICE\n",
              "0   24.0\n",
              "1   21.6\n",
              "2   34.7\n",
              "3   33.4\n",
              "4   36.2"
            ],
            "text/html": [
              "\n",
              "  <div id=\"df-967f007e-a7eb-4c04-b562-5a6d09b9157a\">\n",
              "    <div class=\"colab-df-container\">\n",
              "      <div>\n",
              "<style scoped>\n",
              "    .dataframe tbody tr th:only-of-type {\n",
              "        vertical-align: middle;\n",
              "    }\n",
              "\n",
              "    .dataframe tbody tr th {\n",
              "        vertical-align: top;\n",
              "    }\n",
              "\n",
              "    .dataframe thead th {\n",
              "        text-align: right;\n",
              "    }\n",
              "</style>\n",
              "<table border=\"1\" class=\"dataframe\">\n",
              "  <thead>\n",
              "    <tr style=\"text-align: right;\">\n",
              "      <th></th>\n",
              "      <th>PRICE</th>\n",
              "    </tr>\n",
              "  </thead>\n",
              "  <tbody>\n",
              "    <tr>\n",
              "      <th>0</th>\n",
              "      <td>24.0</td>\n",
              "    </tr>\n",
              "    <tr>\n",
              "      <th>1</th>\n",
              "      <td>21.6</td>\n",
              "    </tr>\n",
              "    <tr>\n",
              "      <th>2</th>\n",
              "      <td>34.7</td>\n",
              "    </tr>\n",
              "    <tr>\n",
              "      <th>3</th>\n",
              "      <td>33.4</td>\n",
              "    </tr>\n",
              "    <tr>\n",
              "      <th>4</th>\n",
              "      <td>36.2</td>\n",
              "    </tr>\n",
              "  </tbody>\n",
              "</table>\n",
              "</div>\n",
              "      <button class=\"colab-df-convert\" onclick=\"convertToInteractive('df-967f007e-a7eb-4c04-b562-5a6d09b9157a')\"\n",
              "              title=\"Convert this dataframe to an interactive table.\"\n",
              "              style=\"display:none;\">\n",
              "        \n",
              "  <svg xmlns=\"http://www.w3.org/2000/svg\" height=\"24px\"viewBox=\"0 0 24 24\"\n",
              "       width=\"24px\">\n",
              "    <path d=\"M0 0h24v24H0V0z\" fill=\"none\"/>\n",
              "    <path d=\"M18.56 5.44l.94 2.06.94-2.06 2.06-.94-2.06-.94-.94-2.06-.94 2.06-2.06.94zm-11 1L8.5 8.5l.94-2.06 2.06-.94-2.06-.94L8.5 2.5l-.94 2.06-2.06.94zm10 10l.94 2.06.94-2.06 2.06-.94-2.06-.94-.94-2.06-.94 2.06-2.06.94z\"/><path d=\"M17.41 7.96l-1.37-1.37c-.4-.4-.92-.59-1.43-.59-.52 0-1.04.2-1.43.59L10.3 9.45l-7.72 7.72c-.78.78-.78 2.05 0 2.83L4 21.41c.39.39.9.59 1.41.59.51 0 1.02-.2 1.41-.59l7.78-7.78 2.81-2.81c.8-.78.8-2.07 0-2.86zM5.41 20L4 18.59l7.72-7.72 1.47 1.35L5.41 20z\"/>\n",
              "  </svg>\n",
              "      </button>\n",
              "      \n",
              "  <style>\n",
              "    .colab-df-container {\n",
              "      display:flex;\n",
              "      flex-wrap:wrap;\n",
              "      gap: 12px;\n",
              "    }\n",
              "\n",
              "    .colab-df-convert {\n",
              "      background-color: #E8F0FE;\n",
              "      border: none;\n",
              "      border-radius: 50%;\n",
              "      cursor: pointer;\n",
              "      display: none;\n",
              "      fill: #1967D2;\n",
              "      height: 32px;\n",
              "      padding: 0 0 0 0;\n",
              "      width: 32px;\n",
              "    }\n",
              "\n",
              "    .colab-df-convert:hover {\n",
              "      background-color: #E2EBFA;\n",
              "      box-shadow: 0px 1px 2px rgba(60, 64, 67, 0.3), 0px 1px 3px 1px rgba(60, 64, 67, 0.15);\n",
              "      fill: #174EA6;\n",
              "    }\n",
              "\n",
              "    [theme=dark] .colab-df-convert {\n",
              "      background-color: #3B4455;\n",
              "      fill: #D2E3FC;\n",
              "    }\n",
              "\n",
              "    [theme=dark] .colab-df-convert:hover {\n",
              "      background-color: #434B5C;\n",
              "      box-shadow: 0px 1px 3px 1px rgba(0, 0, 0, 0.15);\n",
              "      filter: drop-shadow(0px 1px 2px rgba(0, 0, 0, 0.3));\n",
              "      fill: #FFFFFF;\n",
              "    }\n",
              "  </style>\n",
              "\n",
              "      <script>\n",
              "        const buttonEl =\n",
              "          document.querySelector('#df-967f007e-a7eb-4c04-b562-5a6d09b9157a button.colab-df-convert');\n",
              "        buttonEl.style.display =\n",
              "          google.colab.kernel.accessAllowed ? 'block' : 'none';\n",
              "\n",
              "        async function convertToInteractive(key) {\n",
              "          const element = document.querySelector('#df-967f007e-a7eb-4c04-b562-5a6d09b9157a');\n",
              "          const dataTable =\n",
              "            await google.colab.kernel.invokeFunction('convertToInteractive',\n",
              "                                                     [key], {});\n",
              "          if (!dataTable) return;\n",
              "\n",
              "          const docLinkHtml = 'Like what you see? Visit the ' +\n",
              "            '<a target=\"_blank\" href=https://colab.research.google.com/notebooks/data_table.ipynb>data table notebook</a>'\n",
              "            + ' to learn more about interactive tables.';\n",
              "          element.innerHTML = '';\n",
              "          dataTable['output_type'] = 'display_data';\n",
              "          await google.colab.output.renderOutput(dataTable, element);\n",
              "          const docLink = document.createElement('div');\n",
              "          docLink.innerHTML = docLinkHtml;\n",
              "          element.appendChild(docLink);\n",
              "        }\n",
              "      </script>\n",
              "    </div>\n",
              "  </div>\n",
              "  "
            ]
          },
          "metadata": {},
          "execution_count": 40
        }
      ]
    },
    {
      "cell_type": "code",
      "source": [
        "# составим матрицу наблюдений и вектор целевой переменной\n",
        "A = np.column_stack((np.ones(506), boston_data[['CHAS', 'LSTAT', 'CRIM', 'RM']]))\n",
        "y = boston_data[['PRICE']]\n",
        "# вычисляем OLS-оценку для коэффициентов без стандартизации\n",
        "w_hat = np.linalg.inv(A.T @ A) @ A.T @ y\n",
        "print(w_hat.values)"
      ],
      "metadata": {
        "colab": {
          "base_uri": "https://localhost:8080/"
        },
        "id": "0D4ph0GOn3i0",
        "outputId": "f64fd12b-2892-438f-b2ce-6d4217bc6c6b"
      },
      "id": "0D4ph0GOn3i0",
      "execution_count": null,
      "outputs": [
        {
          "output_type": "stream",
          "name": "stdout",
          "text": [
            "[[-1.92052548]\n",
            " [ 3.9975594 ]\n",
            " [-0.58240212]\n",
            " [-0.09739445]\n",
            " [ 5.07554248]]\n"
          ]
        }
      ]
    },
    {
      "cell_type": "markdown",
      "source": [
        "w0 = -1.92\n",
        "<br>w_CHAS = 4\n",
        "<br>w_LSTAT = -0.6\n",
        "<br>w_CRIM = -0.1\n",
        "<br>w_RM = 5"
      ],
      "metadata": {
        "id": "71h3NB3Oph_g"
      },
      "id": "71h3NB3Oph_g"
    },
    {
      "cell_type": "code",
      "source": [
        "# составим матрицу наблюдений без дополнительного столбца и единиц\n",
        "A = boston_data[['CHAS', 'LSTAT', 'CRIM', 'RM']]\n",
        "y = boston_data[['PRICE']]\n",
        "\n",
        "# стандартизируем векторы в столбцах матрицы A\n",
        "A_cent = A - A.mean()\n",
        "A_st = A_cent / np.linalg.norm(A_cent, axis=0)\n",
        "print(A_st.describe().round(2))"
      ],
      "metadata": {
        "colab": {
          "base_uri": "https://localhost:8080/"
        },
        "id": "LPAT88_VpLIf",
        "outputId": "2631f9bb-6e74-4c04-a5d3-519efb9683ef"
      },
      "id": "LPAT88_VpLIf",
      "execution_count": null,
      "outputs": [
        {
          "output_type": "stream",
          "name": "stdout",
          "text": [
            "         CHAS   LSTAT    CRIM      RM\n",
            "count  506.00  506.00  506.00  506.00\n",
            "mean    -0.00   -0.00   -0.00   -0.00\n",
            "std      0.04    0.04    0.04    0.04\n",
            "min     -0.01   -0.07   -0.02   -0.17\n",
            "25%     -0.01   -0.04   -0.02   -0.03\n",
            "50%     -0.01   -0.01   -0.02   -0.00\n",
            "75%     -0.01    0.03    0.00    0.02\n",
            "max      0.16    0.16    0.44    0.16\n"
          ]
        }
      ]
    },
    {
      "cell_type": "code",
      "source": [
        "print(np.linalg.norm(A_st, axis=0))"
      ],
      "metadata": {
        "colab": {
          "base_uri": "https://localhost:8080/"
        },
        "id": "L12r0SBwtKsi",
        "outputId": "0d78f01c-6a99-4da7-c361-2dc8bf5094e7"
      },
      "id": "L12r0SBwtKsi",
      "execution_count": null,
      "outputs": [
        {
          "output_type": "stream",
          "name": "stdout",
          "text": [
            "[1. 1. 1. 1.]\n"
          ]
        }
      ]
    },
    {
      "cell_type": "code",
      "source": [
        "# стандартизируем вектор целевой переменной\n",
        "y_cent = y - y.mean()\n",
        "y_st = y_cent / np.linalg.norm(y_cent)"
      ],
      "metadata": {
        "id": "LzJWSZWqtV75"
      },
      "id": "LzJWSZWqtV75",
      "execution_count": null,
      "outputs": []
    },
    {
      "cell_type": "code",
      "source": [
        "# вычислим OLS-оценку для стандартизированных коэффициентов\n",
        "w_hat_st = np.linalg.inv(A_st.T@A_st)@A_st.T@y_st\n",
        "print(w_hat_st.values)"
      ],
      "metadata": {
        "colab": {
          "base_uri": "https://localhost:8080/"
        },
        "id": "47f06rgytq6K",
        "outputId": "1fc4e43d-9ecb-4ca8-8f10-51b84b1bbbeb"
      },
      "id": "47f06rgytq6K",
      "execution_count": null,
      "outputs": [
        {
          "output_type": "stream",
          "name": "stdout",
          "text": [
            "[[ 0.11039956]\n",
            " [-0.45220423]\n",
            " [-0.09108766]\n",
            " [ 0.38774848]]\n"
          ]
        }
      ]
    },
    {
      "cell_type": "markdown",
      "source": [
        "w_CHAS = 0.11\n",
        "<br>w_LSTAT = -0.45\n",
        "<br>w_CRIM = -0.09\n",
        "<br>w_RM = 0.38"
      ],
      "metadata": {
        "id": "VygdEvDmuNQp"
      },
      "id": "VygdEvDmuNQp"
    },
    {
      "cell_type": "code",
      "source": [
        "# матрица Грамма\n",
        "G = A_st.T @ A_st\n",
        "print(G)"
      ],
      "metadata": {
        "colab": {
          "base_uri": "https://localhost:8080/"
        },
        "id": "8Za_MTN-uZGq",
        "outputId": "a435b581-b1ce-4ccf-f93d-c0fbb9b06714"
      },
      "id": "8Za_MTN-uZGq",
      "execution_count": null,
      "outputs": [
        {
          "output_type": "stream",
          "name": "stdout",
          "text": [
            "           CHAS     LSTAT      CRIM        RM\n",
            "CHAS   1.000000 -0.053929 -0.055892  0.091251\n",
            "LSTAT -0.053929  1.000000  0.455621 -0.613808\n",
            "CRIM  -0.055892  0.455621  1.000000 -0.219247\n",
            "RM     0.091251 -0.613808 -0.219247  1.000000\n"
          ]
        }
      ]
    },
    {
      "cell_type": "markdown",
      "source": [
        "### TASK 4.3"
      ],
      "metadata": {
        "id": "rMY8qwDGRkeN"
      },
      "id": "rMY8qwDGRkeN"
    },
    {
      "cell_type": "code",
      "source": [
        "x = np.array([12, 8]).T\n",
        "\n",
        "# проведем центрирование\n",
        "x_centr = x - x.mean()\n",
        "print('x_centr:', x_centr)\n",
        "\n",
        "# нормализация\n",
        "x_std = x_centr / np.linalg.norm(x_centr)\n",
        "print('x_std:', x_std.round(3))"
      ],
      "metadata": {
        "colab": {
          "base_uri": "https://localhost:8080/"
        },
        "id": "4cFrXcvDP4dV",
        "outputId": "e267592b-24cf-4dd5-e779-6ca7389b36cd"
      },
      "id": "4cFrXcvDP4dV",
      "execution_count": null,
      "outputs": [
        {
          "output_type": "stream",
          "name": "stdout",
          "text": [
            "x_centr: [ 2. -2.]\n",
            "x_std: [ 0.707 -0.707]\n"
          ]
        }
      ]
    },
    {
      "cell_type": "markdown",
      "source": [
        "### Correlation matrix"
      ],
      "metadata": {
        "id": "V7M49_9nT1Yl"
      },
      "id": "V7M49_9nT1Yl"
    },
    {
      "cell_type": "code",
      "source": [
        "x1 = np.array([1, 2, 6]).T\n",
        "x2 = np.array([3000, 1000, 2000])"
      ],
      "metadata": {
        "id": "NPrGk3vVT5K4"
      },
      "id": "NPrGk3vVT5K4",
      "execution_count": null,
      "outputs": []
    },
    {
      "cell_type": "code",
      "source": [
        "x1_mean = x1.mean()\n",
        "x2_mean = x2.mean()\n",
        "print(x1_mean)\n",
        "print('-----')\n",
        "print(x2_mean)"
      ],
      "metadata": {
        "colab": {
          "base_uri": "https://localhost:8080/"
        },
        "id": "mKKPvy6iYChs",
        "outputId": "02a9696a-2553-4830-e94e-fc96a19902d9"
      },
      "id": "mKKPvy6iYChs",
      "execution_count": null,
      "outputs": [
        {
          "output_type": "stream",
          "name": "stdout",
          "text": [
            "3.0\n",
            "-----\n",
            "2000.0\n"
          ]
        }
      ]
    },
    {
      "cell_type": "code",
      "source": [
        "x1_cent = x1 - x1_mean\n",
        "x2_cent = x2 - x2_mean\n",
        "print(x1_cent)\n",
        "print('-----')\n",
        "print(x2_cent)"
      ],
      "metadata": {
        "colab": {
          "base_uri": "https://localhost:8080/"
        },
        "id": "9IwfrJb-YaGc",
        "outputId": "85f9085e-2eba-4cea-c386-1d9d8830b460"
      },
      "id": "9IwfrJb-YaGc",
      "execution_count": null,
      "outputs": [
        {
          "output_type": "stream",
          "name": "stdout",
          "text": [
            "[-2. -1.  3.]\n",
            "-----\n",
            "[ 1000. -1000.     0.]\n"
          ]
        }
      ]
    },
    {
      "cell_type": "code",
      "source": [
        "print(x1_cent @ x2_cent)"
      ],
      "metadata": {
        "colab": {
          "base_uri": "https://localhost:8080/"
        },
        "id": "kGxkq9WnZGT2",
        "outputId": "71c3da80-dd74-494a-a1ca-e4f63f990f35"
      },
      "id": "kGxkq9WnZGT2",
      "execution_count": null,
      "outputs": [
        {
          "output_type": "stream",
          "name": "stdout",
          "text": [
            "-1000.0\n"
          ]
        }
      ]
    },
    {
      "cell_type": "code",
      "source": [
        "x1_cent_norm = np.linalg.norm(x1_cent)\n",
        "x2_cent_norm = np.linalg.norm(x2_cent)\n",
        "print(x1_cent_norm)\n",
        "print('-----')\n",
        "print(x2_cent_norm)"
      ],
      "metadata": {
        "colab": {
          "base_uri": "https://localhost:8080/"
        },
        "id": "GURqL9M8Zcs0",
        "outputId": "7419b655-dbe2-4e89-b5d0-b2513d8698c3"
      },
      "id": "GURqL9M8Zcs0",
      "execution_count": null,
      "outputs": [
        {
          "output_type": "stream",
          "name": "stdout",
          "text": [
            "3.7416573867739413\n",
            "-----\n",
            "1414.213562373095\n"
          ]
        }
      ]
    },
    {
      "cell_type": "code",
      "source": [
        "c12 = (x1_cent @ x2_cent) / (x1_cent_norm * x2_cent_norm)\n",
        "c21 = (x2_cent @ x1_cent) / (x2_cent_norm * x1_cent_norm)\n",
        "c11 = (x1_cent @ x1_cent) / (x1_cent_norm * x1_cent_norm)\n",
        "c22 = (x2_cent @ x2_cent) / (x2_cent_norm * x2_cent_norm)\n",
        "print(c12.round(3))\n",
        "print('----')\n",
        "print(c21.round(3))\n",
        "print('----')\n",
        "print(c11.round(3))\n",
        "print('----')\n",
        "print(c22.round(3))"
      ],
      "metadata": {
        "colab": {
          "base_uri": "https://localhost:8080/"
        },
        "id": "GVS_lZnpaFQt",
        "outputId": "8390a291-4ae3-4ad6-a098-fcd1c5c39049"
      },
      "id": "GVS_lZnpaFQt",
      "execution_count": null,
      "outputs": [
        {
          "output_type": "stream",
          "name": "stdout",
          "text": [
            "-0.189\n",
            "----\n",
            "-0.189\n",
            "----\n",
            "1.0\n",
            "----\n",
            "1.0\n"
          ]
        }
      ]
    },
    {
      "cell_type": "code",
      "source": [
        "C = np.array([\n",
        "    [c11, c12],\n",
        "    [c21, c22]\n",
        "])\n",
        "\n",
        "print(C)"
      ],
      "metadata": {
        "colab": {
          "base_uri": "https://localhost:8080/"
        },
        "id": "kMb9sqcDb2Le",
        "outputId": "4b7e36e6-cd48-42bc-fe40-08bd51248894"
      },
      "id": "kMb9sqcDb2Le",
      "execution_count": null,
      "outputs": [
        {
          "output_type": "stream",
          "name": "stdout",
          "text": [
            "[[ 1.         -0.18898224]\n",
            " [-0.18898224  1.        ]]\n"
          ]
        }
      ]
    },
    {
      "cell_type": "code",
      "source": [
        "x_1 = np.array([1, 2, 6])\n",
        "x_2 = np.array([3000, 1000, 2000])\n",
        "np.corrcoef(x_1, x_2)"
      ],
      "metadata": {
        "colab": {
          "base_uri": "https://localhost:8080/"
        },
        "id": "XhQeKurFimWY",
        "outputId": "e6a0abd5-7165-4949-a323-378dc88d9358"
      },
      "id": "XhQeKurFimWY",
      "execution_count": null,
      "outputs": [
        {
          "output_type": "execute_result",
          "data": {
            "text/plain": [
              "array([[ 1.        , -0.18898224],\n",
              "       [-0.18898224,  1.        ]])"
            ]
          },
          "metadata": {},
          "execution_count": 55
        }
      ]
    },
    {
      "cell_type": "markdown",
      "source": [
        "### TASK 4.7"
      ],
      "metadata": {
        "id": "dQjw6Yl9q0ez"
      },
      "id": "dQjw6Yl9q0ez"
    },
    {
      "cell_type": "code",
      "source": [
        "v = np.array([5, 1, 2]).T\n",
        "u = np.array([4, 2, 8]).T\n",
        "\n",
        "print(np.corrcoef(v, u).round(2))"
      ],
      "metadata": {
        "colab": {
          "base_uri": "https://localhost:8080/"
        },
        "id": "KDL8AxT0q4ci",
        "outputId": "1b5e587d-dee8-4689-c5ac-f25fa3300dd6"
      },
      "id": "KDL8AxT0q4ci",
      "execution_count": null,
      "outputs": [
        {
          "output_type": "stream",
          "name": "stdout",
          "text": [
            "[[1.   0.05]\n",
            " [0.05 1.  ]]\n"
          ]
        }
      ]
    },
    {
      "cell_type": "markdown",
      "source": [
        "### TASK 4.8"
      ],
      "metadata": {
        "id": "DmvEvTmrrcCY"
      },
      "id": "DmvEvTmrrcCY"
    },
    {
      "cell_type": "code",
      "source": [
        "x1 = np.array([5.1, 1.8, 2.1, 10.3, 12.1, 12.6]).T\n",
        "x2 = np.array([10.2, 3.7, 4.1, 20.5, 24.2, 24.1]).T\n",
        "x3 = np.array([2.5, 0.9, 1.1, 5.1, 6.1, 6.3]).T\n",
        "\n",
        "matrix_x = np.corrcoef([x1, x2, x3])\n",
        "print(matrix_x)"
      ],
      "metadata": {
        "colab": {
          "base_uri": "https://localhost:8080/"
        },
        "id": "HO07E0Imrecu",
        "outputId": "0b34d161-c764-4f86-cf4d-301194a17f8d"
      },
      "id": "HO07E0Imrecu",
      "execution_count": null,
      "outputs": [
        {
          "output_type": "stream",
          "name": "stdout",
          "text": [
            "[[1.         0.99925473 0.99983661]\n",
            " [0.99925473 1.         0.99906626]\n",
            " [0.99983661 0.99906626 1.        ]]\n"
          ]
        }
      ]
    },
    {
      "cell_type": "code",
      "source": [
        "print(np.linalg.matrix_rank(matrix_x))\n",
        "print(np.linalg.det(matrix_x))"
      ],
      "metadata": {
        "colab": {
          "base_uri": "https://localhost:8080/"
        },
        "id": "xYY9rWGdsgAk",
        "outputId": "18c8d26b-72dc-4259-dbdc-4f160558ad74"
      },
      "id": "xYY9rWGdsgAk",
      "execution_count": null,
      "outputs": [
        {
          "output_type": "stream",
          "name": "stdout",
          "text": [
            "3\n",
            "4.862298229241645e-07\n"
          ]
        }
      ]
    },
    {
      "cell_type": "markdown",
      "source": [
        "### Practice"
      ],
      "metadata": {
        "id": "OOpizuFFalUy"
      },
      "id": "OOpizuFFalUy"
    },
    {
      "cell_type": "code",
      "source": [
        "import numpy as np\n",
        "import pandas as pd\n",
        "import seaborn as sns\n",
        "import matplotlib.pyplot as plt\n",
        "%matplotlib inline\n",
        "\n",
        "from google.colab import drive\n",
        "drive.mount('/content/drive')"
      ],
      "metadata": {
        "colab": {
          "base_uri": "https://localhost:8080/"
        },
        "id": "6BlC08Lvao_Z",
        "outputId": "ee2c5153-fc6a-4376-801f-22e20855ed4e"
      },
      "id": "6BlC08Lvao_Z",
      "execution_count": null,
      "outputs": [
        {
          "output_type": "stream",
          "name": "stdout",
          "text": [
            "Mounted at /content/drive\n"
          ]
        }
      ]
    },
    {
      "cell_type": "code",
      "source": [
        "df = pd.read_csv('/content/drive/MyDrive/data_for_lessons/unconv.csv', sep=',')\n",
        "df.head()"
      ],
      "metadata": {
        "colab": {
          "base_uri": "https://localhost:8080/",
          "height": 206
        },
        "id": "InkGmsR8bwAa",
        "outputId": "54d4b98c-c5e6-467a-e456-66f984f1d22d"
      },
      "id": "InkGmsR8bwAa",
      "execution_count": null,
      "outputs": [
        {
          "output_type": "execute_result",
          "data": {
            "text/plain": [
              "   Well    Por  Perm    AI  Brittle   TOC    VR         Prod\n",
              "0     1  12.08  2.92  2.80    81.40  1.16  2.31  4165.196191\n",
              "1     2  12.38  3.53  3.22    46.17  0.89  1.88  3561.146205\n",
              "2     3  14.02  2.59  4.01    72.80  0.89  2.72  4284.348574\n",
              "3     4  17.67  6.75  2.63    39.81  1.08  1.88  5098.680869\n",
              "4     5  17.52  4.57  3.18    10.94  1.51  1.90  3406.132832"
            ],
            "text/html": [
              "\n",
              "  <div id=\"df-b9e9ec67-340e-4312-9286-9679fe785e0e\">\n",
              "    <div class=\"colab-df-container\">\n",
              "      <div>\n",
              "<style scoped>\n",
              "    .dataframe tbody tr th:only-of-type {\n",
              "        vertical-align: middle;\n",
              "    }\n",
              "\n",
              "    .dataframe tbody tr th {\n",
              "        vertical-align: top;\n",
              "    }\n",
              "\n",
              "    .dataframe thead th {\n",
              "        text-align: right;\n",
              "    }\n",
              "</style>\n",
              "<table border=\"1\" class=\"dataframe\">\n",
              "  <thead>\n",
              "    <tr style=\"text-align: right;\">\n",
              "      <th></th>\n",
              "      <th>Well</th>\n",
              "      <th>Por</th>\n",
              "      <th>Perm</th>\n",
              "      <th>AI</th>\n",
              "      <th>Brittle</th>\n",
              "      <th>TOC</th>\n",
              "      <th>VR</th>\n",
              "      <th>Prod</th>\n",
              "    </tr>\n",
              "  </thead>\n",
              "  <tbody>\n",
              "    <tr>\n",
              "      <th>0</th>\n",
              "      <td>1</td>\n",
              "      <td>12.08</td>\n",
              "      <td>2.92</td>\n",
              "      <td>2.80</td>\n",
              "      <td>81.40</td>\n",
              "      <td>1.16</td>\n",
              "      <td>2.31</td>\n",
              "      <td>4165.196191</td>\n",
              "    </tr>\n",
              "    <tr>\n",
              "      <th>1</th>\n",
              "      <td>2</td>\n",
              "      <td>12.38</td>\n",
              "      <td>3.53</td>\n",
              "      <td>3.22</td>\n",
              "      <td>46.17</td>\n",
              "      <td>0.89</td>\n",
              "      <td>1.88</td>\n",
              "      <td>3561.146205</td>\n",
              "    </tr>\n",
              "    <tr>\n",
              "      <th>2</th>\n",
              "      <td>3</td>\n",
              "      <td>14.02</td>\n",
              "      <td>2.59</td>\n",
              "      <td>4.01</td>\n",
              "      <td>72.80</td>\n",
              "      <td>0.89</td>\n",
              "      <td>2.72</td>\n",
              "      <td>4284.348574</td>\n",
              "    </tr>\n",
              "    <tr>\n",
              "      <th>3</th>\n",
              "      <td>4</td>\n",
              "      <td>17.67</td>\n",
              "      <td>6.75</td>\n",
              "      <td>2.63</td>\n",
              "      <td>39.81</td>\n",
              "      <td>1.08</td>\n",
              "      <td>1.88</td>\n",
              "      <td>5098.680869</td>\n",
              "    </tr>\n",
              "    <tr>\n",
              "      <th>4</th>\n",
              "      <td>5</td>\n",
              "      <td>17.52</td>\n",
              "      <td>4.57</td>\n",
              "      <td>3.18</td>\n",
              "      <td>10.94</td>\n",
              "      <td>1.51</td>\n",
              "      <td>1.90</td>\n",
              "      <td>3406.132832</td>\n",
              "    </tr>\n",
              "  </tbody>\n",
              "</table>\n",
              "</div>\n",
              "      <button class=\"colab-df-convert\" onclick=\"convertToInteractive('df-b9e9ec67-340e-4312-9286-9679fe785e0e')\"\n",
              "              title=\"Convert this dataframe to an interactive table.\"\n",
              "              style=\"display:none;\">\n",
              "        \n",
              "  <svg xmlns=\"http://www.w3.org/2000/svg\" height=\"24px\"viewBox=\"0 0 24 24\"\n",
              "       width=\"24px\">\n",
              "    <path d=\"M0 0h24v24H0V0z\" fill=\"none\"/>\n",
              "    <path d=\"M18.56 5.44l.94 2.06.94-2.06 2.06-.94-2.06-.94-.94-2.06-.94 2.06-2.06.94zm-11 1L8.5 8.5l.94-2.06 2.06-.94-2.06-.94L8.5 2.5l-.94 2.06-2.06.94zm10 10l.94 2.06.94-2.06 2.06-.94-2.06-.94-.94-2.06-.94 2.06-2.06.94z\"/><path d=\"M17.41 7.96l-1.37-1.37c-.4-.4-.92-.59-1.43-.59-.52 0-1.04.2-1.43.59L10.3 9.45l-7.72 7.72c-.78.78-.78 2.05 0 2.83L4 21.41c.39.39.9.59 1.41.59.51 0 1.02-.2 1.41-.59l7.78-7.78 2.81-2.81c.8-.78.8-2.07 0-2.86zM5.41 20L4 18.59l7.72-7.72 1.47 1.35L5.41 20z\"/>\n",
              "  </svg>\n",
              "      </button>\n",
              "      \n",
              "  <style>\n",
              "    .colab-df-container {\n",
              "      display:flex;\n",
              "      flex-wrap:wrap;\n",
              "      gap: 12px;\n",
              "    }\n",
              "\n",
              "    .colab-df-convert {\n",
              "      background-color: #E8F0FE;\n",
              "      border: none;\n",
              "      border-radius: 50%;\n",
              "      cursor: pointer;\n",
              "      display: none;\n",
              "      fill: #1967D2;\n",
              "      height: 32px;\n",
              "      padding: 0 0 0 0;\n",
              "      width: 32px;\n",
              "    }\n",
              "\n",
              "    .colab-df-convert:hover {\n",
              "      background-color: #E2EBFA;\n",
              "      box-shadow: 0px 1px 2px rgba(60, 64, 67, 0.3), 0px 1px 3px 1px rgba(60, 64, 67, 0.15);\n",
              "      fill: #174EA6;\n",
              "    }\n",
              "\n",
              "    [theme=dark] .colab-df-convert {\n",
              "      background-color: #3B4455;\n",
              "      fill: #D2E3FC;\n",
              "    }\n",
              "\n",
              "    [theme=dark] .colab-df-convert:hover {\n",
              "      background-color: #434B5C;\n",
              "      box-shadow: 0px 1px 3px 1px rgba(0, 0, 0, 0.15);\n",
              "      filter: drop-shadow(0px 1px 2px rgba(0, 0, 0, 0.3));\n",
              "      fill: #FFFFFF;\n",
              "    }\n",
              "  </style>\n",
              "\n",
              "      <script>\n",
              "        const buttonEl =\n",
              "          document.querySelector('#df-b9e9ec67-340e-4312-9286-9679fe785e0e button.colab-df-convert');\n",
              "        buttonEl.style.display =\n",
              "          google.colab.kernel.accessAllowed ? 'block' : 'none';\n",
              "\n",
              "        async function convertToInteractive(key) {\n",
              "          const element = document.querySelector('#df-b9e9ec67-340e-4312-9286-9679fe785e0e');\n",
              "          const dataTable =\n",
              "            await google.colab.kernel.invokeFunction('convertToInteractive',\n",
              "                                                     [key], {});\n",
              "          if (!dataTable) return;\n",
              "\n",
              "          const docLinkHtml = 'Like what you see? Visit the ' +\n",
              "            '<a target=\"_blank\" href=https://colab.research.google.com/notebooks/data_table.ipynb>data table notebook</a>'\n",
              "            + ' to learn more about interactive tables.';\n",
              "          element.innerHTML = '';\n",
              "          dataTable['output_type'] = 'display_data';\n",
              "          await google.colab.output.renderOutput(dataTable, element);\n",
              "          const docLink = document.createElement('div');\n",
              "          docLink.innerHTML = docLinkHtml;\n",
              "          element.appendChild(docLink);\n",
              "        }\n",
              "      </script>\n",
              "    </div>\n",
              "  </div>\n",
              "  "
            ]
          },
          "metadata": {},
          "execution_count": 60
        }
      ]
    },
    {
      "cell_type": "markdown",
      "source": [
        "### TASK 5.1"
      ],
      "metadata": {
        "id": "g2CI4xeBgyNp"
      },
      "id": "g2CI4xeBgyNp"
    },
    {
      "cell_type": "code",
      "source": [
        "# с помощью Pandas\n",
        "df_corr = df.corr()\n",
        "df_corr"
      ],
      "metadata": {
        "colab": {
          "base_uri": "https://localhost:8080/",
          "height": 300
        },
        "id": "r2E8X2cCc2us",
        "outputId": "146c2da9-ecd4-4823-fc83-b555febc7761"
      },
      "id": "r2E8X2cCc2us",
      "execution_count": null,
      "outputs": [
        {
          "output_type": "execute_result",
          "data": {
            "text/plain": [
              "             Well       Por      Perm        AI   Brittle       TOC        VR  \\\n",
              "Well     1.000000  0.068927  0.077928  0.041483 -0.079252  0.022624 -0.007279   \n",
              "Por      0.068927  1.000000  0.760546 -0.461549 -0.218570  0.711831  0.111860   \n",
              "Perm     0.077928  0.760546  1.000000 -0.239636 -0.124017  0.471746  0.051023   \n",
              "AI       0.041483 -0.461549 -0.239636  1.000000  0.127599 -0.531864  0.499143   \n",
              "Brittle -0.079252 -0.218570 -0.124017  0.127599  1.000000 -0.214282  0.317929   \n",
              "TOC      0.022624  0.711831  0.471746 -0.531864 -0.214282  1.000000  0.299483   \n",
              "VR      -0.007279  0.111860  0.051023  0.499143  0.317929  0.299483  1.000000   \n",
              "Prod     0.026817  0.861910  0.727426 -0.390835  0.237155  0.654445  0.323182   \n",
              "\n",
              "             Prod  \n",
              "Well     0.026817  \n",
              "Por      0.861910  \n",
              "Perm     0.727426  \n",
              "AI      -0.390835  \n",
              "Brittle  0.237155  \n",
              "TOC      0.654445  \n",
              "VR       0.323182  \n",
              "Prod     1.000000  "
            ],
            "text/html": [
              "\n",
              "  <div id=\"df-725cd5b8-6a42-412f-8552-dbbed9560723\">\n",
              "    <div class=\"colab-df-container\">\n",
              "      <div>\n",
              "<style scoped>\n",
              "    .dataframe tbody tr th:only-of-type {\n",
              "        vertical-align: middle;\n",
              "    }\n",
              "\n",
              "    .dataframe tbody tr th {\n",
              "        vertical-align: top;\n",
              "    }\n",
              "\n",
              "    .dataframe thead th {\n",
              "        text-align: right;\n",
              "    }\n",
              "</style>\n",
              "<table border=\"1\" class=\"dataframe\">\n",
              "  <thead>\n",
              "    <tr style=\"text-align: right;\">\n",
              "      <th></th>\n",
              "      <th>Well</th>\n",
              "      <th>Por</th>\n",
              "      <th>Perm</th>\n",
              "      <th>AI</th>\n",
              "      <th>Brittle</th>\n",
              "      <th>TOC</th>\n",
              "      <th>VR</th>\n",
              "      <th>Prod</th>\n",
              "    </tr>\n",
              "  </thead>\n",
              "  <tbody>\n",
              "    <tr>\n",
              "      <th>Well</th>\n",
              "      <td>1.000000</td>\n",
              "      <td>0.068927</td>\n",
              "      <td>0.077928</td>\n",
              "      <td>0.041483</td>\n",
              "      <td>-0.079252</td>\n",
              "      <td>0.022624</td>\n",
              "      <td>-0.007279</td>\n",
              "      <td>0.026817</td>\n",
              "    </tr>\n",
              "    <tr>\n",
              "      <th>Por</th>\n",
              "      <td>0.068927</td>\n",
              "      <td>1.000000</td>\n",
              "      <td>0.760546</td>\n",
              "      <td>-0.461549</td>\n",
              "      <td>-0.218570</td>\n",
              "      <td>0.711831</td>\n",
              "      <td>0.111860</td>\n",
              "      <td>0.861910</td>\n",
              "    </tr>\n",
              "    <tr>\n",
              "      <th>Perm</th>\n",
              "      <td>0.077928</td>\n",
              "      <td>0.760546</td>\n",
              "      <td>1.000000</td>\n",
              "      <td>-0.239636</td>\n",
              "      <td>-0.124017</td>\n",
              "      <td>0.471746</td>\n",
              "      <td>0.051023</td>\n",
              "      <td>0.727426</td>\n",
              "    </tr>\n",
              "    <tr>\n",
              "      <th>AI</th>\n",
              "      <td>0.041483</td>\n",
              "      <td>-0.461549</td>\n",
              "      <td>-0.239636</td>\n",
              "      <td>1.000000</td>\n",
              "      <td>0.127599</td>\n",
              "      <td>-0.531864</td>\n",
              "      <td>0.499143</td>\n",
              "      <td>-0.390835</td>\n",
              "    </tr>\n",
              "    <tr>\n",
              "      <th>Brittle</th>\n",
              "      <td>-0.079252</td>\n",
              "      <td>-0.218570</td>\n",
              "      <td>-0.124017</td>\n",
              "      <td>0.127599</td>\n",
              "      <td>1.000000</td>\n",
              "      <td>-0.214282</td>\n",
              "      <td>0.317929</td>\n",
              "      <td>0.237155</td>\n",
              "    </tr>\n",
              "    <tr>\n",
              "      <th>TOC</th>\n",
              "      <td>0.022624</td>\n",
              "      <td>0.711831</td>\n",
              "      <td>0.471746</td>\n",
              "      <td>-0.531864</td>\n",
              "      <td>-0.214282</td>\n",
              "      <td>1.000000</td>\n",
              "      <td>0.299483</td>\n",
              "      <td>0.654445</td>\n",
              "    </tr>\n",
              "    <tr>\n",
              "      <th>VR</th>\n",
              "      <td>-0.007279</td>\n",
              "      <td>0.111860</td>\n",
              "      <td>0.051023</td>\n",
              "      <td>0.499143</td>\n",
              "      <td>0.317929</td>\n",
              "      <td>0.299483</td>\n",
              "      <td>1.000000</td>\n",
              "      <td>0.323182</td>\n",
              "    </tr>\n",
              "    <tr>\n",
              "      <th>Prod</th>\n",
              "      <td>0.026817</td>\n",
              "      <td>0.861910</td>\n",
              "      <td>0.727426</td>\n",
              "      <td>-0.390835</td>\n",
              "      <td>0.237155</td>\n",
              "      <td>0.654445</td>\n",
              "      <td>0.323182</td>\n",
              "      <td>1.000000</td>\n",
              "    </tr>\n",
              "  </tbody>\n",
              "</table>\n",
              "</div>\n",
              "      <button class=\"colab-df-convert\" onclick=\"convertToInteractive('df-725cd5b8-6a42-412f-8552-dbbed9560723')\"\n",
              "              title=\"Convert this dataframe to an interactive table.\"\n",
              "              style=\"display:none;\">\n",
              "        \n",
              "  <svg xmlns=\"http://www.w3.org/2000/svg\" height=\"24px\"viewBox=\"0 0 24 24\"\n",
              "       width=\"24px\">\n",
              "    <path d=\"M0 0h24v24H0V0z\" fill=\"none\"/>\n",
              "    <path d=\"M18.56 5.44l.94 2.06.94-2.06 2.06-.94-2.06-.94-.94-2.06-.94 2.06-2.06.94zm-11 1L8.5 8.5l.94-2.06 2.06-.94-2.06-.94L8.5 2.5l-.94 2.06-2.06.94zm10 10l.94 2.06.94-2.06 2.06-.94-2.06-.94-.94-2.06-.94 2.06-2.06.94z\"/><path d=\"M17.41 7.96l-1.37-1.37c-.4-.4-.92-.59-1.43-.59-.52 0-1.04.2-1.43.59L10.3 9.45l-7.72 7.72c-.78.78-.78 2.05 0 2.83L4 21.41c.39.39.9.59 1.41.59.51 0 1.02-.2 1.41-.59l7.78-7.78 2.81-2.81c.8-.78.8-2.07 0-2.86zM5.41 20L4 18.59l7.72-7.72 1.47 1.35L5.41 20z\"/>\n",
              "  </svg>\n",
              "      </button>\n",
              "      \n",
              "  <style>\n",
              "    .colab-df-container {\n",
              "      display:flex;\n",
              "      flex-wrap:wrap;\n",
              "      gap: 12px;\n",
              "    }\n",
              "\n",
              "    .colab-df-convert {\n",
              "      background-color: #E8F0FE;\n",
              "      border: none;\n",
              "      border-radius: 50%;\n",
              "      cursor: pointer;\n",
              "      display: none;\n",
              "      fill: #1967D2;\n",
              "      height: 32px;\n",
              "      padding: 0 0 0 0;\n",
              "      width: 32px;\n",
              "    }\n",
              "\n",
              "    .colab-df-convert:hover {\n",
              "      background-color: #E2EBFA;\n",
              "      box-shadow: 0px 1px 2px rgba(60, 64, 67, 0.3), 0px 1px 3px 1px rgba(60, 64, 67, 0.15);\n",
              "      fill: #174EA6;\n",
              "    }\n",
              "\n",
              "    [theme=dark] .colab-df-convert {\n",
              "      background-color: #3B4455;\n",
              "      fill: #D2E3FC;\n",
              "    }\n",
              "\n",
              "    [theme=dark] .colab-df-convert:hover {\n",
              "      background-color: #434B5C;\n",
              "      box-shadow: 0px 1px 3px 1px rgba(0, 0, 0, 0.15);\n",
              "      filter: drop-shadow(0px 1px 2px rgba(0, 0, 0, 0.3));\n",
              "      fill: #FFFFFF;\n",
              "    }\n",
              "  </style>\n",
              "\n",
              "      <script>\n",
              "        const buttonEl =\n",
              "          document.querySelector('#df-725cd5b8-6a42-412f-8552-dbbed9560723 button.colab-df-convert');\n",
              "        buttonEl.style.display =\n",
              "          google.colab.kernel.accessAllowed ? 'block' : 'none';\n",
              "\n",
              "        async function convertToInteractive(key) {\n",
              "          const element = document.querySelector('#df-725cd5b8-6a42-412f-8552-dbbed9560723');\n",
              "          const dataTable =\n",
              "            await google.colab.kernel.invokeFunction('convertToInteractive',\n",
              "                                                     [key], {});\n",
              "          if (!dataTable) return;\n",
              "\n",
              "          const docLinkHtml = 'Like what you see? Visit the ' +\n",
              "            '<a target=\"_blank\" href=https://colab.research.google.com/notebooks/data_table.ipynb>data table notebook</a>'\n",
              "            + ' to learn more about interactive tables.';\n",
              "          element.innerHTML = '';\n",
              "          dataTable['output_type'] = 'display_data';\n",
              "          await google.colab.output.renderOutput(dataTable, element);\n",
              "          const docLink = document.createElement('div');\n",
              "          docLink.innerHTML = docLinkHtml;\n",
              "          element.appendChild(docLink);\n",
              "        }\n",
              "      </script>\n",
              "    </div>\n",
              "  </div>\n",
              "  "
            ]
          },
          "metadata": {},
          "execution_count": 61
        }
      ]
    },
    {
      "cell_type": "code",
      "source": [
        "plt.figure(figsize=(12,8))\n",
        "sns.heatmap(data = df_corr, annot=True)"
      ],
      "metadata": {
        "colab": {
          "base_uri": "https://localhost:8080/",
          "height": 504
        },
        "id": "8Tz9FMZ_482t",
        "outputId": "7ae44c79-c2ee-47bb-a022-602cbb509012"
      },
      "id": "8Tz9FMZ_482t",
      "execution_count": null,
      "outputs": [
        {
          "output_type": "execute_result",
          "data": {
            "text/plain": [
              "<AxesSubplot:>"
            ]
          },
          "metadata": {},
          "execution_count": 62
        },
        {
          "output_type": "display_data",
          "data": {
            "text/plain": [
              "<Figure size 864x576 with 2 Axes>"
            ],
            "image/png": "[encoded data removed]"
          },
          "metadata": {
            "needs_background": "light"
          }
        }
      ]
    },
    {
      "cell_type": "code",
      "source": [
        "# с помощью NumPy\n",
        "print(np.corrcoef(df['Por'], df['Prod']))\n",
        "print(np.corrcoef(df['Perm'], df['Prod']))\n",
        "print(np.corrcoef(df['TOC'], df['Prod']))"
      ],
      "metadata": {
        "colab": {
          "base_uri": "https://localhost:8080/"
        },
        "id": "EcL8CygohAeH",
        "outputId": "723f4603-c1ec-43c7-a241-75188351bf4d"
      },
      "id": "EcL8CygohAeH",
      "execution_count": null,
      "outputs": [
        {
          "output_type": "stream",
          "name": "stdout",
          "text": [
            "[[1.         0.86190954]\n",
            " [0.86190954 1.        ]]\n",
            "[[1.         0.72742614]\n",
            " [0.72742614 1.        ]]\n",
            "[[1.        0.6544452]\n",
            " [0.6544452 1.       ]]\n"
          ]
        }
      ]
    },
    {
      "cell_type": "code",
      "source": [
        "# вычислим ранг df_corr\n",
        "print(np.linalg.matrix_rank(df_corr))"
      ],
      "metadata": {
        "colab": {
          "base_uri": "https://localhost:8080/"
        },
        "id": "MTMzKElnofnT",
        "outputId": "e4cb36dc-35c8-4434-8394-45b5a2fd91c4"
      },
      "id": "MTMzKElnofnT",
      "execution_count": null,
      "outputs": [
        {
          "output_type": "stream",
          "name": "stdout",
          "text": [
            "8\n"
          ]
        }
      ]
    },
    {
      "cell_type": "code",
      "source": [
        "# вычислим определитель\n",
        "print(np.linalg.det(df_corr).round(4))"
      ],
      "metadata": {
        "colab": {
          "base_uri": "https://localhost:8080/"
        },
        "id": "NHRu2JPXoz_y",
        "outputId": "2229cdb1-e4ca-4eb2-a1d9-cb20a9763f89"
      },
      "id": "NHRu2JPXoz_y",
      "execution_count": null,
      "outputs": [
        {
          "output_type": "stream",
          "name": "stdout",
          "text": [
            "0.0007\n"
          ]
        }
      ]
    },
    {
      "cell_type": "markdown",
      "source": [
        "### TASK 5.2"
      ],
      "metadata": {
        "id": "QMdr9DYIpJHZ"
      },
      "id": "QMdr9DYIpJHZ"
    },
    {
      "cell_type": "code",
      "source": [
        "from numpy.lib.shape_base import column_stack\n",
        "X = df.drop('Prod', axis=1)\n",
        "X.insert(0, 'w0', 1)\n",
        "y = df['Prod']\n",
        "\n",
        "w = np.linalg.inv(X.T @ X) @ X.T @ y\n",
        "print(w.round())\n",
        "fg = np.column_stack((w.round(), X.columns))\n",
        "df_fg = pd.DataFrame(data=fg)"
      ],
      "metadata": {
        "colab": {
          "base_uri": "https://localhost:8080/"
        },
        "id": "MkGR7Y9IpLFp",
        "outputId": "359fbe3f-e9be-44bd-b8f7-0da43a7e2779"
      },
      "id": "MkGR7Y9IpLFp",
      "execution_count": null,
      "outputs": [
        {
          "output_type": "stream",
          "name": "stdout",
          "text": [
            "0   -1232.0\n",
            "1       0.0\n",
            "2     230.0\n",
            "3     116.0\n",
            "4    -365.0\n",
            "5      25.0\n",
            "6     -78.0\n",
            "7     785.0\n",
            "dtype: float64\n"
          ]
        }
      ]
    },
    {
      "cell_type": "code",
      "source": [
        "df334 = pd.DataFrame(data=fg)\n",
        "df334"
      ],
      "metadata": {
        "colab": {
          "base_uri": "https://localhost:8080/",
          "height": 300
        },
        "id": "aFHASROwkR93",
        "outputId": "785643d8-71fa-443a-fef7-92655bd0f3fd"
      },
      "id": "aFHASROwkR93",
      "execution_count": null,
      "outputs": [
        {
          "output_type": "execute_result",
          "data": {
            "text/plain": [
              "        0        1\n",
              "0 -1232.0       w0\n",
              "1     0.0     Well\n",
              "2   230.0      Por\n",
              "3   116.0     Perm\n",
              "4  -365.0       AI\n",
              "5    25.0  Brittle\n",
              "6   -78.0      TOC\n",
              "7   785.0       VR"
            ],
            "text/html": [
              "\n",
              "  <div id=\"df-3eba0593-1838-4cb5-acb1-5ca6c3bc7302\">\n",
              "    <div class=\"colab-df-container\">\n",
              "      <div>\n",
              "<style scoped>\n",
              "    .dataframe tbody tr th:only-of-type {\n",
              "        vertical-align: middle;\n",
              "    }\n",
              "\n",
              "    .dataframe tbody tr th {\n",
              "        vertical-align: top;\n",
              "    }\n",
              "\n",
              "    .dataframe thead th {\n",
              "        text-align: right;\n",
              "    }\n",
              "</style>\n",
              "<table border=\"1\" class=\"dataframe\">\n",
              "  <thead>\n",
              "    <tr style=\"text-align: right;\">\n",
              "      <th></th>\n",
              "      <th>0</th>\n",
              "      <th>1</th>\n",
              "    </tr>\n",
              "  </thead>\n",
              "  <tbody>\n",
              "    <tr>\n",
              "      <th>0</th>\n",
              "      <td>-1232.0</td>\n",
              "      <td>w0</td>\n",
              "    </tr>\n",
              "    <tr>\n",
              "      <th>1</th>\n",
              "      <td>0.0</td>\n",
              "      <td>Well</td>\n",
              "    </tr>\n",
              "    <tr>\n",
              "      <th>2</th>\n",
              "      <td>230.0</td>\n",
              "      <td>Por</td>\n",
              "    </tr>\n",
              "    <tr>\n",
              "      <th>3</th>\n",
              "      <td>116.0</td>\n",
              "      <td>Perm</td>\n",
              "    </tr>\n",
              "    <tr>\n",
              "      <th>4</th>\n",
              "      <td>-365.0</td>\n",
              "      <td>AI</td>\n",
              "    </tr>\n",
              "    <tr>\n",
              "      <th>5</th>\n",
              "      <td>25.0</td>\n",
              "      <td>Brittle</td>\n",
              "    </tr>\n",
              "    <tr>\n",
              "      <th>6</th>\n",
              "      <td>-78.0</td>\n",
              "      <td>TOC</td>\n",
              "    </tr>\n",
              "    <tr>\n",
              "      <th>7</th>\n",
              "      <td>785.0</td>\n",
              "      <td>VR</td>\n",
              "    </tr>\n",
              "  </tbody>\n",
              "</table>\n",
              "</div>\n",
              "      <button class=\"colab-df-convert\" onclick=\"convertToInteractive('df-3eba0593-1838-4cb5-acb1-5ca6c3bc7302')\"\n",
              "              title=\"Convert this dataframe to an interactive table.\"\n",
              "              style=\"display:none;\">\n",
              "        \n",
              "  <svg xmlns=\"http://www.w3.org/2000/svg\" height=\"24px\"viewBox=\"0 0 24 24\"\n",
              "       width=\"24px\">\n",
              "    <path d=\"M0 0h24v24H0V0z\" fill=\"none\"/>\n",
              "    <path d=\"M18.56 5.44l.94 2.06.94-2.06 2.06-.94-2.06-.94-.94-2.06-.94 2.06-2.06.94zm-11 1L8.5 8.5l.94-2.06 2.06-.94-2.06-.94L8.5 2.5l-.94 2.06-2.06.94zm10 10l.94 2.06.94-2.06 2.06-.94-2.06-.94-.94-2.06-.94 2.06-2.06.94z\"/><path d=\"M17.41 7.96l-1.37-1.37c-.4-.4-.92-.59-1.43-.59-.52 0-1.04.2-1.43.59L10.3 9.45l-7.72 7.72c-.78.78-.78 2.05 0 2.83L4 21.41c.39.39.9.59 1.41.59.51 0 1.02-.2 1.41-.59l7.78-7.78 2.81-2.81c.8-.78.8-2.07 0-2.86zM5.41 20L4 18.59l7.72-7.72 1.47 1.35L5.41 20z\"/>\n",
              "  </svg>\n",
              "      </button>\n",
              "      \n",
              "  <style>\n",
              "    .colab-df-container {\n",
              "      display:flex;\n",
              "      flex-wrap:wrap;\n",
              "      gap: 12px;\n",
              "    }\n",
              "\n",
              "    .colab-df-convert {\n",
              "      background-color: #E8F0FE;\n",
              "      border: none;\n",
              "      border-radius: 50%;\n",
              "      cursor: pointer;\n",
              "      display: none;\n",
              "      fill: #1967D2;\n",
              "      height: 32px;\n",
              "      padding: 0 0 0 0;\n",
              "      width: 32px;\n",
              "    }\n",
              "\n",
              "    .colab-df-convert:hover {\n",
              "      background-color: #E2EBFA;\n",
              "      box-shadow: 0px 1px 2px rgba(60, 64, 67, 0.3), 0px 1px 3px 1px rgba(60, 64, 67, 0.15);\n",
              "      fill: #174EA6;\n",
              "    }\n",
              "\n",
              "    [theme=dark] .colab-df-convert {\n",
              "      background-color: #3B4455;\n",
              "      fill: #D2E3FC;\n",
              "    }\n",
              "\n",
              "    [theme=dark] .colab-df-convert:hover {\n",
              "      background-color: #434B5C;\n",
              "      box-shadow: 0px 1px 3px 1px rgba(0, 0, 0, 0.15);\n",
              "      filter: drop-shadow(0px 1px 2px rgba(0, 0, 0, 0.3));\n",
              "      fill: #FFFFFF;\n",
              "    }\n",
              "  </style>\n",
              "\n",
              "      <script>\n",
              "        const buttonEl =\n",
              "          document.querySelector('#df-3eba0593-1838-4cb5-acb1-5ca6c3bc7302 button.colab-df-convert');\n",
              "        buttonEl.style.display =\n",
              "          google.colab.kernel.accessAllowed ? 'block' : 'none';\n",
              "\n",
              "        async function convertToInteractive(key) {\n",
              "          const element = document.querySelector('#df-3eba0593-1838-4cb5-acb1-5ca6c3bc7302');\n",
              "          const dataTable =\n",
              "            await google.colab.kernel.invokeFunction('convertToInteractive',\n",
              "                                                     [key], {});\n",
              "          if (!dataTable) return;\n",
              "\n",
              "          const docLinkHtml = 'Like what you see? Visit the ' +\n",
              "            '<a target=\"_blank\" href=https://colab.research.google.com/notebooks/data_table.ipynb>data table notebook</a>'\n",
              "            + ' to learn more about interactive tables.';\n",
              "          element.innerHTML = '';\n",
              "          dataTable['output_type'] = 'display_data';\n",
              "          await google.colab.output.renderOutput(dataTable, element);\n",
              "          const docLink = document.createElement('div');\n",
              "          docLink.innerHTML = docLinkHtml;\n",
              "          element.appendChild(docLink);\n",
              "        }\n",
              "      </script>\n",
              "    </div>\n",
              "  </div>\n",
              "  "
            ]
          },
          "metadata": {},
          "execution_count": 67
        }
      ]
    },
    {
      "cell_type": "code",
      "source": [
        "X2 = df.drop('Prod', axis=1)\n",
        "from sklearn.linear_model import LinearRegression\n",
        "model = LinearRegression(fit_intercept=False)\n",
        "model.fit(X, y)\n",
        "print(model.coef_)"
      ],
      "metadata": {
        "colab": {
          "base_uri": "https://localhost:8080/"
        },
        "id": "vhMWeYBrobOK",
        "outputId": "16da0232-a123-4624-9c97-930e92628c9b"
      },
      "id": "vhMWeYBrobOK",
      "execution_count": null,
      "outputs": [
        {
          "output_type": "stream",
          "name": "stdout",
          "text": [
            "[-1.23230803e+03  5.07003631e-02  2.30179140e+02  1.16239006e+02\n",
            " -3.65202301e+02  2.49943700e+01 -7.84009294e+01  7.85259815e+02]\n"
          ]
        }
      ]
    },
    {
      "cell_type": "markdown",
      "source": [
        "### TASK 5.3"
      ],
      "metadata": {
        "id": "gJDlOiwcmmrs"
      },
      "id": "gJDlOiwcmmrs"
    },
    {
      "cell_type": "code",
      "source": [
        "y_real = 4748.315024\n",
        "data_for_predict = np.array([1, 106, 15.32, 3.71, 3.29, 55.99, 1.35, 2.42])\n",
        "df_for_predict = pd.DataFrame(data=data_for_predict.reshape(-1,8), columns=['w0', 'Well', 'Por', 'Perm', 'Al', 'Brittle', 'TOC', 'VR'])\n",
        "print('w:', w)\n",
        "\n",
        "print('-----')\n",
        "\n",
        "y_predicted = data_for_predict @ w\n",
        "print(y_predicted)\n",
        "print('-----')\n",
        "print((y_real - y_predicted).round())\n",
        "\n",
        "df_for_predict"
      ],
      "metadata": {
        "colab": {
          "base_uri": "https://localhost:8080/",
          "height": 307
        },
        "id": "rakPo2-6mpT0",
        "outputId": "16f75885-5e57-4614-e503-a6e3387cd5ba"
      },
      "id": "rakPo2-6mpT0",
      "execution_count": null,
      "outputs": [
        {
          "output_type": "stream",
          "name": "stdout",
          "text": [
            "w: 0   -1232.308030\n",
            "1       0.050700\n",
            "2     230.179140\n",
            "3     116.239006\n",
            "4    -365.202301\n",
            "5      24.994370\n",
            "6     -78.400929\n",
            "7     785.259815\n",
            "dtype: float64\n",
            "-----\n",
            "4723.064053707487\n",
            "-----\n",
            "25.0\n"
          ]
        },
        {
          "output_type": "execute_result",
          "data": {
            "text/plain": [
              "    w0   Well    Por  Perm    Al  Brittle   TOC    VR\n",
              "0  1.0  106.0  15.32  3.71  3.29    55.99  1.35  2.42"
            ],
            "text/html": [
              "\n",
              "  <div id=\"df-be55ad82-d0cd-4445-92da-ea89a5ca720a\">\n",
              "    <div class=\"colab-df-container\">\n",
              "      <div>\n",
              "<style scoped>\n",
              "    .dataframe tbody tr th:only-of-type {\n",
              "        vertical-align: middle;\n",
              "    }\n",
              "\n",
              "    .dataframe tbody tr th {\n",
              "        vertical-align: top;\n",
              "    }\n",
              "\n",
              "    .dataframe thead th {\n",
              "        text-align: right;\n",
              "    }\n",
              "</style>\n",
              "<table border=\"1\" class=\"dataframe\">\n",
              "  <thead>\n",
              "    <tr style=\"text-align: right;\">\n",
              "      <th></th>\n",
              "      <th>w0</th>\n",
              "      <th>Well</th>\n",
              "      <th>Por</th>\n",
              "      <th>Perm</th>\n",
              "      <th>Al</th>\n",
              "      <th>Brittle</th>\n",
              "      <th>TOC</th>\n",
              "      <th>VR</th>\n",
              "    </tr>\n",
              "  </thead>\n",
              "  <tbody>\n",
              "    <tr>\n",
              "      <th>0</th>\n",
              "      <td>1.0</td>\n",
              "      <td>106.0</td>\n",
              "      <td>15.32</td>\n",
              "      <td>3.71</td>\n",
              "      <td>3.29</td>\n",
              "      <td>55.99</td>\n",
              "      <td>1.35</td>\n",
              "      <td>2.42</td>\n",
              "    </tr>\n",
              "  </tbody>\n",
              "</table>\n",
              "</div>\n",
              "      <button class=\"colab-df-convert\" onclick=\"convertToInteractive('df-be55ad82-d0cd-4445-92da-ea89a5ca720a')\"\n",
              "              title=\"Convert this dataframe to an interactive table.\"\n",
              "              style=\"display:none;\">\n",
              "        \n",
              "  <svg xmlns=\"http://www.w3.org/2000/svg\" height=\"24px\"viewBox=\"0 0 24 24\"\n",
              "       width=\"24px\">\n",
              "    <path d=\"M0 0h24v24H0V0z\" fill=\"none\"/>\n",
              "    <path d=\"M18.56 5.44l.94 2.06.94-2.06 2.06-.94-2.06-.94-.94-2.06-.94 2.06-2.06.94zm-11 1L8.5 8.5l.94-2.06 2.06-.94-2.06-.94L8.5 2.5l-.94 2.06-2.06.94zm10 10l.94 2.06.94-2.06 2.06-.94-2.06-.94-.94-2.06-.94 2.06-2.06.94z\"/><path d=\"M17.41 7.96l-1.37-1.37c-.4-.4-.92-.59-1.43-.59-.52 0-1.04.2-1.43.59L10.3 9.45l-7.72 7.72c-.78.78-.78 2.05 0 2.83L4 21.41c.39.39.9.59 1.41.59.51 0 1.02-.2 1.41-.59l7.78-7.78 2.81-2.81c.8-.78.8-2.07 0-2.86zM5.41 20L4 18.59l7.72-7.72 1.47 1.35L5.41 20z\"/>\n",
              "  </svg>\n",
              "      </button>\n",
              "      \n",
              "  <style>\n",
              "    .colab-df-container {\n",
              "      display:flex;\n",
              "      flex-wrap:wrap;\n",
              "      gap: 12px;\n",
              "    }\n",
              "\n",
              "    .colab-df-convert {\n",
              "      background-color: #E8F0FE;\n",
              "      border: none;\n",
              "      border-radius: 50%;\n",
              "      cursor: pointer;\n",
              "      display: none;\n",
              "      fill: #1967D2;\n",
              "      height: 32px;\n",
              "      padding: 0 0 0 0;\n",
              "      width: 32px;\n",
              "    }\n",
              "\n",
              "    .colab-df-convert:hover {\n",
              "      background-color: #E2EBFA;\n",
              "      box-shadow: 0px 1px 2px rgba(60, 64, 67, 0.3), 0px 1px 3px 1px rgba(60, 64, 67, 0.15);\n",
              "      fill: #174EA6;\n",
              "    }\n",
              "\n",
              "    [theme=dark] .colab-df-convert {\n",
              "      background-color: #3B4455;\n",
              "      fill: #D2E3FC;\n",
              "    }\n",
              "\n",
              "    [theme=dark] .colab-df-convert:hover {\n",
              "      background-color: #434B5C;\n",
              "      box-shadow: 0px 1px 3px 1px rgba(0, 0, 0, 0.15);\n",
              "      filter: drop-shadow(0px 1px 2px rgba(0, 0, 0, 0.3));\n",
              "      fill: #FFFFFF;\n",
              "    }\n",
              "  </style>\n",
              "\n",
              "      <script>\n",
              "        const buttonEl =\n",
              "          document.querySelector('#df-be55ad82-d0cd-4445-92da-ea89a5ca720a button.colab-df-convert');\n",
              "        buttonEl.style.display =\n",
              "          google.colab.kernel.accessAllowed ? 'block' : 'none';\n",
              "\n",
              "        async function convertToInteractive(key) {\n",
              "          const element = document.querySelector('#df-be55ad82-d0cd-4445-92da-ea89a5ca720a');\n",
              "          const dataTable =\n",
              "            await google.colab.kernel.invokeFunction('convertToInteractive',\n",
              "                                                     [key], {});\n",
              "          if (!dataTable) return;\n",
              "\n",
              "          const docLinkHtml = 'Like what you see? Visit the ' +\n",
              "            '<a target=\"_blank\" href=https://colab.research.google.com/notebooks/data_table.ipynb>data table notebook</a>'\n",
              "            + ' to learn more about interactive tables.';\n",
              "          element.innerHTML = '';\n",
              "          dataTable['output_type'] = 'display_data';\n",
              "          await google.colab.output.renderOutput(dataTable, element);\n",
              "          const docLink = document.createElement('div');\n",
              "          docLink.innerHTML = docLinkHtml;\n",
              "          element.appendChild(docLink);\n",
              "        }\n",
              "      </script>\n",
              "    </div>\n",
              "  </div>\n",
              "  "
            ]
          },
          "metadata": {},
          "execution_count": 69
        }
      ]
    },
    {
      "cell_type": "code",
      "source": [
        "y_predicted2 =  model.predict(df_for_predict)\n",
        "y_predicted2"
      ],
      "metadata": {
        "colab": {
          "base_uri": "https://localhost:8080/"
        },
        "id": "cFv5whyAypIX",
        "outputId": "d75db9c0-38ee-445a-ff7b-306ebb85a5c4"
      },
      "id": "cFv5whyAypIX",
      "execution_count": null,
      "outputs": [
        {
          "output_type": "stream",
          "name": "stderr",
          "text": [
            "/usr/local/lib/python3.8/dist-packages/sklearn/base.py:493: FutureWarning: The feature names should match those that were passed during fit. Starting version 1.2, an error will be raised.\n",
            "Feature names unseen at fit time:\n",
            "- Al\n",
            "Feature names seen at fit time, yet now missing:\n",
            "- AI\n",
            "\n",
            "  warnings.warn(message, FutureWarning)\n"
          ]
        },
        {
          "output_type": "execute_result",
          "data": {
            "text/plain": [
              "array([4723.06405371])"
            ]
          },
          "metadata": {},
          "execution_count": 70
        }
      ]
    },
    {
      "cell_type": "code",
      "source": [
        "from sklearn import metrics\n",
        "\n",
        "y_predicted3 = X @ np.array(w).T\n",
        "\n",
        "print((metrics.mean_absolute_percentage_error(y, y_predicted3)*100).round(1))"
      ],
      "metadata": {
        "colab": {
          "base_uri": "https://localhost:8080/"
        },
        "id": "82jqajToSnWp",
        "outputId": "ba4406e9-7447-41a1-f650-49d8f76a6f78"
      },
      "id": "82jqajToSnWp",
      "execution_count": null,
      "outputs": [
        {
          "output_type": "stream",
          "name": "stdout",
          "text": [
            "3.6\n"
          ]
        }
      ]
    },
    {
      "cell_type": "markdown",
      "source": [
        "### TASK 5.4"
      ],
      "metadata": {
        "id": "_3eLK9664K4C"
      },
      "id": "_3eLK9664K4C"
    },
    {
      "cell_type": "code",
      "source": [
        "plt.figure(figsize=(12,8))\n",
        "sns.heatmap(data = df_corr, annot=True)"
      ],
      "metadata": {
        "colab": {
          "base_uri": "https://localhost:8080/",
          "height": 504
        },
        "id": "DMMmApLG4Kqz",
        "outputId": "269bec4e-777b-44b9-ea08-67368536bc92"
      },
      "id": "DMMmApLG4Kqz",
      "execution_count": null,
      "outputs": [
        {
          "output_type": "execute_result",
          "data": {
            "text/plain": [
              "<AxesSubplot:>"
            ]
          },
          "metadata": {},
          "execution_count": 72
        },
        {
          "output_type": "display_data",
          "data": {
            "text/plain": [
              "<Figure size 864x576 with 2 Axes>"
            ],
            "image/png": "[encoded data removed]"
          },
          "metadata": {
            "needs_background": "light"
          }
        }
      ]
    },
    {
      "cell_type": "code",
      "source": [
        "df334"
      ],
      "metadata": {
        "colab": {
          "base_uri": "https://localhost:8080/",
          "height": 300
        },
        "id": "fjcyZQYO8rF-",
        "outputId": "49d018c2-f506-47ac-b9c6-c98905c069f3"
      },
      "id": "fjcyZQYO8rF-",
      "execution_count": null,
      "outputs": [
        {
          "output_type": "execute_result",
          "data": {
            "text/plain": [
              "        0        1\n",
              "0 -1232.0       w0\n",
              "1     0.0     Well\n",
              "2   230.0      Por\n",
              "3   116.0     Perm\n",
              "4  -365.0       AI\n",
              "5    25.0  Brittle\n",
              "6   -78.0      TOC\n",
              "7   785.0       VR"
            ],
            "text/html": [
              "\n",
              "  <div id=\"df-fac765b8-522c-41a7-968e-a8a137824226\">\n",
              "    <div class=\"colab-df-container\">\n",
              "      <div>\n",
              "<style scoped>\n",
              "    .dataframe tbody tr th:only-of-type {\n",
              "        vertical-align: middle;\n",
              "    }\n",
              "\n",
              "    .dataframe tbody tr th {\n",
              "        vertical-align: top;\n",
              "    }\n",
              "\n",
              "    .dataframe thead th {\n",
              "        text-align: right;\n",
              "    }\n",
              "</style>\n",
              "<table border=\"1\" class=\"dataframe\">\n",
              "  <thead>\n",
              "    <tr style=\"text-align: right;\">\n",
              "      <th></th>\n",
              "      <th>0</th>\n",
              "      <th>1</th>\n",
              "    </tr>\n",
              "  </thead>\n",
              "  <tbody>\n",
              "    <tr>\n",
              "      <th>0</th>\n",
              "      <td>-1232.0</td>\n",
              "      <td>w0</td>\n",
              "    </tr>\n",
              "    <tr>\n",
              "      <th>1</th>\n",
              "      <td>0.0</td>\n",
              "      <td>Well</td>\n",
              "    </tr>\n",
              "    <tr>\n",
              "      <th>2</th>\n",
              "      <td>230.0</td>\n",
              "      <td>Por</td>\n",
              "    </tr>\n",
              "    <tr>\n",
              "      <th>3</th>\n",
              "      <td>116.0</td>\n",
              "      <td>Perm</td>\n",
              "    </tr>\n",
              "    <tr>\n",
              "      <th>4</th>\n",
              "      <td>-365.0</td>\n",
              "      <td>AI</td>\n",
              "    </tr>\n",
              "    <tr>\n",
              "      <th>5</th>\n",
              "      <td>25.0</td>\n",
              "      <td>Brittle</td>\n",
              "    </tr>\n",
              "    <tr>\n",
              "      <th>6</th>\n",
              "      <td>-78.0</td>\n",
              "      <td>TOC</td>\n",
              "    </tr>\n",
              "    <tr>\n",
              "      <th>7</th>\n",
              "      <td>785.0</td>\n",
              "      <td>VR</td>\n",
              "    </tr>\n",
              "  </tbody>\n",
              "</table>\n",
              "</div>\n",
              "      <button class=\"colab-df-convert\" onclick=\"convertToInteractive('df-fac765b8-522c-41a7-968e-a8a137824226')\"\n",
              "              title=\"Convert this dataframe to an interactive table.\"\n",
              "              style=\"display:none;\">\n",
              "        \n",
              "  <svg xmlns=\"http://www.w3.org/2000/svg\" height=\"24px\"viewBox=\"0 0 24 24\"\n",
              "       width=\"24px\">\n",
              "    <path d=\"M0 0h24v24H0V0z\" fill=\"none\"/>\n",
              "    <path d=\"M18.56 5.44l.94 2.06.94-2.06 2.06-.94-2.06-.94-.94-2.06-.94 2.06-2.06.94zm-11 1L8.5 8.5l.94-2.06 2.06-.94-2.06-.94L8.5 2.5l-.94 2.06-2.06.94zm10 10l.94 2.06.94-2.06 2.06-.94-2.06-.94-.94-2.06-.94 2.06-2.06.94z\"/><path d=\"M17.41 7.96l-1.37-1.37c-.4-.4-.92-.59-1.43-.59-.52 0-1.04.2-1.43.59L10.3 9.45l-7.72 7.72c-.78.78-.78 2.05 0 2.83L4 21.41c.39.39.9.59 1.41.59.51 0 1.02-.2 1.41-.59l7.78-7.78 2.81-2.81c.8-.78.8-2.07 0-2.86zM5.41 20L4 18.59l7.72-7.72 1.47 1.35L5.41 20z\"/>\n",
              "  </svg>\n",
              "      </button>\n",
              "      \n",
              "  <style>\n",
              "    .colab-df-container {\n",
              "      display:flex;\n",
              "      flex-wrap:wrap;\n",
              "      gap: 12px;\n",
              "    }\n",
              "\n",
              "    .colab-df-convert {\n",
              "      background-color: #E8F0FE;\n",
              "      border: none;\n",
              "      border-radius: 50%;\n",
              "      cursor: pointer;\n",
              "      display: none;\n",
              "      fill: #1967D2;\n",
              "      height: 32px;\n",
              "      padding: 0 0 0 0;\n",
              "      width: 32px;\n",
              "    }\n",
              "\n",
              "    .colab-df-convert:hover {\n",
              "      background-color: #E2EBFA;\n",
              "      box-shadow: 0px 1px 2px rgba(60, 64, 67, 0.3), 0px 1px 3px 1px rgba(60, 64, 67, 0.15);\n",
              "      fill: #174EA6;\n",
              "    }\n",
              "\n",
              "    [theme=dark] .colab-df-convert {\n",
              "      background-color: #3B4455;\n",
              "      fill: #D2E3FC;\n",
              "    }\n",
              "\n",
              "    [theme=dark] .colab-df-convert:hover {\n",
              "      background-color: #434B5C;\n",
              "      box-shadow: 0px 1px 3px 1px rgba(0, 0, 0, 0.15);\n",
              "      filter: drop-shadow(0px 1px 2px rgba(0, 0, 0, 0.3));\n",
              "      fill: #FFFFFF;\n",
              "    }\n",
              "  </style>\n",
              "\n",
              "      <script>\n",
              "        const buttonEl =\n",
              "          document.querySelector('#df-fac765b8-522c-41a7-968e-a8a137824226 button.colab-df-convert');\n",
              "        buttonEl.style.display =\n",
              "          google.colab.kernel.accessAllowed ? 'block' : 'none';\n",
              "\n",
              "        async function convertToInteractive(key) {\n",
              "          const element = document.querySelector('#df-fac765b8-522c-41a7-968e-a8a137824226');\n",
              "          const dataTable =\n",
              "            await google.colab.kernel.invokeFunction('convertToInteractive',\n",
              "                                                     [key], {});\n",
              "          if (!dataTable) return;\n",
              "\n",
              "          const docLinkHtml = 'Like what you see? Visit the ' +\n",
              "            '<a target=\"_blank\" href=https://colab.research.google.com/notebooks/data_table.ipynb>data table notebook</a>'\n",
              "            + ' to learn more about interactive tables.';\n",
              "          element.innerHTML = '';\n",
              "          dataTable['output_type'] = 'display_data';\n",
              "          await google.colab.output.renderOutput(dataTable, element);\n",
              "          const docLink = document.createElement('div');\n",
              "          docLink.innerHTML = docLinkHtml;\n",
              "          element.appendChild(docLink);\n",
              "        }\n",
              "      </script>\n",
              "    </div>\n",
              "  </div>\n",
              "  "
            ]
          },
          "metadata": {},
          "execution_count": 73
        }
      ]
    },
    {
      "cell_type": "markdown",
      "source": [
        "### TASK 5.5"
      ],
      "metadata": {
        "id": "3eTutlhW9eMM"
      },
      "id": "3eTutlhW9eMM"
    },
    {
      "cell_type": "code",
      "source": [
        "df.head()"
      ],
      "metadata": {
        "colab": {
          "base_uri": "https://localhost:8080/",
          "height": 206
        },
        "id": "0GWQOqKw9hAi",
        "outputId": "bc62592c-2dfd-42b6-af78-3adc2f2082dc"
      },
      "id": "0GWQOqKw9hAi",
      "execution_count": null,
      "outputs": [
        {
          "output_type": "execute_result",
          "data": {
            "text/plain": [
              "   Well    Por  Perm    AI  Brittle   TOC    VR         Prod\n",
              "0     1  12.08  2.92  2.80    81.40  1.16  2.31  4165.196191\n",
              "1     2  12.38  3.53  3.22    46.17  0.89  1.88  3561.146205\n",
              "2     3  14.02  2.59  4.01    72.80  0.89  2.72  4284.348574\n",
              "3     4  17.67  6.75  2.63    39.81  1.08  1.88  5098.680869\n",
              "4     5  17.52  4.57  3.18    10.94  1.51  1.90  3406.132832"
            ],
            "text/html": [
              "\n",
              "  <div id=\"df-7afe822c-536e-4eb8-8479-d7270e23b282\">\n",
              "    <div class=\"colab-df-container\">\n",
              "      <div>\n",
              "<style scoped>\n",
              "    .dataframe tbody tr th:only-of-type {\n",
              "        vertical-align: middle;\n",
              "    }\n",
              "\n",
              "    .dataframe tbody tr th {\n",
              "        vertical-align: top;\n",
              "    }\n",
              "\n",
              "    .dataframe thead th {\n",
              "        text-align: right;\n",
              "    }\n",
              "</style>\n",
              "<table border=\"1\" class=\"dataframe\">\n",
              "  <thead>\n",
              "    <tr style=\"text-align: right;\">\n",
              "      <th></th>\n",
              "      <th>Well</th>\n",
              "      <th>Por</th>\n",
              "      <th>Perm</th>\n",
              "      <th>AI</th>\n",
              "      <th>Brittle</th>\n",
              "      <th>TOC</th>\n",
              "      <th>VR</th>\n",
              "      <th>Prod</th>\n",
              "    </tr>\n",
              "  </thead>\n",
              "  <tbody>\n",
              "    <tr>\n",
              "      <th>0</th>\n",
              "      <td>1</td>\n",
              "      <td>12.08</td>\n",
              "      <td>2.92</td>\n",
              "      <td>2.80</td>\n",
              "      <td>81.40</td>\n",
              "      <td>1.16</td>\n",
              "      <td>2.31</td>\n",
              "      <td>4165.196191</td>\n",
              "    </tr>\n",
              "    <tr>\n",
              "      <th>1</th>\n",
              "      <td>2</td>\n",
              "      <td>12.38</td>\n",
              "      <td>3.53</td>\n",
              "      <td>3.22</td>\n",
              "      <td>46.17</td>\n",
              "      <td>0.89</td>\n",
              "      <td>1.88</td>\n",
              "      <td>3561.146205</td>\n",
              "    </tr>\n",
              "    <tr>\n",
              "      <th>2</th>\n",
              "      <td>3</td>\n",
              "      <td>14.02</td>\n",
              "      <td>2.59</td>\n",
              "      <td>4.01</td>\n",
              "      <td>72.80</td>\n",
              "      <td>0.89</td>\n",
              "      <td>2.72</td>\n",
              "      <td>4284.348574</td>\n",
              "    </tr>\n",
              "    <tr>\n",
              "      <th>3</th>\n",
              "      <td>4</td>\n",
              "      <td>17.67</td>\n",
              "      <td>6.75</td>\n",
              "      <td>2.63</td>\n",
              "      <td>39.81</td>\n",
              "      <td>1.08</td>\n",
              "      <td>1.88</td>\n",
              "      <td>5098.680869</td>\n",
              "    </tr>\n",
              "    <tr>\n",
              "      <th>4</th>\n",
              "      <td>5</td>\n",
              "      <td>17.52</td>\n",
              "      <td>4.57</td>\n",
              "      <td>3.18</td>\n",
              "      <td>10.94</td>\n",
              "      <td>1.51</td>\n",
              "      <td>1.90</td>\n",
              "      <td>3406.132832</td>\n",
              "    </tr>\n",
              "  </tbody>\n",
              "</table>\n",
              "</div>\n",
              "      <button class=\"colab-df-convert\" onclick=\"convertToInteractive('df-7afe822c-536e-4eb8-8479-d7270e23b282')\"\n",
              "              title=\"Convert this dataframe to an interactive table.\"\n",
              "              style=\"display:none;\">\n",
              "        \n",
              "  <svg xmlns=\"http://www.w3.org/2000/svg\" height=\"24px\"viewBox=\"0 0 24 24\"\n",
              "       width=\"24px\">\n",
              "    <path d=\"M0 0h24v24H0V0z\" fill=\"none\"/>\n",
              "    <path d=\"M18.56 5.44l.94 2.06.94-2.06 2.06-.94-2.06-.94-.94-2.06-.94 2.06-2.06.94zm-11 1L8.5 8.5l.94-2.06 2.06-.94-2.06-.94L8.5 2.5l-.94 2.06-2.06.94zm10 10l.94 2.06.94-2.06 2.06-.94-2.06-.94-.94-2.06-.94 2.06-2.06.94z\"/><path d=\"M17.41 7.96l-1.37-1.37c-.4-.4-.92-.59-1.43-.59-.52 0-1.04.2-1.43.59L10.3 9.45l-7.72 7.72c-.78.78-.78 2.05 0 2.83L4 21.41c.39.39.9.59 1.41.59.51 0 1.02-.2 1.41-.59l7.78-7.78 2.81-2.81c.8-.78.8-2.07 0-2.86zM5.41 20L4 18.59l7.72-7.72 1.47 1.35L5.41 20z\"/>\n",
              "  </svg>\n",
              "      </button>\n",
              "      \n",
              "  <style>\n",
              "    .colab-df-container {\n",
              "      display:flex;\n",
              "      flex-wrap:wrap;\n",
              "      gap: 12px;\n",
              "    }\n",
              "\n",
              "    .colab-df-convert {\n",
              "      background-color: #E8F0FE;\n",
              "      border: none;\n",
              "      border-radius: 50%;\n",
              "      cursor: pointer;\n",
              "      display: none;\n",
              "      fill: #1967D2;\n",
              "      height: 32px;\n",
              "      padding: 0 0 0 0;\n",
              "      width: 32px;\n",
              "    }\n",
              "\n",
              "    .colab-df-convert:hover {\n",
              "      background-color: #E2EBFA;\n",
              "      box-shadow: 0px 1px 2px rgba(60, 64, 67, 0.3), 0px 1px 3px 1px rgba(60, 64, 67, 0.15);\n",
              "      fill: #174EA6;\n",
              "    }\n",
              "\n",
              "    [theme=dark] .colab-df-convert {\n",
              "      background-color: #3B4455;\n",
              "      fill: #D2E3FC;\n",
              "    }\n",
              "\n",
              "    [theme=dark] .colab-df-convert:hover {\n",
              "      background-color: #434B5C;\n",
              "      box-shadow: 0px 1px 3px 1px rgba(0, 0, 0, 0.15);\n",
              "      filter: drop-shadow(0px 1px 2px rgba(0, 0, 0, 0.3));\n",
              "      fill: #FFFFFF;\n",
              "    }\n",
              "  </style>\n",
              "\n",
              "      <script>\n",
              "        const buttonEl =\n",
              "          document.querySelector('#df-7afe822c-536e-4eb8-8479-d7270e23b282 button.colab-df-convert');\n",
              "        buttonEl.style.display =\n",
              "          google.colab.kernel.accessAllowed ? 'block' : 'none';\n",
              "\n",
              "        async function convertToInteractive(key) {\n",
              "          const element = document.querySelector('#df-7afe822c-536e-4eb8-8479-d7270e23b282');\n",
              "          const dataTable =\n",
              "            await google.colab.kernel.invokeFunction('convertToInteractive',\n",
              "                                                     [key], {});\n",
              "          if (!dataTable) return;\n",
              "\n",
              "          const docLinkHtml = 'Like what you see? Visit the ' +\n",
              "            '<a target=\"_blank\" href=https://colab.research.google.com/notebooks/data_table.ipynb>data table notebook</a>'\n",
              "            + ' to learn more about interactive tables.';\n",
              "          element.innerHTML = '';\n",
              "          dataTable['output_type'] = 'display_data';\n",
              "          await google.colab.output.renderOutput(dataTable, element);\n",
              "          const docLink = document.createElement('div');\n",
              "          docLink.innerHTML = docLinkHtml;\n",
              "          element.appendChild(docLink);\n",
              "        }\n",
              "      </script>\n",
              "    </div>\n",
              "  </div>\n",
              "  "
            ]
          },
          "metadata": {},
          "execution_count": 74
        }
      ]
    },
    {
      "cell_type": "code",
      "source": [
        "df2 = df.drop(['Well','Perm','TOC'], axis=1)\n",
        "df2"
      ],
      "metadata": {
        "colab": {
          "base_uri": "https://localhost:8080/",
          "height": 424
        },
        "id": "j8JTSZYW_V3C",
        "outputId": "30699bc7-4e09-4b8b-a70f-41a1f9abf3da"
      },
      "id": "j8JTSZYW_V3C",
      "execution_count": null,
      "outputs": [
        {
          "output_type": "execute_result",
          "data": {
            "text/plain": [
              "       Por    AI  Brittle    VR         Prod\n",
              "0    12.08  2.80    81.40  2.31  4165.196191\n",
              "1    12.38  3.22    46.17  1.88  3561.146205\n",
              "2    14.02  4.01    72.80  2.72  4284.348574\n",
              "3    17.67  2.63    39.81  1.88  5098.680869\n",
              "4    17.52  3.18    10.94  1.90  3406.132832\n",
              "..     ...   ...      ...   ...          ...\n",
              "195  11.95  2.97    67.18  2.06  3847.571003\n",
              "196  17.99  3.38    44.32  2.08  5601.227131\n",
              "197  12.12  3.52    57.07  1.73  3409.575363\n",
              "198  15.55  2.48    58.25  2.35  5087.592149\n",
              "199  20.89  3.23    46.17  2.27  6662.622385\n",
              "\n",
              "[200 rows x 5 columns]"
            ],
            "text/html": [
              "\n",
              "  <div id=\"df-d21e766f-bdad-406a-b24f-ad886670b980\">\n",
              "    <div class=\"colab-df-container\">\n",
              "      <div>\n",
              "<style scoped>\n",
              "    .dataframe tbody tr th:only-of-type {\n",
              "        vertical-align: middle;\n",
              "    }\n",
              "\n",
              "    .dataframe tbody tr th {\n",
              "        vertical-align: top;\n",
              "    }\n",
              "\n",
              "    .dataframe thead th {\n",
              "        text-align: right;\n",
              "    }\n",
              "</style>\n",
              "<table border=\"1\" class=\"dataframe\">\n",
              "  <thead>\n",
              "    <tr style=\"text-align: right;\">\n",
              "      <th></th>\n",
              "      <th>Por</th>\n",
              "      <th>AI</th>\n",
              "      <th>Brittle</th>\n",
              "      <th>VR</th>\n",
              "      <th>Prod</th>\n",
              "    </tr>\n",
              "  </thead>\n",
              "  <tbody>\n",
              "    <tr>\n",
              "      <th>0</th>\n",
              "      <td>12.08</td>\n",
              "      <td>2.80</td>\n",
              "      <td>81.40</td>\n",
              "      <td>2.31</td>\n",
              "      <td>4165.196191</td>\n",
              "    </tr>\n",
              "    <tr>\n",
              "      <th>1</th>\n",
              "      <td>12.38</td>\n",
              "      <td>3.22</td>\n",
              "      <td>46.17</td>\n",
              "      <td>1.88</td>\n",
              "      <td>3561.146205</td>\n",
              "    </tr>\n",
              "    <tr>\n",
              "      <th>2</th>\n",
              "      <td>14.02</td>\n",
              "      <td>4.01</td>\n",
              "      <td>72.80</td>\n",
              "      <td>2.72</td>\n",
              "      <td>4284.348574</td>\n",
              "    </tr>\n",
              "    <tr>\n",
              "      <th>3</th>\n",
              "      <td>17.67</td>\n",
              "      <td>2.63</td>\n",
              "      <td>39.81</td>\n",
              "      <td>1.88</td>\n",
              "      <td>5098.680869</td>\n",
              "    </tr>\n",
              "    <tr>\n",
              "      <th>4</th>\n",
              "      <td>17.52</td>\n",
              "      <td>3.18</td>\n",
              "      <td>10.94</td>\n",
              "      <td>1.90</td>\n",
              "      <td>3406.132832</td>\n",
              "    </tr>\n",
              "    <tr>\n",
              "      <th>...</th>\n",
              "      <td>...</td>\n",
              "      <td>...</td>\n",
              "      <td>...</td>\n",
              "      <td>...</td>\n",
              "      <td>...</td>\n",
              "    </tr>\n",
              "    <tr>\n",
              "      <th>195</th>\n",
              "      <td>11.95</td>\n",
              "      <td>2.97</td>\n",
              "      <td>67.18</td>\n",
              "      <td>2.06</td>\n",
              "      <td>3847.571003</td>\n",
              "    </tr>\n",
              "    <tr>\n",
              "      <th>196</th>\n",
              "      <td>17.99</td>\n",
              "      <td>3.38</td>\n",
              "      <td>44.32</td>\n",
              "      <td>2.08</td>\n",
              "      <td>5601.227131</td>\n",
              "    </tr>\n",
              "    <tr>\n",
              "      <th>197</th>\n",
              "      <td>12.12</td>\n",
              "      <td>3.52</td>\n",
              "      <td>57.07</td>\n",
              "      <td>1.73</td>\n",
              "      <td>3409.575363</td>\n",
              "    </tr>\n",
              "    <tr>\n",
              "      <th>198</th>\n",
              "      <td>15.55</td>\n",
              "      <td>2.48</td>\n",
              "      <td>58.25</td>\n",
              "      <td>2.35</td>\n",
              "      <td>5087.592149</td>\n",
              "    </tr>\n",
              "    <tr>\n",
              "      <th>199</th>\n",
              "      <td>20.89</td>\n",
              "      <td>3.23</td>\n",
              "      <td>46.17</td>\n",
              "      <td>2.27</td>\n",
              "      <td>6662.622385</td>\n",
              "    </tr>\n",
              "  </tbody>\n",
              "</table>\n",
              "<p>200 rows × 5 columns</p>\n",
              "</div>\n",
              "      <button class=\"colab-df-convert\" onclick=\"convertToInteractive('df-d21e766f-bdad-406a-b24f-ad886670b980')\"\n",
              "              title=\"Convert this dataframe to an interactive table.\"\n",
              "              style=\"display:none;\">\n",
              "        \n",
              "  <svg xmlns=\"http://www.w3.org/2000/svg\" height=\"24px\"viewBox=\"0 0 24 24\"\n",
              "       width=\"24px\">\n",
              "    <path d=\"M0 0h24v24H0V0z\" fill=\"none\"/>\n",
              "    <path d=\"M18.56 5.44l.94 2.06.94-2.06 2.06-.94-2.06-.94-.94-2.06-.94 2.06-2.06.94zm-11 1L8.5 8.5l.94-2.06 2.06-.94-2.06-.94L8.5 2.5l-.94 2.06-2.06.94zm10 10l.94 2.06.94-2.06 2.06-.94-2.06-.94-.94-2.06-.94 2.06-2.06.94z\"/><path d=\"M17.41 7.96l-1.37-1.37c-.4-.4-.92-.59-1.43-.59-.52 0-1.04.2-1.43.59L10.3 9.45l-7.72 7.72c-.78.78-.78 2.05 0 2.83L4 21.41c.39.39.9.59 1.41.59.51 0 1.02-.2 1.41-.59l7.78-7.78 2.81-2.81c.8-.78.8-2.07 0-2.86zM5.41 20L4 18.59l7.72-7.72 1.47 1.35L5.41 20z\"/>\n",
              "  </svg>\n",
              "      </button>\n",
              "      \n",
              "  <style>\n",
              "    .colab-df-container {\n",
              "      display:flex;\n",
              "      flex-wrap:wrap;\n",
              "      gap: 12px;\n",
              "    }\n",
              "\n",
              "    .colab-df-convert {\n",
              "      background-color: #E8F0FE;\n",
              "      border: none;\n",
              "      border-radius: 50%;\n",
              "      cursor: pointer;\n",
              "      display: none;\n",
              "      fill: #1967D2;\n",
              "      height: 32px;\n",
              "      padding: 0 0 0 0;\n",
              "      width: 32px;\n",
              "    }\n",
              "\n",
              "    .colab-df-convert:hover {\n",
              "      background-color: #E2EBFA;\n",
              "      box-shadow: 0px 1px 2px rgba(60, 64, 67, 0.3), 0px 1px 3px 1px rgba(60, 64, 67, 0.15);\n",
              "      fill: #174EA6;\n",
              "    }\n",
              "\n",
              "    [theme=dark] .colab-df-convert {\n",
              "      background-color: #3B4455;\n",
              "      fill: #D2E3FC;\n",
              "    }\n",
              "\n",
              "    [theme=dark] .colab-df-convert:hover {\n",
              "      background-color: #434B5C;\n",
              "      box-shadow: 0px 1px 3px 1px rgba(0, 0, 0, 0.15);\n",
              "      filter: drop-shadow(0px 1px 2px rgba(0, 0, 0, 0.3));\n",
              "      fill: #FFFFFF;\n",
              "    }\n",
              "  </style>\n",
              "\n",
              "      <script>\n",
              "        const buttonEl =\n",
              "          document.querySelector('#df-d21e766f-bdad-406a-b24f-ad886670b980 button.colab-df-convert');\n",
              "        buttonEl.style.display =\n",
              "          google.colab.kernel.accessAllowed ? 'block' : 'none';\n",
              "\n",
              "        async function convertToInteractive(key) {\n",
              "          const element = document.querySelector('#df-d21e766f-bdad-406a-b24f-ad886670b980');\n",
              "          const dataTable =\n",
              "            await google.colab.kernel.invokeFunction('convertToInteractive',\n",
              "                                                     [key], {});\n",
              "          if (!dataTable) return;\n",
              "\n",
              "          const docLinkHtml = 'Like what you see? Visit the ' +\n",
              "            '<a target=\"_blank\" href=https://colab.research.google.com/notebooks/data_table.ipynb>data table notebook</a>'\n",
              "            + ' to learn more about interactive tables.';\n",
              "          element.innerHTML = '';\n",
              "          dataTable['output_type'] = 'display_data';\n",
              "          await google.colab.output.renderOutput(dataTable, element);\n",
              "          const docLink = document.createElement('div');\n",
              "          docLink.innerHTML = docLinkHtml;\n",
              "          element.appendChild(docLink);\n",
              "        }\n",
              "      </script>\n",
              "    </div>\n",
              "  </div>\n",
              "  "
            ]
          },
          "metadata": {},
          "execution_count": 75
        }
      ]
    },
    {
      "cell_type": "code",
      "source": [
        "# построим линейную регрессию на обновленных данных\n",
        "X2 = df2.drop('Prod', axis=1)\n",
        "y = df2['Prod'].T\n",
        "\n",
        "X2.insert(0, 'wo', 1)\n",
        "w_new = np.linalg.inv(X2.T @ X2) @ X2.T @ y\n",
        "print(w_new)"
      ],
      "metadata": {
        "colab": {
          "base_uri": "https://localhost:8080/"
        },
        "id": "4DBumtfUAm58",
        "outputId": "923437fa-9c97-4536-8ac8-2bcc0e3b9e69"
      },
      "id": "4DBumtfUAm58",
      "execution_count": null,
      "outputs": [
        {
          "output_type": "stream",
          "name": "stdout",
          "text": [
            "0   -1835.446461\n",
            "1     293.036246\n",
            "2    -200.030912\n",
            "3      27.640982\n",
            "4     517.402726\n",
            "dtype: float64\n"
          ]
        }
      ]
    },
    {
      "cell_type": "code",
      "source": [
        "fg2 = np.column_stack((w_new.round(), X2.columns))\n",
        "fg2_df = pd.DataFrame(data=fg2)\n",
        "\n",
        "fg2_df"
      ],
      "metadata": {
        "colab": {
          "base_uri": "https://localhost:8080/",
          "height": 206
        },
        "id": "VzkVlNujCcgB",
        "outputId": "0e4a64cf-0ba4-40ed-ce85-6553905e255d"
      },
      "id": "VzkVlNujCcgB",
      "execution_count": null,
      "outputs": [
        {
          "output_type": "execute_result",
          "data": {
            "text/plain": [
              "        0        1\n",
              "0 -1835.0       wo\n",
              "1   293.0      Por\n",
              "2  -200.0       AI\n",
              "3    28.0  Brittle\n",
              "4   517.0       VR"
            ],
            "text/html": [
              "\n",
              "  <div id=\"df-c93c76a8-50f4-4ebd-8f45-498ff45730ea\">\n",
              "    <div class=\"colab-df-container\">\n",
              "      <div>\n",
              "<style scoped>\n",
              "    .dataframe tbody tr th:only-of-type {\n",
              "        vertical-align: middle;\n",
              "    }\n",
              "\n",
              "    .dataframe tbody tr th {\n",
              "        vertical-align: top;\n",
              "    }\n",
              "\n",
              "    .dataframe thead th {\n",
              "        text-align: right;\n",
              "    }\n",
              "</style>\n",
              "<table border=\"1\" class=\"dataframe\">\n",
              "  <thead>\n",
              "    <tr style=\"text-align: right;\">\n",
              "      <th></th>\n",
              "      <th>0</th>\n",
              "      <th>1</th>\n",
              "    </tr>\n",
              "  </thead>\n",
              "  <tbody>\n",
              "    <tr>\n",
              "      <th>0</th>\n",
              "      <td>-1835.0</td>\n",
              "      <td>wo</td>\n",
              "    </tr>\n",
              "    <tr>\n",
              "      <th>1</th>\n",
              "      <td>293.0</td>\n",
              "      <td>Por</td>\n",
              "    </tr>\n",
              "    <tr>\n",
              "      <th>2</th>\n",
              "      <td>-200.0</td>\n",
              "      <td>AI</td>\n",
              "    </tr>\n",
              "    <tr>\n",
              "      <th>3</th>\n",
              "      <td>28.0</td>\n",
              "      <td>Brittle</td>\n",
              "    </tr>\n",
              "    <tr>\n",
              "      <th>4</th>\n",
              "      <td>517.0</td>\n",
              "      <td>VR</td>\n",
              "    </tr>\n",
              "  </tbody>\n",
              "</table>\n",
              "</div>\n",
              "      <button class=\"colab-df-convert\" onclick=\"convertToInteractive('df-c93c76a8-50f4-4ebd-8f45-498ff45730ea')\"\n",
              "              title=\"Convert this dataframe to an interactive table.\"\n",
              "              style=\"display:none;\">\n",
              "        \n",
              "  <svg xmlns=\"http://www.w3.org/2000/svg\" height=\"24px\"viewBox=\"0 0 24 24\"\n",
              "       width=\"24px\">\n",
              "    <path d=\"M0 0h24v24H0V0z\" fill=\"none\"/>\n",
              "    <path d=\"M18.56 5.44l.94 2.06.94-2.06 2.06-.94-2.06-.94-.94-2.06-.94 2.06-2.06.94zm-11 1L8.5 8.5l.94-2.06 2.06-.94-2.06-.94L8.5 2.5l-.94 2.06-2.06.94zm10 10l.94 2.06.94-2.06 2.06-.94-2.06-.94-.94-2.06-.94 2.06-2.06.94z\"/><path d=\"M17.41 7.96l-1.37-1.37c-.4-.4-.92-.59-1.43-.59-.52 0-1.04.2-1.43.59L10.3 9.45l-7.72 7.72c-.78.78-.78 2.05 0 2.83L4 21.41c.39.39.9.59 1.41.59.51 0 1.02-.2 1.41-.59l7.78-7.78 2.81-2.81c.8-.78.8-2.07 0-2.86zM5.41 20L4 18.59l7.72-7.72 1.47 1.35L5.41 20z\"/>\n",
              "  </svg>\n",
              "      </button>\n",
              "      \n",
              "  <style>\n",
              "    .colab-df-container {\n",
              "      display:flex;\n",
              "      flex-wrap:wrap;\n",
              "      gap: 12px;\n",
              "    }\n",
              "\n",
              "    .colab-df-convert {\n",
              "      background-color: #E8F0FE;\n",
              "      border: none;\n",
              "      border-radius: 50%;\n",
              "      cursor: pointer;\n",
              "      display: none;\n",
              "      fill: #1967D2;\n",
              "      height: 32px;\n",
              "      padding: 0 0 0 0;\n",
              "      width: 32px;\n",
              "    }\n",
              "\n",
              "    .colab-df-convert:hover {\n",
              "      background-color: #E2EBFA;\n",
              "      box-shadow: 0px 1px 2px rgba(60, 64, 67, 0.3), 0px 1px 3px 1px rgba(60, 64, 67, 0.15);\n",
              "      fill: #174EA6;\n",
              "    }\n",
              "\n",
              "    [theme=dark] .colab-df-convert {\n",
              "      background-color: #3B4455;\n",
              "      fill: #D2E3FC;\n",
              "    }\n",
              "\n",
              "    [theme=dark] .colab-df-convert:hover {\n",
              "      background-color: #434B5C;\n",
              "      box-shadow: 0px 1px 3px 1px rgba(0, 0, 0, 0.15);\n",
              "      filter: drop-shadow(0px 1px 2px rgba(0, 0, 0, 0.3));\n",
              "      fill: #FFFFFF;\n",
              "    }\n",
              "  </style>\n",
              "\n",
              "      <script>\n",
              "        const buttonEl =\n",
              "          document.querySelector('#df-c93c76a8-50f4-4ebd-8f45-498ff45730ea button.colab-df-convert');\n",
              "        buttonEl.style.display =\n",
              "          google.colab.kernel.accessAllowed ? 'block' : 'none';\n",
              "\n",
              "        async function convertToInteractive(key) {\n",
              "          const element = document.querySelector('#df-c93c76a8-50f4-4ebd-8f45-498ff45730ea');\n",
              "          const dataTable =\n",
              "            await google.colab.kernel.invokeFunction('convertToInteractive',\n",
              "                                                     [key], {});\n",
              "          if (!dataTable) return;\n",
              "\n",
              "          const docLinkHtml = 'Like what you see? Visit the ' +\n",
              "            '<a target=\"_blank\" href=https://colab.research.google.com/notebooks/data_table.ipynb>data table notebook</a>'\n",
              "            + ' to learn more about interactive tables.';\n",
              "          element.innerHTML = '';\n",
              "          dataTable['output_type'] = 'display_data';\n",
              "          await google.colab.output.renderOutput(dataTable, element);\n",
              "          const docLink = document.createElement('div');\n",
              "          docLink.innerHTML = docLinkHtml;\n",
              "          element.appendChild(docLink);\n",
              "        }\n",
              "      </script>\n",
              "    </div>\n",
              "  </div>\n",
              "  "
            ]
          },
          "metadata": {},
          "execution_count": 77
        }
      ]
    },
    {
      "cell_type": "code",
      "source": [
        "from sklearn import metrics\n",
        "\n",
        "y_predicted4 = X2 @ np.array(w_new).T\n",
        "\n",
        "print((metrics.mean_absolute_percentage_error(y, y_predicted4)*100).round(1))"
      ],
      "metadata": {
        "colab": {
          "base_uri": "https://localhost:8080/"
        },
        "id": "oVEVlXy4DQ1v",
        "outputId": "380a0848-3604-4b32-9a2c-a95f6bd5b5dc"
      },
      "id": "oVEVlXy4DQ1v",
      "execution_count": null,
      "outputs": [
        {
          "output_type": "stream",
          "name": "stdout",
          "text": [
            "4.0\n"
          ]
        }
      ]
    },
    {
      "cell_type": "markdown",
      "source": [
        "### Polinomial regression"
      ],
      "metadata": {
        "id": "hQtNB7vOzKfO"
      },
      "id": "hQtNB7vOzKfO"
    },
    {
      "cell_type": "markdown",
      "source": [
        "y = w0 + w1 * x + w2 * x**2"
      ],
      "metadata": {
        "id": "1qblSkXXzuV9"
      },
      "id": "1qblSkXXzuV9"
    },
    {
      "cell_type": "code",
      "source": [
        "x = np.array([1, 3, -2, 1]).T\n",
        "y = np.array([4, 5, 2, 2]).T"
      ],
      "metadata": {
        "id": "yeLEjSpDzWiX"
      },
      "id": "yeLEjSpDzWiX",
      "execution_count": null,
      "outputs": []
    },
    {
      "cell_type": "markdown",
      "source": [
        "y = w0 + w1 * x + w2 * x**2\n",
        "<br>Aw = y"
      ],
      "metadata": {
        "id": "kFu5IlIAz88j"
      },
      "id": "kFu5IlIAz88j"
    },
    {
      "cell_type": "code",
      "source": [
        "# запишем систему в матричном виде\n",
        "A = np.array([\n",
        "    [1, 1, 1**2],\n",
        "    [1, 3, 3**2],\n",
        "    [1, -2, (-2)**2],\n",
        "    [1, 1, 1**2]\n",
        "])\n",
        "\n",
        "# посчитаем ранг матрицы\n",
        "print('Rank:', np.linalg.matrix_rank(A))"
      ],
      "metadata": {
        "colab": {
          "base_uri": "https://localhost:8080/"
        },
        "id": "4pfN1hELz9ak",
        "outputId": "8d92de84-8dac-45cf-c56b-637eb1aea9f0"
      },
      "id": "4pfN1hELz9ak",
      "execution_count": null,
      "outputs": [
        {
          "output_type": "stream",
          "name": "stdout",
          "text": [
            "Rank: 3\n"
          ]
        }
      ]
    },
    {
      "cell_type": "code",
      "source": [
        "# Запишем расширенную матрицу\n",
        "A_extended = np.array([\n",
        "    [1, 1, 1, 4],\n",
        "    [1, 3, 9, 5],\n",
        "    [1, -2, 4, 2],\n",
        "    [1, 1, 1, 2]\n",
        "])\n",
        "\n",
        "# посчитаем ранг матрицы\n",
        "print('Rank_extended:', np.linalg.matrix_rank(A_extended))"
      ],
      "metadata": {
        "colab": {
          "base_uri": "https://localhost:8080/"
        },
        "id": "sJ5wI2Bd1YKY",
        "outputId": "e18e165c-b7c3-42ef-d4e5-f2c78aed2a2d"
      },
      "id": "sJ5wI2Bd1YKY",
      "execution_count": null,
      "outputs": [
        {
          "output_type": "stream",
          "name": "stdout",
          "text": [
            "Rank_extended: 4\n"
          ]
        }
      ]
    },
    {
      "cell_type": "code",
      "source": [
        "# Найдем коэффициенты\n",
        "y = np.array([4, 5, 2, 2]).T\n",
        "A = np.array([\n",
        "    [1, 1, 1],\n",
        "    [1, 3, 9],\n",
        "    [1, -2, 4],\n",
        "    [1, 1, 1]\n",
        "])\n",
        "\n",
        "w_hat = np.linalg.inv(A.T @ A) @ A.T @ y\n",
        "print(w_hat)"
      ],
      "metadata": {
        "colab": {
          "base_uri": "https://localhost:8080/"
        },
        "id": "vooU3Pcx193C",
        "outputId": "cde512a6-f68b-4a6b-b3d8-17f98dfef5d7"
      },
      "id": "vooU3Pcx193C",
      "execution_count": null,
      "outputs": [
        {
          "output_type": "stream",
          "name": "stdout",
          "text": [
            "[2.4        0.46666667 0.13333333]\n"
          ]
        }
      ]
    },
    {
      "cell_type": "code",
      "source": [
        "x_new = np.array([4]).T\n",
        "\n",
        "# cделаем прогноз для x_new\n",
        "y = 2.4 + 0.47 * x_new + 0.13 * x_new**2\n",
        "print(y)"
      ],
      "metadata": {
        "colab": {
          "base_uri": "https://localhost:8080/"
        },
        "id": "qIxVCV8k4AVb",
        "outputId": "5cd2560c-3ff9-45db-aac3-c9db3b35c231"
      },
      "id": "qIxVCV8k4AVb",
      "execution_count": null,
      "outputs": [
        {
          "output_type": "stream",
          "name": "stdout",
          "text": [
            "[6.36]\n"
          ]
        }
      ]
    },
    {
      "cell_type": "markdown",
      "source": [
        "### Two factors\n"
      ],
      "metadata": {
        "id": "x6d6cL1-4tgz"
      },
      "id": "x6d6cL1-4tgz"
    },
    {
      "cell_type": "markdown",
      "source": [
        "y = w0 + w1 * x1 + w2 * x2 + w3 * x1 ** 2 + w4 * x1 * x2 + w5 * x2 ** 2"
      ],
      "metadata": {
        "id": "xt3dGYGf44e5"
      },
      "id": "xt3dGYGf44e5"
    },
    {
      "cell_type": "code",
      "source": [
        "x1 = np.array([1, 3, -2, 1, 5, 13, 1]).T\n",
        "x2 = np.array([3, 4, 5, -2, 4, 11, 3])\n",
        "y = np.array([4, 5, 2, 2, 6, 8, -1])"
      ],
      "metadata": {
        "id": "iCCYKv9F5LW_"
      },
      "id": "iCCYKv9F5LW_",
      "execution_count": null,
      "outputs": []
    },
    {
      "cell_type": "code",
      "source": [
        "# записываем систему в матричном виде Aw = y\n",
        "A = np.array([\n",
        "    [1, 1, 3, 1**2, 1*3, 3**2],\n",
        "    [1, 3, 4, 3**2, 3*4, 4**2],\n",
        "    [1, -2, 5, (-2)**2, (-2)*5, 5**2],\n",
        "    [1, 1, -2, 1**2, 1*(-2), (-2)**2],\n",
        "    [1, 5, 4, 5**2, 5*4, 4**2],\n",
        "    [1, 13, 11, 13**2, 13*11, 11**2],\n",
        "    [1, 1, 3, 1**2, 1*3, 3**2]\n",
        "])\n",
        "\n",
        "w_hat = np.linalg.inv(A.T @ A) @ A.T @ y\n",
        "print(w_hat)"
      ],
      "metadata": {
        "colab": {
          "base_uri": "https://localhost:8080/"
        },
        "id": "wUZ5H9lL6GWJ",
        "outputId": "75cdead4-3dce-4486-f660-755b04979748"
      },
      "id": "wUZ5H9lL6GWJ",
      "execution_count": null,
      "outputs": [
        {
          "output_type": "stream",
          "name": "stdout",
          "text": [
            "[-2.25799015  2.37672337 -0.1322068  -0.10208147 -0.26501791  0.29722471]\n"
          ]
        }
      ]
    },
    {
      "cell_type": "code",
      "source": [
        "# количество коэффициентов (факторов) в регрессии\n",
        "k = 2\n",
        "d = 2\n",
        "n = k + d\n",
        "c = np.math.factorial(n) / (np.math.factorial(n - d) * np.math.factorial(d))\n",
        "print(c)"
      ],
      "metadata": {
        "colab": {
          "base_uri": "https://localhost:8080/"
        },
        "id": "e6R9IdJX7NIg",
        "outputId": "a97edcdf-65aa-4d89-b4ba-e370e7baa6f3"
      },
      "id": "e6R9IdJX7NIg",
      "execution_count": null,
      "outputs": [
        {
          "output_type": "stream",
          "name": "stdout",
          "text": [
            "6.0\n"
          ]
        }
      ]
    },
    {
      "cell_type": "markdown",
      "source": [
        "### PolynomialFeatures"
      ],
      "metadata": {
        "id": "XSjchxLS-FGD"
      },
      "id": "XSjchxLS-FGD"
    },
    {
      "cell_type": "code",
      "source": [
        "x1 = np.array([1, 3, -2, 1, 5, 13, 1])\n",
        "x2 = np.array([3, 4, 5, -2, 4, 11, 3])\n",
        "x3 = np.array([4, 5, 2, 2, 6, 8, -1])"
      ],
      "metadata": {
        "id": "1koXZ1wa94XL"
      },
      "id": "1koXZ1wa94XL",
      "execution_count": null,
      "outputs": []
    },
    {
      "cell_type": "code",
      "source": [
        "A = np.array([x1, x2, x3]).T\n",
        "print(A)"
      ],
      "metadata": {
        "colab": {
          "base_uri": "https://localhost:8080/"
        },
        "id": "R_uXreLN-oR3",
        "outputId": "749740f7-60b8-49a1-882c-5d0a0939b57a"
      },
      "id": "R_uXreLN-oR3",
      "execution_count": null,
      "outputs": [
        {
          "output_type": "stream",
          "name": "stdout",
          "text": [
            "[[ 1  3  4]\n",
            " [ 3  4  5]\n",
            " [-2  5  2]\n",
            " [ 1 -2  2]\n",
            " [ 5  4  6]\n",
            " [13 11  8]\n",
            " [ 1  3 -1]]\n"
          ]
        }
      ]
    },
    {
      "cell_type": "code",
      "source": [
        "# импортируем класс PolynomialFeatures\n",
        "from sklearn.preprocessing import PolynomialFeatures\n",
        "poly = PolynomialFeatures(degree=2, include_bias=True)\n",
        "\n",
        "# сгенерим полиномиальную регрессию второй степени\n",
        "A_poly = poly.fit_transform(A)\n",
        "display(pd.DataFrame(A_poly))"
      ],
      "metadata": {
        "colab": {
          "base_uri": "https://localhost:8080/",
          "height": 269
        },
        "id": "oxpIw21p_Xb0",
        "outputId": "e89dcec8-f1f2-437d-fd6c-b0ecd7182bc1"
      },
      "id": "oxpIw21p_Xb0",
      "execution_count": null,
      "outputs": [
        {
          "output_type": "display_data",
          "data": {
            "text/plain": [
              "     0     1     2    3      4      5      6      7     8     9\n",
              "0  1.0   1.0   3.0  4.0    1.0    3.0    4.0    9.0  12.0  16.0\n",
              "1  1.0   3.0   4.0  5.0    9.0   12.0   15.0   16.0  20.0  25.0\n",
              "2  1.0  -2.0   5.0  2.0    4.0  -10.0   -4.0   25.0  10.0   4.0\n",
              "3  1.0   1.0  -2.0  2.0    1.0   -2.0    2.0    4.0  -4.0   4.0\n",
              "4  1.0   5.0   4.0  6.0   25.0   20.0   30.0   16.0  24.0  36.0\n",
              "5  1.0  13.0  11.0  8.0  169.0  143.0  104.0  121.0  88.0  64.0\n",
              "6  1.0   1.0   3.0 -1.0    1.0    3.0   -1.0    9.0  -3.0   1.0"
            ],
            "text/html": [
              "\n",
              "  <div id=\"df-53308792-aab2-4cf4-ace9-3aed95a8d38a\">\n",
              "    <div class=\"colab-df-container\">\n",
              "      <div>\n",
              "<style scoped>\n",
              "    .dataframe tbody tr th:only-of-type {\n",
              "        vertical-align: middle;\n",
              "    }\n",
              "\n",
              "    .dataframe tbody tr th {\n",
              "        vertical-align: top;\n",
              "    }\n",
              "\n",
              "    .dataframe thead th {\n",
              "        text-align: right;\n",
              "    }\n",
              "</style>\n",
              "<table border=\"1\" class=\"dataframe\">\n",
              "  <thead>\n",
              "    <tr style=\"text-align: right;\">\n",
              "      <th></th>\n",
              "      <th>0</th>\n",
              "      <th>1</th>\n",
              "      <th>2</th>\n",
              "      <th>3</th>\n",
              "      <th>4</th>\n",
              "      <th>5</th>\n",
              "      <th>6</th>\n",
              "      <th>7</th>\n",
              "      <th>8</th>\n",
              "      <th>9</th>\n",
              "    </tr>\n",
              "  </thead>\n",
              "  <tbody>\n",
              "    <tr>\n",
              "      <th>0</th>\n",
              "      <td>1.0</td>\n",
              "      <td>1.0</td>\n",
              "      <td>3.0</td>\n",
              "      <td>4.0</td>\n",
              "      <td>1.0</td>\n",
              "      <td>3.0</td>\n",
              "      <td>4.0</td>\n",
              "      <td>9.0</td>\n",
              "      <td>12.0</td>\n",
              "      <td>16.0</td>\n",
              "    </tr>\n",
              "    <tr>\n",
              "      <th>1</th>\n",
              "      <td>1.0</td>\n",
              "      <td>3.0</td>\n",
              "      <td>4.0</td>\n",
              "      <td>5.0</td>\n",
              "      <td>9.0</td>\n",
              "      <td>12.0</td>\n",
              "      <td>15.0</td>\n",
              "      <td>16.0</td>\n",
              "      <td>20.0</td>\n",
              "      <td>25.0</td>\n",
              "    </tr>\n",
              "    <tr>\n",
              "      <th>2</th>\n",
              "      <td>1.0</td>\n",
              "      <td>-2.0</td>\n",
              "      <td>5.0</td>\n",
              "      <td>2.0</td>\n",
              "      <td>4.0</td>\n",
              "      <td>-10.0</td>\n",
              "      <td>-4.0</td>\n",
              "      <td>25.0</td>\n",
              "      <td>10.0</td>\n",
              "      <td>4.0</td>\n",
              "    </tr>\n",
              "    <tr>\n",
              "      <th>3</th>\n",
              "      <td>1.0</td>\n",
              "      <td>1.0</td>\n",
              "      <td>-2.0</td>\n",
              "      <td>2.0</td>\n",
              "      <td>1.0</td>\n",
              "      <td>-2.0</td>\n",
              "      <td>2.0</td>\n",
              "      <td>4.0</td>\n",
              "      <td>-4.0</td>\n",
              "      <td>4.0</td>\n",
              "    </tr>\n",
              "    <tr>\n",
              "      <th>4</th>\n",
              "      <td>1.0</td>\n",
              "      <td>5.0</td>\n",
              "      <td>4.0</td>\n",
              "      <td>6.0</td>\n",
              "      <td>25.0</td>\n",
              "      <td>20.0</td>\n",
              "      <td>30.0</td>\n",
              "      <td>16.0</td>\n",
              "      <td>24.0</td>\n",
              "      <td>36.0</td>\n",
              "    </tr>\n",
              "    <tr>\n",
              "      <th>5</th>\n",
              "      <td>1.0</td>\n",
              "      <td>13.0</td>\n",
              "      <td>11.0</td>\n",
              "      <td>8.0</td>\n",
              "      <td>169.0</td>\n",
              "      <td>143.0</td>\n",
              "      <td>104.0</td>\n",
              "      <td>121.0</td>\n",
              "      <td>88.0</td>\n",
              "      <td>64.0</td>\n",
              "    </tr>\n",
              "    <tr>\n",
              "      <th>6</th>\n",
              "      <td>1.0</td>\n",
              "      <td>1.0</td>\n",
              "      <td>3.0</td>\n",
              "      <td>-1.0</td>\n",
              "      <td>1.0</td>\n",
              "      <td>3.0</td>\n",
              "      <td>-1.0</td>\n",
              "      <td>9.0</td>\n",
              "      <td>-3.0</td>\n",
              "      <td>1.0</td>\n",
              "    </tr>\n",
              "  </tbody>\n",
              "</table>\n",
              "</div>\n",
              "      <button class=\"colab-df-convert\" onclick=\"convertToInteractive('df-53308792-aab2-4cf4-ace9-3aed95a8d38a')\"\n",
              "              title=\"Convert this dataframe to an interactive table.\"\n",
              "              style=\"display:none;\">\n",
              "        \n",
              "  <svg xmlns=\"http://www.w3.org/2000/svg\" height=\"24px\"viewBox=\"0 0 24 24\"\n",
              "       width=\"24px\">\n",
              "    <path d=\"M0 0h24v24H0V0z\" fill=\"none\"/>\n",
              "    <path d=\"M18.56 5.44l.94 2.06.94-2.06 2.06-.94-2.06-.94-.94-2.06-.94 2.06-2.06.94zm-11 1L8.5 8.5l.94-2.06 2.06-.94-2.06-.94L8.5 2.5l-.94 2.06-2.06.94zm10 10l.94 2.06.94-2.06 2.06-.94-2.06-.94-.94-2.06-.94 2.06-2.06.94z\"/><path d=\"M17.41 7.96l-1.37-1.37c-.4-.4-.92-.59-1.43-.59-.52 0-1.04.2-1.43.59L10.3 9.45l-7.72 7.72c-.78.78-.78 2.05 0 2.83L4 21.41c.39.39.9.59 1.41.59.51 0 1.02-.2 1.41-.59l7.78-7.78 2.81-2.81c.8-.78.8-2.07 0-2.86zM5.41 20L4 18.59l7.72-7.72 1.47 1.35L5.41 20z\"/>\n",
              "  </svg>\n",
              "      </button>\n",
              "      \n",
              "  <style>\n",
              "    .colab-df-container {\n",
              "      display:flex;\n",
              "      flex-wrap:wrap;\n",
              "      gap: 12px;\n",
              "    }\n",
              "\n",
              "    .colab-df-convert {\n",
              "      background-color: #E8F0FE;\n",
              "      border: none;\n",
              "      border-radius: 50%;\n",
              "      cursor: pointer;\n",
              "      display: none;\n",
              "      fill: #1967D2;\n",
              "      height: 32px;\n",
              "      padding: 0 0 0 0;\n",
              "      width: 32px;\n",
              "    }\n",
              "\n",
              "    .colab-df-convert:hover {\n",
              "      background-color: #E2EBFA;\n",
              "      box-shadow: 0px 1px 2px rgba(60, 64, 67, 0.3), 0px 1px 3px 1px rgba(60, 64, 67, 0.15);\n",
              "      fill: #174EA6;\n",
              "    }\n",
              "\n",
              "    [theme=dark] .colab-df-convert {\n",
              "      background-color: #3B4455;\n",
              "      fill: #D2E3FC;\n",
              "    }\n",
              "\n",
              "    [theme=dark] .colab-df-convert:hover {\n",
              "      background-color: #434B5C;\n",
              "      box-shadow: 0px 1px 3px 1px rgba(0, 0, 0, 0.15);\n",
              "      filter: drop-shadow(0px 1px 2px rgba(0, 0, 0, 0.3));\n",
              "      fill: #FFFFFF;\n",
              "    }\n",
              "  </style>\n",
              "\n",
              "      <script>\n",
              "        const buttonEl =\n",
              "          document.querySelector('#df-53308792-aab2-4cf4-ace9-3aed95a8d38a button.colab-df-convert');\n",
              "        buttonEl.style.display =\n",
              "          google.colab.kernel.accessAllowed ? 'block' : 'none';\n",
              "\n",
              "        async function convertToInteractive(key) {\n",
              "          const element = document.querySelector('#df-53308792-aab2-4cf4-ace9-3aed95a8d38a');\n",
              "          const dataTable =\n",
              "            await google.colab.kernel.invokeFunction('convertToInteractive',\n",
              "                                                     [key], {});\n",
              "          if (!dataTable) return;\n",
              "\n",
              "          const docLinkHtml = 'Like what you see? Visit the ' +\n",
              "            '<a target=\"_blank\" href=https://colab.research.google.com/notebooks/data_table.ipynb>data table notebook</a>'\n",
              "            + ' to learn more about interactive tables.';\n",
              "          element.innerHTML = '';\n",
              "          dataTable['output_type'] = 'display_data';\n",
              "          await google.colab.output.renderOutput(dataTable, element);\n",
              "          const docLink = document.createElement('div');\n",
              "          docLink.innerHTML = docLinkHtml;\n",
              "          element.appendChild(docLink);\n",
              "        }\n",
              "      </script>\n",
              "    </div>\n",
              "  </div>\n",
              "  "
            ]
          },
          "metadata": {}
        }
      ]
    },
    {
      "cell_type": "code",
      "source": [
        "# Построим модель полиномиальной регрессии на реальных данных\n",
        "# Запишем функцию\n",
        "def polynomial_regression(X, y, k):\n",
        "  poly = PolynomialFeatures(degree=k, include_bias=True)\n",
        "  X_poly = poly.fit_transform(X)\n",
        "  w_hat = np.linalg.inv(X_poly.T @ X_poly) @ X_poly.T @ y\n",
        "  y_pred = X_poly @ w_hat\n",
        "  return X_poly, y_pred, w_hat\n",
        "\n",
        "A = boston_data[['LSTAT', 'PTRATIO', 'RM', 'CRIM']]\n",
        "y = boston_data[['PRICE']]\n",
        "\n",
        "A_poly, y_pred, w_hat = polynomial_regression(A, y, 1)\n",
        "A_poly2, y_pred2, w_hat2 = polynomial_regression(A, y, 2)\n",
        "A_poly3, y_pred3, w_hat3 = polynomial_regression(A, y, 3)\n",
        "A_poly4, y_pred4, w_hat4 = polynomial_regression(A, y, 4)\n",
        "A_poly5, y_pred5, w_hat5 = polynomial_regression(A, y, 5)"
      ],
      "metadata": {
        "id": "SXaxbJ8ZAZYF"
      },
      "id": "SXaxbJ8ZAZYF",
      "execution_count": null,
      "outputs": []
    },
    {
      "cell_type": "code",
      "source": [
        "from sklearn.metrics import mean_absolute_percentage_error\n",
        "\n",
        "print(f'MAPE для полинома 1-ой степени {mean_absolute_percentage_error(y, y_pred)*100}')\n",
        "print(f'MAPE для полинома 2-ой степени {mean_absolute_percentage_error(y, y_pred2)*100}')\n",
        "print(f'MAPE для полинома 3-ей степени {mean_absolute_percentage_error(y, y_pred3)*100}')\n",
        "print(f'MAPE для полинома 4-ой степени {mean_absolute_percentage_error(y, y_pred4)*100}')\n",
        "print(f'MAPE для полинома 5-ой степени {mean_absolute_percentage_error(y, y_pred5)*100}')"
      ],
      "metadata": {
        "colab": {
          "base_uri": "https://localhost:8080/"
        },
        "id": "E2zJR4VnEHGy",
        "outputId": "f0108020-3720-42e2-b2e4-e93a30b16561"
      },
      "id": "E2zJR4VnEHGy",
      "execution_count": null,
      "outputs": [
        {
          "output_type": "stream",
          "name": "stdout",
          "text": [
            "MAPE для полинома 1-ой степени 18.20027284480963\n",
            "MAPE для полинома 2-ой степени 13.414819347247727\n",
            "MAPE для полинома 3-ей степени 12.92761708743223\n",
            "MAPE для полинома 4-ой степени 10.733890669722456\n",
            "MAPE для полинома 5-ой степени 70.1804012826214\n"
          ]
        }
      ]
    },
    {
      "cell_type": "code",
      "source": [
        "display(pd.DataFrame(data=w_hat5).describe())"
      ],
      "metadata": {
        "colab": {
          "base_uri": "https://localhost:8080/",
          "height": 300
        },
        "id": "ulBYFs1eFCSa",
        "outputId": "746d6b6c-7210-45db-f967-0e19cf60bca8"
      },
      "id": "ulBYFs1eFCSa",
      "execution_count": null,
      "outputs": [
        {
          "output_type": "display_data",
          "data": {
            "text/plain": [
              "               PRICE\n",
              "count     126.000000\n",
              "mean     2144.476453\n",
              "std     54079.254622\n",
              "min   -254218.739690\n",
              "25%        -0.978144\n",
              "50%         0.000006\n",
              "75%         1.796856\n",
              "max    543497.875958"
            ],
            "text/html": [
              "\n",
              "  <div id=\"df-f7c65d39-b41a-4a8f-bd1a-1802635ad1d6\">\n",
              "    <div class=\"colab-df-container\">\n",
              "      <div>\n",
              "<style scoped>\n",
              "    .dataframe tbody tr th:only-of-type {\n",
              "        vertical-align: middle;\n",
              "    }\n",
              "\n",
              "    .dataframe tbody tr th {\n",
              "        vertical-align: top;\n",
              "    }\n",
              "\n",
              "    .dataframe thead th {\n",
              "        text-align: right;\n",
              "    }\n",
              "</style>\n",
              "<table border=\"1\" class=\"dataframe\">\n",
              "  <thead>\n",
              "    <tr style=\"text-align: right;\">\n",
              "      <th></th>\n",
              "      <th>PRICE</th>\n",
              "    </tr>\n",
              "  </thead>\n",
              "  <tbody>\n",
              "    <tr>\n",
              "      <th>count</th>\n",
              "      <td>126.000000</td>\n",
              "    </tr>\n",
              "    <tr>\n",
              "      <th>mean</th>\n",
              "      <td>2144.476453</td>\n",
              "    </tr>\n",
              "    <tr>\n",
              "      <th>std</th>\n",
              "      <td>54079.254622</td>\n",
              "    </tr>\n",
              "    <tr>\n",
              "      <th>min</th>\n",
              "      <td>-254218.739690</td>\n",
              "    </tr>\n",
              "    <tr>\n",
              "      <th>25%</th>\n",
              "      <td>-0.978144</td>\n",
              "    </tr>\n",
              "    <tr>\n",
              "      <th>50%</th>\n",
              "      <td>0.000006</td>\n",
              "    </tr>\n",
              "    <tr>\n",
              "      <th>75%</th>\n",
              "      <td>1.796856</td>\n",
              "    </tr>\n",
              "    <tr>\n",
              "      <th>max</th>\n",
              "      <td>543497.875958</td>\n",
              "    </tr>\n",
              "  </tbody>\n",
              "</table>\n",
              "</div>\n",
              "      <button class=\"colab-df-convert\" onclick=\"convertToInteractive('df-f7c65d39-b41a-4a8f-bd1a-1802635ad1d6')\"\n",
              "              title=\"Convert this dataframe to an interactive table.\"\n",
              "              style=\"display:none;\">\n",
              "        \n",
              "  <svg xmlns=\"http://www.w3.org/2000/svg\" height=\"24px\"viewBox=\"0 0 24 24\"\n",
              "       width=\"24px\">\n",
              "    <path d=\"M0 0h24v24H0V0z\" fill=\"none\"/>\n",
              "    <path d=\"M18.56 5.44l.94 2.06.94-2.06 2.06-.94-2.06-.94-.94-2.06-.94 2.06-2.06.94zm-11 1L8.5 8.5l.94-2.06 2.06-.94-2.06-.94L8.5 2.5l-.94 2.06-2.06.94zm10 10l.94 2.06.94-2.06 2.06-.94-2.06-.94-.94-2.06-.94 2.06-2.06.94z\"/><path d=\"M17.41 7.96l-1.37-1.37c-.4-.4-.92-.59-1.43-.59-.52 0-1.04.2-1.43.59L10.3 9.45l-7.72 7.72c-.78.78-.78 2.05 0 2.83L4 21.41c.39.39.9.59 1.41.59.51 0 1.02-.2 1.41-.59l7.78-7.78 2.81-2.81c.8-.78.8-2.07 0-2.86zM5.41 20L4 18.59l7.72-7.72 1.47 1.35L5.41 20z\"/>\n",
              "  </svg>\n",
              "      </button>\n",
              "      \n",
              "  <style>\n",
              "    .colab-df-container {\n",
              "      display:flex;\n",
              "      flex-wrap:wrap;\n",
              "      gap: 12px;\n",
              "    }\n",
              "\n",
              "    .colab-df-convert {\n",
              "      background-color: #E8F0FE;\n",
              "      border: none;\n",
              "      border-radius: 50%;\n",
              "      cursor: pointer;\n",
              "      display: none;\n",
              "      fill: #1967D2;\n",
              "      height: 32px;\n",
              "      padding: 0 0 0 0;\n",
              "      width: 32px;\n",
              "    }\n",
              "\n",
              "    .colab-df-convert:hover {\n",
              "      background-color: #E2EBFA;\n",
              "      box-shadow: 0px 1px 2px rgba(60, 64, 67, 0.3), 0px 1px 3px 1px rgba(60, 64, 67, 0.15);\n",
              "      fill: #174EA6;\n",
              "    }\n",
              "\n",
              "    [theme=dark] .colab-df-convert {\n",
              "      background-color: #3B4455;\n",
              "      fill: #D2E3FC;\n",
              "    }\n",
              "\n",
              "    [theme=dark] .colab-df-convert:hover {\n",
              "      background-color: #434B5C;\n",
              "      box-shadow: 0px 1px 3px 1px rgba(0, 0, 0, 0.15);\n",
              "      filter: drop-shadow(0px 1px 2px rgba(0, 0, 0, 0.3));\n",
              "      fill: #FFFFFF;\n",
              "    }\n",
              "  </style>\n",
              "\n",
              "      <script>\n",
              "        const buttonEl =\n",
              "          document.querySelector('#df-f7c65d39-b41a-4a8f-bd1a-1802635ad1d6 button.colab-df-convert');\n",
              "        buttonEl.style.display =\n",
              "          google.colab.kernel.accessAllowed ? 'block' : 'none';\n",
              "\n",
              "        async function convertToInteractive(key) {\n",
              "          const element = document.querySelector('#df-f7c65d39-b41a-4a8f-bd1a-1802635ad1d6');\n",
              "          const dataTable =\n",
              "            await google.colab.kernel.invokeFunction('convertToInteractive',\n",
              "                                                     [key], {});\n",
              "          if (!dataTable) return;\n",
              "\n",
              "          const docLinkHtml = 'Like what you see? Visit the ' +\n",
              "            '<a target=\"_blank\" href=https://colab.research.google.com/notebooks/data_table.ipynb>data table notebook</a>'\n",
              "            + ' to learn more about interactive tables.';\n",
              "          element.innerHTML = '';\n",
              "          dataTable['output_type'] = 'display_data';\n",
              "          await google.colab.output.renderOutput(dataTable, element);\n",
              "          const docLink = document.createElement('div');\n",
              "          docLink.innerHTML = docLinkHtml;\n",
              "          element.appendChild(docLink);\n",
              "        }\n",
              "      </script>\n",
              "    </div>\n",
              "  </div>\n",
              "  "
            ]
          },
          "metadata": {}
        }
      ]
    },
    {
      "cell_type": "code",
      "source": [
        "# считаем матрицу корреляций (без столбца из единиц)\n",
        "C = pd.DataFrame(A_poly5[:, 1:]).corr()\n",
        "\n",
        "# считаем ранг корреляционной матрицы\n",
        "print('Ранг корреляционной матрицы:', np.linalg.matrix_rank(C))\n",
        "\n",
        "# считаем количество факторов (не включая столбец из единиц)\n",
        "print('Количество факторов:', A_poly5[:, 1:].shape[1])"
      ],
      "metadata": {
        "colab": {
          "base_uri": "https://localhost:8080/"
        },
        "id": "EzFHcolxFvpf",
        "outputId": "a6a6988e-c71a-4e0a-a44d-e081bbdff3f8"
      },
      "id": "EzFHcolxFvpf",
      "execution_count": null,
      "outputs": [
        {
          "output_type": "stream",
          "name": "stdout",
          "text": [
            "Ранг корреляционной матрицы: 110\n",
            "Количество факторов: 125\n"
          ]
        }
      ]
    },
    {
      "cell_type": "code",
      "source": [
        "# считаем матрицу корреляций (без столбца из единиц)\n",
        "C = pd.DataFrame(A_poly4[:, 1:]).corr()\n",
        "# считаем ранг корреляционной матрицы\n",
        "print('Ранг корреляционной матрицы:', np.linalg.matrix_rank(C))\n",
        "# считаем количество факторов (не включая столбец из единиц)\n",
        "print('Количество факторов:', A_poly4[:, 1:].shape[1])"
      ],
      "metadata": {
        "colab": {
          "base_uri": "https://localhost:8080/"
        },
        "id": "n4YTgyB1HGXd",
        "outputId": "07478203-164a-48fb-a06f-0a62c57536df"
      },
      "id": "n4YTgyB1HGXd",
      "execution_count": null,
      "outputs": [
        {
          "output_type": "stream",
          "name": "stdout",
          "text": [
            "Ранг корреляционной матрицы: 69\n",
            "Количество факторов: 69\n"
          ]
        }
      ]
    },
    {
      "cell_type": "code",
      "source": [
        "display(pd.DataFrame(w_hat4).describe())"
      ],
      "metadata": {
        "colab": {
          "base_uri": "https://localhost:8080/",
          "height": 300
        },
        "id": "5eT0c8y9HLke",
        "outputId": "ce16219d-bc8a-4197-fbb3-2a4fb1aeb919"
      },
      "id": "5eT0c8y9HLke",
      "execution_count": null,
      "outputs": [
        {
          "output_type": "display_data",
          "data": {
            "text/plain": [
              "             PRICE\n",
              "count    70.000000\n",
              "mean    -50.855851\n",
              "std     886.977259\n",
              "min   -6922.216285\n",
              "25%      -0.187946\n",
              "50%      -0.000777\n",
              "75%       0.322233\n",
              "max    2305.053260"
            ],
            "text/html": [
              "\n",
              "  <div id=\"df-1d3aa4d6-d1b6-4e29-b517-bb7b6947d8f0\">\n",
              "    <div class=\"colab-df-container\">\n",
              "      <div>\n",
              "<style scoped>\n",
              "    .dataframe tbody tr th:only-of-type {\n",
              "        vertical-align: middle;\n",
              "    }\n",
              "\n",
              "    .dataframe tbody tr th {\n",
              "        vertical-align: top;\n",
              "    }\n",
              "\n",
              "    .dataframe thead th {\n",
              "        text-align: right;\n",
              "    }\n",
              "</style>\n",
              "<table border=\"1\" class=\"dataframe\">\n",
              "  <thead>\n",
              "    <tr style=\"text-align: right;\">\n",
              "      <th></th>\n",
              "      <th>PRICE</th>\n",
              "    </tr>\n",
              "  </thead>\n",
              "  <tbody>\n",
              "    <tr>\n",
              "      <th>count</th>\n",
              "      <td>70.000000</td>\n",
              "    </tr>\n",
              "    <tr>\n",
              "      <th>mean</th>\n",
              "      <td>-50.855851</td>\n",
              "    </tr>\n",
              "    <tr>\n",
              "      <th>std</th>\n",
              "      <td>886.977259</td>\n",
              "    </tr>\n",
              "    <tr>\n",
              "      <th>min</th>\n",
              "      <td>-6922.216285</td>\n",
              "    </tr>\n",
              "    <tr>\n",
              "      <th>25%</th>\n",
              "      <td>-0.187946</td>\n",
              "    </tr>\n",
              "    <tr>\n",
              "      <th>50%</th>\n",
              "      <td>-0.000777</td>\n",
              "    </tr>\n",
              "    <tr>\n",
              "      <th>75%</th>\n",
              "      <td>0.322233</td>\n",
              "    </tr>\n",
              "    <tr>\n",
              "      <th>max</th>\n",
              "      <td>2305.053260</td>\n",
              "    </tr>\n",
              "  </tbody>\n",
              "</table>\n",
              "</div>\n",
              "      <button class=\"colab-df-convert\" onclick=\"convertToInteractive('df-1d3aa4d6-d1b6-4e29-b517-bb7b6947d8f0')\"\n",
              "              title=\"Convert this dataframe to an interactive table.\"\n",
              "              style=\"display:none;\">\n",
              "        \n",
              "  <svg xmlns=\"http://www.w3.org/2000/svg\" height=\"24px\"viewBox=\"0 0 24 24\"\n",
              "       width=\"24px\">\n",
              "    <path d=\"M0 0h24v24H0V0z\" fill=\"none\"/>\n",
              "    <path d=\"M18.56 5.44l.94 2.06.94-2.06 2.06-.94-2.06-.94-.94-2.06-.94 2.06-2.06.94zm-11 1L8.5 8.5l.94-2.06 2.06-.94-2.06-.94L8.5 2.5l-.94 2.06-2.06.94zm10 10l.94 2.06.94-2.06 2.06-.94-2.06-.94-.94-2.06-.94 2.06-2.06.94z\"/><path d=\"M17.41 7.96l-1.37-1.37c-.4-.4-.92-.59-1.43-.59-.52 0-1.04.2-1.43.59L10.3 9.45l-7.72 7.72c-.78.78-.78 2.05 0 2.83L4 21.41c.39.39.9.59 1.41.59.51 0 1.02-.2 1.41-.59l7.78-7.78 2.81-2.81c.8-.78.8-2.07 0-2.86zM5.41 20L4 18.59l7.72-7.72 1.47 1.35L5.41 20z\"/>\n",
              "  </svg>\n",
              "      </button>\n",
              "      \n",
              "  <style>\n",
              "    .colab-df-container {\n",
              "      display:flex;\n",
              "      flex-wrap:wrap;\n",
              "      gap: 12px;\n",
              "    }\n",
              "\n",
              "    .colab-df-convert {\n",
              "      background-color: #E8F0FE;\n",
              "      border: none;\n",
              "      border-radius: 50%;\n",
              "      cursor: pointer;\n",
              "      display: none;\n",
              "      fill: #1967D2;\n",
              "      height: 32px;\n",
              "      padding: 0 0 0 0;\n",
              "      width: 32px;\n",
              "    }\n",
              "\n",
              "    .colab-df-convert:hover {\n",
              "      background-color: #E2EBFA;\n",
              "      box-shadow: 0px 1px 2px rgba(60, 64, 67, 0.3), 0px 1px 3px 1px rgba(60, 64, 67, 0.15);\n",
              "      fill: #174EA6;\n",
              "    }\n",
              "\n",
              "    [theme=dark] .colab-df-convert {\n",
              "      background-color: #3B4455;\n",
              "      fill: #D2E3FC;\n",
              "    }\n",
              "\n",
              "    [theme=dark] .colab-df-convert:hover {\n",
              "      background-color: #434B5C;\n",
              "      box-shadow: 0px 1px 3px 1px rgba(0, 0, 0, 0.15);\n",
              "      filter: drop-shadow(0px 1px 2px rgba(0, 0, 0, 0.3));\n",
              "      fill: #FFFFFF;\n",
              "    }\n",
              "  </style>\n",
              "\n",
              "      <script>\n",
              "        const buttonEl =\n",
              "          document.querySelector('#df-1d3aa4d6-d1b6-4e29-b517-bb7b6947d8f0 button.colab-df-convert');\n",
              "        buttonEl.style.display =\n",
              "          google.colab.kernel.accessAllowed ? 'block' : 'none';\n",
              "\n",
              "        async function convertToInteractive(key) {\n",
              "          const element = document.querySelector('#df-1d3aa4d6-d1b6-4e29-b517-bb7b6947d8f0');\n",
              "          const dataTable =\n",
              "            await google.colab.kernel.invokeFunction('convertToInteractive',\n",
              "                                                     [key], {});\n",
              "          if (!dataTable) return;\n",
              "\n",
              "          const docLinkHtml = 'Like what you see? Visit the ' +\n",
              "            '<a target=\"_blank\" href=https://colab.research.google.com/notebooks/data_table.ipynb>data table notebook</a>'\n",
              "            + ' to learn more about interactive tables.';\n",
              "          element.innerHTML = '';\n",
              "          dataTable['output_type'] = 'display_data';\n",
              "          await google.colab.output.renderOutput(dataTable, element);\n",
              "          const docLink = document.createElement('div');\n",
              "          docLink.innerHTML = docLinkHtml;\n",
              "          element.appendChild(docLink);\n",
              "        }\n",
              "      </script>\n",
              "    </div>\n",
              "  </div>\n",
              "  "
            ]
          },
          "metadata": {}
        }
      ]
    },
    {
      "cell_type": "code",
      "source": [
        "# построим полиномиальную регрессию с помощью sklearn\n",
        "def polynomial_regression_sk(X, y, k):\n",
        "    poly = PolynomialFeatures(degree=k, include_bias=False)\n",
        "    X_poly = poly.fit_transform(X)\n",
        "    lr = LinearRegression().fit(X_poly, y)\n",
        "    y_pred = lr.predict(X_poly)\n",
        "    return X_poly, y_pred, lr.coef_\n",
        "\n",
        "A = boston_data[['LSTAT', 'PTRATIO', 'RM', 'CRIM']]\n",
        "y = boston_data[['PRICE']]\n",
        "\n",
        "for k in range(1, 6):\n",
        "    A_poly, y_pred, w_hat = polynomial_regression_sk(A, y, k)\n",
        "    print(\n",
        "        \"MAPE для полинома степени {} — {:.2f}%, СКО — {:.0f}\".format(\n",
        "            k, mean_absolute_percentage_error(y, y_pred)*100, w_hat.std()\n",
        "        ))"
      ],
      "metadata": {
        "colab": {
          "base_uri": "https://localhost:8080/"
        },
        "id": "x5aVrM18HMu_",
        "outputId": "65d6eee3-a5ba-4871-b210-217088d5e46e"
      },
      "id": "x5aVrM18HMu_",
      "execution_count": null,
      "outputs": [
        {
          "output_type": "stream",
          "name": "stdout",
          "text": [
            "MAPE для полинома степени 1 — 18.20%, СКО — 2\n",
            "MAPE для полинома степени 2 — 13.41%, СКО — 5\n",
            "MAPE для полинома степени 3 — 12.93%, СКО — 9\n",
            "MAPE для полинома степени 4 — 10.74%, СКО — 304\n",
            "MAPE для полинома степени 5 — 9.02%, СКО — 17055\n"
          ]
        }
      ]
    },
    {
      "cell_type": "markdown",
      "source": [
        "### TASK 6.1"
      ],
      "metadata": {
        "id": "eQrDo49KKiSB"
      },
      "id": "eQrDo49KKiSB"
    },
    {
      "cell_type": "code",
      "source": [
        "x_new = np.array([1, 4]).T\n",
        "y = 10.4 + 8*x_new[0] + 0.5*x_new[1] + 3*x_new[0]**2 + 0.4*x_new[1]**2 + 0*x_new[0]*x_new[1]\n",
        "print(y.round(1))"
      ],
      "metadata": {
        "colab": {
          "base_uri": "https://localhost:8080/"
        },
        "id": "2PMgExvvKkoy",
        "outputId": "21c5a7b5-fd34-424d-cde9-74c33c7f1f7b"
      },
      "id": "2PMgExvvKkoy",
      "execution_count": null,
      "outputs": [
        {
          "output_type": "stream",
          "name": "stdout",
          "text": [
            "29.8\n"
          ]
        }
      ]
    },
    {
      "cell_type": "markdown",
      "source": [
        "### TASK 6.2"
      ],
      "metadata": {
        "id": "kCA9900pMxPV"
      },
      "id": "kCA9900pMxPV"
    },
    {
      "cell_type": "markdown",
      "source": [
        "y = w0 + w1 * x + w2 * x ** 2"
      ],
      "metadata": {
        "id": "ESr8yDFRM-72"
      },
      "id": "ESr8yDFRM-72"
    },
    {
      "cell_type": "code",
      "source": [
        "x = np.array([1, 3, -2, 9])\n",
        "A = np.array([\n",
        "    [1, 1, 1**2],\n",
        "    [1, 3, 3**2],\n",
        "    [1, -2, (-2)**2],\n",
        "    [1, 9, 9**2]\n",
        "])"
      ],
      "metadata": {
        "id": "8OJcNhRgMwxP"
      },
      "id": "8OJcNhRgMwxP",
      "execution_count": null,
      "outputs": []
    },
    {
      "cell_type": "markdown",
      "source": [
        "### TASK 6.3"
      ],
      "metadata": {
        "id": "UnkLFnk6Nt5r"
      },
      "id": "UnkLFnk6Nt5r"
    },
    {
      "cell_type": "code",
      "source": [
        "k = 5\n",
        "d = 2\n",
        "n = k + d\n",
        "c = np.math.factorial(n) / (np.math.factorial(n - d) * np.math.factorial(d))\n",
        "print(c)"
      ],
      "metadata": {
        "colab": {
          "base_uri": "https://localhost:8080/"
        },
        "id": "DcOFe7vrNv_m",
        "outputId": "b24ac148-1802-4396-869a-08249416c532"
      },
      "id": "DcOFe7vrNv_m",
      "execution_count": null,
      "outputs": [
        {
          "output_type": "stream",
          "name": "stdout",
          "text": [
            "21.0\n"
          ]
        }
      ]
    },
    {
      "cell_type": "markdown",
      "source": [
        "### TASK 6.4"
      ],
      "metadata": {
        "id": "RoZO_vz_OCns"
      },
      "id": "RoZO_vz_OCns"
    },
    {
      "cell_type": "markdown",
      "source": [
        "y = w0 + w1 * x + w2 * x ** 2"
      ],
      "metadata": {
        "id": "NXioxYA5OIfy"
      },
      "id": "NXioxYA5OIfy"
    },
    {
      "cell_type": "code",
      "source": [
        "X = np.array([\n",
        "    [1],\n",
        "    [3],\n",
        "    [-2],\n",
        "    [9]])\n",
        "y = np.array([\n",
        "    [3],\n",
        "    [7],\n",
        "    [-5],\n",
        "    [21]])\n",
        "\n",
        "from sklearn.preprocessing import PolynomialFeatures\n",
        "from sklearn.linear_model import LinearRegression\n",
        "lr = LinearRegression()\n",
        "poly = PolynomialFeatures(degree=2, include_bias=True)\n",
        "\n",
        "X_poly = poly.fit_transform(X)\n",
        "w_hat = lr.fit(X_poly, y)\n",
        "\n",
        "print(np.round(w_hat.coef_, 1))"
      ],
      "metadata": {
        "colab": {
          "base_uri": "https://localhost:8080/"
        },
        "id": "IWJLgmcAOCT7",
        "outputId": "2b4a8a2a-3d86-4cd2-e417-375e4cdecb76"
      },
      "id": "IWJLgmcAOCT7",
      "execution_count": null,
      "outputs": [
        {
          "output_type": "stream",
          "name": "stdout",
          "text": [
            "[[ 0.   2.5 -0. ]]\n"
          ]
        }
      ]
    },
    {
      "cell_type": "code",
      "source": [
        "A = np.array([\n",
        "    [1, 1, 1**2],\n",
        "    [1, 3, 3**2],\n",
        "    [1, -2, (-2)**2],\n",
        "    [1, 9, 9**2]\n",
        "])\n",
        "\n",
        "y = np.array([3, 7, -5, 21]).T\n",
        "\n",
        "w_hat = np.linalg.inv(A.T @ A) @ A.T @ y\n",
        "print(w_hat.round(1))"
      ],
      "metadata": {
        "colab": {
          "base_uri": "https://localhost:8080/"
        },
        "id": "kxbHzLybQsa_",
        "outputId": "7cdf71d6-f79e-4d1a-ccd2-9d3f8c3b3966"
      },
      "id": "kxbHzLybQsa_",
      "execution_count": null,
      "outputs": [
        {
          "output_type": "stream",
          "name": "stdout",
          "text": [
            "[ 0.1  2.5 -0. ]\n"
          ]
        }
      ]
    },
    {
      "cell_type": "markdown",
      "source": [
        "### Regularization"
      ],
      "metadata": {
        "id": "f9kWot5KUfoi"
      },
      "id": "f9kWot5KUfoi"
    },
    {
      "cell_type": "code",
      "source": [
        "from sklearn.model_selection  import cross_validate"
      ],
      "metadata": {
        "id": "JllkFp91UG6g"
      },
      "id": "JllkFp91UG6g",
      "execution_count": null,
      "outputs": []
    },
    {
      "cell_type": "code",
      "source": [
        "# выделяем интересующий нас факторы\n",
        "X = boston_data[['LSTAT', 'PTRATIO', 'RM', 'CRIM']]\n",
        "y = boston_data[['PRICE']]\n",
        "\n",
        "# добавляем полиномиальные признаки\n",
        "poly = PolynomialFeatures(degree=3, include_bias=False)\n",
        "X = poly.fit_transform(X)\n",
        "\n",
        "# создаем модель линейной регрессии\n",
        "lr = LinearRegression()\n",
        "\n",
        "# оцениваем качество модели на кросс-валидацими, метрика - MAPE\n",
        "cv_results = cross_validate(lr, X, y, scoring='neg_mean_absolute_percentage_error', cv=5, return_train_score=True)\n",
        "print(f'MAPE на тренировочных фодах: {round(-cv_results[\"train_score\"].mean()*100, 2)}%')\n",
        "print(f'MAPE на валидационных фодах: {round(-cv_results[\"test_score\"].mean()*100, 2)}%')"
      ],
      "metadata": {
        "colab": {
          "base_uri": "https://localhost:8080/"
        },
        "id": "RC8bvHYMbDKU",
        "outputId": "c3773c55-bae6-457a-fdf9-95d74949a84e"
      },
      "id": "RC8bvHYMbDKU",
      "execution_count": null,
      "outputs": [
        {
          "output_type": "stream",
          "name": "stdout",
          "text": [
            "MAPE на тренировочных фодах: 12.64%\n",
            "MAPE на валидационных фодах: 24.16%\n"
          ]
        }
      ]
    },
    {
      "cell_type": "markdown",
      "source": [
        "### L2- regularization. Ridge."
      ],
      "metadata": {
        "id": "v6GEhODhWxe_"
      },
      "id": "v6GEhODhWxe_"
    },
    {
      "cell_type": "code",
      "source": [
        "x1 = np.array([1, 0, -3, 2, 4]).T\n",
        "x2 = np.array([2, 0, -6, 4, 8]).T\n",
        "y = np.array([4, 3, -4, 2, 7]).T\n",
        "alpha = 5\n",
        "\n",
        "A = np.array([\n",
        "    [1, 1, 2],\n",
        "    [1, 0, 0],\n",
        "    [1,-3,-6],\n",
        "    [1, 2, 4],\n",
        "    [1, 4, 8]\n",
        "])\n",
        "\n",
        "G = A.T @ A\n",
        "print(G)"
      ],
      "metadata": {
        "id": "mAKmUrfOR4DI",
        "colab": {
          "base_uri": "https://localhost:8080/"
        },
        "outputId": "bf3f76ab-6618-49a1-cd7d-d300b4d52b7e"
      },
      "id": "mAKmUrfOR4DI",
      "execution_count": null,
      "outputs": [
        {
          "output_type": "stream",
          "name": "stdout",
          "text": [
            "[[  5   4   8]\n",
            " [  4  30  60]\n",
            " [  8  60 120]]\n"
          ]
        }
      ]
    },
    {
      "cell_type": "code",
      "source": [
        "# LinAlgError^ Singular matrix\n",
        "# w_hat = np.linalg.inv(A.T @ A) @ A.T @ y"
      ],
      "metadata": {
        "id": "qYKZlDgqIjFM"
      },
      "id": "qYKZlDgqIjFM",
      "execution_count": null,
      "outputs": []
    },
    {
      "cell_type": "code",
      "source": [
        "# Используем регуляризацию Тихонова\n",
        "E = np.eye(G.shape[0]) # составим единичную матрицу\n",
        "print(E)"
      ],
      "metadata": {
        "colab": {
          "base_uri": "https://localhost:8080/"
        },
        "id": "JVXd2DnJI3qj",
        "outputId": "d49b0be8-7ca6-4e2d-ab0c-91de2a01d1ab"
      },
      "id": "JVXd2DnJI3qj",
      "execution_count": null,
      "outputs": [
        {
          "output_type": "stream",
          "name": "stdout",
          "text": [
            "[[1. 0. 0.]\n",
            " [0. 1. 0.]\n",
            " [0. 0. 1.]]\n"
          ]
        }
      ]
    },
    {
      "cell_type": "code",
      "source": [
        "# получаем оценку коэффициентов регрессии по МНК с регуляризацией Тихонова\n",
        "w_hat_ridge = np.linalg.inv(A.T @ A + alpha*E) @ A.T @ y\n",
        "print(w_hat_ridge)"
      ],
      "metadata": {
        "colab": {
          "base_uri": "https://localhost:8080/"
        },
        "id": "YEV-x1IEJud6",
        "outputId": "eeead5be-839d-4466-b64f-b653d6dc72cc"
      },
      "id": "YEV-x1IEJud6",
      "execution_count": null,
      "outputs": [
        {
          "output_type": "stream",
          "name": "stdout",
          "text": [
            "[0.6122449  0.29387755 0.5877551 ]\n"
          ]
        }
      ]
    },
    {
      "cell_type": "markdown",
      "source": [
        "### L2 - регуляризация с помощью sklearn"
      ],
      "metadata": {
        "id": "bFs9d5fXLW-P"
      },
      "id": "bFs9d5fXLW-P"
    },
    {
      "cell_type": "code",
      "source": [
        "from sklearn.linear_model import Ridge"
      ],
      "metadata": {
        "id": "YPfq7YXnLecA"
      },
      "id": "YPfq7YXnLecA",
      "execution_count": null,
      "outputs": []
    },
    {
      "cell_type": "code",
      "source": [
        "# матрица наблюдений (включая столбец единиц)\n",
        "A = np.array([\n",
        "    [1, 1, 2],\n",
        "    [1, 0, 0],\n",
        "    [1,-3,-6],\n",
        "    [1, 2, 4],\n",
        "    [1, 4, 8]\n",
        "])\n",
        "# вектор целевого признака\n",
        "y = np.array([4, 3, -4, 2, 7])\n",
        "\n",
        "# получаем оценку коэффициентов регрессии по МНК с регуляризацией Тихонова\n",
        "ridge = Ridge(alpha=5, fit_intercept=False)\n",
        "ridge.fit(A, y)\n",
        "print(ridge.coef_)"
      ],
      "metadata": {
        "colab": {
          "base_uri": "https://localhost:8080/"
        },
        "id": "NI_ZPtkOMTqD",
        "outputId": "a213b777-8633-4cc3-d78e-bb6cc5691f7b"
      },
      "id": "NI_ZPtkOMTqD",
      "execution_count": null,
      "outputs": [
        {
          "output_type": "stream",
          "name": "stdout",
          "text": [
            "[0.6122449  0.29387755 0.5877551 ]\n"
          ]
        }
      ]
    },
    {
      "cell_type": "markdown",
      "source": [
        "### На реальных данных"
      ],
      "metadata": {
        "id": "DnoRxELIRvvy"
      },
      "id": "DnoRxELIRvvy"
    },
    {
      "cell_type": "code",
      "source": [
        "from sklearn.preprocessing import StandardScaler\n",
        "from sklearn.model_selection  import cross_validate"
      ],
      "metadata": {
        "id": "-vVYe7CMR0u7"
      },
      "id": "-vVYe7CMR0u7",
      "execution_count": null,
      "outputs": []
    },
    {
      "cell_type": "code",
      "source": [
        "# выделяем интересующие нас факторы\n",
        "X = boston_data[['LSTAT','PTRATIO','RM','CRIM']]\n",
        "y = boston_data[['PRICE']]\n",
        "# инициазизируем стандартизатор StandardScaler\n",
        "scaler = StandardScaler()\n",
        "# подгоняем параметры стандартизатора (вычисляем среднее и среднее квадр. отклон)\n",
        "X = scaler.fit_transform(X)\n",
        "# добавляем полиномиальные признаки\n",
        "poly = PolynomialFeatures(degree=3, include_bias=False)\n",
        "X = poly.fit_transform(X)\n",
        "# создаем модель линейной регрессии с L2-регуляризацией\n",
        "ridge = Ridge(alpha=20, solver='svd')\n",
        "# оцениваем качество модели на кросс-валидации\n",
        "cv_results = cross_validate(ridge, X, y, scoring='neg_mean_absolute_percentage_error', cv=5,\n",
        "                            return_train_score=True)\n",
        "print(f'MAPE на тренировочных фолдах: {np.round(-cv_results[\"train_score\"].mean()*100,2)}%')\n",
        "print(f'MAPE на валидационных фолдах: {np.round(-cv_results[\"test_score\"].mean()*100,2)}%')"
      ],
      "metadata": {
        "colab": {
          "base_uri": "https://localhost:8080/"
        },
        "id": "PyBowbbzSHjT",
        "outputId": "f26de476-d18b-4903-bfe3-1bb692c11902"
      },
      "id": "PyBowbbzSHjT",
      "execution_count": null,
      "outputs": [
        {
          "output_type": "stream",
          "name": "stdout",
          "text": [
            "MAPE на тренировочных фолдах: 12.54%\n",
            "MAPE на валидационных фолдах: 17.02%\n"
          ]
        }
      ]
    },
    {
      "cell_type": "markdown",
      "source": [
        "### TASK 7.4"
      ],
      "metadata": {
        "id": "5ENhBF_0qLHV"
      },
      "id": "5ENhBF_0qLHV"
    },
    {
      "cell_type": "code",
      "source": [
        "x1 = np.array([5, 9, 4, 3, 5])\n",
        "x2 = np.array([15, 18, 18, 19, 19])\n",
        "x3 = np.array([7, 6, 7, 7, 7])\n",
        "y = np.array([24, 22, 35, 33, 36])\n",
        "alpha = 1\n",
        "\n",
        "A = np.array([\n",
        "    [1, 1, 1, 1, 1],\n",
        "    x1,\n",
        "    x2,\n",
        "    x3\n",
        "]).T\n",
        "print(A)"
      ],
      "metadata": {
        "colab": {
          "base_uri": "https://localhost:8080/"
        },
        "id": "HJye5_MkqOy0",
        "outputId": "60966530-ab4b-4b43-eee8-ab7814ece667"
      },
      "id": "HJye5_MkqOy0",
      "execution_count": null,
      "outputs": [
        {
          "output_type": "stream",
          "name": "stdout",
          "text": [
            "[[ 1  5 15  7]\n",
            " [ 1  9 18  6]\n",
            " [ 1  4 18  7]\n",
            " [ 1  3 19  7]\n",
            " [ 1  5 19  7]]\n"
          ]
        }
      ]
    },
    {
      "cell_type": "code",
      "source": [
        "E = np.eye((A.T@A).shape[0])\n",
        "print(E)"
      ],
      "metadata": {
        "colab": {
          "base_uri": "https://localhost:8080/"
        },
        "id": "zIgNSkaArN9U",
        "outputId": "838e4213-cd51-4f7f-f27a-70f606f56968"
      },
      "id": "zIgNSkaArN9U",
      "execution_count": null,
      "outputs": [
        {
          "output_type": "stream",
          "name": "stdout",
          "text": [
            "[[1. 0. 0. 0.]\n",
            " [0. 1. 0. 0.]\n",
            " [0. 0. 1. 0.]\n",
            " [0. 0. 0. 1.]]\n"
          ]
        }
      ]
    },
    {
      "cell_type": "code",
      "source": [
        "w_ridge = np.linalg.inv(A.T @ A + alpha*E) @ A.T @ y\n",
        "print(w_ridge.round(2))"
      ],
      "metadata": {
        "colab": {
          "base_uri": "https://localhost:8080/"
        },
        "id": "fYYXo7oBq6oi",
        "outputId": "6ee12cdf-6297-43a4-808a-0834fe49a335"
      },
      "id": "fYYXo7oBq6oi",
      "execution_count": null,
      "outputs": [
        {
          "output_type": "stream",
          "name": "stdout",
          "text": [
            "[-0.09 -1.71  1.91  0.73]\n"
          ]
        }
      ]
    },
    {
      "cell_type": "markdown",
      "source": [
        "###L1- regularization. Lasso."
      ],
      "metadata": {
        "id": "BjuIY0LttCNc"
      },
      "id": "BjuIY0LttCNc"
    },
    {
      "cell_type": "code",
      "source": [
        "x1 = np.array([1, 0, -3, 2, 4]).T\n",
        "x2 = np.array([2, 0, -6, 4, 8]).T\n",
        "y = np.array([4, 3, -4, 2, 7]).T\n",
        "\n",
        "alpha = 0.1\n",
        "A = np.array([\n",
        "    [1, 1, 1, 1, 1],\n",
        "    x1,\n",
        "    x2\n",
        "]).T\n",
        "print(A)"
      ],
      "metadata": {
        "colab": {
          "base_uri": "https://localhost:8080/"
        },
        "id": "1AHE4A45tCwX",
        "outputId": "bfe1291a-c23b-473f-8d96-a7bc28225cd4"
      },
      "id": "1AHE4A45tCwX",
      "execution_count": null,
      "outputs": [
        {
          "output_type": "stream",
          "name": "stdout",
          "text": [
            "[[ 1  1  2]\n",
            " [ 1  0  0]\n",
            " [ 1 -3 -6]\n",
            " [ 1  2  4]\n",
            " [ 1  4  8]]\n"
          ]
        }
      ]
    },
    {
      "cell_type": "code",
      "source": [
        "G = A.T @ A\n",
        "print(G)"
      ],
      "metadata": {
        "colab": {
          "base_uri": "https://localhost:8080/"
        },
        "id": "VZpQDhmX2UrB",
        "outputId": "6a9ff761-3aa6-4158-cecc-43b73093bb0d"
      },
      "id": "VZpQDhmX2UrB",
      "execution_count": null,
      "outputs": [
        {
          "output_type": "stream",
          "name": "stdout",
          "text": [
            "[[  5   4   8]\n",
            " [  4  30  60]\n",
            " [  8  60 120]]\n"
          ]
        }
      ]
    },
    {
      "cell_type": "code",
      "source": [
        "from sklearn.linear_model import Lasso"
      ],
      "metadata": {
        "id": "qepecOly3Jii"
      },
      "id": "qepecOly3Jii",
      "execution_count": null,
      "outputs": []
    },
    {
      "cell_type": "code",
      "source": [
        "# получаем оценку коэффициунтов регрессии с помощью L1-регуляризации\n",
        "lasso = Lasso(alpha=0.1, fit_intercept=False)\n",
        "lasso.fit(A, y)\n",
        "print(lasso.coef_)"
      ],
      "metadata": {
        "colab": {
          "base_uri": "https://localhost:8080/"
        },
        "id": "LwuJBCyx2ZiN",
        "outputId": "e70afe14-4188-4bc6-c7a1-2498bc2ebfd1"
      },
      "id": "LwuJBCyx2ZiN",
      "execution_count": null,
      "outputs": [
        {
          "output_type": "stream",
          "name": "stdout",
          "text": [
            "[1.14925373 0.         0.71921642]\n"
          ]
        }
      ]
    },
    {
      "cell_type": "markdown",
      "source": [
        "### На реальных данных"
      ],
      "metadata": {
        "id": "Als1mARD33pO"
      },
      "id": "Als1mARD33pO"
    },
    {
      "cell_type": "code",
      "source": [
        "# выделяем интересующие нас факторы\n",
        "X = boston_data[['LSTAT','PTRATIO','RM','CRIM']]\n",
        "y = boston_data[['PRICE']]\n",
        "\n",
        "# инициализируем стандартизатор StandardScaler\n",
        "scaler = StandardScaler()\n",
        "# подгоняем параметры стандартизатора (вычисляем среднее и среднее квадратичное отклонение)\n",
        "X = scaler.fit_transform(X)\n",
        "\n",
        "# добавляем полиномиальные признаки\n",
        "poly = PolynomialFeatures(degree=3, include_bias=False)\n",
        "X = poly.fit_transform(X)\n",
        "\n",
        "# создаем модель линейной регрессии с L1- регуляризацией\n",
        "lasso = Lasso(alpha=0.1, max_iter=10000)\n",
        "\n",
        "# оцениваем качество модели на кросс-валидации\n",
        "cv_results = cross_validate(lasso, X, y, scoring='neg_mean_absolute_percentage_error', cv=5,\n",
        "                            return_train_score=True)\n",
        "print(f'MAPE на тренировочных фолдах: {np.round(-cv_results[\"train_score\"].mean()*100,2)}%')\n",
        "print(f'MAPE на валидационных фолдах: {np.round(-cv_results[\"test_score\"].mean()*100,2)}%')"
      ],
      "metadata": {
        "colab": {
          "base_uri": "https://localhost:8080/"
        },
        "id": "KFFlcmx2378V",
        "outputId": "eba492fe-3961-4863-a050-03701d2b77bb"
      },
      "id": "KFFlcmx2378V",
      "execution_count": null,
      "outputs": [
        {
          "output_type": "stream",
          "name": "stdout",
          "text": [
            "MAPE на тренировочных фолдах: 12.44%\n",
            "MAPE на валидационных фолдах: 16.44%\n"
          ]
        }
      ]
    },
    {
      "cell_type": "markdown",
      "source": [
        "### ELASTIC-NET"
      ],
      "metadata": {
        "id": "hjOV2CYq7Enw"
      },
      "id": "hjOV2CYq7Enw"
    },
    {
      "cell_type": "code",
      "source": [
        "x1 = np.array([1, 0, -3, 2, 4])\n",
        "x2 = np.array([2, 0, -6, 4, 8])\n",
        "y = np.array([4, 3, -4, 2, 7]).T\n",
        "\n",
        "A = np.array([\n",
        "    [1, 1, 1, 1, 1],\n",
        "    x1,\n",
        "    x2\n",
        "]).T\n",
        "\n",
        "print(A)"
      ],
      "metadata": {
        "colab": {
          "base_uri": "https://localhost:8080/"
        },
        "id": "Ts9sCxVc6qzQ",
        "outputId": "e0c4cef6-7225-4745-f1a1-e83ea0790656"
      },
      "id": "Ts9sCxVc6qzQ",
      "execution_count": null,
      "outputs": [
        {
          "output_type": "stream",
          "name": "stdout",
          "text": [
            "[[ 1  1  2]\n",
            " [ 1  0  0]\n",
            " [ 1 -3 -6]\n",
            " [ 1  2  4]\n",
            " [ 1  4  8]]\n"
          ]
        }
      ]
    },
    {
      "cell_type": "code",
      "source": [
        "print(A.T @ A)"
      ],
      "metadata": {
        "colab": {
          "base_uri": "https://localhost:8080/"
        },
        "id": "2J9bqZb18yBm",
        "outputId": "40422bb1-9654-42be-f1ba-33b743ee6f10"
      },
      "id": "2J9bqZb18yBm",
      "execution_count": null,
      "outputs": [
        {
          "output_type": "stream",
          "name": "stdout",
          "text": [
            "[[  5   4   8]\n",
            " [  4  30  60]\n",
            " [  8  60 120]]\n"
          ]
        }
      ]
    },
    {
      "cell_type": "code",
      "source": [
        "from sklearn.linear_model import ElasticNet"
      ],
      "metadata": {
        "id": "ll72B58t9nsC"
      },
      "id": "ll72B58t9nsC",
      "execution_count": null,
      "outputs": []
    },
    {
      "cell_type": "code",
      "source": [
        "# получаем оценку коэффициентов регрессии при alpha = 0.1, l1_ratio=0.2\n",
        "lasso = ElasticNet(alpha=0.1, l1_ratio=0.2, fit_intercept=False)\n",
        "lasso.fit(A, y)\n",
        "print(lasso.coef_)"
      ],
      "metadata": {
        "colab": {
          "base_uri": "https://localhost:8080/"
        },
        "id": "DF1628x_8530",
        "outputId": "baad20b7-bdda-4cda-98fa-66f357146679"
      },
      "id": "DF1628x_8530",
      "execution_count": null,
      "outputs": [
        {
          "output_type": "stream",
          "name": "stdout",
          "text": [
            "[1.13492457 0.19525842 0.6237965 ]\n"
          ]
        }
      ]
    },
    {
      "cell_type": "code",
      "source": [
        "# получаем оценку коэффициентов регрессии при alpha = 0.1, l1_ratio=0.7\n",
        "lasso = ElasticNet(alpha=0.1, l1_ratio=0.7, fit_intercept=False)\n",
        "lasso.fit(A, y)\n",
        "print(lasso.coef_)"
      ],
      "metadata": {
        "colab": {
          "base_uri": "https://localhost:8080/"
        },
        "id": "bDFvUQrM92TI",
        "outputId": "3271b5f3-7a3a-4ced-dde5-e494e08933c6"
      },
      "id": "bDFvUQrM92TI",
      "execution_count": null,
      "outputs": [
        {
          "output_type": "stream",
          "name": "stdout",
          "text": [
            "[1.14379753 0.         0.71993025]\n"
          ]
        }
      ]
    },
    {
      "cell_type": "code",
      "source": [
        "# получаем оценку коэффициентов регрессии при alpha = 0.1, l1_ratio=1\n",
        "lasso = ElasticNet(alpha=0.1, l1_ratio=1, fit_intercept=False)\n",
        "lasso.fit(A, y)\n",
        "print(lasso.coef_)"
      ],
      "metadata": {
        "colab": {
          "base_uri": "https://localhost:8080/"
        },
        "id": "J1nSWD9F-J4q",
        "outputId": "9dbd5b7b-9876-47d7-84d6-0202ea292bc6"
      },
      "id": "J1nSWD9F-J4q",
      "execution_count": null,
      "outputs": [
        {
          "output_type": "stream",
          "name": "stdout",
          "text": [
            "[1.14925373 0.         0.71921642]\n"
          ]
        }
      ]
    },
    {
      "cell_type": "markdown",
      "source": [
        "### На реальных данных"
      ],
      "metadata": {
        "id": "SkgvFXHu-VX9"
      },
      "id": "SkgvFXHu-VX9"
    },
    {
      "cell_type": "code",
      "source": [
        "# выделяем интересующие нас факторы\n",
        "X = boston_data[['LSTAT','PTRATIO','RM','CRIM']]\n",
        "y = boston_data[['PRICE']]\n",
        "\n",
        "# инициализируем стандартизатор StandardScaler\n",
        "scaler = StandardScaler()\n",
        "# подгоняем параметры стандартизатора (вычисляем среднее и СКО)\n",
        "X = scaler.fit_transform(X)\n",
        "\n",
        "# добавляем полиномиальные признаки\n",
        "poly = PolynomialFeatures(degree=3, include_bias=False)\n",
        "X = poly.fit_transform(X)\n",
        "\n",
        "# создаем модель линейной регрессии с L1 и L2 регуляризациями\n",
        "lasso = ElasticNet(alpha=0.1, l1_ratio=0.5, max_iter=10000)\n",
        "\n",
        "# оцениваем качество модели на кросс-валидации\n",
        "cv_results = cross_validate(lasso, X, y, scoring='neg_mean_absolute_percentage_error', cv=5,\n",
        "                            return_train_score=True)\n",
        "print(f'MAPE на тренировочных фолдах: {np.round(-cv_results[\"train_score\"].mean()*100,2)}%')\n",
        "print(f'MAPE на валидационных фолдах: {np.round(-cv_results[\"test_score\"].mean()*100,2)}%')"
      ],
      "metadata": {
        "colab": {
          "base_uri": "https://localhost:8080/"
        },
        "id": "-rQSTM33-Jz2",
        "outputId": "a8eb3a1a-e805-410b-f3f2-f3682394f398"
      },
      "id": "-rQSTM33-Jz2",
      "execution_count": null,
      "outputs": [
        {
          "output_type": "stream",
          "name": "stdout",
          "text": [
            "MAPE на тренировочных фолдах: 12.65%\n",
            "MAPE на валидационных фолдах: 15.7%\n"
          ]
        }
      ]
    },
    {
      "cell_type": "markdown",
      "source": [
        "### Practice"
      ],
      "metadata": {
        "id": "kNEFuSC-ECDP"
      },
      "id": "kNEFuSC-ECDP"
    },
    {
      "cell_type": "markdown",
      "source": [
        "### TASK 8.1"
      ],
      "metadata": {
        "id": "NvjNT3qEWiA1"
      },
      "id": "NvjNT3qEWiA1"
    },
    {
      "cell_type": "code",
      "source": [
        "from sklearn.preprocessing import PolynomialFeatures\n",
        "from sklearn.linear_model import LinearRegression\n",
        "from sklearn.model_selection import cross_validate\n",
        "from sklearn.preprocessing import StandardScaler\n",
        "from sklearn.linear_model import Lasso\n",
        "from sklearn.linear_model import Ridge"
      ],
      "metadata": {
        "id": "kNTDEJn0W6AN"
      },
      "id": "kNTDEJn0W6AN",
      "execution_count": null,
      "outputs": []
    },
    {
      "cell_type": "code",
      "source": [
        "df2.head()"
      ],
      "metadata": {
        "colab": {
          "base_uri": "https://localhost:8080/",
          "height": 206
        },
        "id": "A8GaPEmoEEdd",
        "outputId": "4f574cef-750c-4832-f7b8-1bba61f0a1a4"
      },
      "id": "A8GaPEmoEEdd",
      "execution_count": null,
      "outputs": [
        {
          "output_type": "execute_result",
          "data": {
            "text/plain": [
              "     Por    AI  Brittle    VR         Prod\n",
              "0  12.08  2.80    81.40  2.31  4165.196191\n",
              "1  12.38  3.22    46.17  1.88  3561.146205\n",
              "2  14.02  4.01    72.80  2.72  4284.348574\n",
              "3  17.67  2.63    39.81  1.88  5098.680869\n",
              "4  17.52  3.18    10.94  1.90  3406.132832"
            ],
            "text/html": [
              "\n",
              "  <div id=\"df-0889fe77-a9ca-497d-a3e9-1556828da58c\">\n",
              "    <div class=\"colab-df-container\">\n",
              "      <div>\n",
              "<style scoped>\n",
              "    .dataframe tbody tr th:only-of-type {\n",
              "        vertical-align: middle;\n",
              "    }\n",
              "\n",
              "    .dataframe tbody tr th {\n",
              "        vertical-align: top;\n",
              "    }\n",
              "\n",
              "    .dataframe thead th {\n",
              "        text-align: right;\n",
              "    }\n",
              "</style>\n",
              "<table border=\"1\" class=\"dataframe\">\n",
              "  <thead>\n",
              "    <tr style=\"text-align: right;\">\n",
              "      <th></th>\n",
              "      <th>Por</th>\n",
              "      <th>AI</th>\n",
              "      <th>Brittle</th>\n",
              "      <th>VR</th>\n",
              "      <th>Prod</th>\n",
              "    </tr>\n",
              "  </thead>\n",
              "  <tbody>\n",
              "    <tr>\n",
              "      <th>0</th>\n",
              "      <td>12.08</td>\n",
              "      <td>2.80</td>\n",
              "      <td>81.40</td>\n",
              "      <td>2.31</td>\n",
              "      <td>4165.196191</td>\n",
              "    </tr>\n",
              "    <tr>\n",
              "      <th>1</th>\n",
              "      <td>12.38</td>\n",
              "      <td>3.22</td>\n",
              "      <td>46.17</td>\n",
              "      <td>1.88</td>\n",
              "      <td>3561.146205</td>\n",
              "    </tr>\n",
              "    <tr>\n",
              "      <th>2</th>\n",
              "      <td>14.02</td>\n",
              "      <td>4.01</td>\n",
              "      <td>72.80</td>\n",
              "      <td>2.72</td>\n",
              "      <td>4284.348574</td>\n",
              "    </tr>\n",
              "    <tr>\n",
              "      <th>3</th>\n",
              "      <td>17.67</td>\n",
              "      <td>2.63</td>\n",
              "      <td>39.81</td>\n",
              "      <td>1.88</td>\n",
              "      <td>5098.680869</td>\n",
              "    </tr>\n",
              "    <tr>\n",
              "      <th>4</th>\n",
              "      <td>17.52</td>\n",
              "      <td>3.18</td>\n",
              "      <td>10.94</td>\n",
              "      <td>1.90</td>\n",
              "      <td>3406.132832</td>\n",
              "    </tr>\n",
              "  </tbody>\n",
              "</table>\n",
              "</div>\n",
              "      <button class=\"colab-df-convert\" onclick=\"convertToInteractive('df-0889fe77-a9ca-497d-a3e9-1556828da58c')\"\n",
              "              title=\"Convert this dataframe to an interactive table.\"\n",
              "              style=\"display:none;\">\n",
              "        \n",
              "  <svg xmlns=\"http://www.w3.org/2000/svg\" height=\"24px\"viewBox=\"0 0 24 24\"\n",
              "       width=\"24px\">\n",
              "    <path d=\"M0 0h24v24H0V0z\" fill=\"none\"/>\n",
              "    <path d=\"M18.56 5.44l.94 2.06.94-2.06 2.06-.94-2.06-.94-.94-2.06-.94 2.06-2.06.94zm-11 1L8.5 8.5l.94-2.06 2.06-.94-2.06-.94L8.5 2.5l-.94 2.06-2.06.94zm10 10l.94 2.06.94-2.06 2.06-.94-2.06-.94-.94-2.06-.94 2.06-2.06.94z\"/><path d=\"M17.41 7.96l-1.37-1.37c-.4-.4-.92-.59-1.43-.59-.52 0-1.04.2-1.43.59L10.3 9.45l-7.72 7.72c-.78.78-.78 2.05 0 2.83L4 21.41c.39.39.9.59 1.41.59.51 0 1.02-.2 1.41-.59l7.78-7.78 2.81-2.81c.8-.78.8-2.07 0-2.86zM5.41 20L4 18.59l7.72-7.72 1.47 1.35L5.41 20z\"/>\n",
              "  </svg>\n",
              "      </button>\n",
              "      \n",
              "  <style>\n",
              "    .colab-df-container {\n",
              "      display:flex;\n",
              "      flex-wrap:wrap;\n",
              "      gap: 12px;\n",
              "    }\n",
              "\n",
              "    .colab-df-convert {\n",
              "      background-color: #E8F0FE;\n",
              "      border: none;\n",
              "      border-radius: 50%;\n",
              "      cursor: pointer;\n",
              "      display: none;\n",
              "      fill: #1967D2;\n",
              "      height: 32px;\n",
              "      padding: 0 0 0 0;\n",
              "      width: 32px;\n",
              "    }\n",
              "\n",
              "    .colab-df-convert:hover {\n",
              "      background-color: #E2EBFA;\n",
              "      box-shadow: 0px 1px 2px rgba(60, 64, 67, 0.3), 0px 1px 3px 1px rgba(60, 64, 67, 0.15);\n",
              "      fill: #174EA6;\n",
              "    }\n",
              "\n",
              "    [theme=dark] .colab-df-convert {\n",
              "      background-color: #3B4455;\n",
              "      fill: #D2E3FC;\n",
              "    }\n",
              "\n",
              "    [theme=dark] .colab-df-convert:hover {\n",
              "      background-color: #434B5C;\n",
              "      box-shadow: 0px 1px 3px 1px rgba(0, 0, 0, 0.15);\n",
              "      filter: drop-shadow(0px 1px 2px rgba(0, 0, 0, 0.3));\n",
              "      fill: #FFFFFF;\n",
              "    }\n",
              "  </style>\n",
              "\n",
              "      <script>\n",
              "        const buttonEl =\n",
              "          document.querySelector('#df-0889fe77-a9ca-497d-a3e9-1556828da58c button.colab-df-convert');\n",
              "        buttonEl.style.display =\n",
              "          google.colab.kernel.accessAllowed ? 'block' : 'none';\n",
              "\n",
              "        async function convertToInteractive(key) {\n",
              "          const element = document.querySelector('#df-0889fe77-a9ca-497d-a3e9-1556828da58c');\n",
              "          const dataTable =\n",
              "            await google.colab.kernel.invokeFunction('convertToInteractive',\n",
              "                                                     [key], {});\n",
              "          if (!dataTable) return;\n",
              "\n",
              "          const docLinkHtml = 'Like what you see? Visit the ' +\n",
              "            '<a target=\"_blank\" href=https://colab.research.google.com/notebooks/data_table.ipynb>data table notebook</a>'\n",
              "            + ' to learn more about interactive tables.';\n",
              "          element.innerHTML = '';\n",
              "          dataTable['output_type'] = 'display_data';\n",
              "          await google.colab.output.renderOutput(dataTable, element);\n",
              "          const docLink = document.createElement('div');\n",
              "          docLink.innerHTML = docLinkHtml;\n",
              "          element.appendChild(docLink);\n",
              "        }\n",
              "      </script>\n",
              "    </div>\n",
              "  </div>\n",
              "  "
            ]
          },
          "metadata": {},
          "execution_count": 128
        }
      ]
    },
    {
      "cell_type": "code",
      "source": [
        "X = df2.drop('Prod', axis=1)\n",
        "y = df2['Prod']\n",
        "\n",
        "# сгенерим полиномиальные признаки\n",
        "poly = PolynomialFeatures(degree=3, include_bias=False)\n",
        "X = poly.fit_transform(X)\n",
        "df_poly = pd.DataFrame(data=X)\n",
        "print(df_poly.shape[1])"
      ],
      "metadata": {
        "colab": {
          "base_uri": "https://localhost:8080/"
        },
        "id": "p6hQS-fcWkvU",
        "outputId": "d590dd9c-14d8-4fb3-fa41-bc4b6759f485"
      },
      "id": "p6hQS-fcWkvU",
      "execution_count": null,
      "outputs": [
        {
          "output_type": "stream",
          "name": "stdout",
          "text": [
            "34\n"
          ]
        }
      ]
    },
    {
      "cell_type": "code",
      "source": [
        "# построим модель линейной регрессии\n",
        "lr = LinearRegression()\n",
        "\n",
        "# оцениваем качество модели на кросс-валидации\n",
        "cv_results = cross_validate(lr, X, y,scoring='neg_mean_absolute_percentage_error', cv=5,\n",
        "                            return_train_score=True)\n",
        "print(f'MAPE на тренировочных фолдах: {round(-cv_results[\"train_score\"].mean()*100,1)}%')\n",
        "print(f'MAPE на тестовых фолдах: {round(-cv_results[\"test_score\"].mean()*100,1)}%')"
      ],
      "metadata": {
        "colab": {
          "base_uri": "https://localhost:8080/"
        },
        "id": "-OQJfBVpX1zk",
        "outputId": "debbf8a0-a876-42d7-8180-f1533c345a88"
      },
      "id": "-OQJfBVpX1zk",
      "execution_count": null,
      "outputs": [
        {
          "output_type": "stream",
          "name": "stdout",
          "text": [
            "MAPE на тренировочных фолдах: 1.8%\n",
            "MAPE на тестовых фолдах: 2.7%\n"
          ]
        }
      ]
    },
    {
      "cell_type": "markdown",
      "source": [
        "### TASK 8.2"
      ],
      "metadata": {
        "id": "ZAN06kNFZ4Ax"
      },
      "id": "ZAN06kNFZ4Ax"
    },
    {
      "cell_type": "code",
      "source": [
        "X = df2.drop('Prod', axis=1)\n",
        "y = df2['Prod']\n",
        "\n",
        "# стандартизируем данные\n",
        "scaler = StandardScaler()\n",
        "X = scaler.fit_transform(X)\n",
        "\n",
        "# сгенерим полиномиальные признаки\n",
        "poly = PolynomialFeatures(degree=3)\n",
        "X = poly.fit_transform(X)\n",
        "\n",
        "# построим модель линейной регрессии c L1-регуляризацией\n",
        "lasso = Lasso(alpha=5)\n",
        "\n",
        "# оцениваем качество модели на кросс-валидации\n",
        "cv_results = cross_validate(lasso, X, y,scoring='neg_mean_absolute_percentage_error', cv=5,\n",
        "                            return_train_score=True)\n",
        "print(f'MAPE на тренировочных фолдах: {round(-cv_results[\"train_score\"].mean()*100,1)}%')\n",
        "print(f'MAPE на тестовых фолдах: {round(-cv_results[\"test_score\"].mean()*100,1)}%')"
      ],
      "metadata": {
        "colab": {
          "base_uri": "https://localhost:8080/"
        },
        "id": "-wPRBcjhZ3T6",
        "outputId": "b8bdcaa3-6edf-4372-e858-b980dcef92d4"
      },
      "id": "-wPRBcjhZ3T6",
      "execution_count": null,
      "outputs": [
        {
          "output_type": "stream",
          "name": "stdout",
          "text": [
            "MAPE на тренировочных фолдах: 1.8%\n",
            "MAPE на тестовых фолдах: 2.3%\n"
          ]
        }
      ]
    },
    {
      "cell_type": "markdown",
      "source": [
        "### TASK 8.3"
      ],
      "metadata": {
        "id": "Ufq0qqNgdO8E"
      },
      "id": "Ufq0qqNgdO8E"
    },
    {
      "cell_type": "code",
      "source": [
        "X = df2.drop('Prod', axis=1)\n",
        "y = df2['Prod']\n",
        "\n",
        "# стандартизируем данные\n",
        "scaler = StandardScaler()\n",
        "X = scaler.fit_transform(X)\n",
        "\n",
        "# сгенерим полиномиальные признаки\n",
        "poly = PolynomialFeatures(degree=3)\n",
        "X = poly.fit_transform(X)\n",
        "\n",
        "# построим модель линейной регрессии c L2-регуляризацией\n",
        "ridge = Ridge(alpha=1)\n",
        "\n",
        "# оцениваем качество модели на кросс-валидации\n",
        "cv_results = cross_validate(ridge, X, y,scoring='neg_mean_absolute_percentage_error', cv=5,\n",
        "                            return_train_score=True)\n",
        "print(f'MAPE на тренировочных фолдах: {round(-cv_results[\"train_score\"].mean()*100,1)}%')\n",
        "print(f'MAPE на тестовых фолдах: {round(-cv_results[\"test_score\"].mean()*100,1)}%')"
      ],
      "metadata": {
        "colab": {
          "base_uri": "https://localhost:8080/"
        },
        "id": "D_6E0VkfdOtp",
        "outputId": "3d5a169c-c059-4c17-e33e-6b4c421d138c"
      },
      "id": "D_6E0VkfdOtp",
      "execution_count": null,
      "outputs": [
        {
          "output_type": "stream",
          "name": "stdout",
          "text": [
            "MAPE на тренировочных фолдах: 1.8%\n",
            "MAPE на тестовых фолдах: 2.7%\n"
          ]
        }
      ]
    },
    {
      "cell_type": "markdown",
      "source": [
        "### Linear operator"
      ],
      "metadata": {
        "id": "uwuXhwii8x6f"
      },
      "id": "uwuXhwii8x6f"
    },
    {
      "cell_type": "code",
      "source": [
        "F = np.array([\n",
        "    [2, 1],\n",
        "    [1, 2]\n",
        "])\n",
        "\n",
        "u = np.array([1, -1]).T\n",
        "v = np.array([1, 1]).T\n",
        "u2 = F @ u\n",
        "v2 = F @ v\n",
        "\n",
        "print(u2)\n",
        "print(v2)"
      ],
      "metadata": {
        "colab": {
          "base_uri": "https://localhost:8080/"
        },
        "id": "_7VG-K_W8k70",
        "outputId": "7c4779a8-c978-4fb4-8d81-2aae89b44737"
      },
      "id": "_7VG-K_W8k70",
      "execution_count": null,
      "outputs": [
        {
          "output_type": "stream",
          "name": "stdout",
          "text": [
            "[ 1 -1]\n",
            "[3 3]\n"
          ]
        }
      ]
    },
    {
      "cell_type": "code",
      "source": [
        "print(np.linalg.norm(v))\n",
        "print(np.linalg.norm(v2))"
      ],
      "metadata": {
        "colab": {
          "base_uri": "https://localhost:8080/"
        },
        "id": "RlBSMUdA-r-v",
        "outputId": "0f73d40a-b568-4a27-920e-bb3579b6aa01"
      },
      "id": "RlBSMUdA-r-v",
      "execution_count": null,
      "outputs": [
        {
          "output_type": "stream",
          "name": "stdout",
          "text": [
            "1.4142135623730951\n",
            "4.242640687119285\n"
          ]
        }
      ]
    },
    {
      "cell_type": "code",
      "source": [
        "print(u2 @ v2)\n",
        "print(np.dot(u2, v2))"
      ],
      "metadata": {
        "colab": {
          "base_uri": "https://localhost:8080/"
        },
        "id": "kou0-5pD959F",
        "outputId": "e7237eb6-5de1-4f2d-908b-b2eec2a7055d"
      },
      "id": "kou0-5pD959F",
      "execution_count": null,
      "outputs": [
        {
          "output_type": "stream",
          "name": "stdout",
          "text": [
            "0\n",
            "0\n"
          ]
        }
      ]
    }
  ],
  "metadata": {
    "kernelspec": {
      "display_name": "Python 3 (ipykernel)",
      "language": "python",
      "name": "python3"
    },
    "language_info": {
      "codemirror_mode": {
        "name": "ipython",
        "version": 3
      },
      "file_extension": ".py",
      "mimetype": "text/x-python",
      "name": "python",
      "nbconvert_exporter": "python",
      "pygments_lexer": "ipython3",
      "version": "3.9.7"
    },
    "colab": {
      "provenance": []
    }
  },
  "nbformat": 4,
  "nbformat_minor": 5
}