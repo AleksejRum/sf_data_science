{
  "cells": [
    {
      "cell_type": "markdown",
      "metadata": {
        "id": "NyHIGVhfa_Wf"
      },
      "source": [
        "# Стохастический градиентный и координатный спуски"
      ]
    },
    {
      "cell_type": "markdown",
      "metadata": {
        "id": "gn6lluIADUKa"
      },
      "source": [
        "Для каждого задания указано количество баллов (если они оцениваются отдельно) + 1 балл за аккуратное и полное выполнение всего задания"
      ]
    },
    {
      "cell_type": "code",
      "execution_count": 136,
      "metadata": {
        "colab": {
          "base_uri": "https://localhost:8080/"
        },
        "id": "5rzZ1t2ElhDa",
        "outputId": "51d86635-b212-4894-ba29-ce43bf326118"
      },
      "outputs": [
        {
          "output_type": "stream",
          "name": "stdout",
          "text": [
            "Drive already mounted at /content/drive; to attempt to forcibly remount, call drive.mount(\"/content/drive\", force_remount=True).\n"
          ]
        }
      ],
      "source": [
        "import pandas as pd\n",
        "import numpy as np\n",
        "from google.colab import drive\n",
        "drive.mount('/content/drive')"
      ]
    },
    {
      "cell_type": "markdown",
      "metadata": {
        "id": "txCccYvha_Wv"
      },
      "source": [
        "## Загрузка и подготовка данных"
      ]
    },
    {
      "cell_type": "markdown",
      "metadata": {
        "id": "NbyOzeZ6a_Wx"
      },
      "source": [
        "**Загрузите уже знакомый вам файл *Advertising.csv* как объект DataFrame.** "
      ]
    },
    {
      "cell_type": "code",
      "execution_count": 137,
      "metadata": {
        "colab": {
          "base_uri": "https://localhost:8080/",
          "height": 206
        },
        "id": "E1L4_xeDa_Wz",
        "outputId": "3dace8ee-b1b5-49ac-bc9f-4b7f984b780b"
      },
      "outputs": [
        {
          "output_type": "execute_result",
          "data": {
            "text/plain": [
              "      TV  radio  newspaper  sales\n",
              "0  230.1   37.8       69.2   22.1\n",
              "1   44.5   39.3       45.1   10.4\n",
              "2   17.2   45.9       69.3    9.3\n",
              "3  151.5   41.3       58.5   18.5\n",
              "4  180.8   10.8       58.4   12.9"
            ],
            "text/html": [
              "\n",
              "  <div id=\"df-f7039480-bb6b-42bb-a6c9-b1f220a0bcf2\">\n",
              "    <div class=\"colab-df-container\">\n",
              "      <div>\n",
              "<style scoped>\n",
              "    .dataframe tbody tr th:only-of-type {\n",
              "        vertical-align: middle;\n",
              "    }\n",
              "\n",
              "    .dataframe tbody tr th {\n",
              "        vertical-align: top;\n",
              "    }\n",
              "\n",
              "    .dataframe thead th {\n",
              "        text-align: right;\n",
              "    }\n",
              "</style>\n",
              "<table border=\"1\" class=\"dataframe\">\n",
              "  <thead>\n",
              "    <tr style=\"text-align: right;\">\n",
              "      <th></th>\n",
              "      <th>TV</th>\n",
              "      <th>radio</th>\n",
              "      <th>newspaper</th>\n",
              "      <th>sales</th>\n",
              "    </tr>\n",
              "  </thead>\n",
              "  <tbody>\n",
              "    <tr>\n",
              "      <th>0</th>\n",
              "      <td>230.1</td>\n",
              "      <td>37.8</td>\n",
              "      <td>69.2</td>\n",
              "      <td>22.1</td>\n",
              "    </tr>\n",
              "    <tr>\n",
              "      <th>1</th>\n",
              "      <td>44.5</td>\n",
              "      <td>39.3</td>\n",
              "      <td>45.1</td>\n",
              "      <td>10.4</td>\n",
              "    </tr>\n",
              "    <tr>\n",
              "      <th>2</th>\n",
              "      <td>17.2</td>\n",
              "      <td>45.9</td>\n",
              "      <td>69.3</td>\n",
              "      <td>9.3</td>\n",
              "    </tr>\n",
              "    <tr>\n",
              "      <th>3</th>\n",
              "      <td>151.5</td>\n",
              "      <td>41.3</td>\n",
              "      <td>58.5</td>\n",
              "      <td>18.5</td>\n",
              "    </tr>\n",
              "    <tr>\n",
              "      <th>4</th>\n",
              "      <td>180.8</td>\n",
              "      <td>10.8</td>\n",
              "      <td>58.4</td>\n",
              "      <td>12.9</td>\n",
              "    </tr>\n",
              "  </tbody>\n",
              "</table>\n",
              "</div>\n",
              "      <button class=\"colab-df-convert\" onclick=\"convertToInteractive('df-f7039480-bb6b-42bb-a6c9-b1f220a0bcf2')\"\n",
              "              title=\"Convert this dataframe to an interactive table.\"\n",
              "              style=\"display:none;\">\n",
              "        \n",
              "  <svg xmlns=\"http://www.w3.org/2000/svg\" height=\"24px\"viewBox=\"0 0 24 24\"\n",
              "       width=\"24px\">\n",
              "    <path d=\"M0 0h24v24H0V0z\" fill=\"none\"/>\n",
              "    <path d=\"M18.56 5.44l.94 2.06.94-2.06 2.06-.94-2.06-.94-.94-2.06-.94 2.06-2.06.94zm-11 1L8.5 8.5l.94-2.06 2.06-.94-2.06-.94L8.5 2.5l-.94 2.06-2.06.94zm10 10l.94 2.06.94-2.06 2.06-.94-2.06-.94-.94-2.06-.94 2.06-2.06.94z\"/><path d=\"M17.41 7.96l-1.37-1.37c-.4-.4-.92-.59-1.43-.59-.52 0-1.04.2-1.43.59L10.3 9.45l-7.72 7.72c-.78.78-.78 2.05 0 2.83L4 21.41c.39.39.9.59 1.41.59.51 0 1.02-.2 1.41-.59l7.78-7.78 2.81-2.81c.8-.78.8-2.07 0-2.86zM5.41 20L4 18.59l7.72-7.72 1.47 1.35L5.41 20z\"/>\n",
              "  </svg>\n",
              "      </button>\n",
              "      \n",
              "  <style>\n",
              "    .colab-df-container {\n",
              "      display:flex;\n",
              "      flex-wrap:wrap;\n",
              "      gap: 12px;\n",
              "    }\n",
              "\n",
              "    .colab-df-convert {\n",
              "      background-color: #E8F0FE;\n",
              "      border: none;\n",
              "      border-radius: 50%;\n",
              "      cursor: pointer;\n",
              "      display: none;\n",
              "      fill: #1967D2;\n",
              "      height: 32px;\n",
              "      padding: 0 0 0 0;\n",
              "      width: 32px;\n",
              "    }\n",
              "\n",
              "    .colab-df-convert:hover {\n",
              "      background-color: #E2EBFA;\n",
              "      box-shadow: 0px 1px 2px rgba(60, 64, 67, 0.3), 0px 1px 3px 1px rgba(60, 64, 67, 0.15);\n",
              "      fill: #174EA6;\n",
              "    }\n",
              "\n",
              "    [theme=dark] .colab-df-convert {\n",
              "      background-color: #3B4455;\n",
              "      fill: #D2E3FC;\n",
              "    }\n",
              "\n",
              "    [theme=dark] .colab-df-convert:hover {\n",
              "      background-color: #434B5C;\n",
              "      box-shadow: 0px 1px 3px 1px rgba(0, 0, 0, 0.15);\n",
              "      filter: drop-shadow(0px 1px 2px rgba(0, 0, 0, 0.3));\n",
              "      fill: #FFFFFF;\n",
              "    }\n",
              "  </style>\n",
              "\n",
              "      <script>\n",
              "        const buttonEl =\n",
              "          document.querySelector('#df-f7039480-bb6b-42bb-a6c9-b1f220a0bcf2 button.colab-df-convert');\n",
              "        buttonEl.style.display =\n",
              "          google.colab.kernel.accessAllowed ? 'block' : 'none';\n",
              "\n",
              "        async function convertToInteractive(key) {\n",
              "          const element = document.querySelector('#df-f7039480-bb6b-42bb-a6c9-b1f220a0bcf2');\n",
              "          const dataTable =\n",
              "            await google.colab.kernel.invokeFunction('convertToInteractive',\n",
              "                                                     [key], {});\n",
              "          if (!dataTable) return;\n",
              "\n",
              "          const docLinkHtml = 'Like what you see? Visit the ' +\n",
              "            '<a target=\"_blank\" href=https://colab.research.google.com/notebooks/data_table.ipynb>data table notebook</a>'\n",
              "            + ' to learn more about interactive tables.';\n",
              "          element.innerHTML = '';\n",
              "          dataTable['output_type'] = 'display_data';\n",
              "          await google.colab.output.renderOutput(dataTable, element);\n",
              "          const docLink = document.createElement('div');\n",
              "          docLink.innerHTML = docLinkHtml;\n",
              "          element.appendChild(docLink);\n",
              "        }\n",
              "      </script>\n",
              "    </div>\n",
              "  </div>\n",
              "  "
            ]
          },
          "metadata": {},
          "execution_count": 137
        }
      ],
      "source": [
        "#ваш код \n",
        "df = pd.read_csv('/content/drive/MyDrive/data_for_lessons/Advertising2.csv', sep=',')\n",
        "df.drop('Unnamed: 0', axis=1, inplace=True)\n",
        "df.head(5)"
      ]
    },
    {
      "cell_type": "markdown",
      "metadata": {
        "id": "bf4aVFndDUKf"
      },
      "source": [
        "**Проверьте, есть ли в данных пропуски и, если они есть - удалите их**"
      ]
    },
    {
      "cell_type": "code",
      "execution_count": 138,
      "metadata": {
        "colab": {
          "base_uri": "https://localhost:8080/"
        },
        "id": "tiVeFnR5DUKg",
        "outputId": "b215d751-c632-4288-cda7-cdf2d6b4e25d"
      },
      "outputs": [
        {
          "output_type": "stream",
          "name": "stdout",
          "text": [
            "<class 'pandas.core.frame.DataFrame'>\n",
            "RangeIndex: 200 entries, 0 to 199\n",
            "Data columns (total 4 columns):\n",
            " #   Column     Non-Null Count  Dtype  \n",
            "---  ------     --------------  -----  \n",
            " 0   TV         200 non-null    float64\n",
            " 1   radio      200 non-null    float64\n",
            " 2   newspaper  200 non-null    float64\n",
            " 3   sales      200 non-null    float64\n",
            "dtypes: float64(4)\n",
            "memory usage: 6.4 KB\n"
          ]
        }
      ],
      "source": [
        "#ваш код \n",
        "df.info()"
      ]
    },
    {
      "cell_type": "code",
      "execution_count": 139,
      "metadata": {
        "colab": {
          "base_uri": "https://localhost:8080/"
        },
        "id": "HklFD7HvkzLn",
        "outputId": "d198371f-2d45-4faa-ef52-6f07d6b8f921"
      },
      "outputs": [
        {
          "output_type": "execute_result",
          "data": {
            "text/plain": [
              "TV           0.0\n",
              "radio        0.0\n",
              "newspaper    0.0\n",
              "sales        0.0\n",
              "dtype: float64"
            ]
          },
          "metadata": {},
          "execution_count": 139
        }
      ],
      "source": [
        "#ваш код \n",
        "df.isnull().mean()"
      ]
    },
    {
      "cell_type": "markdown",
      "metadata": {
        "id": "rTkiqPr_DUKh"
      },
      "source": [
        "**Преобразуйте ваши признаки в массивы NumPy и разделите их на переменные X (предикторы) и y(целевая переменная)** "
      ]
    },
    {
      "cell_type": "code",
      "execution_count": 140,
      "metadata": {
        "colab": {
          "base_uri": "https://localhost:8080/"
        },
        "id": "R9OHIRB3a_Xa",
        "outputId": "ec98cb6b-b6ac-444a-938a-336999d527f3"
      },
      "outputs": [
        {
          "output_type": "stream",
          "name": "stdout",
          "text": [
            "Type of X: <class 'numpy.ndarray'>\n",
            "Type of y: <class 'numpy.ndarray'>\n"
          ]
        }
      ],
      "source": [
        "#ваш код \n",
        "y = df['sales'].values\n",
        "X = df.drop('sales', axis=1)\n",
        "X = X.values\n",
        "\n",
        "print(f'Type of X: {type(X)}')\n",
        "print(f'Type of y: {type(y)}')"
      ]
    },
    {
      "cell_type": "markdown",
      "metadata": {
        "id": "KCvjSoHEDUKo"
      },
      "source": [
        "## Координатный спуск (3 балла)"
      ]
    },
    {
      "cell_type": "markdown",
      "metadata": {
        "id": "yjNm8dATDUKq"
      },
      "source": [
        "**Добавим единичный столбец для того, чтобы у нас был свободный коэффициент в уравнении регрессии:**"
      ]
    },
    {
      "cell_type": "code",
      "execution_count": 141,
      "metadata": {
        "colab": {
          "base_uri": "https://localhost:8080/"
        },
        "id": "LMgq0fmKDUKr",
        "outputId": "cce081fc-8e7b-4691-f80a-491e1a1e6b19"
      },
      "outputs": [
        {
          "output_type": "stream",
          "name": "stdout",
          "text": [
            "(200, 4) (200, 1)\n"
          ]
        }
      ],
      "source": [
        "import numpy as np\n",
        "\n",
        "X = np.hstack([np.ones(X.shape[0]).reshape(-1, 1), X])\n",
        "y = y.reshape(-1, 1)\n",
        "print(X.shape, y.shape)"
      ]
    },
    {
      "cell_type": "markdown",
      "metadata": {
        "id": "R008OQwcDUKt"
      },
      "source": [
        "**Нормализуем данные: обычно это необходимо для корректной работы алгоритма**"
      ]
    },
    {
      "cell_type": "code",
      "execution_count": 142,
      "metadata": {
        "id": "2Sk7Wx-SDUKt"
      },
      "outputs": [],
      "source": [
        "X = X / np.sqrt(np.sum(np.square(X), axis=0))"
      ]
    },
    {
      "cell_type": "markdown",
      "metadata": {
        "id": "F_pHHbAdDUKu"
      },
      "source": [
        "**Реализуйте алгоритм координатного спуска:** (3 балла)\n",
        "\n",
        "Ниже приведен алгоритм координатного спуска для случая нормализованных данных:"
      ]
    },
    {
      "cell_type": "markdown",
      "metadata": {
        "id": "_KmgCJGLkzLu"
      },
      "source": [
        "**Задано:**\n",
        "\n",
        "* $X=(x_{ij})$ - матрица наблюдений, размерностью $dim(X)=(n, m)$\n",
        "* $N=1000$ - количество итераций\n",
        "\n",
        "**Примечание:** *1000 итераций здесь указаны для этого задания, на самом деле их может быть намного больше, нет детерменированного значения.*\n",
        "\n",
        "**Алгоритм (математическая запись):**\n",
        "* Создать нулевой вектор параметров $w_0=(0, 0,..., 0)^T$\n",
        "* Для всех $t=1, 2, ..., N$ итераций:\n",
        "    * Для всех $k = 1, 2,..., m$:\n",
        "        * Фиксируем значение всех признаков, кроме $k$-ого и вычисляем прогноз модели линейной регрессии.Для этого исключаем признак $k$-ый из данных и $w_j$ из параметров при построении прогноза.\n",
        "        Математически это можно записать следующим образом:\n",
        "\n",
        "        $$h_i = \\sum_{j=1}^{k-1} x_{ij}w_{j} + \\sum_{j=k+1}^{m} x_{ij}w_j $$\n",
        "\n",
        "        **Примечание:**\n",
        "        \n",
        "        *Обратите, что в данной записи текущий признак под номером $k$ не участвует в сумме.Сравните эту запись с классической записью прогноза линейной регрессии в случае нормированных данных (когда участвуют все признаки):*\n",
        "\n",
        "        $$h_i = \\sum_{j=1}^{m} x_{ij}w_{j}$$ \n",
        "        \n",
        "        * Вычисляем новое значение параметра $k$-ого коэффициента: \n",
        "        $$w_k = \\sum_{i=1}^{n} x_{ik} (y_i - h_i) = x_k^T(y-h) $$\n",
        "\n",
        "    * Вычисляем значение функции потерь и сохраняем в историю изменения функции потерь (В оценке функции потерь участвуют все признаки):\n",
        "        $$\\hat{y_i} = \\sum_{j=1}^{m}x_{ij}$$\n",
        "        $$Loss_t = \\frac{1}{n} \\sum_{i=1}^{n}(y_i-\\hat{y_i})^2$$\n",
        "        \n",
        "        или в векторном виде:\n",
        "        \n",
        "        $$\\hat{y} = Xw$$\n",
        "        $$Loss_t = \\frac{1}{n}(y-\\hat{y})^T(y-\\hat{y})$$\n",
        "    \n",
        "\n"
      ]
    },
    {
      "cell_type": "markdown",
      "metadata": {
        "id": "F-zMwlWPkzLw"
      },
      "source": [
        "**Алгоритм (псевдокод):**\n",
        "```python\n",
        "\n",
        "num_iters = #количество итераций\n",
        "m = # количество строк в матрице X\n",
        "n = # количество столбцов в матрице X\n",
        "w = #вектор размера nx1, состояющий из нулей\n",
        "\n",
        "for i in range(num_iters):\n",
        "    for k in range(n):\n",
        "        # Вычисляем прогноз без k-ого фактора\n",
        "        h = (X[:,0:k] @ w[0:k]) + (X[:,k+1:] @ w[k+1:])\n",
        "        # Обновляем новое значение k-ого коэффициента\n",
        "        w[k] =  (X[:,k].T @ (y - h))\n",
        "        # Вычисляем функцию потерь\n",
        "        cost = sum((X @ w) - y) ** 2)/(len(y))\n",
        "\n",
        "```"
      ]
    },
    {
      "cell_type": "markdown",
      "metadata": {
        "id": "y3IdiHm9DUKv"
      },
      "source": [
        "Вам необходимо реализовать координатный спуск, и вывести веса в модели линейной регрессии."
      ]
    },
    {
      "cell_type": "code",
      "execution_count": 143,
      "metadata": {
        "colab": {
          "base_uri": "https://localhost:8080/",
          "height": 35
        },
        "id": "eexx2hJTkzLx",
        "outputId": "49c32c5c-4d6e-405b-edf7-90fe74b9902a"
      },
      "outputs": [
        {
          "output_type": "display_data",
          "data": {
            "text/plain": [
              "array([ 41.56217205, 110.13144155,  73.52860638,  -0.55006384])"
            ]
          },
          "metadata": {}
        }
      ],
      "source": [
        "# ваш код \n",
        "num_iters = 1000 #количество итераций\n",
        "m = X.shape[0] # количество строк в матрице X\n",
        "n = X.shape[1] # количество столбцов в матрице X\n",
        "w = np.zeros(X.shape[1]) #вектор размера nx1, состояющий из нулей\n",
        "\n",
        "for i in range(num_iters):\n",
        "    for k in range(n):\n",
        "        # Вычисляем прогноз без k-ого фактора\n",
        "        h = (X[:,0:k] @ w[0:k]) + (X[:,k+1:] @ w[k+1:])\n",
        "        # Обновляем новое значение k-ого коэффициента\n",
        "        w[k] =  (X[:,k].T @ (y - h.reshape(-1, 1)))\n",
        "        # Вычисляем функцию потерь\n",
        "        cost = sum(((X @ w) - y) ** 2)/(len(y))\n",
        "\n",
        "display(w)"
      ]
    },
    {
      "cell_type": "markdown",
      "metadata": {
        "id": "a3jG-7UADUKx"
      },
      "source": [
        "Сравните результаты с реализацией линейной регрессии из библиотеки sklearn:"
      ]
    },
    {
      "cell_type": "code",
      "execution_count": 144,
      "metadata": {
        "colab": {
          "base_uri": "https://localhost:8080/"
        },
        "id": "SBl-1Yb5DUKy",
        "outputId": "45b4eca2-fc3f-4d85-b982-f6d84b53aef1"
      },
      "outputs": [
        {
          "output_type": "stream",
          "name": "stdout",
          "text": [
            "[[ 41.56217205 110.13144155  73.52860638  -0.55006384]]\n"
          ]
        }
      ],
      "source": [
        "from sklearn.linear_model import LinearRegression\n",
        " \n",
        "model = LinearRegression(fit_intercept=False)\n",
        "model.fit(X, y)\n",
        " \n",
        "print(model.coef_)"
      ]
    },
    {
      "cell_type": "markdown",
      "metadata": {
        "id": "hIl0AGLyDUKy"
      },
      "source": [
        "Если вы все сделали верно, они должны практически совпасть!"
      ]
    },
    {
      "cell_type": "markdown",
      "metadata": {
        "id": "VCGwFnPdDUKz"
      },
      "source": [
        "## Стохастический градиентный спуск (6 баллов)"
      ]
    },
    {
      "cell_type": "markdown",
      "metadata": {
        "id": "5u7Q2YJla_Xk"
      },
      "source": [
        "**Отмасштабируйте столбцы исходной матрицы *X* (которую мы не нормализовали еще!). Для того, чтобы это сделать, надо вычесть из каждого значения среднее и разделить на стандартное отклонение** (0.5 баллов)"
      ]
    },
    {
      "cell_type": "code",
      "execution_count": 145,
      "metadata": {
        "colab": {
          "base_uri": "https://localhost:8080/",
          "height": 206
        },
        "id": "9cEpV_5La_Xo",
        "outputId": "1ec3534a-1f69-4fc5-b18d-a890cf2d2daf"
      },
      "outputs": [
        {
          "output_type": "execute_result",
          "data": {
            "text/plain": [
              "         TV     radio  newspaper\n",
              "0  0.967425  0.979066   1.774493\n",
              "1 -1.194379  1.080097   0.667903\n",
              "2 -1.512360  1.524637   1.779084\n",
              "3  0.051919  1.214806   1.283185\n",
              "4  0.393196 -0.839507   1.278593"
            ],
            "text/html": [
              "\n",
              "  <div id=\"df-42c5ba6b-154e-4190-871c-64fe4254c6c4\">\n",
              "    <div class=\"colab-df-container\">\n",
              "      <div>\n",
              "<style scoped>\n",
              "    .dataframe tbody tr th:only-of-type {\n",
              "        vertical-align: middle;\n",
              "    }\n",
              "\n",
              "    .dataframe tbody tr th {\n",
              "        vertical-align: top;\n",
              "    }\n",
              "\n",
              "    .dataframe thead th {\n",
              "        text-align: right;\n",
              "    }\n",
              "</style>\n",
              "<table border=\"1\" class=\"dataframe\">\n",
              "  <thead>\n",
              "    <tr style=\"text-align: right;\">\n",
              "      <th></th>\n",
              "      <th>TV</th>\n",
              "      <th>radio</th>\n",
              "      <th>newspaper</th>\n",
              "    </tr>\n",
              "  </thead>\n",
              "  <tbody>\n",
              "    <tr>\n",
              "      <th>0</th>\n",
              "      <td>0.967425</td>\n",
              "      <td>0.979066</td>\n",
              "      <td>1.774493</td>\n",
              "    </tr>\n",
              "    <tr>\n",
              "      <th>1</th>\n",
              "      <td>-1.194379</td>\n",
              "      <td>1.080097</td>\n",
              "      <td>0.667903</td>\n",
              "    </tr>\n",
              "    <tr>\n",
              "      <th>2</th>\n",
              "      <td>-1.512360</td>\n",
              "      <td>1.524637</td>\n",
              "      <td>1.779084</td>\n",
              "    </tr>\n",
              "    <tr>\n",
              "      <th>3</th>\n",
              "      <td>0.051919</td>\n",
              "      <td>1.214806</td>\n",
              "      <td>1.283185</td>\n",
              "    </tr>\n",
              "    <tr>\n",
              "      <th>4</th>\n",
              "      <td>0.393196</td>\n",
              "      <td>-0.839507</td>\n",
              "      <td>1.278593</td>\n",
              "    </tr>\n",
              "  </tbody>\n",
              "</table>\n",
              "</div>\n",
              "      <button class=\"colab-df-convert\" onclick=\"convertToInteractive('df-42c5ba6b-154e-4190-871c-64fe4254c6c4')\"\n",
              "              title=\"Convert this dataframe to an interactive table.\"\n",
              "              style=\"display:none;\">\n",
              "        \n",
              "  <svg xmlns=\"http://www.w3.org/2000/svg\" height=\"24px\"viewBox=\"0 0 24 24\"\n",
              "       width=\"24px\">\n",
              "    <path d=\"M0 0h24v24H0V0z\" fill=\"none\"/>\n",
              "    <path d=\"M18.56 5.44l.94 2.06.94-2.06 2.06-.94-2.06-.94-.94-2.06-.94 2.06-2.06.94zm-11 1L8.5 8.5l.94-2.06 2.06-.94-2.06-.94L8.5 2.5l-.94 2.06-2.06.94zm10 10l.94 2.06.94-2.06 2.06-.94-2.06-.94-.94-2.06-.94 2.06-2.06.94z\"/><path d=\"M17.41 7.96l-1.37-1.37c-.4-.4-.92-.59-1.43-.59-.52 0-1.04.2-1.43.59L10.3 9.45l-7.72 7.72c-.78.78-.78 2.05 0 2.83L4 21.41c.39.39.9.59 1.41.59.51 0 1.02-.2 1.41-.59l7.78-7.78 2.81-2.81c.8-.78.8-2.07 0-2.86zM5.41 20L4 18.59l7.72-7.72 1.47 1.35L5.41 20z\"/>\n",
              "  </svg>\n",
              "      </button>\n",
              "      \n",
              "  <style>\n",
              "    .colab-df-container {\n",
              "      display:flex;\n",
              "      flex-wrap:wrap;\n",
              "      gap: 12px;\n",
              "    }\n",
              "\n",
              "    .colab-df-convert {\n",
              "      background-color: #E8F0FE;\n",
              "      border: none;\n",
              "      border-radius: 50%;\n",
              "      cursor: pointer;\n",
              "      display: none;\n",
              "      fill: #1967D2;\n",
              "      height: 32px;\n",
              "      padding: 0 0 0 0;\n",
              "      width: 32px;\n",
              "    }\n",
              "\n",
              "    .colab-df-convert:hover {\n",
              "      background-color: #E2EBFA;\n",
              "      box-shadow: 0px 1px 2px rgba(60, 64, 67, 0.3), 0px 1px 3px 1px rgba(60, 64, 67, 0.15);\n",
              "      fill: #174EA6;\n",
              "    }\n",
              "\n",
              "    [theme=dark] .colab-df-convert {\n",
              "      background-color: #3B4455;\n",
              "      fill: #D2E3FC;\n",
              "    }\n",
              "\n",
              "    [theme=dark] .colab-df-convert:hover {\n",
              "      background-color: #434B5C;\n",
              "      box-shadow: 0px 1px 3px 1px rgba(0, 0, 0, 0.15);\n",
              "      filter: drop-shadow(0px 1px 2px rgba(0, 0, 0, 0.3));\n",
              "      fill: #FFFFFF;\n",
              "    }\n",
              "  </style>\n",
              "\n",
              "      <script>\n",
              "        const buttonEl =\n",
              "          document.querySelector('#df-42c5ba6b-154e-4190-871c-64fe4254c6c4 button.colab-df-convert');\n",
              "        buttonEl.style.display =\n",
              "          google.colab.kernel.accessAllowed ? 'block' : 'none';\n",
              "\n",
              "        async function convertToInteractive(key) {\n",
              "          const element = document.querySelector('#df-42c5ba6b-154e-4190-871c-64fe4254c6c4');\n",
              "          const dataTable =\n",
              "            await google.colab.kernel.invokeFunction('convertToInteractive',\n",
              "                                                     [key], {});\n",
              "          if (!dataTable) return;\n",
              "\n",
              "          const docLinkHtml = 'Like what you see? Visit the ' +\n",
              "            '<a target=\"_blank\" href=https://colab.research.google.com/notebooks/data_table.ipynb>data table notebook</a>'\n",
              "            + ' to learn more about interactive tables.';\n",
              "          element.innerHTML = '';\n",
              "          dataTable['output_type'] = 'display_data';\n",
              "          await google.colab.output.renderOutput(dataTable, element);\n",
              "          const docLink = document.createElement('div');\n",
              "          docLink.innerHTML = docLinkHtml;\n",
              "          element.appendChild(docLink);\n",
              "        }\n",
              "      </script>\n",
              "    </div>\n",
              "  </div>\n",
              "  "
            ]
          },
          "metadata": {},
          "execution_count": 145
        }
      ],
      "source": [
        "#ваш код\n",
        "y = df['sales'].values\n",
        "X = df.drop('sales', axis=1)\n",
        "\n",
        "X = (X - X.mean())/X.std()\n",
        "X.head()"
      ]
    },
    {
      "cell_type": "markdown",
      "metadata": {
        "id": "8WkNYILHDUK1"
      },
      "source": [
        "**Добавим единичный столбец**"
      ]
    },
    {
      "cell_type": "code",
      "execution_count": 146,
      "metadata": {
        "colab": {
          "base_uri": "https://localhost:8080/"
        },
        "id": "EVl5tEGtDUK1",
        "outputId": "dc583c2f-cf97-417e-e896-a381bc8fae87"
      },
      "outputs": [
        {
          "output_type": "execute_result",
          "data": {
            "text/plain": [
              "array([1.        , 0.9674246 , 0.97906559, 1.77449253])"
            ]
          },
          "metadata": {},
          "execution_count": 146
        }
      ],
      "source": [
        "X = np.hstack([np.ones(X.shape[0]).reshape(-1, 1), X])\n",
        "X[0]"
      ]
    },
    {
      "cell_type": "markdown",
      "metadata": {
        "id": "m53tZA5fDUK1"
      },
      "source": [
        "**Создайте функцию mse_error для вычисления среднеквадратичной ошибки, принимающую два аргумента: реальные значения и предсказывающие, и возвращающую значение mse** (0.5 балла)"
      ]
    },
    {
      "cell_type": "code",
      "execution_count": 147,
      "metadata": {
        "id": "0cvtC08Aa_YK"
      },
      "outputs": [],
      "source": [
        "#ваш код\n",
        "def mse_error(y, y_pred):\n",
        "    error = 0\n",
        "    for i in range(y.shape[0]):\n",
        "        error += (y_pred - y[i])**2\n",
        "    mse = error/y.shape[0]\n",
        "    return mse"
      ]
    },
    {
      "cell_type": "markdown",
      "metadata": {
        "id": "lpOLhdvBDUK2"
      },
      "source": [
        "**Сделайте наивный прогноз: предскажите продажи средним значением. После этого рассчитайте среднеквадратичную ошибку для этого прогноза** (0.5 балла)"
      ]
    },
    {
      "cell_type": "code",
      "execution_count": 148,
      "metadata": {
        "colab": {
          "base_uri": "https://localhost:8080/"
        },
        "id": "kLV_XljVa_YZ",
        "outputId": "df0cf2bd-307a-4fa4-91ef-3333711b048e"
      },
      "outputs": [
        {
          "output_type": "stream",
          "name": "stdout",
          "text": [
            "Mean of y: 14.0225\n",
            "MSE: 27.085743749999985\n"
          ]
        }
      ],
      "source": [
        "#ваш код\n",
        "y_pred = y.mean()\n",
        "print('Mean of y:', y_pred)\n",
        "print('MSE:', mse_error(y, y_pred))"
      ]
    },
    {
      "cell_type": "markdown",
      "metadata": {
        "id": "BbybL2ola_ZM"
      },
      "source": [
        "**Создайте функцию *lin_pred*, которая может по матрице предикторов *X* и вектору весов линейной модели *w* получить вектор прогнозов** (0.5 балла)"
      ]
    },
    {
      "cell_type": "code",
      "execution_count": 149,
      "metadata": {
        "id": "1Cyz-Luaa_ZO"
      },
      "outputs": [],
      "source": [
        "#ваш код\n",
        "def lin_pred(X, w):\n",
        "    return np.dot(X, w)"
      ]
    },
    {
      "cell_type": "markdown",
      "metadata": {
        "id": "BU4adBrya_Zm"
      },
      "source": [
        "**Создайте функцию *stoch_grad_step* для реализации шага стохастического градиентного спуска. (1.5 балла) \n",
        "Функция должна принимать на вход следующие аргументы:**\n",
        "* матрицу *X*\n",
        "* вектора *y* и *w*\n",
        "* число *train_ind* - индекс объекта обучающей выборки (строки матрицы *X*), по которому считается изменение весов\n",
        "* число *$\\eta$* (eta) - шаг градиентного спуска\n",
        "\n",
        "Результатом будет вектор обновленных весов"
      ]
    },
    {
      "cell_type": "markdown",
      "metadata": {
        "id": "dyLY-P02DUK5"
      },
      "source": [
        "Шаг для стохастического градиентного спуска выглядит следующим образом:"
      ]
    },
    {
      "cell_type": "markdown",
      "metadata": {
        "id": "ORsAyIKNDUK5"
      },
      "source": [
        "$$\\Large w_j \\leftarrow w_j - \\frac{2\\eta}{\\ell} \\sum_{i=1}^\\ell{{x_{ij}((w_0 + w_1x_{i1} + w_2x_{i2} +  w_3x_{i3}) - y_i)}}$$"
      ]
    },
    {
      "cell_type": "markdown",
      "metadata": {
        "id": "CQl2FrpuDUK6"
      },
      "source": [
        "Для того, чтобы написать функцию, нужно сделать следующее:\n",
        "    \n",
        "*  посчитать направление изменения: умножить объект обучающей выборки на 2 и на разницу между предсказанным значением и реальным, а потом поделить на количество элементов в выборке.\n",
        "* вернуть разницу между вектором весов и направлением изменения, умноженным на шаг градиентного спуска"
      ]
    },
    {
      "cell_type": "code",
      "execution_count": 150,
      "metadata": {
        "id": "YUhVQGsja_Zn"
      },
      "outputs": [],
      "source": [
        "#ваш код\n",
        "L = X.shape[1]\n",
        "def stoch_grad_step(X, y, w, train_ind, eta):\n",
        "    der = (2*X[train_ind]*(X[train_ind]@ w - y[train_ind]))/L\n",
        "    return w - eta*der"
      ]
    },
    {
      "cell_type": "markdown",
      "metadata": {
        "id": "pXwIFd0Ma_Zx"
      },
      "source": [
        "**Создайте функцию *stochastic_gradient_descent*, для реализации стохастического градиентного спуска (2.5 балла)**\n",
        "\n",
        "**Функция принимает на вход следующие аргументы:**\n",
        "- Матрицу признаков X\n",
        "- Целевую переменнную\n",
        "- Изначальную точку (веса модели)\n",
        "- Параметр, определяющий темп обучения\n",
        "- Максимальное число итераций\n",
        "- Евклидово расстояние между векторами весов на соседних итерациях градиентного спуска,при котором алгоритм прекращает работу \n",
        "\n",
        "**На каждой итерации в вектор (список) должно записываться текущее значение среднеквадратичной ошибки. Функция должна возвращать вектор весов $w$, а также вектор (список) ошибок.**"
      ]
    },
    {
      "cell_type": "markdown",
      "metadata": {
        "id": "ZVeoNF1JDUK7"
      },
      "source": [
        "Алгоритм сследующий:\n",
        "    \n",
        "* Инициализируйте расстояние между векторами весов на соседних итерациях большим числом (можно бесконечностью)\n",
        "* Создайте пустой список для фиксации ошибок\n",
        "* Создайте счетчик итераций\n",
        "* Реализуйте основной цикл обучения пока расстояние между векторами весов больше того, при котором надо прекратить работу (когда расстояния станут слишком маленькими - значит, мы застряли в одном месте) и количество итераций меньше максимально разрешенного: сгенерируйте случайный индекс, запишите текущую ошибку в вектор ошибок, запишите в переменную текущий шаг стохастического спуска с использованием функции, написанной ранее. Далее рассчитайте текущее расстояние между векторами весов и прибавьте к счетчику итераций 1.\n",
        "* Верните вектор весов и вектор ошибок"
      ]
    },
    {
      "cell_type": "code",
      "execution_count": 151,
      "metadata": {
        "id": "7TUf2SkW2a3O"
      },
      "outputs": [],
      "source": [
        "# ваш код\n",
        "def stochastic_gradient_descent(X, y, w, eta, n_iter, min_weight_dist):\n",
        "    weight_dist = np.inf\n",
        "    costs = []\n",
        "    iter = 0\n",
        "    w = w_init\n",
        "    for i in range(n_iter):\n",
        "        train_ind = np.random.randint(0, X.shape[0])\n",
        "        w_prev = w\n",
        "        w = stoch_grad_step(X, y, w, train_ind, eta)\n",
        "        weight_dist = np.linalg.norm(w - w_prev)\n",
        "        costs.append(((X[train_ind]@w - y[train_ind])**2)/X.shape[0])  \n",
        "        iter += 1\n",
        "        if weight_dist < min_weight_dist:\n",
        "            break  \n",
        "    return w, costs[-1]"
      ]
    },
    {
      "cell_type": "markdown",
      "metadata": {
        "id": "0OqHO1Rta_Z7"
      },
      "source": [
        " **Запустите $10^5$ итераций стохастического градиентного спуска. Укажите вектор начальных весов, состоящий из нулей. Можете поэкспериментировать с параметром, отвечающим за темп обучения.**"
      ]
    },
    {
      "cell_type": "code",
      "execution_count": 152,
      "metadata": {
        "colab": {
          "base_uri": "https://localhost:8080/"
        },
        "id": "LjJoXmxLx1ub",
        "outputId": "5f9f64a3-de8f-4f69-c35e-b011eb8763db"
      },
      "outputs": [
        {
          "output_type": "execute_result",
          "data": {
            "text/plain": [
              "(array([14.06067422,  3.85462911,  2.78388674,  0.09093225]),\n",
              " 4.325495719343343e-09)"
            ]
          },
          "metadata": {},
          "execution_count": 152
        }
      ],
      "source": [
        "w_init = np.zeros(X.shape[1])\n",
        "stochastic_gradient_descent(X, y, w, 0.01, 100000, 0.00001)"
      ]
    },
    {
      "cell_type": "markdown",
      "metadata": {
        "id": "XpT0fpkwrjWN"
      },
      "source": [
        "======================="
      ]
    },
    {
      "cell_type": "markdown",
      "metadata": {
        "id": "N6fHHT6vDUK8"
      },
      "source": [
        "**Постройте график зависимости ошибки от номера итерации**"
      ]
    },
    {
      "cell_type": "code",
      "execution_count": 153,
      "metadata": {
        "id": "zsSfHDzLDUK9",
        "colab": {
          "base_uri": "https://localhost:8080/",
          "height": 517
        },
        "outputId": "17cf374e-e22a-445d-ecb0-c45b2205791b"
      },
      "outputs": [
        {
          "output_type": "display_data",
          "data": {
            "text/html": [
              "<html>\n",
              "<head><meta charset=\"utf-8\" /></head>\n",
              "<body>\n",
              "    <div>            <script src=\"https://cdnjs.cloudflare.com/ajax/libs/mathjax/2.7.5/MathJax.js?config=TeX-AMS-MML_SVG\"></script><script type=\"text/javascript\">if (window.MathJax && window.MathJax.Hub && window.MathJax.Hub.Config) {window.MathJax.Hub.Config({SVG: {font: \"STIX-Web\"}});}</script>                <script type=\"text/javascript\">window.PlotlyConfig = {MathJaxConfig: 'local'};</script>\n",
              "        <script src=\"https://cdn.plot.ly/plotly-2.18.2.min.js\"></script>                <div id=\"f12c4fde-12e0-4f53-9f12-4c798caaebb1\" class=\"plotly-graph-div\" style=\"height:500px; width:1000px;\"></div>            <script type=\"text/javascript\">                                    window.PLOTLYENV=window.PLOTLYENV || {};                                    if (document.getElementById(\"f12c4fde-12e0-4f53-9f12-4c798caaebb1\")) {                    Plotly.newPlot(                        \"f12c4fde-12e0-4f53-9f12-4c798caaebb1\",                        [{\"hovertemplate\":\"x=%{x}<br>y=%{y}<extra></extra>\",\"legendgroup\":\"\",\"line\":{\"color\":\"#636efa\",\"dash\":\"solid\"},\"marker\":{\"symbol\":\"circle\"},\"mode\":\"lines\",\"name\":\"\",\"orientation\":\"v\",\"showlegend\":false,\"x\":[1,2,3,4,5,6,7,8,9,10,11,12,13,14,15,16,17,18,19,20,21,22,23,24,25,26,27,28,29,30,31,32,33,34,35,36,37,38,39,40,41,42,43,44,45,46,47,48,49,50,51,52,53,54,55,56,57,58,59,60,61,62,63,64,65,66,67,68,69,70,71,72,73,74,75,76,77,78,79,80,81,82,83,84,85,86,87,88,89,90,91,92,93,94,95,96,97,98,99,100,101,102,103,104,105,106,107,108,109,110,111,112,113,114,115,116,117,118,119,120,121,122,123,124,125,126,127,128,129,130,131,132,133,134,135,136,137,138,139,140,141,142,143,144,145,146,147,148,149,150,151,152,153,154,155,156,157,158,159,160,161,162,163,164,165,166,167,168,169,170,171,172,173,174,175,176,177,178,179,180,181,182,183,184,185,186,187,188,189,190,191,192,193,194,195,196,197,198,199,200,201,202,203,204,205,206,207,208,209,210,211,212,213,214,215,216,217,218,219,220,221,222,223,224,225,226,227,228,229,230,231,232,233,234,235,236,237,238,239,240,241,242,243,244,245,246,247,248,249,250,251,252,253,254,255,256,257,258,259,260,261,262,263,264,265,266,267,268,269,270,271,272,273,274,275,276,277,278,279,280,281,282,283,284,285,286,287,288,289,290,291,292,293,294,295,296,297,298,299,300,301,302,303,304,305,306,307,308,309,310,311,312,313,314,315,316,317,318,319,320,321,322,323,324,325,326,327,328,329,330,331,332,333,334,335,336,337,338,339,340,341,342,343,344,345,346,347,348,349,350,351,352,353,354,355,356,357,358,359,360,361,362,363,364,365,366,367,368,369,370,371,372,373,374,375,376,377,378,379,380,381,382,383,384,385,386,387,388,389,390,391,392,393,394,395,396,397,398,399,400,401,402,403,404,405,406,407,408,409,410,411,412,413,414,415,416,417,418,419,420,421,422,423,424,425,426,427,428,429,430,431,432,433,434,435,436,437,438,439,440,441,442,443,444,445,446,447,448,449,450,451,452,453,454,455,456,457,458,459,460,461,462,463,464,465,466,467,468,469,470,471,472,473,474,475,476,477,478,479,480,481,482,483,484,485,486,487,488,489,490,491,492,493,494,495,496,497,498,499,500,501,502,503,504,505,506,507,508,509,510,511,512,513,514,515,516,517,518,519,520,521,522,523,524,525,526,527,528,529,530,531,532,533,534,535,536,537,538,539,540,541,542,543,544,545,546,547,548,549,550,551,552,553,554,555,556,557,558,559,560,561,562,563,564,565,566,567,568,569,570,571,572,573,574,575,576,577,578,579,580,581,582,583,584,585,586,587,588,589,590,591,592,593,594,595,596,597,598,599,600,601,602,603,604,605,606,607,608,609,610,611,612,613,614,615,616,617,618,619,620,621,622,623,624,625,626,627,628,629,630,631,632,633,634,635,636,637,638,639,640,641,642,643,644,645,646,647,648,649,650,651,652,653,654,655,656,657,658,659,660,661,662,663,664,665,666,667,668,669,670,671,672,673,674,675,676,677,678,679,680,681,682,683,684,685,686,687,688,689,690,691,692,693,694,695,696,697,698,699,700,701,702,703,704,705,706,707,708,709,710,711,712,713,714,715,716,717,718,719,720,721,722,723,724,725,726,727,728,729,730,731,732,733,734,735,736,737,738,739,740,741,742,743,744,745,746,747,748,749,750,751,752,753,754,755,756,757,758,759,760,761,762,763,764,765,766,767,768,769,770,771,772,773,774,775,776,777,778,779,780,781,782,783,784,785,786,787,788,789,790,791,792,793,794,795,796,797,798,799,800],\"xaxis\":\"x\",\"y\":[1.76254780895749,0.7448304134483013,0.2072422022835987,0.37464583682083286,0.12977100189565752,0.30106405086362004,0.45638060499741606,0.42039851256468164,0.38421047521788315,0.6922519864370509,1.1404476612523662,1.5644970389235895,0.24537870210600868,1.970274955944397,0.34142603151047546,0.3260181475417648,1.2279888223466955,0.5213574742474727,2.3751585364852317,0.5888098548185865,0.625035550156714,0.5278158433512683,0.2502312541704274,1.2186497762547375,2.5128130273964997,2.343852811636422,0.9552125349966651,0.9142180448005186,0.026228456988576516,0.3778658410010378,0.4746861261874701,1.8811457555867264,0.507498654351792,1.0340458965785335,1.1528984964283855,0.5909863515977636,0.1181761651068209,0.6198394732554996,0.48727435931319996,0.35718886953683393,2.33054466270473,0.956311242157955,1.9096431160097365,0.32733018729235447,0.3501262798871629,0.4059244146596492,1.6344255591698809,1.5500669484797152,1.0059419612755736,0.26637022989781634,1.12303367605817,0.3022036538038754,0.31721409922208577,0.6225659935818851,0.3476424474333227,0.19003404717881478,0.26030855109944945,0.21255943481071374,0.09964583021890365,0.347633443274581,0.05484657286558054,1.0785640952884379,0.45688688590580845,1.3785838398582342,0.7327924973087537,0.8562521495632154,0.7131985092354379,0.5224997031584167,0.377065800543403,0.21439532347054222,1.4688708995693198,0.3064459342614997,0.1013484325438754,0.3885844183425368,0.8695644476884175,0.546393775069253,0.304517295555695,0.16180522181614626,0.7819985627624925,0.015790618866486857,0.7928049562222462,0.3279059284588443,0.09205703267999091,0.5896365749038841,0.38610677630628915,0.3906077624947832,0.4924441006985248,0.38163205552406704,0.07291154126723633,1.1961785271458172,0.23606888388747993,0.4425649936420418,0.03595870832852018,1.3387389001649574,0.6115898161003631,0.34664141533898485,0.5303325995510378,0.5188281939464052,0.4020314842626955,0.11130280364941385,0.21790695247770991,0.05155149001847978,0.5600953764317361,0.9876133144944244,0.26538277010416217,0.2883665450832847,0.1999852060323951,0.2361569694858633,0.232723926804537,1.299165649876389,0.2898730238403895,0.7472734992357195,1.1880508770298617,0.8195017717384638,0.5234218574755656,0.6503035071343839,0.19556217874611295,0.32356976831290857,0.2555262001829376,0.13233416508496693,0.2445943277111903,0.20373000022699242,0.3665144354661707,0.3566735667309892,0.23975707132560342,0.5241929314722497,0.16152860906611113,0.6226800591964075,0.319285333002015,0.4459326125184515,0.45297863789870474,0.2105856831715932,0.7037211207368859,0.2635739264972619,0.18827594242231022,0.05482753030126655,0.1560142027787233,0.06562109272403345,0.19536661006579709,0.21960781453754363,0.062050653162845554,0.21710578511691023,0.38599712295743677,0.47960162703629855,0.3863053510158636,0.19879559630447882,0.1620045114457712,0.41817122008751034,0.15221705747294062,0.0930949190896892,0.014237092232863353,0.26065907629423185,0.6181073182801832,0.01676927013956272,0.15159460033636576,0.19880577265282467,0.14937454247740958,0.05223671712182642,0.0942756722537928,0.5009190775017575,0.2208544365259849,0.1314598571965802,0.5201402665230912,0.2071932440761171,0.14830067799930402,0.10725256856982542,0.12326947206308125,0.06620656050904601,0.26810977745063436,0.009959081159524345,0.3220436970750159,0.1176207078389515,0.018635673594949147,0.16333013558497658,0.1482518628150231,0.09694805324445444,0.4947186863686256,0.04090256086495738,0.24226439147775686,0.0004266796100069572,0.08378751279189807,0.1978086626633948,0.46595819557060153,0.2895217743117096,0.1354760175649814,0.26640846814642083,0.01351600432574404,0.3534586612893825,0.00848306059104197,0.06740287711119823,0.1531646401991796,0.3956885681265198,0.09255594795290321,0.36416882649548354,0.005059798658508105,0.16703662687274418,0.15918180628209716,0.13196676921907227,0.1275663587115845,0.17273012534347207,0.2509389099268826,0.3600409534158948,0.060306029477183457,0.2795712923166751,0.12992802472792506,0.21773440756557225,0.5349600819183482,0.307662930200461,0.10089159818192772,0.13396692037804736,0.11487600400281658,0.045837904046599896,0.06801318428111874,0.12969870723332713,0.13607001524219112,0.17082301390967483,0.08370629296494847,0.24395136518488836,0.24044494961988483,0.10127149387535431,0.09179704067346275,0.1431636591797231,0.11385009782708179,0.03793897683542451,0.1276454108949564,0.016112233813372272,0.004743941335477047,0.14134456023752498,0.2296515240685232,0.19192052538415758,0.2673519048134241,0.14261004381054151,0.09331166970817088,0.11710202460988973,0.0662784541185279,0.08844132252613235,0.10128639641458075,0.09392470212319588,0.16074972027611448,0.08933553814212444,0.10287768631362149,0.07406624937370358,0.13302592414271483,0.02670603512815206,0.07832276952168701,0.06496898461595238,0.2504861092618299,0.010408803349400975,0.1505188829721575,0.10514551758561823,0.10040050758265501,0.283934374534283,0.0292037165309151,0.08652747898436934,0.18051310154727504,0.03956074227856011,0.09183283577430461,0.09934366377286744,0.030198658077921037,0.14548318291286738,0.033190619582361254,0.2782406487099935,0.009213682169713936,0.0733619863081493,0.03008373760239357,0.11881725568791683,0.03034605392168478,0.16616907455227753,0.08696624920150146,0.033291092837588604,0.014354141390506624,0.045674151878991924,0.026020790886502297,0.09002950096576584,0.03233674071731993,0.10825380610327416,0.0910255094761173,0.16652468992012878,0.012025752064097157,0.08264155872097607,0.044907636972520655,0.10675645646216114,0.09035363337765745,0.06633750302090197,0.03759672709590191,0.022654728249805113,0.0001642185282295134,0.023747873359204273,0.08721282072708803,0.19508032471939474,0.038722071980509545,0.2336119433045898,0.1725343471379099,0.06407059328487759,0.18938199451408774,0.08783642084601516,0.12201523649947717,0.022428022051750287,0.08356460118105741,0.13621021828056884,0.07706756690328702,0.0284070746928947,0.054356616131366574,0.17026141024475852,0.09063545578384075,0.11797585621622332,0.093642709691264,0.06679535561782514,0.0015376473940600722,0.1016509340148776,0.02189878407315806,0.029055488948432937,0.06183803902106188,0.010062433193285108,0.05919034557598058,0.017615455028354196,0.06091232107769384,0.03050221566690226,0.00966584301414556,0.29820474996325563,0.04202701085280576,0.08630641073935093,0.00772884123750957,0.02924067407271667,0.036717358678979434,0.18828694946787716,0.019498540995005132,0.04392486436920098,0.06129452969545978,0.03327218674354491,0.1343540334736943,0.0351404763614289,0.010074460512209194,0.020503341002330158,0.0509806637724527,0.0021239913717103513,0.008911609569950997,0.025111740914618524,0.04897166822880191,0.0495523077494892,0.01488041797198378,0.03169932750676604,0.05682059360737792,0.047927474571988676,0.023316186868956545,0.0077600279109223125,0.06348469567052062,0.011261763178022409,0.24857777581800758,0.013167262399393762,0.028336902463733084,0.11241251848262453,0.12055531683533595,0.03476968852500606,0.028686462637820476,0.006528019595214288,0.02168308225652314,0.007595715071796814,0.06786024198210662,0.08461604785531449,0.06966375491429931,0.06653936368802259,0.03599823084457274,0.05755628080593423,0.028817739329627997,0.04385514035928823,0.0063930867726753335,0.006819789160206158,0.04342601513919595,0.22891108114775466,0.04294355348347992,0.006737799220929992,0.09861869851103595,0.03396977929451308,1.3250335136077395e-05,0.008030022223020463,0.03290208144076842,0.06695272166419067,0.017713008615320946,0.015134996417676284,0.0336798595148285,0.00795198714568626,0.09280580245504641,0.09288369219590276,0.025287733610367843,0.02546684806790243,0.05016121544727328,0.02375462162652424,0.025002402750211483,0.002012908168724713,0.00010133600186600515,0.028655482325836482,0.03829488548939739,0.04988939116388878,0.053419861094649794,0.02169242493452934,0.024161132951226003,0.024009407455469645,0.012779995788434528,0.049176189838442165,0.02131420991298665,0.09891199545760196,0.0017645175352573772,0.028333006376847505,0.04010559573635545,0.0035253523577443015,0.000341223777635071,0.07446283846750858,0.029884676226977245,0.08335187948540998,0.08783591770554333,0.009560514637452014,0.11654783145069345,0.0009334664626340193,0.042825209025367024,0.0035623900048473113,0.11047495323677411,0.04266209982382471,0.00033783078225593273,0.003430977300887802,0.009198375697371485,0.027329705628527733,0.06347493251273462,0.02126920550177929,0.0022211526482346995,0.05794444409404063,0.07951834757515484,0.01896443224159728,0.04437669929940486,0.014317096528699603,0.01899257964093002,0.023235401522174955,0.06728926023559442,0.04274529691247472,0.04100617445297134,0.05905780028450773,0.03548313976489275,4.146355678934424e-05,0.00010668498514361413,0.014154762842370812,0.05712288089758405,0.04785418454533929,0.06362906048993675,0.04538375541050178,5.790416462716708e-05,0.03898462520447703,0.0002486149028557169,0.08960886543877188,0.02349797449525314,0.03999515043495514,0.033470454785298163,0.008201885714674374,0.013470522514013128,0.017842232617352297,0.017328335605177318,0.06106980392902316,0.06563951073427438,0.01790570533977766,0.009849483872647917,0.051574138207608734,0.026784617442105363,0.038387622678241466,0.04121831906791181,0.03621244369179738,0.01860358442241561,0.036936503857065456,0.03834979864222825,0.04116177922777631,0.30561883498704473,0.03179007631033341,0.02775287466683173,0.005667967443210553,0.037819447452153133,3.38125377356861e-05,0.0016844382752845665,0.028206858722793996,0.03013512096422149,0.07885048792102588,0.0012806422956180626,0.029357114845012747,0.000954669863783806,0.004344170337264483,0.011345219598351459,0.013267423588527292,0.00350972180141361,0.020641849475507255,0.0036049416797877946,0.0005060546087673891,0.00015166996488708362,0.001228801279435078,0.002100429991367112,0.006089954433289754,0.01905530206548411,0.0032731563616126692,0.001229541189113732,0.0414091867805691,0.020348104773098393,0.005855404438365599,0.01150602013244497,0.10266404290652677,0.013250733996693327,0.023378133440842403,0.00841683922830014,0.07253903255684718,0.0001546595977113684,0.01977454891430909,0.03753041728735431,0.015999633054826056,0.003124324847238781,0.0004564475328673378,0.011023932565917214,0.015532319283390666,0.00783983186319489,0.025667892593480023,0.010077224564211373,0.01568726238054779,0.006020900582758797,0.008017501244445776,0.0019590837693479533,0.0040737873044486995,0.03772585641500451,0.03721718067983078,0.03620257494314109,0.0007379050777622271,0.006694137536965359,0.021182521862694946,0.014728808284352045,0.024998579297579666,0.038423826435110976,0.013754940453854655,0.0003845680034223002,0.010000970171460614,0.05459718937664108,0.009253142484313519,0.0006019706483076008,0.015354298284556306,0.020176256015488354,0.0019374176591501749,0.00206578780097483,0.008844624429689479,0.010512982323146267,0.008536841353116796,0.01974193634203688,0.031001552261322344,1.3666974181762167e-06,0.0029588192634563593,0.001302332619797747,0.011125889862775264,0.010928307518247646,0.0006500068935231111,0.014295073152738244,0.03570241258204593,0.054756673905595916,0.01025931423590166,0.01376159277764404,0.012083926000905963,0.04002676271061998,0.02083210611504673,0.008470399486104636,0.02011259636137097,0.03411652990746716,0.034741043230648104,0.024750201423328705,0.04081012842265131,0.05067127094066054,0.3026551361069588,0.008924328083599792,0.01924896448606566,6.591851513198096e-05,0.014851330642776637,0.002008965483775022,0.03697603801725038,0.015102961588033892,0.015814098114967205,0.009085773160715318,0.0039492127590371184,0.005755127339032424,0.02793554148434512,0.004724258100434458,0.03437869876554131,1.6948889834949483e-05,0.005527928311962082,0.04579621160162789,0.013525902609896836,0.020875368341796964,1.014578812251468e-05,0.010833647793603726,0.04776681400861664,0.006557681781766355,0.03789595167016398,0.008979068357808843,0.006487970864907779,0.00800765873281756,0.022732665081642053,0.026622536695370385,0.03368840444982338,0.02498508356612884,0.021993455603012916,0.05041402363262077,0.012974022972330548,0.032865470331775615,0.03086004790649128,0.016168890859841932,0.03491051936718923,0.005585309686107546,0.011165822961879653,0.007205375567344074,1.0663004356700714e-05,0.005559830973226277,0.003180750856654533,0.0075367991184961056,0.02291457177206751,0.0007472732559521872,0.035293957348365164,0.021153386527655426,0.005602884531203293,0.028887104056325344,0.006687305938972851,0.04459661383062904,0.006463763315340518,0.001482183508814864,0.008718105005874287,0.005744643247199247,0.062136216919176555,0.013661510859225892,1.8512127565674524e-05,0.004625763904871545,0.002078666568820529,0.006093902038924855,0.0052440545331464165,0.0060791392327387605,0.003983888231148952,0.0037753784824601315,0.029594925751596994,0.003956887890420579,0.0005301505851394939,0.02709311540470595,0.02948976500591668,0.008344293905165324,0.03771420460436657,0.002010447224241007,0.0017349908806929756,0.009067215249527678,0.006358796822954173,0.001088225535801071,0.00751443141288742,0.016260396514743113,0.004276114806561842,0.024929653791326202,0.0039108577583780064,0.015985276859113415,0.019848099906848424,0.020878257558068915,0.0006034191238130288,0.011848623857643705,0.005061553171504239,0.00821659792230085,0.011785110735496618,0.011293656490142861,0.011982540157778429,0.025101610323350697,0.002788734625572002,0.0038443697732236356,0.0005787721449221249,0.011203419483290988,0.0034888736591083586,0.005536182743440013,0.0005831419638143569,0.007848386208307264,0.018371774183297777,0.04262645012136743,0.01260458480075529,0.07571235123797135,0.0018713267951569747,0.05971051686084523,0.0556136017414985,0.009682612490207354,0.010326523504259128,0.013069764295419884,0.13053878352776344,0.01143033471964737,0.005418688891812423,0.025953435643407973,0.004706225912994509,0.01632153666162548,0.012536002369988428,0.004749477317832541,0.0008870564570061933,0.0004481333667593831,0.12088273565572821,0.0033953797324974473,0.10844109942206356,0.0016111389266604548,0.013754414598659321,0.0087033331985649,0.0024445785058241727,0.011110530518722978,0.005822610877496106,0.0024714608565741675,0.01371839302574147,0.012748992420202216,0.0019838754863826993,0.02047991220322126,0.0028350957481614774,0.018715516243916496,2.2139059110648907e-05,0.0027932176309368615,0.0020902123788242638,0.0002750536091608158,0.02171441102283237,0.0033298028628168715,0.0037658202945609087,0.0061432543158139695,0.018456846600064237,0.020593770211542038,0.01020764815059191,0.05987828497254643,0.0016274774082094318,0.00488073312282889,0.010856512096359986,0.005254402467617678,0.016153056471278977,0.006058668897642089,0.03351072349774984,0.012303699240629956,0.0019231256342006925,2.040659720515146e-05,0.0014243394220603812,0.005195496716378773,0.013295429319559869,0.01249516509617402,0.009588558589165908,0.0012797075099311016,0.011296993054146196,0.009866024717859034,0.011327555063552774,0.011546978126268308,0.0008699401043068575,0.008583433725527433,0.0009107682931610196,0.02122035579366885,0.005360014364863048,0.07500437609986751,0.02167382629126303,0.00782141350924709,0.009520840906034922,0.07002336027610762,0.014205544895405852,0.001826566489817019,0.00030316214536370013,0.006814296841270018,0.02949937701378886,0.004713023823982481,0.018941256820676215,0.010234635043790479,0.0009014975449876658,0.002346408493151974,0.0030641766889793055,0.05246866891906985,0.00029891130211072013,0.00029120471760264363,0.04541074400610322,0.005487622126084411,0.0015082162574601237,0.00893849457129933,0.0021532582310970247,0.008617549973221698,0.0001154328650596836,0.0018853085986268267,0.05481106865896577,0.0028285540624898554,1.6390690586577355e-05,0.00518137503418482,0.02212937452075628,0.04066406644614226,0.012392781714076729,0.011092886031093773,0.009843720822816975,0.002722336595925344,0.0037608244069855046,0.008040385178702252,0.0010180774806556612,0.015235319004165575,0.001820875118022543,0.002358809592972878,0.014432353180513353,0.0003998300362825827,0.0026436301859512697,5.813569120378739e-09,0.018466879894688714,0.005877021160189599,0.002266334094184781,0.0002785058094312307,0.014639252589575482,0.0579442984002935,0.0010558753128191076,0.019372581738519228,0.00010364350498367765,0.0021970134285415636,0.028563820312482387],\"yaxis\":\"y\",\"type\":\"scatter\"}],                        {\"template\":{\"data\":{\"histogram2dcontour\":[{\"type\":\"histogram2dcontour\",\"colorbar\":{\"outlinewidth\":0,\"ticks\":\"\"},\"colorscale\":[[0.0,\"#0d0887\"],[0.1111111111111111,\"#46039f\"],[0.2222222222222222,\"#7201a8\"],[0.3333333333333333,\"#9c179e\"],[0.4444444444444444,\"#bd3786\"],[0.5555555555555556,\"#d8576b\"],[0.6666666666666666,\"#ed7953\"],[0.7777777777777778,\"#fb9f3a\"],[0.8888888888888888,\"#fdca26\"],[1.0,\"#f0f921\"]]}],\"choropleth\":[{\"type\":\"choropleth\",\"colorbar\":{\"outlinewidth\":0,\"ticks\":\"\"}}],\"histogram2d\":[{\"type\":\"histogram2d\",\"colorbar\":{\"outlinewidth\":0,\"ticks\":\"\"},\"colorscale\":[[0.0,\"#0d0887\"],[0.1111111111111111,\"#46039f\"],[0.2222222222222222,\"#7201a8\"],[0.3333333333333333,\"#9c179e\"],[0.4444444444444444,\"#bd3786\"],[0.5555555555555556,\"#d8576b\"],[0.6666666666666666,\"#ed7953\"],[0.7777777777777778,\"#fb9f3a\"],[0.8888888888888888,\"#fdca26\"],[1.0,\"#f0f921\"]]}],\"heatmap\":[{\"type\":\"heatmap\",\"colorbar\":{\"outlinewidth\":0,\"ticks\":\"\"},\"colorscale\":[[0.0,\"#0d0887\"],[0.1111111111111111,\"#46039f\"],[0.2222222222222222,\"#7201a8\"],[0.3333333333333333,\"#9c179e\"],[0.4444444444444444,\"#bd3786\"],[0.5555555555555556,\"#d8576b\"],[0.6666666666666666,\"#ed7953\"],[0.7777777777777778,\"#fb9f3a\"],[0.8888888888888888,\"#fdca26\"],[1.0,\"#f0f921\"]]}],\"heatmapgl\":[{\"type\":\"heatmapgl\",\"colorbar\":{\"outlinewidth\":0,\"ticks\":\"\"},\"colorscale\":[[0.0,\"#0d0887\"],[0.1111111111111111,\"#46039f\"],[0.2222222222222222,\"#7201a8\"],[0.3333333333333333,\"#9c179e\"],[0.4444444444444444,\"#bd3786\"],[0.5555555555555556,\"#d8576b\"],[0.6666666666666666,\"#ed7953\"],[0.7777777777777778,\"#fb9f3a\"],[0.8888888888888888,\"#fdca26\"],[1.0,\"#f0f921\"]]}],\"contourcarpet\":[{\"type\":\"contourcarpet\",\"colorbar\":{\"outlinewidth\":0,\"ticks\":\"\"}}],\"contour\":[{\"type\":\"contour\",\"colorbar\":{\"outlinewidth\":0,\"ticks\":\"\"},\"colorscale\":[[0.0,\"#0d0887\"],[0.1111111111111111,\"#46039f\"],[0.2222222222222222,\"#7201a8\"],[0.3333333333333333,\"#9c179e\"],[0.4444444444444444,\"#bd3786\"],[0.5555555555555556,\"#d8576b\"],[0.6666666666666666,\"#ed7953\"],[0.7777777777777778,\"#fb9f3a\"],[0.8888888888888888,\"#fdca26\"],[1.0,\"#f0f921\"]]}],\"surface\":[{\"type\":\"surface\",\"colorbar\":{\"outlinewidth\":0,\"ticks\":\"\"},\"colorscale\":[[0.0,\"#0d0887\"],[0.1111111111111111,\"#46039f\"],[0.2222222222222222,\"#7201a8\"],[0.3333333333333333,\"#9c179e\"],[0.4444444444444444,\"#bd3786\"],[0.5555555555555556,\"#d8576b\"],[0.6666666666666666,\"#ed7953\"],[0.7777777777777778,\"#fb9f3a\"],[0.8888888888888888,\"#fdca26\"],[1.0,\"#f0f921\"]]}],\"mesh3d\":[{\"type\":\"mesh3d\",\"colorbar\":{\"outlinewidth\":0,\"ticks\":\"\"}}],\"scatter\":[{\"fillpattern\":{\"fillmode\":\"overlay\",\"size\":10,\"solidity\":0.2},\"type\":\"scatter\"}],\"parcoords\":[{\"type\":\"parcoords\",\"line\":{\"colorbar\":{\"outlinewidth\":0,\"ticks\":\"\"}}}],\"scatterpolargl\":[{\"type\":\"scatterpolargl\",\"marker\":{\"colorbar\":{\"outlinewidth\":0,\"ticks\":\"\"}}}],\"bar\":[{\"error_x\":{\"color\":\"#2a3f5f\"},\"error_y\":{\"color\":\"#2a3f5f\"},\"marker\":{\"line\":{\"color\":\"#E5ECF6\",\"width\":0.5},\"pattern\":{\"fillmode\":\"overlay\",\"size\":10,\"solidity\":0.2}},\"type\":\"bar\"}],\"scattergeo\":[{\"type\":\"scattergeo\",\"marker\":{\"colorbar\":{\"outlinewidth\":0,\"ticks\":\"\"}}}],\"scatterpolar\":[{\"type\":\"scatterpolar\",\"marker\":{\"colorbar\":{\"outlinewidth\":0,\"ticks\":\"\"}}}],\"histogram\":[{\"marker\":{\"pattern\":{\"fillmode\":\"overlay\",\"size\":10,\"solidity\":0.2}},\"type\":\"histogram\"}],\"scattergl\":[{\"type\":\"scattergl\",\"marker\":{\"colorbar\":{\"outlinewidth\":0,\"ticks\":\"\"}}}],\"scatter3d\":[{\"type\":\"scatter3d\",\"line\":{\"colorbar\":{\"outlinewidth\":0,\"ticks\":\"\"}},\"marker\":{\"colorbar\":{\"outlinewidth\":0,\"ticks\":\"\"}}}],\"scattermapbox\":[{\"type\":\"scattermapbox\",\"marker\":{\"colorbar\":{\"outlinewidth\":0,\"ticks\":\"\"}}}],\"scatterternary\":[{\"type\":\"scatterternary\",\"marker\":{\"colorbar\":{\"outlinewidth\":0,\"ticks\":\"\"}}}],\"scattercarpet\":[{\"type\":\"scattercarpet\",\"marker\":{\"colorbar\":{\"outlinewidth\":0,\"ticks\":\"\"}}}],\"carpet\":[{\"aaxis\":{\"endlinecolor\":\"#2a3f5f\",\"gridcolor\":\"white\",\"linecolor\":\"white\",\"minorgridcolor\":\"white\",\"startlinecolor\":\"#2a3f5f\"},\"baxis\":{\"endlinecolor\":\"#2a3f5f\",\"gridcolor\":\"white\",\"linecolor\":\"white\",\"minorgridcolor\":\"white\",\"startlinecolor\":\"#2a3f5f\"},\"type\":\"carpet\"}],\"table\":[{\"cells\":{\"fill\":{\"color\":\"#EBF0F8\"},\"line\":{\"color\":\"white\"}},\"header\":{\"fill\":{\"color\":\"#C8D4E3\"},\"line\":{\"color\":\"white\"}},\"type\":\"table\"}],\"barpolar\":[{\"marker\":{\"line\":{\"color\":\"#E5ECF6\",\"width\":0.5},\"pattern\":{\"fillmode\":\"overlay\",\"size\":10,\"solidity\":0.2}},\"type\":\"barpolar\"}],\"pie\":[{\"automargin\":true,\"type\":\"pie\"}]},\"layout\":{\"autotypenumbers\":\"strict\",\"colorway\":[\"#636efa\",\"#EF553B\",\"#00cc96\",\"#ab63fa\",\"#FFA15A\",\"#19d3f3\",\"#FF6692\",\"#B6E880\",\"#FF97FF\",\"#FECB52\"],\"font\":{\"color\":\"#2a3f5f\"},\"hovermode\":\"closest\",\"hoverlabel\":{\"align\":\"left\"},\"paper_bgcolor\":\"white\",\"plot_bgcolor\":\"#E5ECF6\",\"polar\":{\"bgcolor\":\"#E5ECF6\",\"angularaxis\":{\"gridcolor\":\"white\",\"linecolor\":\"white\",\"ticks\":\"\"},\"radialaxis\":{\"gridcolor\":\"white\",\"linecolor\":\"white\",\"ticks\":\"\"}},\"ternary\":{\"bgcolor\":\"#E5ECF6\",\"aaxis\":{\"gridcolor\":\"white\",\"linecolor\":\"white\",\"ticks\":\"\"},\"baxis\":{\"gridcolor\":\"white\",\"linecolor\":\"white\",\"ticks\":\"\"},\"caxis\":{\"gridcolor\":\"white\",\"linecolor\":\"white\",\"ticks\":\"\"}},\"coloraxis\":{\"colorbar\":{\"outlinewidth\":0,\"ticks\":\"\"}},\"colorscale\":{\"sequential\":[[0.0,\"#0d0887\"],[0.1111111111111111,\"#46039f\"],[0.2222222222222222,\"#7201a8\"],[0.3333333333333333,\"#9c179e\"],[0.4444444444444444,\"#bd3786\"],[0.5555555555555556,\"#d8576b\"],[0.6666666666666666,\"#ed7953\"],[0.7777777777777778,\"#fb9f3a\"],[0.8888888888888888,\"#fdca26\"],[1.0,\"#f0f921\"]],\"sequentialminus\":[[0.0,\"#0d0887\"],[0.1111111111111111,\"#46039f\"],[0.2222222222222222,\"#7201a8\"],[0.3333333333333333,\"#9c179e\"],[0.4444444444444444,\"#bd3786\"],[0.5555555555555556,\"#d8576b\"],[0.6666666666666666,\"#ed7953\"],[0.7777777777777778,\"#fb9f3a\"],[0.8888888888888888,\"#fdca26\"],[1.0,\"#f0f921\"]],\"diverging\":[[0,\"#8e0152\"],[0.1,\"#c51b7d\"],[0.2,\"#de77ae\"],[0.3,\"#f1b6da\"],[0.4,\"#fde0ef\"],[0.5,\"#f7f7f7\"],[0.6,\"#e6f5d0\"],[0.7,\"#b8e186\"],[0.8,\"#7fbc41\"],[0.9,\"#4d9221\"],[1,\"#276419\"]]},\"xaxis\":{\"gridcolor\":\"white\",\"linecolor\":\"white\",\"ticks\":\"\",\"title\":{\"standoff\":15},\"zerolinecolor\":\"white\",\"automargin\":true,\"zerolinewidth\":2},\"yaxis\":{\"gridcolor\":\"white\",\"linecolor\":\"white\",\"ticks\":\"\",\"title\":{\"standoff\":15},\"zerolinecolor\":\"white\",\"automargin\":true,\"zerolinewidth\":2},\"scene\":{\"xaxis\":{\"backgroundcolor\":\"#E5ECF6\",\"gridcolor\":\"white\",\"linecolor\":\"white\",\"showbackground\":true,\"ticks\":\"\",\"zerolinecolor\":\"white\",\"gridwidth\":2},\"yaxis\":{\"backgroundcolor\":\"#E5ECF6\",\"gridcolor\":\"white\",\"linecolor\":\"white\",\"showbackground\":true,\"ticks\":\"\",\"zerolinecolor\":\"white\",\"gridwidth\":2},\"zaxis\":{\"backgroundcolor\":\"#E5ECF6\",\"gridcolor\":\"white\",\"linecolor\":\"white\",\"showbackground\":true,\"ticks\":\"\",\"zerolinecolor\":\"white\",\"gridwidth\":2}},\"shapedefaults\":{\"line\":{\"color\":\"#2a3f5f\"}},\"annotationdefaults\":{\"arrowcolor\":\"#2a3f5f\",\"arrowhead\":0,\"arrowwidth\":1},\"geo\":{\"bgcolor\":\"white\",\"landcolor\":\"#E5ECF6\",\"subunitcolor\":\"white\",\"showland\":true,\"showlakes\":true,\"lakecolor\":\"white\"},\"title\":{\"x\":0.05},\"mapbox\":{\"style\":\"light\"}}},\"xaxis\":{\"anchor\":\"y\",\"domain\":[0.0,1.0],\"title\":{\"text\":\"Iterations\"}},\"yaxis\":{\"anchor\":\"x\",\"domain\":[0.0,1.0],\"title\":{\"text\":\"MSE\"}},\"legend\":{\"tracegroupgap\":0},\"margin\":{\"t\":60},\"height\":500,\"width\":1000},                        {\"responsive\": true}                    ).then(function(){\n",
              "                            \n",
              "var gd = document.getElementById('f12c4fde-12e0-4f53-9f12-4c798caaebb1');\n",
              "var x = new MutationObserver(function (mutations, observer) {{\n",
              "        var display = window.getComputedStyle(gd).display;\n",
              "        if (!display || display === 'none') {{\n",
              "            console.log([gd, 'removed!']);\n",
              "            Plotly.purge(gd);\n",
              "            observer.disconnect();\n",
              "        }}\n",
              "}});\n",
              "\n",
              "// Listen for the removal of the full notebook cells\n",
              "var notebookContainer = gd.closest('#notebook-container');\n",
              "if (notebookContainer) {{\n",
              "    x.observe(notebookContainer, {childList: true});\n",
              "}}\n",
              "\n",
              "// Listen for the clearing of the current output cell\n",
              "var outputEl = gd.closest('.output');\n",
              "if (outputEl) {{\n",
              "    x.observe(outputEl, {childList: true});\n",
              "}}\n",
              "\n",
              "                        })                };                            </script>        </div>\n",
              "</body>\n",
              "</html>"
            ]
          },
          "metadata": {}
        }
      ],
      "source": [
        "# ваш код\n",
        "def stochastic_gradient_descent2(X, y, w, eta, n_iter, min_weight_dist):\n",
        "    weight_dist = np.inf\n",
        "    costs = []\n",
        "    init = 0\n",
        "    iter = []\n",
        "    w = w_init\n",
        "    for i in range(n_iter):\n",
        "        train_ind = np.random.randint(0, X.shape[0])\n",
        "        w_prev = w\n",
        "        w = stoch_grad_step(X, y, w, train_ind, eta)\n",
        "        weight_dist = np.linalg.norm(w - w_prev)\n",
        "        costs.append(((X[train_ind]@w - y[train_ind])**2)/X.shape[0])  \n",
        "        init += 1\n",
        "        iter.append(init)\n",
        "        if weight_dist < min_weight_dist:\n",
        "            break\n",
        "           \n",
        "    return costs, iter\n",
        "\n",
        "\n",
        "import plotly\n",
        "import plotly.express as px\n",
        "\n",
        "fig = px.line(\n",
        "    x = stochastic_gradient_descent2(X, y, w, 0.01, 100000, 0.00001)[1][0:800],\n",
        "    y = stochastic_gradient_descent2(X, y, w, 0.01, 100000, 0.00001)[0][0:800],\n",
        "    height = 500,\n",
        "    width = 1000,\n",
        ")\n",
        "\n",
        "fig.update_xaxes(title_text='Iterations')\n",
        "fig.update_yaxes(title_text='MSE')\n",
        "fig.show()"
      ]
    },
    {
      "cell_type": "markdown",
      "metadata": {
        "id": "O-MVOcJ6a_aY"
      },
      "source": [
        "**Выведите вектор весов, к которому сошелся метод.**"
      ]
    },
    {
      "cell_type": "code",
      "execution_count": 154,
      "metadata": {
        "id": "MPjVkXe4DUK9",
        "colab": {
          "base_uri": "https://localhost:8080/"
        },
        "outputId": "f9f1374a-e6b3-4070-dc32-1e8b58d47ead"
      },
      "outputs": [
        {
          "output_type": "execute_result",
          "data": {
            "text/plain": [
              "array([13.93333313,  3.95228575,  2.82111438,  0.17708851])"
            ]
          },
          "metadata": {},
          "execution_count": 154
        }
      ],
      "source": [
        "# ваш код\n",
        "stochastic_gradient_descent(X, y, w, 0.01, 100000, 0.00001)[0]"
      ]
    },
    {
      "cell_type": "markdown",
      "metadata": {
        "id": "qabzMc3Qa_a5"
      },
      "source": [
        "**Выведите среднеквадратичную ошибку на последней итерации.**"
      ]
    },
    {
      "cell_type": "code",
      "execution_count": 155,
      "metadata": {
        "id": "7tPWleMIa_a7",
        "colab": {
          "base_uri": "https://localhost:8080/"
        },
        "outputId": "7d87afe4-6608-49c8-bb05-5a92b201f549"
      },
      "outputs": [
        {
          "output_type": "execute_result",
          "data": {
            "text/plain": [
              "3.6244735714461404e-10"
            ]
          },
          "metadata": {},
          "execution_count": 155
        }
      ],
      "source": [
        "# ваш код\n",
        "stochastic_gradient_descent(X, y, w, 0.01, 100000, 0.00001)[1]"
      ]
    }
  ],
  "metadata": {
    "colab": {
      "provenance": []
    },
    "kernelspec": {
      "display_name": "Python 3.10.8 ('base')",
      "language": "python",
      "name": "python3"
    },
    "language_info": {
      "codemirror_mode": {
        "name": "ipython",
        "version": 3
      },
      "file_extension": ".py",
      "mimetype": "text/x-python",
      "name": "python",
      "nbconvert_exporter": "python",
      "pygments_lexer": "ipython3",
      "version": "3.10.8"
    },
    "vscode": {
      "interpreter": {
        "hash": "86c56a74836ad344b00594bf6f38fa6a676a207ceefe20d101fbc465800ccb8d"
      }
    }
  },
  "nbformat": 4,
  "nbformat_minor": 0
}