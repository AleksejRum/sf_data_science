{
  "cells": [
    {
      "cell_type": "markdown",
      "metadata": {
        "id": "NyHIGVhfa_Wf"
      },
      "source": [
        "# Стохастический градиентный и координатный спуски"
      ]
    },
    {
      "cell_type": "markdown",
      "metadata": {
        "id": "gn6lluIADUKa"
      },
      "source": [
        "Для каждого задания указано количество баллов (если они оцениваются отдельно) + 1 балл за аккуратное и полное выполнение всего задания"
      ]
    },
    {
      "cell_type": "code",
      "execution_count": 25,
      "metadata": {},
      "outputs": [],
      "source": [
        "import pandas as pd\n",
        "import numpy as np"
      ]
    },
    {
      "cell_type": "markdown",
      "metadata": {
        "id": "txCccYvha_Wv"
      },
      "source": [
        "## Загрузка и подготовка данных"
      ]
    },
    {
      "cell_type": "markdown",
      "metadata": {
        "id": "NbyOzeZ6a_Wx"
      },
      "source": [
        "**Загрузите уже знакомый вам файл *Advertising.csv* как объект DataFrame.** "
      ]
    },
    {
      "cell_type": "code",
      "execution_count": 26,
      "metadata": {
        "colab": {
          "base_uri": "https://localhost:8080/",
          "height": 206
        },
        "id": "E1L4_xeDa_Wz",
        "outputId": "3dace8ee-b1b5-49ac-bc9f-4b7f984b780b"
      },
      "outputs": [
        {
          "data": {
            "text/html": [
              "<div>\n",
              "<style scoped>\n",
              "    .dataframe tbody tr th:only-of-type {\n",
              "        vertical-align: middle;\n",
              "    }\n",
              "\n",
              "    .dataframe tbody tr th {\n",
              "        vertical-align: top;\n",
              "    }\n",
              "\n",
              "    .dataframe thead th {\n",
              "        text-align: right;\n",
              "    }\n",
              "</style>\n",
              "<table border=\"1\" class=\"dataframe\">\n",
              "  <thead>\n",
              "    <tr style=\"text-align: right;\">\n",
              "      <th></th>\n",
              "      <th>TV</th>\n",
              "      <th>radio</th>\n",
              "      <th>newspaper</th>\n",
              "      <th>sales</th>\n",
              "    </tr>\n",
              "  </thead>\n",
              "  <tbody>\n",
              "    <tr>\n",
              "      <th>0</th>\n",
              "      <td>230.1</td>\n",
              "      <td>37.8</td>\n",
              "      <td>69.2</td>\n",
              "      <td>22.1</td>\n",
              "    </tr>\n",
              "    <tr>\n",
              "      <th>1</th>\n",
              "      <td>44.5</td>\n",
              "      <td>39.3</td>\n",
              "      <td>45.1</td>\n",
              "      <td>10.4</td>\n",
              "    </tr>\n",
              "    <tr>\n",
              "      <th>2</th>\n",
              "      <td>17.2</td>\n",
              "      <td>45.9</td>\n",
              "      <td>69.3</td>\n",
              "      <td>9.3</td>\n",
              "    </tr>\n",
              "    <tr>\n",
              "      <th>3</th>\n",
              "      <td>151.5</td>\n",
              "      <td>41.3</td>\n",
              "      <td>58.5</td>\n",
              "      <td>18.5</td>\n",
              "    </tr>\n",
              "    <tr>\n",
              "      <th>4</th>\n",
              "      <td>180.8</td>\n",
              "      <td>10.8</td>\n",
              "      <td>58.4</td>\n",
              "      <td>12.9</td>\n",
              "    </tr>\n",
              "  </tbody>\n",
              "</table>\n",
              "</div>"
            ],
            "text/plain": [
              "      TV  radio  newspaper  sales\n",
              "0  230.1   37.8       69.2   22.1\n",
              "1   44.5   39.3       45.1   10.4\n",
              "2   17.2   45.9       69.3    9.3\n",
              "3  151.5   41.3       58.5   18.5\n",
              "4  180.8   10.8       58.4   12.9"
            ]
          },
          "execution_count": 26,
          "metadata": {},
          "output_type": "execute_result"
        }
      ],
      "source": [
        "#ваш код \n",
        "df = pd.read_csv('data/Advertising2.csv', sep=',')\n",
        "df.drop('Unnamed: 0', axis=1, inplace=True)\n",
        "df.head(5)"
      ]
    },
    {
      "cell_type": "markdown",
      "metadata": {
        "id": "bf4aVFndDUKf"
      },
      "source": [
        "**Проверьте, есть ли в данных пропуски и, если они есть - удалите их**"
      ]
    },
    {
      "cell_type": "code",
      "execution_count": 27,
      "metadata": {
        "colab": {
          "base_uri": "https://localhost:8080/"
        },
        "id": "tiVeFnR5DUKg",
        "outputId": "b215d751-c632-4288-cda7-cdf2d6b4e25d"
      },
      "outputs": [
        {
          "name": "stdout",
          "output_type": "stream",
          "text": [
            "<class 'pandas.core.frame.DataFrame'>\n",
            "RangeIndex: 200 entries, 0 to 199\n",
            "Data columns (total 4 columns):\n",
            " #   Column     Non-Null Count  Dtype  \n",
            "---  ------     --------------  -----  \n",
            " 0   TV         200 non-null    float64\n",
            " 1   radio      200 non-null    float64\n",
            " 2   newspaper  200 non-null    float64\n",
            " 3   sales      200 non-null    float64\n",
            "dtypes: float64(4)\n",
            "memory usage: 6.4 KB\n"
          ]
        }
      ],
      "source": [
        "#ваш код \n",
        "df.info()"
      ]
    },
    {
      "cell_type": "code",
      "execution_count": 28,
      "metadata": {
        "colab": {
          "base_uri": "https://localhost:8080/"
        },
        "id": "HklFD7HvkzLn",
        "outputId": "d198371f-2d45-4faa-ef52-6f07d6b8f921"
      },
      "outputs": [
        {
          "data": {
            "text/plain": [
              "TV           0.0\n",
              "radio        0.0\n",
              "newspaper    0.0\n",
              "sales        0.0\n",
              "dtype: float64"
            ]
          },
          "execution_count": 28,
          "metadata": {},
          "output_type": "execute_result"
        }
      ],
      "source": [
        "#ваш код \n",
        "df.isnull().mean()"
      ]
    },
    {
      "cell_type": "markdown",
      "metadata": {
        "id": "rTkiqPr_DUKh"
      },
      "source": [
        "**Преобразуйте ваши признаки в массивы NumPy и разделите их на переменные X (предикторы) и y(целевая переменная)** "
      ]
    },
    {
      "cell_type": "code",
      "execution_count": 29,
      "metadata": {
        "colab": {
          "base_uri": "https://localhost:8080/"
        },
        "id": "R9OHIRB3a_Xa",
        "outputId": "ec98cb6b-b6ac-444a-938a-336999d527f3"
      },
      "outputs": [
        {
          "name": "stdout",
          "output_type": "stream",
          "text": [
            "Type of X: <class 'numpy.ndarray'>\n",
            "Type of y: <class 'numpy.ndarray'>\n"
          ]
        }
      ],
      "source": [
        "#ваш код \n",
        "y = df['sales'].values\n",
        "X = df.drop('sales', axis=1)\n",
        "X = X.values\n",
        "\n",
        "print(f'Type of X: {type(X)}')\n",
        "print(f'Type of y: {type(y)}')"
      ]
    },
    {
      "cell_type": "markdown",
      "metadata": {
        "id": "KCvjSoHEDUKo"
      },
      "source": [
        "## Координатный спуск (3 балла)"
      ]
    },
    {
      "cell_type": "markdown",
      "metadata": {
        "id": "yjNm8dATDUKq"
      },
      "source": [
        "**Добавим единичный столбец для того, чтобы у нас был свободный коэффициент в уравнении регрессии:**"
      ]
    },
    {
      "cell_type": "code",
      "execution_count": 30,
      "metadata": {
        "colab": {
          "base_uri": "https://localhost:8080/"
        },
        "id": "LMgq0fmKDUKr",
        "outputId": "cce081fc-8e7b-4691-f80a-491e1a1e6b19"
      },
      "outputs": [
        {
          "name": "stdout",
          "output_type": "stream",
          "text": [
            "(200, 4) (200, 1)\n"
          ]
        }
      ],
      "source": [
        "import numpy as np\n",
        "\n",
        "X = np.hstack([np.ones(X.shape[0]).reshape(-1, 1), X])\n",
        "y = y.reshape(-1, 1)\n",
        "print(X.shape, y.shape)"
      ]
    },
    {
      "cell_type": "markdown",
      "metadata": {
        "id": "R008OQwcDUKt"
      },
      "source": [
        "**Нормализуем данные: обычно это необходимо для корректной работы алгоритма**"
      ]
    },
    {
      "cell_type": "code",
      "execution_count": 31,
      "metadata": {
        "id": "2Sk7Wx-SDUKt"
      },
      "outputs": [],
      "source": [
        "X = X / np.sqrt(np.sum(np.square(X), axis=0))"
      ]
    },
    {
      "cell_type": "markdown",
      "metadata": {
        "id": "F_pHHbAdDUKu"
      },
      "source": [
        "**Реализуйте алгоритм координатного спуска:** (3 балла)\n",
        "\n",
        "Ниже приведен алгоритм координатного спуска для случая нормализованных данных:"
      ]
    },
    {
      "cell_type": "markdown",
      "metadata": {
        "id": "_KmgCJGLkzLu"
      },
      "source": [
        "**Задано:**\n",
        "\n",
        "* $X=(x_{ij})$ - матрица наблюдений, размерностью $dim(X)=(n, m)$\n",
        "* $N=1000$ - количество итераций\n",
        "\n",
        "**Примечание:** *1000 итераций здесь указаны для этого задания, на самом деле их может быть намного больше, нет детерменированного значения.*\n",
        "\n",
        "**Алгоритм (математическая запись):**\n",
        "* Создать нулевой вектор параметров $w_0=(0, 0,..., 0)^T$\n",
        "* Для всех $t=1, 2, ..., N$ итераций:\n",
        "    * Для всех $k = 1, 2,..., m$:\n",
        "        * Фиксируем значение всех признаков, кроме $k$-ого и вычисляем прогноз модели линейной регрессии.Для этого исключаем признак $k$-ый из данных и $w_j$ из параметров при построении прогноза.\n",
        "        Математически это можно записать следующим образом:\n",
        "\n",
        "        $$h_i = \\sum_{j=1}^{k-1} x_{ij}w_{j} + \\sum_{j=k+1}^{m} x_{ij}w_j $$\n",
        "\n",
        "        **Примечание:**\n",
        "        \n",
        "        *Обратите, что в данной записи текущий признак под номером $k$ не участвует в сумме.Сравните эту запись с классической записью прогноза линейной регрессии в случае нормированных данных (когда участвуют все признаки):*\n",
        "\n",
        "        $$h_i = \\sum_{j=1}^{m} x_{ij}w_{j}$$ \n",
        "        \n",
        "        * Вычисляем новое значение параметра $k$-ого коэффициента: \n",
        "        $$w_k = \\sum_{i=1}^{n} x_{ik} (y_i - h_i) = x_k^T(y-h) $$\n",
        "\n",
        "    * Вычисляем значение функции потерь и сохраняем в историю изменения функции потерь (В оценке функции потерь участвуют все признаки):\n",
        "        $$\\hat{y_i} = \\sum_{j=1}^{m}x_{ij}$$\n",
        "        $$Loss_t = \\frac{1}{n} \\sum_{i=1}^{n}(y_i-\\hat{y_i})^2$$\n",
        "        \n",
        "        или в векторном виде:\n",
        "        \n",
        "        $$\\hat{y} = Xw$$\n",
        "        $$Loss_t = \\frac{1}{n}(y-\\hat{y})^T(y-\\hat{y})$$\n",
        "    \n",
        "\n"
      ]
    },
    {
      "cell_type": "markdown",
      "metadata": {
        "id": "F-zMwlWPkzLw"
      },
      "source": [
        "**Алгоритм (псевдокод):**\n",
        "```python\n",
        "\n",
        "num_iters = #количество итераций\n",
        "m = # количество строк в матрице X\n",
        "n = # количество столбцов в матрице X\n",
        "w = #вектор размера nx1, состояющий из нулей\n",
        "\n",
        "for i in range(num_iters):\n",
        "    for k in range(n):\n",
        "        # Вычисляем прогноз без k-ого фактора\n",
        "        h = (X[:,0:k] @ w[0:k]) + (X[:,k+1:] @ w[k+1:])\n",
        "        # Обновляем новое значение k-ого коэффициента\n",
        "        w[k] =  (X[:,k].T @ (y - h))\n",
        "        # Вычисляем функцию потерь\n",
        "        cost = sum((X @ w) - y) ** 2)/(len(y))\n",
        "\n",
        "```"
      ]
    },
    {
      "cell_type": "markdown",
      "metadata": {
        "id": "y3IdiHm9DUKv"
      },
      "source": [
        "Вам необходимо реализовать координатный спуск, и вывести веса в модели линейной регрессии."
      ]
    },
    {
      "cell_type": "code",
      "execution_count": 32,
      "metadata": {
        "colab": {
          "base_uri": "https://localhost:8080/",
          "height": 35
        },
        "id": "eexx2hJTkzLx",
        "outputId": "49c32c5c-4d6e-405b-edf7-90fe74b9902a"
      },
      "outputs": [
        {
          "data": {
            "text/plain": [
              "array([ 41.56217205, 110.13144155,  73.52860638,  -0.55006384])"
            ]
          },
          "metadata": {},
          "output_type": "display_data"
        }
      ],
      "source": [
        "# ваш код \n",
        "num_iters = 1000 #количество итераций\n",
        "m = X.shape[0] # количество строк в матрице X\n",
        "n = X.shape[1] # количество столбцов в матрице X\n",
        "w = np.zeros(X.shape[1]) #вектор размера nx1, состояющий из нулей\n",
        "\n",
        "for i in range(num_iters):\n",
        "    for k in range(n):\n",
        "        # Вычисляем прогноз без k-ого фактора\n",
        "        h = (X[:,0:k] @ w[0:k]) + (X[:,k+1:] @ w[k+1:])\n",
        "        # Обновляем новое значение k-ого коэффициента\n",
        "        w[k] =  (X[:,k].T @ (y - h.reshape(-1, 1)))\n",
        "        # Вычисляем функцию потерь\n",
        "        cost = sum(((X @ w) - y) ** 2)/(len(y))\n",
        "\n",
        "display(w)"
      ]
    },
    {
      "cell_type": "markdown",
      "metadata": {
        "id": "a3jG-7UADUKx"
      },
      "source": [
        "Сравните результаты с реализацией линейной регрессии из библиотеки sklearn:"
      ]
    },
    {
      "cell_type": "code",
      "execution_count": 33,
      "metadata": {
        "colab": {
          "base_uri": "https://localhost:8080/"
        },
        "id": "SBl-1Yb5DUKy",
        "outputId": "45b4eca2-fc3f-4d85-b982-f6d84b53aef1"
      },
      "outputs": [
        {
          "name": "stdout",
          "output_type": "stream",
          "text": [
            "[[ 41.56217205 110.13144155  73.52860638  -0.55006384]]\n"
          ]
        }
      ],
      "source": [
        "from sklearn.linear_model import LinearRegression\n",
        " \n",
        "model = LinearRegression(fit_intercept=False)\n",
        "model.fit(X, y)\n",
        " \n",
        "print(model.coef_)"
      ]
    },
    {
      "cell_type": "markdown",
      "metadata": {
        "id": "hIl0AGLyDUKy"
      },
      "source": [
        "Если вы все сделали верно, они должны практически совпасть!"
      ]
    },
    {
      "cell_type": "markdown",
      "metadata": {
        "id": "VCGwFnPdDUKz"
      },
      "source": [
        "## Стохастический градиентный спуск (6 баллов)"
      ]
    },
    {
      "cell_type": "markdown",
      "metadata": {
        "id": "5u7Q2YJla_Xk"
      },
      "source": [
        "**Отмасштабируйте столбцы исходной матрицы *X* (которую мы не нормализовали еще!). Для того, чтобы это сделать, надо вычесть из каждого значения среднее и разделить на стандартное отклонение** (0.5 баллов)"
      ]
    },
    {
      "cell_type": "code",
      "execution_count": 34,
      "metadata": {
        "colab": {
          "base_uri": "https://localhost:8080/",
          "height": 206
        },
        "id": "9cEpV_5La_Xo",
        "outputId": "1ec3534a-1f69-4fc5-b18d-a890cf2d2daf"
      },
      "outputs": [
        {
          "data": {
            "text/html": [
              "<div>\n",
              "<style scoped>\n",
              "    .dataframe tbody tr th:only-of-type {\n",
              "        vertical-align: middle;\n",
              "    }\n",
              "\n",
              "    .dataframe tbody tr th {\n",
              "        vertical-align: top;\n",
              "    }\n",
              "\n",
              "    .dataframe thead th {\n",
              "        text-align: right;\n",
              "    }\n",
              "</style>\n",
              "<table border=\"1\" class=\"dataframe\">\n",
              "  <thead>\n",
              "    <tr style=\"text-align: right;\">\n",
              "      <th></th>\n",
              "      <th>TV</th>\n",
              "      <th>radio</th>\n",
              "      <th>newspaper</th>\n",
              "    </tr>\n",
              "  </thead>\n",
              "  <tbody>\n",
              "    <tr>\n",
              "      <th>0</th>\n",
              "      <td>0.967425</td>\n",
              "      <td>0.979066</td>\n",
              "      <td>1.774493</td>\n",
              "    </tr>\n",
              "    <tr>\n",
              "      <th>1</th>\n",
              "      <td>-1.194379</td>\n",
              "      <td>1.080097</td>\n",
              "      <td>0.667903</td>\n",
              "    </tr>\n",
              "    <tr>\n",
              "      <th>2</th>\n",
              "      <td>-1.512360</td>\n",
              "      <td>1.524637</td>\n",
              "      <td>1.779084</td>\n",
              "    </tr>\n",
              "    <tr>\n",
              "      <th>3</th>\n",
              "      <td>0.051919</td>\n",
              "      <td>1.214806</td>\n",
              "      <td>1.283185</td>\n",
              "    </tr>\n",
              "    <tr>\n",
              "      <th>4</th>\n",
              "      <td>0.393196</td>\n",
              "      <td>-0.839507</td>\n",
              "      <td>1.278593</td>\n",
              "    </tr>\n",
              "  </tbody>\n",
              "</table>\n",
              "</div>"
            ],
            "text/plain": [
              "         TV     radio  newspaper\n",
              "0  0.967425  0.979066   1.774493\n",
              "1 -1.194379  1.080097   0.667903\n",
              "2 -1.512360  1.524637   1.779084\n",
              "3  0.051919  1.214806   1.283185\n",
              "4  0.393196 -0.839507   1.278593"
            ]
          },
          "execution_count": 34,
          "metadata": {},
          "output_type": "execute_result"
        }
      ],
      "source": [
        "#ваш код\n",
        "y = df['sales'].values\n",
        "X = df.drop('sales', axis=1)\n",
        "\n",
        "X = (X - X.mean())/X.std()\n",
        "X.head()"
      ]
    },
    {
      "cell_type": "markdown",
      "metadata": {
        "id": "8WkNYILHDUK1"
      },
      "source": [
        "**Добавим единичный столбец**"
      ]
    },
    {
      "cell_type": "code",
      "execution_count": 35,
      "metadata": {
        "colab": {
          "base_uri": "https://localhost:8080/"
        },
        "id": "EVl5tEGtDUK1",
        "outputId": "dc583c2f-cf97-417e-e896-a381bc8fae87"
      },
      "outputs": [
        {
          "data": {
            "text/plain": [
              "array([1.        , 0.9674246 , 0.97906559, 1.77449253])"
            ]
          },
          "execution_count": 35,
          "metadata": {},
          "output_type": "execute_result"
        }
      ],
      "source": [
        "X = np.hstack([np.ones(X.shape[0]).reshape(-1, 1), X])\n",
        "X[0]"
      ]
    },
    {
      "cell_type": "markdown",
      "metadata": {
        "id": "m53tZA5fDUK1"
      },
      "source": [
        "**Создайте функцию mse_error для вычисления среднеквадратичной ошибки, принимающую два аргумента: реальные значения и предсказывающие, и возвращающую значение mse** (0.5 балла)"
      ]
    },
    {
      "cell_type": "code",
      "execution_count": 36,
      "metadata": {
        "id": "0cvtC08Aa_YK"
      },
      "outputs": [],
      "source": [
        "#ваш код\n",
        "def mse_error(y, y_pred):\n",
        "    error = 0\n",
        "    for i in range(y.shape[0]):\n",
        "        error += (y_pred - y[i])**2\n",
        "    mse = error/y.shape[0]\n",
        "    return mse"
      ]
    },
    {
      "cell_type": "markdown",
      "metadata": {
        "id": "lpOLhdvBDUK2"
      },
      "source": [
        "**Сделайте наивный прогноз: предскажите продажи средним значением. После этого рассчитайте среднеквадратичную ошибку для этого прогноза** (0.5 балла)"
      ]
    },
    {
      "cell_type": "code",
      "execution_count": 37,
      "metadata": {
        "colab": {
          "base_uri": "https://localhost:8080/"
        },
        "id": "kLV_XljVa_YZ",
        "outputId": "df0cf2bd-307a-4fa4-91ef-3333711b048e"
      },
      "outputs": [
        {
          "name": "stdout",
          "output_type": "stream",
          "text": [
            "Mean of y: 14.0225\n",
            "MSE: 27.085743749999985\n"
          ]
        }
      ],
      "source": [
        "#ваш код\n",
        "y_pred = y.mean()\n",
        "print('Mean of y:', y_pred)\n",
        "print('MSE:', mse_error(y, y_pred))"
      ]
    },
    {
      "cell_type": "markdown",
      "metadata": {
        "id": "BbybL2ola_ZM"
      },
      "source": [
        "**Создайте функцию *lin_pred*, которая может по матрице предикторов *X* и вектору весов линейной модели *w* получить вектор прогнозов** (0.5 балла)"
      ]
    },
    {
      "cell_type": "code",
      "execution_count": 38,
      "metadata": {
        "id": "1Cyz-Luaa_ZO"
      },
      "outputs": [],
      "source": [
        "#ваш код\n",
        "def lin_pred(X, w):\n",
        "    return np.dot(X, w)"
      ]
    },
    {
      "cell_type": "markdown",
      "metadata": {
        "id": "BU4adBrya_Zm"
      },
      "source": [
        "**Создайте функцию *stoch_grad_step* для реализации шага стохастического градиентного спуска. (1.5 балла) \n",
        "Функция должна принимать на вход следующие аргументы:**\n",
        "* матрицу *X*\n",
        "* вектора *y* и *w*\n",
        "* число *train_ind* - индекс объекта обучающей выборки (строки матрицы *X*), по которому считается изменение весов\n",
        "* число *$\\eta$* (eta) - шаг градиентного спуска\n",
        "\n",
        "Результатом будет вектор обновленных весов"
      ]
    },
    {
      "cell_type": "markdown",
      "metadata": {
        "id": "dyLY-P02DUK5"
      },
      "source": [
        "Шаг для стохастического градиентного спуска выглядит следующим образом:"
      ]
    },
    {
      "cell_type": "markdown",
      "metadata": {
        "id": "ORsAyIKNDUK5"
      },
      "source": [
        "$$\\Large w_j \\leftarrow w_j - \\frac{2\\eta}{\\ell} \\sum_{i=1}^\\ell{{x_{ij}((w_0 + w_1x_{i1} + w_2x_{i2} +  w_3x_{i3}) - y_i)}}$$"
      ]
    },
    {
      "cell_type": "markdown",
      "metadata": {
        "id": "CQl2FrpuDUK6"
      },
      "source": [
        "Для того, чтобы написать функцию, нужно сделать следующее:\n",
        "    \n",
        "*  посчитать направление изменения: умножить объект обучающей выборки на 2 и на разницу между предсказанным значением и реальным, а потом поделить на количество элементов в выборке.\n",
        "* вернуть разницу между вектором весов и направлением изменения, умноженным на шаг градиентного спуска"
      ]
    },
    {
      "cell_type": "code",
      "execution_count": 39,
      "metadata": {
        "id": "YUhVQGsja_Zn"
      },
      "outputs": [],
      "source": [
        "#ваш код\n",
        "L = X.shape[1]\n",
        "def stoch_grad_step(X, y, w, train_ind, eta):\n",
        "    der = (2*X[train_ind]*(X[train_ind]@ w - y[train_ind]))/L\n",
        "    return w - eta*der"
      ]
    },
    {
      "cell_type": "markdown",
      "metadata": {
        "id": "pXwIFd0Ma_Zx"
      },
      "source": [
        "**Создайте функцию *stochastic_gradient_descent*, для реализации стохастического градиентного спуска (2.5 балла)**\n",
        "\n",
        "**Функция принимает на вход следующие аргументы:**\n",
        "- Матрицу признаков X\n",
        "- Целевую переменнную\n",
        "- Изначальную точку (веса модели)\n",
        "- Параметр, определяющий темп обучения\n",
        "- Максимальное число итераций\n",
        "- Евклидово расстояние между векторами весов на соседних итерациях градиентного спуска,при котором алгоритм прекращает работу \n",
        "\n",
        "**На каждой итерации в вектор (список) должно записываться текущее значение среднеквадратичной ошибки. Функция должна возвращать вектор весов $w$, а также вектор (список) ошибок.**"
      ]
    },
    {
      "cell_type": "markdown",
      "metadata": {
        "id": "ZVeoNF1JDUK7"
      },
      "source": [
        "Алгоритм сследующий:\n",
        "    \n",
        "* Инициализируйте расстояние между векторами весов на соседних итерациях большим числом (можно бесконечностью)\n",
        "* Создайте пустой список для фиксации ошибок\n",
        "* Создайте счетчик итераций\n",
        "* Реализуйте основной цикл обучения пока расстояние между векторами весов больше того, при котором надо прекратить работу (когда расстояния станут слишком маленькими - значит, мы застряли в одном месте) и количество итераций меньше максимально разрешенного: сгенерируйте случайный индекс, запишите текущую ошибку в вектор ошибок, запишите в переменную текущий шаг стохастического спуска с использованием функции, написанной ранее. Далее рассчитайте текущее расстояние между векторами весов и прибавьте к счетчику итераций 1.\n",
        "* Верните вектор весов и вектор ошибок"
      ]
    },
    {
      "cell_type": "code",
      "execution_count": 40,
      "metadata": {
        "id": "7TUf2SkW2a3O"
      },
      "outputs": [],
      "source": [
        "# ваш код\n",
        "def stochastic_gradient_descent(X, y, w, eta, n_iter, min_weight_dist):\n",
        "    weight_dist = np.inf\n",
        "    costs = []\n",
        "    iter = 0\n",
        "    w = w_init\n",
        "    for i in range(n_iter):\n",
        "        train_ind = np.random.randint(0, X.shape[0])\n",
        "        w_prev = w\n",
        "        w = stoch_grad_step(X, y, w, train_ind, eta)\n",
        "        weight_dist = np.linalg.norm(w - w_prev)\n",
        "        costs.append(((X[train_ind]@w - y[train_ind])**2)/X.shape[0])  \n",
        "        iter += 1\n",
        "        if weight_dist < min_weight_dist:\n",
        "            break  \n",
        "    return w, costs[-1]"
      ]
    },
    {
      "cell_type": "markdown",
      "metadata": {
        "id": "0OqHO1Rta_Z7"
      },
      "source": [
        " **Запустите $10^5$ итераций стохастического градиентного спуска. Укажите вектор начальных весов, состоящий из нулей. Можете поэкспериментировать с параметром, отвечающим за темп обучения.**"
      ]
    },
    {
      "cell_type": "code",
      "execution_count": 41,
      "metadata": {
        "colab": {
          "base_uri": "https://localhost:8080/"
        },
        "id": "LjJoXmxLx1ub",
        "outputId": "5f9f64a3-de8f-4f69-c35e-b011eb8763db"
      },
      "outputs": [
        {
          "data": {
            "text/plain": [
              "(array([13.93398884,  3.86369196,  3.13925238,  0.0147028 ]),\n",
              " 8.816821250132427e-10)"
            ]
          },
          "execution_count": 41,
          "metadata": {},
          "output_type": "execute_result"
        }
      ],
      "source": [
        "w_init = np.zeros(X.shape[1])\n",
        "stochastic_gradient_descent(X, y, w, 0.01, 100000, 0.00001)"
      ]
    },
    {
      "cell_type": "markdown",
      "metadata": {
        "id": "XpT0fpkwrjWN"
      },
      "source": [
        "======================="
      ]
    },
    {
      "cell_type": "markdown",
      "metadata": {
        "id": "N6fHHT6vDUK8"
      },
      "source": [
        "**Постройте график зависимости ошибки от номера итерации**"
      ]
    },
    {
      "cell_type": "code",
      "execution_count": 42,
      "metadata": {
        "colab": {
          "base_uri": "https://localhost:8080/",
          "height": 517
        },
        "id": "zsSfHDzLDUK9",
        "outputId": "17cf374e-e22a-445d-ecb0-c45b2205791b"
      },
      "outputs": [
        {
          "data": {
            "application/vnd.plotly.v1+json": {
              "config": {
                "plotlyServerURL": "https://plot.ly"
              },
              "data": [
                {
                  "hovertemplate": "x=%{x}<br>y=%{y}<extra></extra>",
                  "legendgroup": "",
                  "line": {
                    "color": "#636efa",
                    "dash": "solid"
                  },
                  "marker": {
                    "symbol": "circle"
                  },
                  "mode": "lines",
                  "name": "",
                  "orientation": "v",
                  "showlegend": false,
                  "type": "scatter",
                  "x": [
                    1,
                    2,
                    3,
                    4,
                    5,
                    6,
                    7,
                    8,
                    9,
                    10,
                    11,
                    12,
                    13,
                    14,
                    15,
                    16,
                    17,
                    18,
                    19,
                    20,
                    21,
                    22,
                    23,
                    24,
                    25,
                    26,
                    27,
                    28,
                    29,
                    30,
                    31,
                    32,
                    33,
                    34,
                    35,
                    36,
                    37,
                    38,
                    39,
                    40,
                    41,
                    42,
                    43,
                    44,
                    45,
                    46,
                    47,
                    48,
                    49,
                    50,
                    51,
                    52,
                    53,
                    54,
                    55,
                    56,
                    57,
                    58,
                    59,
                    60,
                    61,
                    62,
                    63,
                    64,
                    65,
                    66,
                    67,
                    68,
                    69,
                    70,
                    71,
                    72,
                    73,
                    74,
                    75,
                    76,
                    77,
                    78,
                    79,
                    80,
                    81,
                    82,
                    83,
                    84,
                    85,
                    86,
                    87,
                    88,
                    89,
                    90,
                    91,
                    92,
                    93,
                    94,
                    95,
                    96,
                    97,
                    98,
                    99,
                    100,
                    101,
                    102,
                    103,
                    104,
                    105,
                    106,
                    107,
                    108,
                    109,
                    110,
                    111,
                    112,
                    113,
                    114,
                    115,
                    116,
                    117,
                    118,
                    119,
                    120,
                    121,
                    122,
                    123,
                    124,
                    125,
                    126,
                    127,
                    128,
                    129,
                    130,
                    131,
                    132,
                    133,
                    134,
                    135,
                    136,
                    137,
                    138,
                    139,
                    140,
                    141,
                    142,
                    143,
                    144,
                    145,
                    146,
                    147,
                    148,
                    149,
                    150,
                    151,
                    152,
                    153,
                    154,
                    155,
                    156,
                    157,
                    158,
                    159,
                    160,
                    161,
                    162,
                    163,
                    164,
                    165,
                    166,
                    167,
                    168,
                    169,
                    170,
                    171,
                    172,
                    173,
                    174,
                    175,
                    176,
                    177,
                    178,
                    179,
                    180,
                    181,
                    182,
                    183,
                    184,
                    185,
                    186,
                    187,
                    188,
                    189,
                    190,
                    191,
                    192,
                    193,
                    194,
                    195,
                    196,
                    197,
                    198,
                    199,
                    200,
                    201,
                    202,
                    203,
                    204,
                    205,
                    206,
                    207,
                    208,
                    209,
                    210,
                    211,
                    212,
                    213,
                    214,
                    215,
                    216,
                    217,
                    218,
                    219,
                    220,
                    221,
                    222,
                    223,
                    224,
                    225,
                    226,
                    227,
                    228,
                    229,
                    230,
                    231,
                    232,
                    233,
                    234,
                    235,
                    236,
                    237,
                    238,
                    239,
                    240,
                    241,
                    242,
                    243,
                    244,
                    245,
                    246,
                    247,
                    248,
                    249,
                    250,
                    251,
                    252,
                    253,
                    254,
                    255,
                    256,
                    257,
                    258,
                    259,
                    260,
                    261,
                    262,
                    263,
                    264,
                    265,
                    266,
                    267,
                    268,
                    269,
                    270,
                    271,
                    272,
                    273,
                    274,
                    275,
                    276,
                    277,
                    278,
                    279,
                    280,
                    281,
                    282,
                    283,
                    284,
                    285,
                    286,
                    287,
                    288,
                    289,
                    290,
                    291,
                    292,
                    293,
                    294,
                    295,
                    296,
                    297,
                    298,
                    299,
                    300,
                    301,
                    302,
                    303,
                    304,
                    305,
                    306,
                    307,
                    308,
                    309,
                    310,
                    311,
                    312,
                    313,
                    314,
                    315,
                    316,
                    317,
                    318,
                    319,
                    320,
                    321,
                    322,
                    323,
                    324,
                    325,
                    326,
                    327,
                    328,
                    329,
                    330,
                    331,
                    332,
                    333,
                    334,
                    335,
                    336,
                    337,
                    338,
                    339,
                    340,
                    341,
                    342,
                    343,
                    344,
                    345,
                    346,
                    347,
                    348,
                    349,
                    350,
                    351,
                    352,
                    353,
                    354,
                    355,
                    356,
                    357,
                    358,
                    359,
                    360,
                    361,
                    362,
                    363,
                    364,
                    365,
                    366,
                    367,
                    368,
                    369,
                    370,
                    371,
                    372,
                    373,
                    374,
                    375,
                    376,
                    377,
                    378,
                    379,
                    380,
                    381,
                    382,
                    383,
                    384,
                    385,
                    386,
                    387,
                    388,
                    389,
                    390,
                    391,
                    392,
                    393,
                    394,
                    395,
                    396,
                    397,
                    398,
                    399,
                    400,
                    401,
                    402,
                    403,
                    404,
                    405,
                    406,
                    407,
                    408,
                    409,
                    410,
                    411,
                    412,
                    413,
                    414,
                    415,
                    416,
                    417,
                    418,
                    419,
                    420,
                    421,
                    422,
                    423,
                    424,
                    425,
                    426,
                    427,
                    428,
                    429,
                    430,
                    431,
                    432,
                    433,
                    434,
                    435,
                    436,
                    437,
                    438,
                    439,
                    440,
                    441,
                    442,
                    443,
                    444,
                    445,
                    446,
                    447,
                    448,
                    449,
                    450,
                    451,
                    452,
                    453,
                    454,
                    455,
                    456,
                    457,
                    458,
                    459,
                    460,
                    461,
                    462,
                    463,
                    464,
                    465,
                    466,
                    467,
                    468,
                    469,
                    470,
                    471,
                    472,
                    473,
                    474,
                    475,
                    476,
                    477,
                    478,
                    479,
                    480,
                    481,
                    482,
                    483,
                    484,
                    485,
                    486,
                    487,
                    488,
                    489,
                    490,
                    491,
                    492,
                    493,
                    494,
                    495,
                    496,
                    497,
                    498,
                    499,
                    500,
                    501,
                    502,
                    503,
                    504,
                    505,
                    506,
                    507,
                    508,
                    509,
                    510,
                    511,
                    512,
                    513,
                    514,
                    515,
                    516,
                    517,
                    518,
                    519,
                    520,
                    521,
                    522,
                    523,
                    524,
                    525,
                    526,
                    527,
                    528,
                    529,
                    530,
                    531,
                    532,
                    533,
                    534,
                    535,
                    536,
                    537,
                    538,
                    539,
                    540,
                    541,
                    542,
                    543,
                    544,
                    545,
                    546,
                    547,
                    548,
                    549,
                    550,
                    551,
                    552,
                    553,
                    554,
                    555,
                    556,
                    557,
                    558,
                    559,
                    560,
                    561,
                    562,
                    563,
                    564,
                    565,
                    566,
                    567,
                    568,
                    569,
                    570,
                    571,
                    572,
                    573,
                    574,
                    575,
                    576,
                    577,
                    578,
                    579,
                    580,
                    581,
                    582,
                    583,
                    584,
                    585,
                    586,
                    587,
                    588,
                    589,
                    590,
                    591,
                    592,
                    593,
                    594,
                    595,
                    596,
                    597,
                    598,
                    599,
                    600,
                    601,
                    602,
                    603,
                    604,
                    605,
                    606,
                    607,
                    608,
                    609,
                    610,
                    611,
                    612,
                    613,
                    614,
                    615,
                    616,
                    617,
                    618,
                    619,
                    620,
                    621,
                    622,
                    623,
                    624,
                    625,
                    626,
                    627,
                    628,
                    629,
                    630,
                    631,
                    632,
                    633,
                    634,
                    635,
                    636,
                    637,
                    638,
                    639,
                    640,
                    641,
                    642,
                    643,
                    644,
                    645,
                    646,
                    647,
                    648,
                    649,
                    650,
                    651,
                    652,
                    653,
                    654,
                    655,
                    656,
                    657,
                    658,
                    659,
                    660,
                    661,
                    662,
                    663,
                    664,
                    665,
                    666,
                    667,
                    668,
                    669,
                    670,
                    671,
                    672,
                    673,
                    674,
                    675,
                    676,
                    677,
                    678,
                    679,
                    680,
                    681,
                    682,
                    683,
                    684,
                    685,
                    686,
                    687,
                    688,
                    689,
                    690,
                    691,
                    692,
                    693,
                    694,
                    695,
                    696,
                    697,
                    698,
                    699,
                    700,
                    701,
                    702,
                    703,
                    704,
                    705,
                    706,
                    707,
                    708,
                    709,
                    710,
                    711,
                    712,
                    713,
                    714,
                    715,
                    716,
                    717,
                    718,
                    719,
                    720,
                    721,
                    722,
                    723,
                    724,
                    725,
                    726,
                    727,
                    728,
                    729,
                    730,
                    731,
                    732,
                    733,
                    734,
                    735,
                    736,
                    737,
                    738,
                    739,
                    740,
                    741,
                    742,
                    743,
                    744,
                    745,
                    746,
                    747,
                    748,
                    749,
                    750,
                    751,
                    752,
                    753,
                    754,
                    755,
                    756,
                    757,
                    758,
                    759,
                    760,
                    761,
                    762,
                    763,
                    764,
                    765,
                    766,
                    767,
                    768,
                    769,
                    770,
                    771,
                    772,
                    773,
                    774,
                    775,
                    776,
                    777,
                    778,
                    779,
                    780,
                    781,
                    782,
                    783,
                    784,
                    785,
                    786,
                    787,
                    788,
                    789,
                    790,
                    791,
                    792,
                    793,
                    794,
                    795,
                    796,
                    797,
                    798,
                    799,
                    800,
                    801,
                    802,
                    803,
                    804,
                    805,
                    806,
                    807,
                    808,
                    809,
                    810,
                    811,
                    812,
                    813,
                    814,
                    815,
                    816,
                    817,
                    818,
                    819,
                    820,
                    821,
                    822,
                    823,
                    824,
                    825,
                    826,
                    827,
                    828,
                    829,
                    830,
                    831,
                    832,
                    833,
                    834,
                    835,
                    836,
                    837,
                    838,
                    839,
                    840,
                    841,
                    842,
                    843,
                    844,
                    845,
                    846,
                    847,
                    848,
                    849,
                    850,
                    851,
                    852,
                    853,
                    854,
                    855,
                    856,
                    857,
                    858,
                    859,
                    860,
                    861,
                    862,
                    863,
                    864,
                    865,
                    866,
                    867,
                    868,
                    869,
                    870,
                    871,
                    872,
                    873,
                    874,
                    875,
                    876,
                    877,
                    878,
                    879,
                    880,
                    881,
                    882,
                    883,
                    884,
                    885,
                    886,
                    887,
                    888,
                    889,
                    890,
                    891,
                    892,
                    893,
                    894,
                    895,
                    896,
                    897,
                    898,
                    899,
                    900,
                    901,
                    902,
                    903,
                    904,
                    905,
                    906,
                    907,
                    908,
                    909,
                    910,
                    911,
                    912,
                    913,
                    914,
                    915,
                    916,
                    917,
                    918,
                    919,
                    920,
                    921,
                    922,
                    923,
                    924,
                    925,
                    926,
                    927,
                    928,
                    929,
                    930,
                    931,
                    932,
                    933,
                    934,
                    935,
                    936,
                    937,
                    938,
                    939,
                    940,
                    941,
                    942,
                    943,
                    944,
                    945,
                    946,
                    947,
                    948,
                    949,
                    950,
                    951,
                    952,
                    953,
                    954,
                    955,
                    956,
                    957,
                    958,
                    959,
                    960,
                    961,
                    962,
                    963,
                    964,
                    965,
                    966,
                    967,
                    968,
                    969,
                    970,
                    971,
                    972,
                    973,
                    974,
                    975,
                    976,
                    977,
                    978,
                    979,
                    980,
                    981,
                    982,
                    983,
                    984,
                    985,
                    986,
                    987,
                    988,
                    989,
                    990,
                    991,
                    992,
                    993,
                    994,
                    995,
                    996,
                    997,
                    998,
                    999,
                    1000
                  ],
                  "xaxis": "x",
                  "y": [
                    1.4524468774642936,
                    1.384063829663204,
                    2.4130434231343942,
                    0.28304035821910883,
                    0.5741604193656111,
                    1.5703106062686023,
                    0.9524459812576979,
                    1.2480388149721913,
                    0.6733952177683361,
                    2.2517051311542526,
                    0.9192944388227182,
                    0.20374157062263099,
                    0.2824445965569863,
                    0.5821506333169898,
                    0.9660600647994516,
                    0.46959199097292986,
                    0.5266382153083531,
                    0.9158903608666142,
                    1.6694729910588826,
                    0.6711737024963237,
                    2.1813082219811553,
                    1.387283703973071,
                    0.6654514622254502,
                    0.3621248847617114,
                    0.88532001450034,
                    0.5096486412456579,
                    0.49405434475756527,
                    1.9621918946949086,
                    0.9394457324787799,
                    0.9889096496227552,
                    0.3569363600836257,
                    0.18047506431867352,
                    0.4661944615645165,
                    1.3175950304628683,
                    0.3348511808396665,
                    1.5407219473739693,
                    0.2751685956204939,
                    0.4238143857099217,
                    1.396160304528288,
                    0.08839575379538177,
                    0.660915991064085,
                    1.6489007258393082,
                    1.5674896370392206,
                    0.38163002692011155,
                    0.07250187490398641,
                    0.7724756751790004,
                    1.3072399158807064,
                    0.6944198782544356,
                    0.13748225211874662,
                    1.1375070942102972,
                    0.4199027702969705,
                    1.796692386831478,
                    0.44145764655401615,
                    1.070824968483448,
                    0.20447967508668494,
                    0.4898522124479737,
                    0.15038858263321672,
                    0.39907410867298615,
                    0.3516229159240625,
                    0.3376823737413524,
                    0.5582197388648266,
                    0.1195824869579244,
                    0.713388686980155,
                    0.8642489004870773,
                    0.279845296007982,
                    0.11483776689039843,
                    0.1510854400352555,
                    0.6401450466879919,
                    0.3198012523793679,
                    0.3534694478961567,
                    1.3373840526017815,
                    0.5358142573543244,
                    0.04652655223882918,
                    0.29115368945474845,
                    0.5206876326757377,
                    0.1956720803489839,
                    0.756377604947255,
                    0.10590364245340883,
                    0.12857057021902688,
                    1.1776516561542245,
                    0.3097327320640006,
                    0.4431890807326232,
                    0.23334302210768101,
                    0.3051175712729573,
                    0.3249179409973116,
                    0.8806539318875538,
                    0.12024206755100156,
                    0.7252447070264495,
                    0.6375991681320916,
                    0.35363418040515315,
                    0.3165525336882347,
                    0.08977710000496357,
                    0.08936924151747845,
                    0.530932360742078,
                    0.2626528279185353,
                    0.15929931991531845,
                    0.18680721375114434,
                    0.46046188508723285,
                    0.29198164809923055,
                    0.20039436401705163,
                    0.26826664760752317,
                    0.38816926672212737,
                    0.20052491012578325,
                    0.6302306318710533,
                    0.42200714493121466,
                    1.092373306898032,
                    0.39201635495309767,
                    0.41305339493725113,
                    0.4375770827190672,
                    0.22697759875128898,
                    0.3331530063871556,
                    0.4895096828991236,
                    0.8581069768770039,
                    0.1408425896990882,
                    0.09086995124573431,
                    0.8865450460002801,
                    0.013074197793674412,
                    0.04149858879585513,
                    0.4847697136254617,
                    0.3318873162330966,
                    0.1287908848861003,
                    0.22998955685143108,
                    0.5117395331314508,
                    0.13214328421171348,
                    0.032799628228657965,
                    0.23760733629545464,
                    0.5005190879841404,
                    0.011765539324192666,
                    0.12609364281962473,
                    0.09247155226044602,
                    0.1324462436580957,
                    0.4911160831298028,
                    0.11332053063913011,
                    0.38563772670851143,
                    0.1949786086668001,
                    0.510645009210958,
                    0.20230141858375103,
                    0.14688077453481055,
                    0.3532858570042127,
                    0.43570788726407966,
                    0.4156770011041789,
                    0.25922364276366244,
                    0.1549931754009804,
                    0.06768677318253101,
                    0.4862930796273633,
                    0.17592092192123038,
                    0.05453596970155791,
                    0.19373374750022065,
                    0.10732832538117569,
                    0.10083312841954578,
                    0.23604346743647228,
                    0.5719910369482082,
                    0.3341119513903682,
                    0.15968643118566678,
                    0.26897816011095016,
                    0.14067159033773188,
                    0.09056679594120252,
                    0.2582404233170067,
                    0.358597628344545,
                    0.09762704529729857,
                    0.08741044281747606,
                    0.6558842205234344,
                    0.005242883525160947,
                    0.2471539082633113,
                    0.08746113023921458,
                    0.6221928692677691,
                    0.20710625006091918,
                    0.13922738529778322,
                    0.40057177283066175,
                    0.24866633692728957,
                    0.07223147216756065,
                    0.08155348571102808,
                    0.385841732579634,
                    0.13469066037318,
                    0.09539767537180753,
                    0.49016857771297345,
                    0.4535303331157933,
                    0.00011277670874634292,
                    0.10569961392258592,
                    0.6426140461297352,
                    0.14358409933118305,
                    0.12617817905273468,
                    0.13008487707317098,
                    0.00005404371860412042,
                    0.13431451237647815,
                    0.16886103426398325,
                    0.13424837683249624,
                    0.09635390615584118,
                    0.07967779923086588,
                    0.11474241093453451,
                    0.16191810606937476,
                    0.5063751940026581,
                    0.6394395900238298,
                    0.6145574850363833,
                    0.29613812388434135,
                    0.22140241916709058,
                    0.1267662365532628,
                    0.0004858569444647006,
                    0.5124208194089869,
                    0.1252425482873522,
                    0.15306041302554374,
                    0.29109795218590956,
                    0.16230309495030476,
                    0.1964258427754539,
                    0.2376172098001661,
                    0.050550739207194634,
                    0.0662890761128409,
                    0.1386497392613492,
                    0.07512552015318696,
                    0.008696513333218206,
                    0.20490035951110588,
                    0.32052857137850665,
                    0.04715376176124109,
                    0.241573770345264,
                    0.07565589412835419,
                    0.18148613288325527,
                    0.0795607812132792,
                    0.2339778162491849,
                    0.17702940868834113,
                    0.1991183705491036,
                    0.451212190572161,
                    0.10492043492952234,
                    0.11255161177731983,
                    0.10032077423109362,
                    0.04408743805162894,
                    0.16088178102097192,
                    0.08974550015004538,
                    0.00007071361421150379,
                    0.4409860086368384,
                    0.1372046073714448,
                    0.08266921934399657,
                    0.13374543323543486,
                    0.04141072866223443,
                    0.07437068891853911,
                    0.017961071833866287,
                    0.0008755365716426167,
                    0.003106815080204632,
                    0.16258505900841758,
                    0.09157041628650005,
                    0.16615474506419622,
                    0.35823635454470426,
                    0.127063367815037,
                    0.06387094332141117,
                    0.08983107651631056,
                    0.014655141516891288,
                    0.06899603538544614,
                    0.058352766873913275,
                    0.14231495461967528,
                    0.004647084531684822,
                    0.024509719993800853,
                    0.24992018054624854,
                    0.057575735683439266,
                    0.07498788974119043,
                    0.002032737224888629,
                    0.031965103613099004,
                    0.020871157138021932,
                    0.02894649002181923,
                    0.03288364195843102,
                    0.030244156612349776,
                    0.08553901756813972,
                    0.021967371933739724,
                    0.0013169421612404383,
                    0.30748284649357166,
                    0.01498128894643994,
                    0.03416339181942724,
                    0.0011914941939799098,
                    0.07136592660223876,
                    0.24880641519433552,
                    0.03583393303823067,
                    0.027783066550901552,
                    0.013142805117703583,
                    0.22680022629124277,
                    0.19075714097861382,
                    0.11452506547085133,
                    0.0001783824373680556,
                    0.01724313117309224,
                    0.023810889669296828,
                    0.02233389473807776,
                    0.06940381592413,
                    0.09253509918520088,
                    0.07008468423591666,
                    0.07148902191047327,
                    0.13297756455969764,
                    0.0406687665025002,
                    0.06437617876092987,
                    0.0057358635921175806,
                    0.1070330113588753,
                    0.0811462224630703,
                    0.07209031599282552,
                    0.003383634244748398,
                    0.03694108937399577,
                    0.06336165044062075,
                    0.008320790036203696,
                    0.01576236548047123,
                    0.07102885733844187,
                    0.030201348923388514,
                    0.06198375355239257,
                    0.06982756141588445,
                    0.06613409862881355,
                    0.04842601576701838,
                    0.05491317542827019,
                    0.043613014638864994,
                    0.08495330947660819,
                    0.047437517576992196,
                    0.14604557241139995,
                    0.06947466382004695,
                    0.004407916393180314,
                    0.06081916566275655,
                    0.004927218390838409,
                    0.02798134156260071,
                    0.1061231967219834,
                    0.03192809733329728,
                    0.06895272611114756,
                    0.03349615085785011,
                    0.18274000196895768,
                    0.05305250287255361,
                    0.05255153424601528,
                    0.08360305370468618,
                    0.021785257351221613,
                    0.041658443639596685,
                    0.0047591863953812446,
                    0.03304076258145951,
                    0.0018289025929827047,
                    0.04683099836162122,
                    0.044838163026210125,
                    0.1468218767656075,
                    0.08760171139708063,
                    0.05061127955356143,
                    0.11321241531683465,
                    0.026725970550972176,
                    0.08830241437380193,
                    0.041832017340193414,
                    0.0862627191397737,
                    0.07774270057908803,
                    0.03166954726874705,
                    0.10910243593480726,
                    0.04831565986555904,
                    0.01072295614795662,
                    0.0007346472245798038,
                    0.007363837220671932,
                    0.1543878163374483,
                    0.1025280388897973,
                    0.0747438223928334,
                    0.10779396400017643,
                    0.10519135003741419,
                    0.01982637172773882,
                    0.1856478017412541,
                    0.02796590201598757,
                    0.012875245765003073,
                    0.0131369833835992,
                    0.030463537957526245,
                    0.00464689990260648,
                    0.047711578836054314,
                    0.0030222895556504736,
                    0.05665087693481551,
                    9.853244961295861e-7,
                    0.005704530166433575,
                    0.028239019066777032,
                    0.03382513753261162,
                    0.000007399481817469189,
                    0.010659182708124278,
                    0.010001129749072182,
                    0.015064378651731193,
                    0.02490826612736466,
                    0.012753363789687933,
                    0.03835614343700351,
                    0.051482800176073304,
                    0.03812172360418693,
                    0.0775344393654636,
                    0.04085648135500477,
                    0.008377875985295786,
                    0.07558122373235875,
                    0.010034613616339276,
                    0.04779172609885861,
                    0.02098413146939735,
                    0.027656593571451976,
                    0.043561213050008124,
                    0.007317608878365765,
                    0.019756726100352864,
                    0.003791211593971862,
                    0.06099363681491799,
                    0.03223629158841193,
                    0.09438758777554726,
                    0.02687117249645396,
                    0.0005851592258028082,
                    0.06634209799462293,
                    0.006771948862580365,
                    0.11518712478558396,
                    0.059541176467379185,
                    0.05587947533303085,
                    0.0050257780142603115,
                    0.02157649364380374,
                    0.042115532840755775,
                    0.04248607658846113,
                    0.018650237339423482,
                    0.0034469543400350534,
                    0.013970302163301408,
                    0.02011073564211323,
                    0.07248627403157709,
                    0.023188735870742237,
                    0.10092670552254007,
                    0.006257878643085516,
                    0.06281730328842426,
                    0.0075829986625253355,
                    0.0207217119857923,
                    0.057262823925588346,
                    0.007404954913721609,
                    0.03304888845834827,
                    0.05413218132268062,
                    0.0504445610432895,
                    0.022777329599403498,
                    0.008336411737115855,
                    0.026913306175717414,
                    0.038254649518250534,
                    0.12134454832990862,
                    0.04097194785744321,
                    0.02191175166599497,
                    0.07702844931862982,
                    0.043392924193432963,
                    0.0034659051077148575,
                    0.020189849507549863,
                    0.03253522415619625,
                    0.02021724795187292,
                    0.022340179059151186,
                    0.030783261771713838,
                    0.038021565072690604,
                    0.004206533828707004,
                    0.034953452096237375,
                    0.028916208325382733,
                    0.08607491941802077,
                    0.004169532870130027,
                    0.04949272223686818,
                    0.019964150730223198,
                    0.00819419525045881,
                    0.027289671819197614,
                    0.006730187414770927,
                    0.02824594791297882,
                    0.000048314432730550705,
                    0.03435429521050006,
                    0.03953825576248021,
                    0.039062229573604335,
                    0.03383200263131349,
                    0.023021751858887843,
                    0.0004417834854658538,
                    0.022708236525051276,
                    0.01857372490275465,
                    0.010439752481602322,
                    0.002573638013813891,
                    0.01608110223468147,
                    0.003631148282727964,
                    0.021960247066936146,
                    0.00021543404976843248,
                    0.026038334044491455,
                    0.0490467892487269,
                    0.02367041994749943,
                    0.07867950001117563,
                    0.00010361857054757676,
                    0.053538365463525917,
                    0.03981819036312117,
                    0.012790011228286961,
                    0.034528087697653954,
                    0.01000102199566113,
                    0.022040155072186266,
                    0.050613223408291684,
                    0.07107490446984266,
                    0.06554410865472926,
                    0.008237913612368933,
                    0.009256792646774809,
                    0.0626061611547136,
                    0.05541120641452471,
                    0.011757597224371552,
                    0.03294753952292763,
                    0.002934167111857304,
                    0.055745303434091446,
                    0.010235552537221016,
                    0.05277232738601592,
                    0.030292377353306744,
                    0.0016265805707392379,
                    0.0006236818337077397,
                    0.0017178189087440718,
                    0.006939016955009077,
                    0.03446469359024831,
                    0.012996554212930667,
                    0.020571936179560033,
                    0.09180168158746334,
                    0.03619465216151611,
                    0.2863343835456203,
                    0.036386434506593714,
                    0.01297690762476738,
                    0.015830765250014513,
                    0.01807318235330898,
                    0.011782085207871667,
                    0.006023134428950275,
                    0.0021946859010858913,
                    0.01591993738484999,
                    0.0005175231853059469,
                    0.029996753217926456,
                    0.08474681835458085,
                    0.009658192168458361,
                    0.009302406791097687,
                    0.020905627874212452,
                    0.025342905620117092,
                    0.005432807738654491,
                    0.03029975287597991,
                    0.026955829874908348,
                    0.006056680289801658,
                    0.0074856563691072416,
                    0.021870204683090685,
                    0.004001175620462455,
                    0.013351232679395779,
                    0.005148412517953704,
                    0.008166582584703869,
                    0.009622358605791711,
                    0.024503623839570485,
                    0.01950493090636576,
                    0.004167729273345165,
                    0.011973541602855055,
                    0.024942575236090715,
                    0.047971834372318556,
                    0.09938793135146338,
                    0.061184576923094175,
                    0.0205957326242061,
                    0.02489741129182537,
                    0.00033168830437891954,
                    0.011820617612164474,
                    0.004764757021136164,
                    0.01543223311589768,
                    0.001982796279087579,
                    0.001234479322627479,
                    0.0005295260801588951,
                    0.004009178235884688,
                    0.0008944551989591644,
                    0.001797549644950422,
                    0.008683966265977809,
                    0.06315910545909563,
                    0.00008866369793228164,
                    0.0002921321647522492,
                    0.021600434185176362,
                    0.006685762298976958,
                    0.0181050267163917,
                    0.034574132165756645,
                    0.0006658079334643939,
                    0.0005004275907097027,
                    0.013934672796429272,
                    0.034650669988905335,
                    0.0015386661104478654,
                    0.018617561754642617,
                    0.05510065677094239,
                    0.0019055626196706663,
                    0.042139918350647274,
                    0.0007709825143934344,
                    0.009665051018452907,
                    0.02161366497471536,
                    0.020796069958918247,
                    0.04086804730897406,
                    0.013354871790220657,
                    0.018008731682323035,
                    0.042517986791300436,
                    0.04647634995701863,
                    0.0015724887864996453,
                    0.01771186647638542,
                    0.0317807061537275,
                    0.0024886683738647433,
                    0.0072154349635994465,
                    0.02620664924451666,
                    0.006770395886390107,
                    0.000002534586995975591,
                    0.015411756944364575,
                    0.026753898776661105,
                    0.008043519478795053,
                    0.020242156712376048,
                    0.000011383255435947802,
                    0.001674121501473748,
                    0.03371531291510069,
                    0.02880537211930409,
                    0.014760628104067898,
                    0.013125096281451547,
                    0.0072796576968935855,
                    0.014799376975167956,
                    0.0052725543092593495,
                    0.016663983548689417,
                    0.018208372847631115,
                    0.0000019003908393103444,
                    0.0066473143524805834,
                    0.007876195851676041,
                    0.012907154266731596,
                    0.0050949784491481935,
                    0.0033114108714028634,
                    0.06124326493735406,
                    0.03669572660557138,
                    0.05627851927899326,
                    0.01947578432425527,
                    0.00069895522031016,
                    0.0041654446601924735,
                    0.00022571722141173222,
                    0.002910934774686791,
                    0.0007557649782510759,
                    0.016646899878439262,
                    0.022759904432162387,
                    0.021547191560480638,
                    0.0032069043954280722,
                    0.006955903114390478,
                    0.007599853776099969,
                    0.004297933112788676,
                    0.0004514292338144999,
                    0.00018761950131205958,
                    0.05512806041198859,
                    0.005206790272552173,
                    0.020470061968571283,
                    0.00011165445011515949,
                    0.0390120819314225,
                    0.05515541090238247,
                    0.006916346525628525,
                    0.005729273971642546,
                    0.0012726710619345534,
                    0.0035977355150857188,
                    0.004607719831265776,
                    0.02475587585812435,
                    0.0006761035654818304,
                    0.0016254352862845858,
                    0.3089895674335915,
                    0.013313597156777013,
                    0.013384631109814565,
                    0.007932159527536613,
                    0.024422274793265707,
                    0.002749489076538876,
                    0.01875158251261848,
                    0.019808017387220087,
                    0.007260634167003483,
                    0.008033634807456537,
                    0.0003832698302155281,
                    0.02165411787049522,
                    0.04246498945670946,
                    0.026511939960900063,
                    0.006935203094763138,
                    0.01931065135744333,
                    0.034694323372863066,
                    0.01891178036572265,
                    0.025359983304581554,
                    0.02261833723226011,
                    0.004834299477254378,
                    0.04084315577269549,
                    0.0008736106715235553,
                    0.03214254982537049,
                    0.02130359538156062,
                    0.0244837413146392,
                    0.029403653335910603,
                    0.020522105508877307,
                    0.023709285547446265,
                    0.0008016179113926944,
                    0.0032195808562768247,
                    0.014360176596697541,
                    0.039209310559976916,
                    0.015815713458844166,
                    0.006320426410159985,
                    0.007000356538717074,
                    0.00037168626433412515,
                    0.02248801863258368,
                    0.015273179616086955,
                    0.003663625681511552,
                    0.005634232359638452,
                    0.055068388626941085,
                    0.008118629029819748,
                    0.0016849800632923323,
                    0.31646619990457425,
                    0.011470835375201896,
                    0.004077197814023426,
                    0.055491792994534196,
                    0.015119802380303759,
                    0.0059083830651605156,
                    0.04090574018840066,
                    0.0026442738892802128,
                    0.02813126515302954,
                    0.013762646496297548,
                    0.011328828777114846,
                    0.01074471339497381,
                    0.024707840900069472,
                    0.057325593206954004,
                    0.01927339600982033,
                    0.022358987214379913,
                    0.02548514329795163,
                    0.10316072260244499,
                    0.026076359017657452,
                    0.004287540340527012,
                    0.004669507740792483,
                    0.03494778839230408,
                    0.038794738412638204,
                    0.0721981829131473,
                    0.026748230431657388,
                    0.010528221597046812,
                    0.020379764135878692,
                    0.011450714556086086,
                    0.0020342372412928047,
                    0.014804718035556476,
                    0.005634405771849962,
                    0.020620071014161353,
                    0.00007068231193114438,
                    0.00934727064613065,
                    0.002269826638563099,
                    0.015611149254721299,
                    0.0016465762208209694,
                    0.0015997058710754762,
                    0.004373853376235003,
                    0.000001596280469642743,
                    0.313277753948817,
                    0.0000429364148088618,
                    0.0008502264862420972,
                    0.011332464337011388,
                    0.02105879030920726,
                    0.00004263706429372698,
                    0.0007868584878927674,
                    0.0025597545515766585,
                    0.008199309750644588,
                    0.010518144166725,
                    0.01806189455455255,
                    0.00020922747439504637,
                    0.0029174111474852553,
                    0.0003025476486319388,
                    0.03071189629900807,
                    0.009893308905083005,
                    0.002118899996750725,
                    0.03808963650341068,
                    0.0036961398784069698,
                    0.0009618412926485887,
                    0.000563497127286478,
                    0.0007601919068793346,
                    0.0000542433191465054,
                    0.007822435944764193,
                    0.000013695837650252484,
                    0.02770216719726991,
                    0.0035424520795447737,
                    0.016567295032744515,
                    0.009040498933578693,
                    0.003528488209749779,
                    0.03273005240922208,
                    0.016976512043000692,
                    0.0033452154968007593,
                    0.00022367993953998906,
                    0.00017831679994448156,
                    0.024902235095172424,
                    0.02833723344006027,
                    0.012387976372649361,
                    0.021659786096013503,
                    0.03285830151573798,
                    0.04720571456896563,
                    0.00024070415502419235,
                    0.010697068132691636,
                    0.001578817959426339,
                    0.010729119154142491,
                    0.01645505170784449,
                    0.0000022106264837525643,
                    0.00033201557494097624,
                    0.003922856648651253,
                    0.012496021123164407,
                    0.0000032873432986342155,
                    0.004154787427497653,
                    0.00013186827893189157,
                    0.014241414412731634,
                    0.0003998737306247851,
                    0.017442858978723354,
                    0.0003052109836765717,
                    0.0003242656536550373,
                    0.039457893167250166,
                    0.024179556337269825,
                    0.026415691225160097,
                    0.00045088696857263627,
                    0.0010350881160274888,
                    0.0012671143384835287,
                    0.002708404424526411,
                    0.00415821965537175,
                    0.006412401366884377,
                    0.03446024791795292,
                    0.008637970279962206,
                    0.027472542670062935,
                    0.04152325127314616,
                    0.039446842739455305,
                    0.017749168256199713,
                    0.023857613633833933,
                    0.005754494942621457,
                    0.02298945164356382,
                    0.004067442825460172,
                    0.0143573798681266,
                    0.01629221262902869,
                    0.01153166829727892,
                    0.011506663637030791,
                    0.0019303715659679333,
                    0.0003774287501479657,
                    0.02867078540180961,
                    0.000006453464776377417,
                    0.0011730171838712708,
                    0.0005478480737105102,
                    0.008205916072666157,
                    0.0020906221081590103,
                    0.02997714173246808,
                    0.03955502767807123,
                    0.0006002346683292169,
                    0.0007755088654378166,
                    0.0019746754562210995,
                    0.014574903867957954,
                    0.005954868390628821,
                    0.00008565752958060613,
                    0.0036338467169961318,
                    0.005917685050306083,
                    0.0016750204520177181,
                    0.006374421065981949,
                    0.03425298781003658,
                    0.008991268107204973,
                    0.014309385969522819,
                    0.011188318510319293,
                    0.0011437120423558509,
                    0.011972644877391792,
                    0.015812631661001008,
                    0.005478047631823528,
                    0.012029788874916802,
                    0.004204656315840504,
                    0.04480861699196935,
                    0.01919119442095703,
                    0.000039270819955191284,
                    0.02143799549265566,
                    0.010584645430014998,
                    0.05993311731064649,
                    0.005300766537737828,
                    0.00045710570073434405,
                    0.009508399817167106,
                    0.07103339819672888,
                    0.0010229518864606404,
                    0.009246239784084138,
                    0.0003462038026280149,
                    0.000059137961690029084,
                    0.013680798459818662,
                    0.001352692363206384,
                    0.00011253707360607163,
                    0.011444550126741719,
                    0.0010622970224677662,
                    0.018697200437288657,
                    0.022541083646992272,
                    0.00006919904300068735,
                    0.014362752030624114,
                    0.00059098124859196,
                    0.003955000097534618,
                    0.004474553786768819,
                    0.0000020615694329068436,
                    0.0014785730989343724,
                    0.007414602202934007,
                    0.01066125682781705,
                    0.023032761096246343,
                    0.0002062092710390929,
                    0.021667535615252878,
                    0.0005043463990380788,
                    0.0001815886729865727,
                    0.005605837633887778,
                    0.03972404223764291,
                    0.009649631031723577,
                    0.009398513786566039,
                    0.027007567658873365,
                    0.004572730859054813,
                    0.04129800173728391,
                    0.0012995604528609288,
                    0.006344372565132057,
                    0.004596106222513912,
                    0.0002757755211677202,
                    0.008056150058207484,
                    0.0012168785707348242,
                    0.009183751495946378,
                    0.009134291611615915,
                    0.030639909905569748,
                    0.0015659693821440301,
                    0.0006241564344015078,
                    0.009044923050616563,
                    0.00027448737157885505,
                    0.0008960726655358983,
                    0.004611776722553308,
                    0.0020554472939862166,
                    0.0036354220555254936,
                    0.023683206170465584,
                    0.0014726440098627427,
                    0.025304447827306124,
                    0.04015924543404971,
                    0.0007431372017310124,
                    0.008329931132908412,
                    0.0010985986848163541,
                    0.009234722782237043,
                    0.0019278677828363587,
                    0.02193404604218834,
                    0.0009124868431946084,
                    0.0001383529959364286,
                    0.01991478040258391,
                    0.018944031123116354,
                    0.0006186363787993352,
                    0.06934384106099241,
                    0.010054194718091153,
                    0.00005425798541158776,
                    0.0008581006915870348,
                    0.00820790767123961,
                    0.0207643034136049,
                    0.03320621785019475,
                    0.03651667848713887,
                    0.00010313599633071148,
                    0.00303038668390937,
                    0.028187153793249008,
                    0.024250515879586206,
                    0.008557315270714558,
                    0.0011034348257136309,
                    0.005912964453835671,
                    0.009329286667390671,
                    0.00011394710987378622,
                    0.007925658365812405,
                    0.01733397362966447,
                    0.00024771700886961045,
                    0.0006928629323638186,
                    0.08706678167253934,
                    0.0006877069772185489,
                    0.00647398554040639,
                    0.0026947660969982423,
                    0.0023641178134495957,
                    0.0075150853826144405,
                    0.012502114261198759,
                    0.012551482700259043,
                    0.010812320976961068,
                    0.001981796196398985,
                    0.0008541940574081115,
                    1.816371494979822e-7,
                    0.02722720503311871,
                    0.014833010225524896,
                    0.00727439723500186,
                    0.001982655003206123,
                    0.0023514129836980004,
                    0.00012946812678307028,
                    0.004925430546328083,
                    0.00016036764965388472,
                    0.005845501757635504,
                    0.040753543807413355,
                    0.044819665085020104,
                    0.00033627161542415626,
                    0.0178552837890438,
                    0.0086064212372269,
                    0.0047358599212357485,
                    0.0003288345604753383,
                    0.028434626631693244,
                    0.00928836604102277,
                    0.004573236179321678,
                    0.004590977358933457,
                    0.006017684360634695,
                    0.00031334160248707826,
                    0.0002528876876825475,
                    0.015513330350223566,
                    0.0024558137750109923,
                    0.021097713542992502,
                    0.007954871602545335,
                    0.009398906957223419,
                    0.00039969629623722003,
                    0.0007684961210772115,
                    0.0016388761242534062,
                    0.001367615469353405,
                    0.0006079215334188596,
                    0.007947909754659562,
                    0.041467456615920634,
                    0.007985227161331954,
                    0.007716942443269582,
                    0.0010475006051102456,
                    0.005113461796776825,
                    0.06390442897639899,
                    0.0007745349846375245,
                    0.0054286771001842106,
                    0.00863854731317742,
                    0.000045313615440539776,
                    0.000503577213465698,
                    0.008779869084564547,
                    0.0003909916819015429,
                    0.03131192642239443,
                    0.031083886641929973,
                    0.0141890825883592,
                    0.004315168317458495,
                    0.03957288478665643,
                    0.024155100752345473,
                    0.017036125849320377,
                    0.00014316611908610073,
                    0.000026517237561615487,
                    0.000013777048798801888,
                    0.08510844332085223,
                    0.03603297584581419,
                    0.003956689499954615,
                    0.0006715186106451702,
                    0.010056329468355637,
                    0.0025809164554250184,
                    0.004411065077306356,
                    0.0044145952801644016,
                    0.00814805775468603,
                    0.00962564747148172,
                    0.014660382817248843,
                    0.019105490374416313,
                    0.012256576568076294,
                    0.000934638206517833,
                    0.0021288573051933797,
                    0.04779809888567467,
                    0.00004972878468928872,
                    0.06276328506395251,
                    0.01361728303985118,
                    0.000926187304496597,
                    0.03534393274494932
                  ],
                  "yaxis": "y"
                }
              ],
              "layout": {
                "height": 500,
                "legend": {
                  "tracegroupgap": 0
                },
                "margin": {
                  "t": 60
                },
                "template": {
                  "data": {
                    "bar": [
                      {
                        "error_x": {
                          "color": "#2a3f5f"
                        },
                        "error_y": {
                          "color": "#2a3f5f"
                        },
                        "marker": {
                          "line": {
                            "color": "#E5ECF6",
                            "width": 0.5
                          },
                          "pattern": {
                            "fillmode": "overlay",
                            "size": 10,
                            "solidity": 0.2
                          }
                        },
                        "type": "bar"
                      }
                    ],
                    "barpolar": [
                      {
                        "marker": {
                          "line": {
                            "color": "#E5ECF6",
                            "width": 0.5
                          },
                          "pattern": {
                            "fillmode": "overlay",
                            "size": 10,
                            "solidity": 0.2
                          }
                        },
                        "type": "barpolar"
                      }
                    ],
                    "carpet": [
                      {
                        "aaxis": {
                          "endlinecolor": "#2a3f5f",
                          "gridcolor": "white",
                          "linecolor": "white",
                          "minorgridcolor": "white",
                          "startlinecolor": "#2a3f5f"
                        },
                        "baxis": {
                          "endlinecolor": "#2a3f5f",
                          "gridcolor": "white",
                          "linecolor": "white",
                          "minorgridcolor": "white",
                          "startlinecolor": "#2a3f5f"
                        },
                        "type": "carpet"
                      }
                    ],
                    "choropleth": [
                      {
                        "colorbar": {
                          "outlinewidth": 0,
                          "ticks": ""
                        },
                        "type": "choropleth"
                      }
                    ],
                    "contour": [
                      {
                        "colorbar": {
                          "outlinewidth": 0,
                          "ticks": ""
                        },
                        "colorscale": [
                          [
                            0,
                            "#0d0887"
                          ],
                          [
                            0.1111111111111111,
                            "#46039f"
                          ],
                          [
                            0.2222222222222222,
                            "#7201a8"
                          ],
                          [
                            0.3333333333333333,
                            "#9c179e"
                          ],
                          [
                            0.4444444444444444,
                            "#bd3786"
                          ],
                          [
                            0.5555555555555556,
                            "#d8576b"
                          ],
                          [
                            0.6666666666666666,
                            "#ed7953"
                          ],
                          [
                            0.7777777777777778,
                            "#fb9f3a"
                          ],
                          [
                            0.8888888888888888,
                            "#fdca26"
                          ],
                          [
                            1,
                            "#f0f921"
                          ]
                        ],
                        "type": "contour"
                      }
                    ],
                    "contourcarpet": [
                      {
                        "colorbar": {
                          "outlinewidth": 0,
                          "ticks": ""
                        },
                        "type": "contourcarpet"
                      }
                    ],
                    "heatmap": [
                      {
                        "colorbar": {
                          "outlinewidth": 0,
                          "ticks": ""
                        },
                        "colorscale": [
                          [
                            0,
                            "#0d0887"
                          ],
                          [
                            0.1111111111111111,
                            "#46039f"
                          ],
                          [
                            0.2222222222222222,
                            "#7201a8"
                          ],
                          [
                            0.3333333333333333,
                            "#9c179e"
                          ],
                          [
                            0.4444444444444444,
                            "#bd3786"
                          ],
                          [
                            0.5555555555555556,
                            "#d8576b"
                          ],
                          [
                            0.6666666666666666,
                            "#ed7953"
                          ],
                          [
                            0.7777777777777778,
                            "#fb9f3a"
                          ],
                          [
                            0.8888888888888888,
                            "#fdca26"
                          ],
                          [
                            1,
                            "#f0f921"
                          ]
                        ],
                        "type": "heatmap"
                      }
                    ],
                    "heatmapgl": [
                      {
                        "colorbar": {
                          "outlinewidth": 0,
                          "ticks": ""
                        },
                        "colorscale": [
                          [
                            0,
                            "#0d0887"
                          ],
                          [
                            0.1111111111111111,
                            "#46039f"
                          ],
                          [
                            0.2222222222222222,
                            "#7201a8"
                          ],
                          [
                            0.3333333333333333,
                            "#9c179e"
                          ],
                          [
                            0.4444444444444444,
                            "#bd3786"
                          ],
                          [
                            0.5555555555555556,
                            "#d8576b"
                          ],
                          [
                            0.6666666666666666,
                            "#ed7953"
                          ],
                          [
                            0.7777777777777778,
                            "#fb9f3a"
                          ],
                          [
                            0.8888888888888888,
                            "#fdca26"
                          ],
                          [
                            1,
                            "#f0f921"
                          ]
                        ],
                        "type": "heatmapgl"
                      }
                    ],
                    "histogram": [
                      {
                        "marker": {
                          "pattern": {
                            "fillmode": "overlay",
                            "size": 10,
                            "solidity": 0.2
                          }
                        },
                        "type": "histogram"
                      }
                    ],
                    "histogram2d": [
                      {
                        "colorbar": {
                          "outlinewidth": 0,
                          "ticks": ""
                        },
                        "colorscale": [
                          [
                            0,
                            "#0d0887"
                          ],
                          [
                            0.1111111111111111,
                            "#46039f"
                          ],
                          [
                            0.2222222222222222,
                            "#7201a8"
                          ],
                          [
                            0.3333333333333333,
                            "#9c179e"
                          ],
                          [
                            0.4444444444444444,
                            "#bd3786"
                          ],
                          [
                            0.5555555555555556,
                            "#d8576b"
                          ],
                          [
                            0.6666666666666666,
                            "#ed7953"
                          ],
                          [
                            0.7777777777777778,
                            "#fb9f3a"
                          ],
                          [
                            0.8888888888888888,
                            "#fdca26"
                          ],
                          [
                            1,
                            "#f0f921"
                          ]
                        ],
                        "type": "histogram2d"
                      }
                    ],
                    "histogram2dcontour": [
                      {
                        "colorbar": {
                          "outlinewidth": 0,
                          "ticks": ""
                        },
                        "colorscale": [
                          [
                            0,
                            "#0d0887"
                          ],
                          [
                            0.1111111111111111,
                            "#46039f"
                          ],
                          [
                            0.2222222222222222,
                            "#7201a8"
                          ],
                          [
                            0.3333333333333333,
                            "#9c179e"
                          ],
                          [
                            0.4444444444444444,
                            "#bd3786"
                          ],
                          [
                            0.5555555555555556,
                            "#d8576b"
                          ],
                          [
                            0.6666666666666666,
                            "#ed7953"
                          ],
                          [
                            0.7777777777777778,
                            "#fb9f3a"
                          ],
                          [
                            0.8888888888888888,
                            "#fdca26"
                          ],
                          [
                            1,
                            "#f0f921"
                          ]
                        ],
                        "type": "histogram2dcontour"
                      }
                    ],
                    "mesh3d": [
                      {
                        "colorbar": {
                          "outlinewidth": 0,
                          "ticks": ""
                        },
                        "type": "mesh3d"
                      }
                    ],
                    "parcoords": [
                      {
                        "line": {
                          "colorbar": {
                            "outlinewidth": 0,
                            "ticks": ""
                          }
                        },
                        "type": "parcoords"
                      }
                    ],
                    "pie": [
                      {
                        "automargin": true,
                        "type": "pie"
                      }
                    ],
                    "scatter": [
                      {
                        "fillpattern": {
                          "fillmode": "overlay",
                          "size": 10,
                          "solidity": 0.2
                        },
                        "type": "scatter"
                      }
                    ],
                    "scatter3d": [
                      {
                        "line": {
                          "colorbar": {
                            "outlinewidth": 0,
                            "ticks": ""
                          }
                        },
                        "marker": {
                          "colorbar": {
                            "outlinewidth": 0,
                            "ticks": ""
                          }
                        },
                        "type": "scatter3d"
                      }
                    ],
                    "scattercarpet": [
                      {
                        "marker": {
                          "colorbar": {
                            "outlinewidth": 0,
                            "ticks": ""
                          }
                        },
                        "type": "scattercarpet"
                      }
                    ],
                    "scattergeo": [
                      {
                        "marker": {
                          "colorbar": {
                            "outlinewidth": 0,
                            "ticks": ""
                          }
                        },
                        "type": "scattergeo"
                      }
                    ],
                    "scattergl": [
                      {
                        "marker": {
                          "colorbar": {
                            "outlinewidth": 0,
                            "ticks": ""
                          }
                        },
                        "type": "scattergl"
                      }
                    ],
                    "scattermapbox": [
                      {
                        "marker": {
                          "colorbar": {
                            "outlinewidth": 0,
                            "ticks": ""
                          }
                        },
                        "type": "scattermapbox"
                      }
                    ],
                    "scatterpolar": [
                      {
                        "marker": {
                          "colorbar": {
                            "outlinewidth": 0,
                            "ticks": ""
                          }
                        },
                        "type": "scatterpolar"
                      }
                    ],
                    "scatterpolargl": [
                      {
                        "marker": {
                          "colorbar": {
                            "outlinewidth": 0,
                            "ticks": ""
                          }
                        },
                        "type": "scatterpolargl"
                      }
                    ],
                    "scatterternary": [
                      {
                        "marker": {
                          "colorbar": {
                            "outlinewidth": 0,
                            "ticks": ""
                          }
                        },
                        "type": "scatterternary"
                      }
                    ],
                    "surface": [
                      {
                        "colorbar": {
                          "outlinewidth": 0,
                          "ticks": ""
                        },
                        "colorscale": [
                          [
                            0,
                            "#0d0887"
                          ],
                          [
                            0.1111111111111111,
                            "#46039f"
                          ],
                          [
                            0.2222222222222222,
                            "#7201a8"
                          ],
                          [
                            0.3333333333333333,
                            "#9c179e"
                          ],
                          [
                            0.4444444444444444,
                            "#bd3786"
                          ],
                          [
                            0.5555555555555556,
                            "#d8576b"
                          ],
                          [
                            0.6666666666666666,
                            "#ed7953"
                          ],
                          [
                            0.7777777777777778,
                            "#fb9f3a"
                          ],
                          [
                            0.8888888888888888,
                            "#fdca26"
                          ],
                          [
                            1,
                            "#f0f921"
                          ]
                        ],
                        "type": "surface"
                      }
                    ],
                    "table": [
                      {
                        "cells": {
                          "fill": {
                            "color": "#EBF0F8"
                          },
                          "line": {
                            "color": "white"
                          }
                        },
                        "header": {
                          "fill": {
                            "color": "#C8D4E3"
                          },
                          "line": {
                            "color": "white"
                          }
                        },
                        "type": "table"
                      }
                    ]
                  },
                  "layout": {
                    "annotationdefaults": {
                      "arrowcolor": "#2a3f5f",
                      "arrowhead": 0,
                      "arrowwidth": 1
                    },
                    "autotypenumbers": "strict",
                    "coloraxis": {
                      "colorbar": {
                        "outlinewidth": 0,
                        "ticks": ""
                      }
                    },
                    "colorscale": {
                      "diverging": [
                        [
                          0,
                          "#8e0152"
                        ],
                        [
                          0.1,
                          "#c51b7d"
                        ],
                        [
                          0.2,
                          "#de77ae"
                        ],
                        [
                          0.3,
                          "#f1b6da"
                        ],
                        [
                          0.4,
                          "#fde0ef"
                        ],
                        [
                          0.5,
                          "#f7f7f7"
                        ],
                        [
                          0.6,
                          "#e6f5d0"
                        ],
                        [
                          0.7,
                          "#b8e186"
                        ],
                        [
                          0.8,
                          "#7fbc41"
                        ],
                        [
                          0.9,
                          "#4d9221"
                        ],
                        [
                          1,
                          "#276419"
                        ]
                      ],
                      "sequential": [
                        [
                          0,
                          "#0d0887"
                        ],
                        [
                          0.1111111111111111,
                          "#46039f"
                        ],
                        [
                          0.2222222222222222,
                          "#7201a8"
                        ],
                        [
                          0.3333333333333333,
                          "#9c179e"
                        ],
                        [
                          0.4444444444444444,
                          "#bd3786"
                        ],
                        [
                          0.5555555555555556,
                          "#d8576b"
                        ],
                        [
                          0.6666666666666666,
                          "#ed7953"
                        ],
                        [
                          0.7777777777777778,
                          "#fb9f3a"
                        ],
                        [
                          0.8888888888888888,
                          "#fdca26"
                        ],
                        [
                          1,
                          "#f0f921"
                        ]
                      ],
                      "sequentialminus": [
                        [
                          0,
                          "#0d0887"
                        ],
                        [
                          0.1111111111111111,
                          "#46039f"
                        ],
                        [
                          0.2222222222222222,
                          "#7201a8"
                        ],
                        [
                          0.3333333333333333,
                          "#9c179e"
                        ],
                        [
                          0.4444444444444444,
                          "#bd3786"
                        ],
                        [
                          0.5555555555555556,
                          "#d8576b"
                        ],
                        [
                          0.6666666666666666,
                          "#ed7953"
                        ],
                        [
                          0.7777777777777778,
                          "#fb9f3a"
                        ],
                        [
                          0.8888888888888888,
                          "#fdca26"
                        ],
                        [
                          1,
                          "#f0f921"
                        ]
                      ]
                    },
                    "colorway": [
                      "#636efa",
                      "#EF553B",
                      "#00cc96",
                      "#ab63fa",
                      "#FFA15A",
                      "#19d3f3",
                      "#FF6692",
                      "#B6E880",
                      "#FF97FF",
                      "#FECB52"
                    ],
                    "font": {
                      "color": "#2a3f5f"
                    },
                    "geo": {
                      "bgcolor": "white",
                      "lakecolor": "white",
                      "landcolor": "#E5ECF6",
                      "showlakes": true,
                      "showland": true,
                      "subunitcolor": "white"
                    },
                    "hoverlabel": {
                      "align": "left"
                    },
                    "hovermode": "closest",
                    "mapbox": {
                      "style": "light"
                    },
                    "paper_bgcolor": "white",
                    "plot_bgcolor": "#E5ECF6",
                    "polar": {
                      "angularaxis": {
                        "gridcolor": "white",
                        "linecolor": "white",
                        "ticks": ""
                      },
                      "bgcolor": "#E5ECF6",
                      "radialaxis": {
                        "gridcolor": "white",
                        "linecolor": "white",
                        "ticks": ""
                      }
                    },
                    "scene": {
                      "xaxis": {
                        "backgroundcolor": "#E5ECF6",
                        "gridcolor": "white",
                        "gridwidth": 2,
                        "linecolor": "white",
                        "showbackground": true,
                        "ticks": "",
                        "zerolinecolor": "white"
                      },
                      "yaxis": {
                        "backgroundcolor": "#E5ECF6",
                        "gridcolor": "white",
                        "gridwidth": 2,
                        "linecolor": "white",
                        "showbackground": true,
                        "ticks": "",
                        "zerolinecolor": "white"
                      },
                      "zaxis": {
                        "backgroundcolor": "#E5ECF6",
                        "gridcolor": "white",
                        "gridwidth": 2,
                        "linecolor": "white",
                        "showbackground": true,
                        "ticks": "",
                        "zerolinecolor": "white"
                      }
                    },
                    "shapedefaults": {
                      "line": {
                        "color": "#2a3f5f"
                      }
                    },
                    "ternary": {
                      "aaxis": {
                        "gridcolor": "white",
                        "linecolor": "white",
                        "ticks": ""
                      },
                      "baxis": {
                        "gridcolor": "white",
                        "linecolor": "white",
                        "ticks": ""
                      },
                      "bgcolor": "#E5ECF6",
                      "caxis": {
                        "gridcolor": "white",
                        "linecolor": "white",
                        "ticks": ""
                      }
                    },
                    "title": {
                      "x": 0.05
                    },
                    "xaxis": {
                      "automargin": true,
                      "gridcolor": "white",
                      "linecolor": "white",
                      "ticks": "",
                      "title": {
                        "standoff": 15
                      },
                      "zerolinecolor": "white",
                      "zerolinewidth": 2
                    },
                    "yaxis": {
                      "automargin": true,
                      "gridcolor": "white",
                      "linecolor": "white",
                      "ticks": "",
                      "title": {
                        "standoff": 15
                      },
                      "zerolinecolor": "white",
                      "zerolinewidth": 2
                    }
                  }
                },
                "width": 1000,
                "xaxis": {
                  "anchor": "y",
                  "domain": [
                    0,
                    1
                  ],
                  "title": {
                    "text": "Iterations"
                  }
                },
                "yaxis": {
                  "anchor": "x",
                  "domain": [
                    0,
                    1
                  ],
                  "title": {
                    "text": "MSE"
                  }
                }
              }
            }
          },
          "metadata": {},
          "output_type": "display_data"
        }
      ],
      "source": [
        "# ваш код\n",
        "def stochastic_gradient_descent2(X, y, w, eta, n_iter, min_weight_dist):\n",
        "    weight_dist = np.inf\n",
        "    costs = []\n",
        "    init = 0\n",
        "    iter = []\n",
        "    w = w_init\n",
        "    for i in range(n_iter):\n",
        "        train_ind = np.random.randint(0, X.shape[0])\n",
        "        w_prev = w\n",
        "        w = stoch_grad_step(X, y, w, train_ind, eta)\n",
        "        weight_dist = np.linalg.norm(w - w_prev)\n",
        "        costs.append(((X[train_ind]@w - y[train_ind])**2)/X.shape[0])  \n",
        "        init += 1\n",
        "        iter.append(init)\n",
        "        if weight_dist < min_weight_dist:\n",
        "            break\n",
        "           \n",
        "    return costs, iter\n",
        "\n",
        "\n",
        "import plotly\n",
        "import plotly.express as px\n",
        "\n",
        "fig = px.line(\n",
        "    x = stochastic_gradient_descent2(X, y, w, 0.01, 100000, 0.00001)[1][0:1000],\n",
        "    y = stochastic_gradient_descent2(X, y, w, 0.01, 100000, 0.00001)[0][0:1000],\n",
        "    height = 500,\n",
        "    width = 1000,\n",
        ")\n",
        "\n",
        "fig.update_xaxes(title_text='Iterations')\n",
        "fig.update_yaxes(title_text='MSE')\n",
        "fig.show()"
      ]
    },
    {
      "cell_type": "markdown",
      "metadata": {
        "id": "O-MVOcJ6a_aY"
      },
      "source": [
        "**Выведите вектор весов, к которому сошелся метод.**"
      ]
    },
    {
      "cell_type": "code",
      "execution_count": 43,
      "metadata": {
        "colab": {
          "base_uri": "https://localhost:8080/"
        },
        "id": "MPjVkXe4DUK9",
        "outputId": "f9f1374a-e6b3-4070-dc32-1e8b58d47ead"
      },
      "outputs": [
        {
          "data": {
            "text/plain": [
              "array([13.96510659,  3.96442547,  2.70201188, -0.01580438])"
            ]
          },
          "metadata": {},
          "output_type": "display_data"
        }
      ],
      "source": [
        "# ваш код\n",
        "display(stochastic_gradient_descent(X, y, w, 0.01, 100000, 0.00001)[0])"
      ]
    },
    {
      "cell_type": "markdown",
      "metadata": {
        "id": "qabzMc3Qa_a5"
      },
      "source": [
        "**Выведите среднеквадратичную ошибку на последней итерации.**"
      ]
    },
    {
      "cell_type": "code",
      "execution_count": 44,
      "metadata": {
        "colab": {
          "base_uri": "https://localhost:8080/"
        },
        "id": "7tPWleMIa_a7",
        "outputId": "7d87afe4-6608-49c8-bb05-5a92b201f549"
      },
      "outputs": [
        {
          "data": {
            "text/plain": [
              "3.5623416058084122e-09"
            ]
          },
          "metadata": {},
          "output_type": "display_data"
        }
      ],
      "source": [
        "# ваш код\n",
        "display(stochastic_gradient_descent(X, y, w, 0.01, 100000, 0.00001)[1])"
      ]
    }
  ],
  "metadata": {
    "colab": {
      "provenance": []
    },
    "kernelspec": {
      "display_name": "Python 3",
      "language": "python",
      "name": "python3"
    },
    "language_info": {
      "codemirror_mode": {
        "name": "ipython",
        "version": 3
      },
      "file_extension": ".py",
      "mimetype": "text/x-python",
      "name": "python",
      "nbconvert_exporter": "python",
      "pygments_lexer": "ipython3",
      "version": "3.9.12"
    },
    "vscode": {
      "interpreter": {
        "hash": "ba4c651cdc5ec17c511bce19f294202fdc45305f9de1f927c569f32faa173ead"
      }
    }
  },
  "nbformat": 4,
  "nbformat_minor": 0
}
