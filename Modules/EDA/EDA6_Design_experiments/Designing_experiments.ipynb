{
  "cells": [
    {
      "cell_type": "markdown",
      "metadata": {
        "id": "aUAqi67vLzhL"
      },
      "source": [
        "# Импорт библиотек"
      ]
    },
    {
      "cell_type": "code",
      "execution_count": 40,
      "metadata": {
        "id": "lXinfUuSL6Og"
      },
      "outputs": [],
      "source": [
        "import pandas as pd \n",
        "\n",
        "import matplotlib.pyplot as plt\n",
        "%matplotlib inline"
      ]
    },
    {
      "cell_type": "markdown",
      "metadata": {
        "id": "y3290WaEMCCM"
      },
      "source": [
        "# Загрузка данных"
      ]
    },
    {
      "cell_type": "code",
      "execution_count": 41,
      "metadata": {
        "id": "VbAf186tLgqb"
      },
      "outputs": [
        {
          "data": {
            "text/html": [
              "<div>\n",
              "<style scoped>\n",
              "    .dataframe tbody tr th:only-of-type {\n",
              "        vertical-align: middle;\n",
              "    }\n",
              "\n",
              "    .dataframe tbody tr th {\n",
              "        vertical-align: top;\n",
              "    }\n",
              "\n",
              "    .dataframe thead th {\n",
              "        text-align: right;\n",
              "    }\n",
              "</style>\n",
              "<table border=\"1\" class=\"dataframe\">\n",
              "  <thead>\n",
              "    <tr style=\"text-align: right;\">\n",
              "      <th></th>\n",
              "      <th>PatientId</th>\n",
              "      <th>AppointmentID</th>\n",
              "      <th>Gender</th>\n",
              "      <th>ScheduledDay</th>\n",
              "      <th>AppointmentDay</th>\n",
              "      <th>Age</th>\n",
              "      <th>Neighbourhood</th>\n",
              "      <th>Scholarship</th>\n",
              "      <th>Hipertension</th>\n",
              "      <th>Diabetes</th>\n",
              "      <th>Alcoholism</th>\n",
              "      <th>Handcap</th>\n",
              "      <th>SMS_received</th>\n",
              "      <th>No-show</th>\n",
              "    </tr>\n",
              "  </thead>\n",
              "  <tbody>\n",
              "    <tr>\n",
              "      <th>0</th>\n",
              "      <td>2.987250e+13</td>\n",
              "      <td>5642903</td>\n",
              "      <td>F</td>\n",
              "      <td>2016-04-29T18:38:08Z</td>\n",
              "      <td>2016-04-29T00:00:00Z</td>\n",
              "      <td>62</td>\n",
              "      <td>JARDIM DA PENHA</td>\n",
              "      <td>0</td>\n",
              "      <td>1</td>\n",
              "      <td>0</td>\n",
              "      <td>0</td>\n",
              "      <td>0</td>\n",
              "      <td>0</td>\n",
              "      <td>No</td>\n",
              "    </tr>\n",
              "    <tr>\n",
              "      <th>1</th>\n",
              "      <td>5.589978e+14</td>\n",
              "      <td>5642503</td>\n",
              "      <td>M</td>\n",
              "      <td>2016-04-29T16:08:27Z</td>\n",
              "      <td>2016-04-29T00:00:00Z</td>\n",
              "      <td>56</td>\n",
              "      <td>JARDIM DA PENHA</td>\n",
              "      <td>0</td>\n",
              "      <td>0</td>\n",
              "      <td>0</td>\n",
              "      <td>0</td>\n",
              "      <td>0</td>\n",
              "      <td>0</td>\n",
              "      <td>No</td>\n",
              "    </tr>\n",
              "    <tr>\n",
              "      <th>2</th>\n",
              "      <td>4.262962e+12</td>\n",
              "      <td>5642549</td>\n",
              "      <td>F</td>\n",
              "      <td>2016-04-29T16:19:04Z</td>\n",
              "      <td>2016-04-29T00:00:00Z</td>\n",
              "      <td>62</td>\n",
              "      <td>MATA DA PRAIA</td>\n",
              "      <td>0</td>\n",
              "      <td>0</td>\n",
              "      <td>0</td>\n",
              "      <td>0</td>\n",
              "      <td>0</td>\n",
              "      <td>0</td>\n",
              "      <td>No</td>\n",
              "    </tr>\n",
              "  </tbody>\n",
              "</table>\n",
              "</div>"
            ],
            "text/plain": [
              "      PatientId  AppointmentID Gender          ScheduledDay  \\\n",
              "0  2.987250e+13        5642903      F  2016-04-29T18:38:08Z   \n",
              "1  5.589978e+14        5642503      M  2016-04-29T16:08:27Z   \n",
              "2  4.262962e+12        5642549      F  2016-04-29T16:19:04Z   \n",
              "\n",
              "         AppointmentDay  Age    Neighbourhood  Scholarship  Hipertension  \\\n",
              "0  2016-04-29T00:00:00Z   62  JARDIM DA PENHA            0             1   \n",
              "1  2016-04-29T00:00:00Z   56  JARDIM DA PENHA            0             0   \n",
              "2  2016-04-29T00:00:00Z   62    MATA DA PRAIA            0             0   \n",
              "\n",
              "   Diabetes  Alcoholism  Handcap  SMS_received No-show  \n",
              "0         0           0        0             0      No  \n",
              "1         0           0        0             0      No  \n",
              "2         0           0        0             0      No  "
            ]
          },
          "execution_count": 41,
          "metadata": {},
          "output_type": "execute_result"
        }
      ],
      "source": [
        "df = pd.read_csv('data/KaggleV2-May-2016.csv')\n",
        "df.head(3)"
      ]
    },
    {
      "cell_type": "markdown",
      "metadata": {
        "id": "CbSItK55MhHO"
      },
      "source": [
        "# Разведочный анализ данных"
      ]
    },
    {
      "cell_type": "code",
      "execution_count": 42,
      "metadata": {
        "colab": {
          "base_uri": "https://localhost:8080/"
        },
        "id": "byqz3x6DMk63",
        "outputId": "231cbfc1-b316-4ff3-b949-4598bdc17d3c"
      },
      "outputs": [
        {
          "name": "stdout",
          "output_type": "stream",
          "text": [
            "<class 'pandas.core.frame.DataFrame'>\n",
            "RangeIndex: 110527 entries, 0 to 110526\n",
            "Data columns (total 14 columns):\n",
            " #   Column          Non-Null Count   Dtype  \n",
            "---  ------          --------------   -----  \n",
            " 0   PatientId       110527 non-null  float64\n",
            " 1   AppointmentID   110527 non-null  int64  \n",
            " 2   Gender          110527 non-null  object \n",
            " 3   ScheduledDay    110527 non-null  object \n",
            " 4   AppointmentDay  110527 non-null  object \n",
            " 5   Age             110527 non-null  int64  \n",
            " 6   Neighbourhood   110527 non-null  object \n",
            " 7   Scholarship     110527 non-null  int64  \n",
            " 8   Hipertension    110527 non-null  int64  \n",
            " 9   Diabetes        110527 non-null  int64  \n",
            " 10  Alcoholism      110527 non-null  int64  \n",
            " 11  Handcap         110527 non-null  int64  \n",
            " 12  SMS_received    110527 non-null  int64  \n",
            " 13  No-show         110527 non-null  object \n",
            "dtypes: float64(1), int64(8), object(5)\n",
            "memory usage: 11.8+ MB\n"
          ]
        }
      ],
      "source": [
        "df.info()"
      ]
    },
    {
      "cell_type": "markdown",
      "metadata": {
        "id": "7-aazemYM-Vl"
      },
      "source": [
        "## Анализ целевой переменной"
      ]
    },
    {
      "cell_type": "markdown",
      "metadata": {
        "id": "lFZC8lEyNBuU"
      },
      "source": [
        "*Каково соотношение людей, которые пропускают приемы, к тем, кто этого не делает?*"
      ]
    },
    {
      "cell_type": "code",
      "execution_count": 43,
      "metadata": {
        "colab": {
          "base_uri": "https://localhost:8080/",
          "height": 281
        },
        "id": "12ZjGZ0TMnk2",
        "outputId": "9eb67907-0892-4ced-fff6-a03f473848c1"
      },
      "outputs": [
        {
          "data": {
            "image/png": "[encoded data removed]",
            "text/plain": [
              "<Figure size 576x288 with 1 Axes>"
            ]
          },
          "metadata": {
            "needs_background": "light"
          },
          "output_type": "display_data"
        }
      ],
      "source": [
        "plt.figure(figsize=(8,4))\n",
        "df['No-show'].hist()\n",
        "plt.title('Соотношение людей, которые пропускают приемы, к тем, кто этого не делает');"
      ]
    },
    {
      "cell_type": "code",
      "execution_count": 44,
      "metadata": {
        "colab": {
          "base_uri": "https://localhost:8080/"
        },
        "id": "YMIdOMMlM2Nj",
        "outputId": "345ac524-5dc5-494d-8690-a9d24bf6afaf"
      },
      "outputs": [
        {
          "data": {
            "text/plain": [
              "No     0.798067\n",
              "Yes    0.201933\n",
              "Name: No-show, dtype: float64"
            ]
          },
          "execution_count": 44,
          "metadata": {},
          "output_type": "execute_result"
        }
      ],
      "source": [
        "df['No-show'].value_counts(True)"
      ]
    },
    {
      "cell_type": "markdown",
      "metadata": {
        "id": "i0_mDi5PNK3F"
      },
      "source": [
        "*Кто не появляется чаще — мужчины или женщины?*"
      ]
    },
    {
      "cell_type": "code",
      "execution_count": 45,
      "metadata": {
        "colab": {
          "base_uri": "https://localhost:8080/"
        },
        "id": "HfaaoU_hNNc0",
        "outputId": "8ad1c8c7-8a05-465a-c045-effde695277a"
      },
      "outputs": [
        {
          "data": {
            "text/plain": [
              "F    0.653882\n",
              "M    0.346118\n",
              "Name: Gender, dtype: float64"
            ]
          },
          "execution_count": 45,
          "metadata": {},
          "output_type": "execute_result"
        }
      ],
      "source": [
        "df[df['No-show']=='Yes']['Gender'].value_counts(normalize=True)"
      ]
    },
    {
      "cell_type": "markdown",
      "metadata": {
        "id": "T-ZVTCNqREyf"
      },
      "source": [
        "# Предобработка данных"
      ]
    },
    {
      "cell_type": "markdown",
      "metadata": {
        "id": "-MTeSfLtRNCY"
      },
      "source": [
        "**Кодировка категориальных признаков**"
      ]
    },
    {
      "cell_type": "code",
      "execution_count": 46,
      "metadata": {
        "id": "V57puJtWRI7J"
      },
      "outputs": [],
      "source": [
        "categorical_columns_names = ['Gender', 'Neighbourhood']"
      ]
    },
    {
      "cell_type": "code",
      "execution_count": 47,
      "metadata": {
        "colab": {
          "base_uri": "https://localhost:8080/"
        },
        "id": "DYOwj0IrRJkR",
        "outputId": "74da030c-2ca5-4175-c72f-2a26fe9a2df9"
      },
      "outputs": [
        {
          "data": {
            "text/html": [
              "<div>\n",
              "<style scoped>\n",
              "    .dataframe tbody tr th:only-of-type {\n",
              "        vertical-align: middle;\n",
              "    }\n",
              "\n",
              "    .dataframe tbody tr th {\n",
              "        vertical-align: top;\n",
              "    }\n",
              "\n",
              "    .dataframe thead th {\n",
              "        text-align: right;\n",
              "    }\n",
              "</style>\n",
              "<table border=\"1\" class=\"dataframe\">\n",
              "  <thead>\n",
              "    <tr style=\"text-align: right;\">\n",
              "      <th></th>\n",
              "      <th>PatientId</th>\n",
              "      <th>AppointmentID</th>\n",
              "      <th>ScheduledDay</th>\n",
              "      <th>AppointmentDay</th>\n",
              "      <th>Age</th>\n",
              "      <th>Scholarship</th>\n",
              "      <th>Hipertension</th>\n",
              "      <th>Diabetes</th>\n",
              "      <th>Alcoholism</th>\n",
              "      <th>Handcap</th>\n",
              "      <th>...</th>\n",
              "      <th>Neighbourhood_SANTOS REIS</th>\n",
              "      <th>Neighbourhood_SEGURANÇA DO LAR</th>\n",
              "      <th>Neighbourhood_SOLON BORGES</th>\n",
              "      <th>Neighbourhood_SÃO BENEDITO</th>\n",
              "      <th>Neighbourhood_SÃO CRISTÓVÃO</th>\n",
              "      <th>Neighbourhood_SÃO JOSÉ</th>\n",
              "      <th>Neighbourhood_SÃO PEDRO</th>\n",
              "      <th>Neighbourhood_TABUAZEIRO</th>\n",
              "      <th>Neighbourhood_UNIVERSITÁRIO</th>\n",
              "      <th>Neighbourhood_VILA RUBIM</th>\n",
              "    </tr>\n",
              "  </thead>\n",
              "  <tbody>\n",
              "    <tr>\n",
              "      <th>0</th>\n",
              "      <td>2.987250e+13</td>\n",
              "      <td>5642903</td>\n",
              "      <td>2016-04-29T18:38:08Z</td>\n",
              "      <td>2016-04-29T00:00:00Z</td>\n",
              "      <td>62</td>\n",
              "      <td>0</td>\n",
              "      <td>1</td>\n",
              "      <td>0</td>\n",
              "      <td>0</td>\n",
              "      <td>0</td>\n",
              "      <td>...</td>\n",
              "      <td>0</td>\n",
              "      <td>0</td>\n",
              "      <td>0</td>\n",
              "      <td>0</td>\n",
              "      <td>0</td>\n",
              "      <td>0</td>\n",
              "      <td>0</td>\n",
              "      <td>0</td>\n",
              "      <td>0</td>\n",
              "      <td>0</td>\n",
              "    </tr>\n",
              "    <tr>\n",
              "      <th>1</th>\n",
              "      <td>5.589978e+14</td>\n",
              "      <td>5642503</td>\n",
              "      <td>2016-04-29T16:08:27Z</td>\n",
              "      <td>2016-04-29T00:00:00Z</td>\n",
              "      <td>56</td>\n",
              "      <td>0</td>\n",
              "      <td>0</td>\n",
              "      <td>0</td>\n",
              "      <td>0</td>\n",
              "      <td>0</td>\n",
              "      <td>...</td>\n",
              "      <td>0</td>\n",
              "      <td>0</td>\n",
              "      <td>0</td>\n",
              "      <td>0</td>\n",
              "      <td>0</td>\n",
              "      <td>0</td>\n",
              "      <td>0</td>\n",
              "      <td>0</td>\n",
              "      <td>0</td>\n",
              "      <td>0</td>\n",
              "    </tr>\n",
              "    <tr>\n",
              "      <th>2</th>\n",
              "      <td>4.262962e+12</td>\n",
              "      <td>5642549</td>\n",
              "      <td>2016-04-29T16:19:04Z</td>\n",
              "      <td>2016-04-29T00:00:00Z</td>\n",
              "      <td>62</td>\n",
              "      <td>0</td>\n",
              "      <td>0</td>\n",
              "      <td>0</td>\n",
              "      <td>0</td>\n",
              "      <td>0</td>\n",
              "      <td>...</td>\n",
              "      <td>0</td>\n",
              "      <td>0</td>\n",
              "      <td>0</td>\n",
              "      <td>0</td>\n",
              "      <td>0</td>\n",
              "      <td>0</td>\n",
              "      <td>0</td>\n",
              "      <td>0</td>\n",
              "      <td>0</td>\n",
              "      <td>0</td>\n",
              "    </tr>\n",
              "  </tbody>\n",
              "</table>\n",
              "<p>3 rows × 95 columns</p>\n",
              "</div>"
            ],
            "text/plain": [
              "      PatientId  AppointmentID          ScheduledDay        AppointmentDay  \\\n",
              "0  2.987250e+13        5642903  2016-04-29T18:38:08Z  2016-04-29T00:00:00Z   \n",
              "1  5.589978e+14        5642503  2016-04-29T16:08:27Z  2016-04-29T00:00:00Z   \n",
              "2  4.262962e+12        5642549  2016-04-29T16:19:04Z  2016-04-29T00:00:00Z   \n",
              "\n",
              "   Age  Scholarship  Hipertension  Diabetes  Alcoholism  Handcap  ...  \\\n",
              "0   62            0             1         0           0        0  ...   \n",
              "1   56            0             0         0           0        0  ...   \n",
              "2   62            0             0         0           0        0  ...   \n",
              "\n",
              "   Neighbourhood_SANTOS REIS Neighbourhood_SEGURANÇA DO LAR  \\\n",
              "0                          0                              0   \n",
              "1                          0                              0   \n",
              "2                          0                              0   \n",
              "\n",
              "   Neighbourhood_SOLON BORGES  Neighbourhood_SÃO BENEDITO  \\\n",
              "0                           0                           0   \n",
              "1                           0                           0   \n",
              "2                           0                           0   \n",
              "\n",
              "   Neighbourhood_SÃO CRISTÓVÃO  Neighbourhood_SÃO JOSÉ  \\\n",
              "0                            0                       0   \n",
              "1                            0                       0   \n",
              "2                            0                       0   \n",
              "\n",
              "   Neighbourhood_SÃO PEDRO  Neighbourhood_TABUAZEIRO  \\\n",
              "0                        0                         0   \n",
              "1                        0                         0   \n",
              "2                        0                         0   \n",
              "\n",
              "   Neighbourhood_UNIVERSITÁRIO  Neighbourhood_VILA RUBIM  \n",
              "0                            0                         0  \n",
              "1                            0                         0  \n",
              "2                            0                         0  \n",
              "\n",
              "[3 rows x 95 columns]"
            ]
          },
          "execution_count": 47,
          "metadata": {},
          "output_type": "execute_result"
        }
      ],
      "source": [
        "encoded_columns = pd.get_dummies(df, columns = categorical_columns_names)\n",
        "encoded_columns.head(3)"
      ]
    },
    {
      "cell_type": "markdown",
      "metadata": {
        "id": "0CDTkCZURkyh"
      },
      "source": [
        "**Обработка пропусков в данных**"
      ]
    },
    {
      "cell_type": "code",
      "execution_count": 48,
      "metadata": {
        "colab": {
          "base_uri": "https://localhost:8080/"
        },
        "id": "FJApkB5qRnLC",
        "outputId": "6b9f72b8-e10d-4050-cd94-35afbacba01f"
      },
      "outputs": [
        {
          "data": {
            "text/plain": [
              "PatientId         0\n",
              "AppointmentID     0\n",
              "Gender            0\n",
              "ScheduledDay      0\n",
              "AppointmentDay    0\n",
              "Age               0\n",
              "Neighbourhood     0\n",
              "Scholarship       0\n",
              "Hipertension      0\n",
              "Diabetes          0\n",
              "Alcoholism        0\n",
              "Handcap           0\n",
              "SMS_received      0\n",
              "No-show           0\n",
              "dtype: int64"
            ]
          },
          "execution_count": 48,
          "metadata": {},
          "output_type": "execute_result"
        }
      ],
      "source": [
        "df.isnull().sum()"
      ]
    },
    {
      "cell_type": "markdown",
      "metadata": {
        "id": "7pYZHfoGRzEc"
      },
      "source": [
        "Нам повезло — в нашем наборе данных нет нулевых значений."
      ]
    },
    {
      "cell_type": "markdown",
      "metadata": {},
      "source": [
        "### Comet"
      ]
    },
    {
      "cell_type": "code",
      "execution_count": 1,
      "metadata": {},
      "outputs": [
        {
          "name": "stdout",
          "output_type": "stream",
          "text": [
            "Collecting comet_mlNote: you may need to restart the kernel to use updated packages.\n",
            "\n",
            "  Downloading comet_ml-3.31.14-py3-none-any.whl (394 kB)\n",
            "     -------------------------------------- 394.1/394.1 KB 2.2 MB/s eta 0:00:00\n",
            "Collecting sentry-sdk>=1.1.0\n",
            "  Downloading sentry_sdk-1.9.8-py2.py3-none-any.whl (158 kB)\n",
            "     -------------------------------------- 158.7/158.7 KB 4.6 MB/s eta 0:00:00\n",
            "Collecting semantic-version>=2.8.0\n",
            "  Downloading semantic_version-2.10.0-py2.py3-none-any.whl (15 kB)\n",
            "Collecting wrapt>=1.11.2\n",
            "  Downloading wrapt-1.14.1-cp39-cp39-win_amd64.whl (35 kB)\n",
            "Requirement already satisfied: jsonschema!=3.1.0,>=2.6.0 in c:\\users\\alex\\appdata\\local\\programs\\python\\python39\\lib\\site-packages (from comet_ml) (4.4.0)\n",
            "Collecting wurlitzer>=1.0.2\n",
            "  Downloading wurlitzer-3.0.2-py3-none-any.whl (7.3 kB)\n",
            "Collecting everett[ini]>=1.0.1\n",
            "  Downloading everett-3.0.0-py2.py3-none-any.whl (35 kB)\n",
            "Collecting dulwich!=0.20.33,>=0.20.6\n",
            "  Downloading dulwich-0.20.46-cp39-cp39-win_amd64.whl (470 kB)\n",
            "     -------------------------------------- 470.6/470.6 KB 2.7 MB/s eta 0:00:00\n",
            "Collecting websocket-client<1.4.0,>=0.55.0\n",
            "  Downloading websocket_client-1.3.3-py3-none-any.whl (54 kB)\n",
            "     ---------------------------------------- 54.3/54.3 KB 2.8 MB/s eta 0:00:00\n",
            "Requirement already satisfied: six in c:\\users\\alex\\appdata\\local\\programs\\python\\python39\\lib\\site-packages (from comet_ml) (1.16.0)\n",
            "Collecting requests-toolbelt>=0.8.0\n",
            "  Downloading requests_toolbelt-0.9.1-py2.py3-none-any.whl (54 kB)\n",
            "     ---------------------------------------- 54.3/54.3 KB 2.8 MB/s eta 0:00:00\n",
            "Requirement already satisfied: requests>=2.18.4 in c:\\users\\alex\\appdata\\local\\programs\\python\\python39\\lib\\site-packages (from comet_ml) (2.28.1)\n",
            "Requirement already satisfied: urllib3>=1.25 in c:\\users\\alex\\appdata\\local\\programs\\python\\python39\\lib\\site-packages (from dulwich!=0.20.33,>=0.20.6->comet_ml) (1.26.10)\n",
            "Collecting configobj\n",
            "  Downloading configobj-5.0.6.tar.gz (33 kB)\n",
            "  Preparing metadata (setup.py): started\n",
            "  Preparing metadata (setup.py): finished with status 'done'\n",
            "Requirement already satisfied: attrs>=17.4.0 in c:\\users\\alex\\appdata\\local\\programs\\python\\python39\\lib\\site-packages (from jsonschema!=3.1.0,>=2.6.0->comet_ml) (21.4.0)\n",
            "Requirement already satisfied: pyrsistent!=0.17.0,!=0.17.1,!=0.17.2,>=0.14.0 in c:\\users\\alex\\appdata\\local\\programs\\python\\python39\\lib\\site-packages (from jsonschema!=3.1.0,>=2.6.0->comet_ml) (0.18.1)\n",
            "Requirement already satisfied: certifi>=2017.4.17 in c:\\users\\alex\\appdata\\local\\programs\\python\\python39\\lib\\site-packages (from requests>=2.18.4->comet_ml) (2022.6.15)\n",
            "Requirement already satisfied: charset-normalizer<3,>=2 in c:\\users\\alex\\appdata\\local\\programs\\python\\python39\\lib\\site-packages (from requests>=2.18.4->comet_ml) (2.1.0)\n",
            "Requirement already satisfied: idna<4,>=2.5 in c:\\users\\alex\\appdata\\local\\programs\\python\\python39\\lib\\site-packages (from requests>=2.18.4->comet_ml) (3.3)\n",
            "Collecting urllib3>=1.25\n",
            "  Downloading urllib3-1.26.12-py2.py3-none-any.whl (140 kB)\n",
            "     -------------------------------------- 140.4/140.4 KB 8.1 MB/s eta 0:00:00\n",
            "Using legacy 'setup.py install' for configobj, since package 'wheel' is not installed.\n",
            "Installing collected packages: everett, wurlitzer, wrapt, websocket-client, urllib3, semantic-version, configobj, sentry-sdk, dulwich, requests-toolbelt, comet_ml\n",
            "  Attempting uninstall: urllib3\n",
            "    Found existing installation: urllib3 1.26.10\n",
            "    Uninstalling urllib3-1.26.10:\n",
            "      Successfully uninstalled urllib3-1.26.10\n",
            "  Running setup.py install for configobj: started\n",
            "  Running setup.py install for configobj: finished with status 'done'\n",
            "Successfully installed comet_ml-3.31.14 configobj-5.0.6 dulwich-0.20.46 everett-3.0.0 requests-toolbelt-0.9.1 semantic-version-2.10.0 sentry-sdk-1.9.8 urllib3-1.26.12 websocket-client-1.3.3 wrapt-1.14.1 wurlitzer-3.0.2\n"
          ]
        },
        {
          "name": "stderr",
          "output_type": "stream",
          "text": [
            "WARNING: You are using pip version 22.0.4; however, version 22.2.2 is available.\n",
            "You should consider upgrading via the 'c:\\Users\\Alex\\AppData\\Local\\Programs\\Python\\Python39\\python.exe -m pip install --upgrade pip' command.\n"
          ]
        }
      ],
      "source": [
        "pip install comet_ml"
      ]
    },
    {
      "cell_type": "code",
      "execution_count": 3,
      "metadata": {},
      "outputs": [
        {
          "name": "stderr",
          "output_type": "stream",
          "text": [
            "COMET WARNING: As you are running in a Jupyter environment, you will need to call `experiment.end()` when finished to ensure all metrics and code are logged before exiting.\n",
            "COMET INFO: Experiment is live on comet.com https://www.comet.com/aleksejrum/medical-appointment/607ca13f558b45b9aaed26ffad430b7c\n",
            "\n"
          ]
        }
      ],
      "source": [
        "# Import comet_ml at the top of your file\n",
        "from comet_ml import Experiment\n",
        "\n",
        "# Create an experiment with your api key\n",
        "experiment = Experiment(\n",
        "    api_key=\"J2y4iYpfd4CVeqdlham6COaGl\",\n",
        "    project_name=\"medical-appointment\",\n",
        "    workspace=\"aleksejrum\",\n",
        ")\n",
        "\n",
        "# Report multiple hyperparameters using a dictionary:\n",
        "hyper_params = {\n",
        "    \"learning_rate\": 0.5,\n",
        "    \"steps\": 100000,\n",
        "    \"batch_size\": 50,\n",
        "}\n",
        "experiment.log_parameters(hyper_params)\n",
        "\n",
        "# Or report single hyperparameters:\n",
        "hidden_layer_size = 50\n",
        "experiment.log_parameter(\"hidden_layer_size\", hidden_layer_size)\n",
        "\n",
        "# Long any time-series metrics:\n",
        "train_accuracy = 3.14\n",
        "experiment.log_metric(\"accuracy\", train_accuracy, step=0)\n",
        "\n",
        "# Run your code and go to /"
      ]
    }
  ],
  "metadata": {
    "colab": {
      "collapsed_sections": [],
      "name": "noshowappointments.ipynb",
      "provenance": []
    },
    "kernelspec": {
      "display_name": "Python 3.9.12 64-bit",
      "language": "python",
      "name": "python3"
    },
    "language_info": {
      "codemirror_mode": {
        "name": "ipython",
        "version": 3
      },
      "file_extension": ".py",
      "mimetype": "text/x-python",
      "name": "python",
      "nbconvert_exporter": "python",
      "pygments_lexer": "ipython3",
      "version": "3.9.12"
    },
    "vscode": {
      "interpreter": {
        "hash": "ba4c651cdc5ec17c511bce19f294202fdc45305f9de1f927c569f32faa173ead"
      }
    }
  },
  "nbformat": 4,
  "nbformat_minor": 0
}
