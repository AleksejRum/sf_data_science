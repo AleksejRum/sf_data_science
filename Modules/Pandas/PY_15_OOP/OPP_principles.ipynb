{
 "cells": [
  {
   "cell_type": "markdown",
   "metadata": {},
   "source": [
    "# Objects and classes"
   ]
  },
  {
   "cell_type": "markdown",
   "metadata": {},
   "source": [
    "### objects"
   ]
  },
  {
   "cell_type": "code",
   "execution_count": 3,
   "metadata": {},
   "outputs": [
    {
     "name": "stdout",
     "output_type": "stream",
     "text": [
      "False\n"
     ]
    }
   ],
   "source": [
    "number = 2.5\n",
    "print(number.is_integer())"
   ]
  },
  {
   "cell_type": "code",
   "execution_count": 4,
   "metadata": {},
   "outputs": [
    {
     "name": "stdout",
     "output_type": "stream",
     "text": [
      "(5, 2)\n"
     ]
    }
   ],
   "source": [
    "print(number.as_integer_ratio())"
   ]
  },
  {
   "cell_type": "code",
   "execution_count": 5,
   "metadata": {},
   "outputs": [
    {
     "name": "stdout",
     "output_type": "stream",
     "text": [
      "2\n"
     ]
    }
   ],
   "source": [
    "people = [\"Vasiliy\", \"Stanislav\", \"Alexandra\", \"Vasiliy\"] \n",
    "print(people.count('Vasiliy'))"
   ]
  },
  {
   "cell_type": "code",
   "execution_count": 6,
   "metadata": {},
   "outputs": [
    {
     "name": "stdout",
     "output_type": "stream",
     "text": [
      "['Alexandra', 'Stanislav', 'Vasiliy', 'Vasiliy']\n"
     ]
    }
   ],
   "source": [
    "people.sort()\n",
    "print(people)"
   ]
  },
  {
   "cell_type": "markdown",
   "metadata": {},
   "source": [
    "### classes"
   ]
  },
  {
   "cell_type": "code",
   "execution_count": 7,
   "metadata": {},
   "outputs": [
    {
     "name": "stdout",
     "output_type": "stream",
     "text": [
      "<class 'float'>\n"
     ]
    }
   ],
   "source": [
    "number = 2.5\n",
    "print(number.__class__)"
   ]
  },
  {
   "cell_type": "code",
   "execution_count": 8,
   "metadata": {},
   "outputs": [
    {
     "name": "stdout",
     "output_type": "stream",
     "text": [
      "<class 'list'>\n"
     ]
    }
   ],
   "source": [
    "people = [\"Vasiliy\", \"Stanislav\", \"Alexandra\", \"Vasiliy\"] \n",
    "print(people.__class__)"
   ]
  },
  {
   "cell_type": "code",
   "execution_count": 9,
   "metadata": {},
   "outputs": [],
   "source": [
    "#let's define empty objects\n",
    "class SalesReport():\n",
    "  pass\n",
    "\n",
    "class SkillFactoryStudent():\n",
    "  pass"
   ]
  },
  {
   "cell_type": "markdown",
   "metadata": {},
   "source": [
    "### create objects by class"
   ]
  },
  {
   "cell_type": "code",
   "execution_count": 10,
   "metadata": {},
   "outputs": [
    {
     "name": "stdout",
     "output_type": "stream",
     "text": [
      "False\n"
     ]
    }
   ],
   "source": [
    "class SalesReport:\n",
    "    pass\n",
    "\n",
    "report = SalesReport()\n",
    "report_2 = SalesReport()\n",
    "\n",
    "print(report == report_2)"
   ]
  },
  {
   "cell_type": "markdown",
   "metadata": {},
   "source": [
    "### attributes and methods"
   ]
  },
  {
   "cell_type": "code",
   "execution_count": 11,
   "metadata": {},
   "outputs": [
    {
     "name": "stdout",
     "output_type": "stream",
     "text": [
      "Total amount 10\n",
      "Total amount 20\n"
     ]
    }
   ],
   "source": [
    "#create empty class\n",
    "class SalesReport:\n",
    "  pass\n",
    "\n",
    "#create first report\n",
    "report = SalesReport()\n",
    "\n",
    "#add new attribute\n",
    "report.amount = 10\n",
    "\n",
    "#create second report and add attribute\n",
    "report_2 = SalesReport()\n",
    "report_2.amount = 20\n",
    "\n",
    "#create a supporting function\n",
    "def print_report(report):\n",
    "  print('Total amount', report.amount)\n",
    "\n",
    "print_report(report)\n",
    "print_report(report_2)  "
   ]
  },
  {
   "cell_type": "code",
   "execution_count": 12,
   "metadata": {},
   "outputs": [
    {
     "name": "stdout",
     "output_type": "stream",
     "text": [
      "Total amount 10\n",
      "Total amount 20\n"
     ]
    }
   ],
   "source": [
    "class SalesReport():\n",
    "  def print_report(self):\n",
    "    print('Total amount', self.amount)\n",
    "\n",
    "report = SalesReport()\n",
    "report.amount = 10 \n",
    "\n",
    "report_2 = SalesReport()\n",
    "report_2.amount = 20\n",
    "\n",
    "report.print_report()\n",
    "report_2.print_report() "
   ]
  },
  {
   "cell_type": "code",
   "execution_count": 13,
   "metadata": {},
   "outputs": [
    {
     "name": "stdout",
     "output_type": "stream",
     "text": [
      "Total sales 40000\n",
      "[10000, 30000]\n"
     ]
    }
   ],
   "source": [
    "class SalesReport():\n",
    "  #allow to add many deals\n",
    "  def add_deal(self,amount):\n",
    "    #create the list for keeping all deals\n",
    "    if not hasattr(self,'deals'):\n",
    "      self.deals = []\n",
    "    #add current deal\n",
    "    self.deals.append(amount)  \n",
    "\n",
    "  #calculate summ all deals\n",
    "  def total_amount(self):\n",
    "    return sum(self.deals)\n",
    "\n",
    "  def print_report(self):\n",
    "    print('Total sales', self.total_amount())  \n",
    "\n",
    "#add two deals and print report\n",
    "report = SalesReport()\n",
    "report.add_deal(10_000)\n",
    "report.add_deal(30_000)\n",
    "report.print_report()\n",
    "print(report.deals)"
   ]
  },
  {
   "cell_type": "markdown",
   "metadata": {},
   "source": [
    "### TASK 4.1"
   ]
  },
  {
   "cell_type": "code",
   "execution_count": 14,
   "metadata": {},
   "outputs": [
    {
     "name": "stdout",
     "output_type": "stream",
     "text": [
      "[1000000, 400000]\n",
      "700000.0\n"
     ]
    }
   ],
   "source": [
    "class DepartmentReport():\n",
    "    def add_revenue(self,amount):\n",
    "        if not hasattr(self,'revenues'):\n",
    "            self.revenues = []\n",
    "        return self.revenues.append(amount)\n",
    "    def average_revenue(self):\n",
    "        return sum(self.revenues)/len(self.revenues)\n",
    "    \n",
    "report = DepartmentReport()\n",
    "report.add_revenue(1_000_000)\n",
    "report.add_revenue(400_000)\n",
    "print(report.revenues)\n",
    "print(report.average_revenue())     "
   ]
  },
  {
   "cell_type": "markdown",
   "metadata": {},
   "source": [
    "### Method _init_"
   ]
  },
  {
   "cell_type": "code",
   "execution_count": 15,
   "metadata": {},
   "outputs": [
    {
     "name": "stdout",
     "output_type": "stream",
     "text": [
      "[]\n"
     ]
    },
    {
     "data": {
      "text/plain": [
       "0"
      ]
     },
     "execution_count": 15,
     "metadata": {},
     "output_type": "execute_result"
    }
   ],
   "source": [
    "class SalesReport():\n",
    "    def __init__(self):\n",
    "        self.deals = []\n",
    "    \n",
    "    def add_deal(self,amount):\n",
    "        self.deals.append(amount)\n",
    "        \n",
    "    def total_amount(self):\n",
    "        return sum(self.deals) \n",
    "    \n",
    "    def print_report(self):\n",
    "        print('Total sales', self.total_amount()) \n",
    "        \n",
    "report = SalesReport()\n",
    "print(report.deals) \n",
    "\n",
    "report.total_amount()          "
   ]
  },
  {
   "cell_type": "code",
   "execution_count": 16,
   "metadata": {},
   "outputs": [
    {
     "name": "stdout",
     "output_type": "stream",
     "text": [
      "Manager Ivan Taranov\n",
      "Total sales 40000\n"
     ]
    }
   ],
   "source": [
    "class SalesReport():\n",
    "    #accept manager's name in __init___\n",
    "    def __init__(self,manager_name):\n",
    "        self.deals = []\n",
    "        self.manager_name = manager_name\n",
    "     \n",
    "    def add_deal(self,amount):\n",
    "        self.deals.append(amount)    \n",
    "        \n",
    "    def total_amount(self):\n",
    "        return sum(self.deals)\n",
    "    \n",
    "    def print_report(self):\n",
    "        #add the name in report\n",
    "        print('Manager', self.manager_name)\n",
    "        print('Total sales', self.total_amount())\n",
    "        \n",
    "report = SalesReport('Ivan Taranov')\n",
    "report.add_deal(10_000)\n",
    "report.add_deal(30_000)\n",
    "report.print_report()        "
   ]
  },
  {
   "cell_type": "markdown",
   "metadata": {},
   "source": [
    "### TASK 4.2"
   ]
  },
  {
   "cell_type": "code",
   "execution_count": 17,
   "metadata": {},
   "outputs": [
    {
     "name": "stdout",
     "output_type": "stream",
     "text": [
      "Average department revenue for Danon: 700000\n"
     ]
    }
   ],
   "source": [
    "class DepartmentReport():\n",
    "\n",
    "    def __init__(self,company):\n",
    "        \"\"\"\n",
    "        Метод инициализации класса. \n",
    "        Создаёт атрибуты revenues и company\n",
    "        \"\"\"\n",
    "        self.revenue = []\n",
    "        self.company = company\n",
    "    \n",
    "    def add_revenue(self, amount):\n",
    "        \"\"\"\n",
    "        Метод для добавления выручки отдела в список revenues.\n",
    "        Если атрибута revenues ещё не существует, метод должен создавать пустой список перед добавлением выручки.\n",
    "        \"\"\"\n",
    "        self.revenue.append(amount)\n",
    "    \n",
    "    def average_revenue(self):\n",
    "        \"\"\"\n",
    "        Вычисляет average_revenue — среднюю выручку по отделам — округляя до целого.\n",
    "        Метод возвращает строку в формате:\n",
    "        'Average department revenue for <company>: <average_revenue>'\n",
    "        \"\"\"\n",
    "        self.average = round(sum(self.revenue)/len(self.revenue))\n",
    "        return f'Average department revenue for {self.company}: {self.average}'\n",
    "    \n",
    "report = DepartmentReport('Danon')\n",
    "report.add_revenue(1_000_000)\n",
    "report.add_revenue(400_000)\n",
    "\n",
    "print(report.average_revenue())\n",
    "    "
   ]
  },
  {
   "cell_type": "markdown",
   "metadata": {},
   "source": [
    "### Summary"
   ]
  },
  {
   "cell_type": "code",
   "execution_count": 18,
   "metadata": {},
   "outputs": [
    {
     "name": "stdout",
     "output_type": "stream",
     "text": [
      "Employee:  Ivan Semenov\n",
      "Total sales: 390000\n",
      "Average sales: 130000.0\n",
      "Companies: ['SkyEng', 'PepsiCo']\n"
     ]
    }
   ],
   "source": [
    "class SalesReport():\n",
    "    def __init__(self,employee_name):\n",
    "        self.deals = []\n",
    "        self.employee_name = employee_name\n",
    "        \n",
    "    def add_deal(self,company,amount):\n",
    "        self.deals.append({'company': company, 'amount': amount}) \n",
    "       \n",
    "    def total_amount(self):\n",
    "        return sum([deal['amount'] for deal in self.deals])\n",
    "    \n",
    "    def average_deal(self):\n",
    "        return self.total_amount()/len(self.deals)\n",
    "    \n",
    "    def all_companies(self):\n",
    "        return list(set([deal['company'] for deal in self.deals]))\n",
    "    \n",
    "    def print_report(self):\n",
    "        print(\"Employee: \", self.employee_name)  \n",
    "        print(\"Total sales:\", self.total_amount())  \n",
    "        print(\"Average sales:\", self.average_deal())  \n",
    "        print(\"Companies:\", self.all_companies())  \n",
    "        \n",
    "        \n",
    "report = SalesReport(\"Ivan Semenov\")  \n",
    "  \n",
    "report.add_deal(\"PepsiCo\", 120_000)  \n",
    "report.add_deal(\"SkyEng\", 250_000)  \n",
    "report.add_deal(\"PepsiCo\", 20_000)  \n",
    "  \n",
    "report.print_report()         "
   ]
  },
  {
   "cell_type": "markdown",
   "metadata": {},
   "source": [
    "### status tracking"
   ]
  },
  {
   "cell_type": "code",
   "execution_count": 19,
   "metadata": {},
   "outputs": [
    {
     "name": "stdout",
     "output_type": "stream",
     "text": [
      "Order price for max@gmail.com is 200\n",
      "Order price for lova@yandex.ru is 180.0\n",
      "Order price for german@sberbank.ru is 500\n",
      "Order price for german@sberbank.ru is 450.0\n"
     ]
    }
   ],
   "source": [
    "class Client():\n",
    "    # Base data\n",
    "    def __init__(self,email,order_num,registration_year):\n",
    "        self.email = email\n",
    "        self.order_num = order_num\n",
    "        self.registration_year = registration_year\n",
    "        self.discount = 0\n",
    "        \n",
    "    # Making an order\n",
    "    def make_order(self,price):\n",
    "        self.update_discount()\n",
    "        self.order_num += 1    \n",
    "        # There was making an order here but we display its price\n",
    "        discounted_price = price* (1 - self.discount)\n",
    "        print(f'Order price for {self.email} is {discounted_price}')\n",
    "        \n",
    "    # Assigning a discount\n",
    "    def update_discount(self):\n",
    "        if self.registration_year < 2018 and self.order_num >= 5:\n",
    "            self.discount = 0.1\n",
    "            \n",
    "# Application\n",
    "\n",
    "# Let's make a semblance of a base\n",
    "client_db = [\n",
    "    Client('max@gmail.com', 2, 2019),\n",
    "    Client('lova@yandex.ru', 10, 2015),\n",
    "    Client('german@sberbank.ru', 4, 2017),  \n",
    "]\n",
    "\n",
    "# Generate orders\n",
    "client_db[0].make_order(200)\n",
    "# => Order price for max@gmail.com is 100.0\n",
    "\n",
    "client_db[1].make_order(200)\n",
    "# => Order price for lova@yandex.ru is 180.0\n",
    "\n",
    "client_db[2].make_order(500)\n",
    "# => Order price for german@sberbank.ru is 500.0\n",
    "\n",
    "client_db[2].make_order(500)\n",
    "# => Order price for lova@yandex.ru is 450.0"
   ]
  },
  {
   "cell_type": "markdown",
   "metadata": {},
   "source": [
    "### TASK 5.1"
   ]
  },
  {
   "cell_type": "code",
   "execution_count": 20,
   "metadata": {},
   "outputs": [
    {
     "name": "stdout",
     "output_type": "stream",
     "text": [
      "False\n",
      "True\n",
      "19700\n"
     ]
    }
   ],
   "source": [
    "class User():\n",
    "    def __init__(self,email,password,balance):\n",
    "        self.email = email\n",
    "        self.password = password\n",
    "        self.balance = balance\n",
    "    \n",
    "    def login(self,email,password):\n",
    "        if email == self.email and password == self.password:\n",
    "            return True\n",
    "        else:\n",
    "            return False\n",
    "         \n",
    "    def update_balance(self, amount):\n",
    "        self.balance += amount        \n",
    "        \n",
    "\n",
    "user = User(\"gosha@roskino.org\", \"qwerty\", 20_000)\n",
    "print(user.login(\"gosha@roskino.org\", \"qwerty123\"))\n",
    "# => False\n",
    "print(user.login(\"gosha@roskino.org\", \"qwerty\"))\n",
    "# => True\n",
    "user.update_balance(200)\n",
    "user.update_balance(-500)\n",
    "print(user.balance)\n",
    "# => 19700"
   ]
  },
  {
   "cell_type": "markdown",
   "metadata": {},
   "source": [
    "### Combination of operation"
   ]
  },
  {
   "cell_type": "code",
   "execution_count": 21,
   "metadata": {},
   "outputs": [
    {
     "name": "stdout",
     "output_type": "stream",
     "text": [
      "[1.0, 17.0, 4.0, 0.0, 8.0]\n",
      "6.892024376045111\n",
      "6.0\n"
     ]
    }
   ],
   "source": [
    "import statistics\n",
    "\n",
    "class DataFrame:\n",
    "    def __init__(self,column,fill_value=0):\n",
    "        # Initializing attributes\n",
    "        self.column = column\n",
    "        self.fill_value = fill_value\n",
    "        # Fill in the gaps\n",
    "        self.fill_missed()\n",
    "        # Convert all elements into numbers\n",
    "        self.to_float()\n",
    "        \n",
    "    def fill_missed(self):\n",
    "        for i, value in enumerate(self.column):\n",
    "            if value is None or value == '':\n",
    "                self.column[i] = self.fill_value\n",
    "                \n",
    "    def to_float(self):\n",
    "        self.column = [float(value) for value in self.column]\n",
    "        \n",
    "    def median(self):\n",
    "        return statistics.mean(self.column)\n",
    "    \n",
    "    def deviation(self):\n",
    "        return statistics.stdev(self.column)    \n",
    "    \n",
    "# Using the class\n",
    "df = DataFrame(['1', 17, 4, None, 8])        \n",
    "\n",
    "print(df.column)\n",
    "# => [1.0, 17.0, 4.0, 0.0, 8.0]  \n",
    "\n",
    "print(df.deviation())    \n",
    "# => 6.89  \n",
    "\n",
    "print(df.median())\n",
    "# => 6.0           "
   ]
  },
  {
   "cell_type": "markdown",
   "metadata": {},
   "source": [
    "### TASK 5.2"
   ]
  },
  {
   "cell_type": "code",
   "execution_count": 22,
   "metadata": {},
   "outputs": [
    {
     "name": "stdout",
     "output_type": "stream",
     "text": [
      "5\n",
      "4\n"
     ]
    }
   ],
   "source": [
    "from collections import Counter\n",
    "\n",
    "class IntDataFrame():\n",
    "    def __init__(self, list_num):\n",
    "        self.list_num = list_num\n",
    "        self.to_int()\n",
    "        \n",
    "    def to_int(self):\n",
    "        self.list_num = [int(value) for value in self.list_num]\n",
    "                \n",
    "    def count(self):\n",
    "        self.list_2 = []\n",
    "        for value in self.list_num:\n",
    "            if value > 0:\n",
    "                self.list_2.append(value)\n",
    "        return len(self.list_2)    \n",
    "    \n",
    "    def unique_num(self):\n",
    "        return len(Counter(self.list_num))\n",
    "  \n",
    "            \n",
    "df = IntDataFrame([4.7, 4, 3, 0, 2.4, 0.3, 4])\n",
    "\n",
    "print(df.count())\n",
    "print(df.unique_num())         "
   ]
  },
  {
   "cell_type": "markdown",
   "metadata": {},
   "source": [
    "### TASK 5.2 _ v.2"
   ]
  },
  {
   "cell_type": "code",
   "execution_count": 23,
   "metadata": {},
   "outputs": [],
   "source": [
    "class IntDataFrame:\n",
    "    def __init__(self,column):\n",
    "        self.column = column\n",
    "        self.to_int()\n",
    "        \n",
    "    def to_int(self):\n",
    "        self.column = [init(value) for value in self.column]    \n",
    "\n",
    "    def column(self):\n",
    "        j = 0\n",
    "        for value in self.column:\n",
    "            if value > 0:\n",
    "                j += 1\n",
    "        return j\n",
    "    \n",
    "    def unique(self):\n",
    "        uniq = []\n",
    "        for value in self.column:\n",
    "            if value in uniq:\n",
    "                continue\n",
    "            else:\n",
    "                uniq.append(value)\n",
    "        return len(uniq)        "
   ]
  },
  {
   "cell_type": "markdown",
   "metadata": {},
   "source": [
    "### wrapper class"
   ]
  },
  {
   "cell_type": "code",
   "execution_count": 24,
   "metadata": {},
   "outputs": [
    {
     "name": "stdout",
     "output_type": "stream",
     "text": [
      "{'perfomance': [10, 20, 10], 'clients': {'Romashka': 10, 'Vector': 34}}\n"
     ]
    }
   ],
   "source": [
    "import pickle \n",
    "from datetime import datetime\n",
    "from os import path\n",
    "\n",
    "class Dumper():\n",
    "    def __init__(self,archive_dir='archive/'):\n",
    "        self.archive_dir = archive_dir\n",
    "        \n",
    "    def dump(self,data):\n",
    "        #The pickle library allows you to get and put objects in a file\n",
    "        with open(self.get_file_name(), 'wb') as file:\n",
    "            pickle.dump(data, file) \n",
    "            \n",
    "    def load_for_day(self,day):\n",
    "        file_name = path.join(self.archive_dir, day + '.pkl')          \n",
    "        with open(file_name, 'rb') as file:\n",
    "            sets = pickle.load(file)\n",
    "        return sets\n",
    "    \n",
    "    #return the correct name for file    \n",
    "    def get_file_name(self):\n",
    "        today = datetime.now().strftime('%y-%m-%d')\n",
    "        return path.join(self.archive_dir, today + '.pkl')            \n",
    "                \n",
    "#Example\n",
    "\n",
    "data = {\n",
    "    'perfomance': [10,20,10],\n",
    "    'clients': {'Romashka': 10, 'Vector': 34} \n",
    "}\n",
    "\n",
    "dumper = Dumper()\n",
    "\n",
    "#Let's save data\n",
    "dumper.dump(data)\n",
    "\n",
    "#let's restore for today's date\n",
    "file_name = datetime.now().strftime('%y-%m-%d')\n",
    "restored_data = dumper.load_for_day(file_name)\n",
    "print(restored_data)"
   ]
  },
  {
   "cell_type": "markdown",
   "metadata": {},
   "source": [
    "### TASK 5.3"
   ]
  },
  {
   "cell_type": "code",
   "execution_count": 25,
   "metadata": {},
   "outputs": [
    {
     "data": {
      "text/plain": [
       "'System started'"
      ]
     },
     "execution_count": 25,
     "metadata": {},
     "output_type": "execute_result"
    }
   ],
   "source": [
    "class OwnLogger():\n",
    "   def __init__(self):\n",
    "       self.logs = {\"info\": None, \"warning\": None, \"error\": None, \"all\": None}\n",
    "   def log(self, message, level):\n",
    "       self.logs[level] = message\n",
    "       self.logs['all'] = message\n",
    "   def show_last(self, level='all'):\n",
    "       return self.logs[level]\n",
    " \n",
    " \n",
    "logger = OwnLogger()\n",
    "logger.log(\"System started\", \"info\")\n",
    "logger.show_last(\"error\")\n",
    "# => None\n",
    "# Некоторые интерпретаторы Python могут не выводить None, тогда в этой проверке у вас будет пустая строка\n",
    "logger.log(\"Connection instable\", \"warning\")\n",
    "logger.log(\"Connection lost\", \"error\")\n",
    "\n",
    "logger.show_last()\n",
    "# => Connection lost\n",
    "logger.show_last(\"info\")\n",
    "# => System started\n",
    "         "
   ]
  },
  {
   "cell_type": "markdown",
   "metadata": {},
   "source": [
    "## OOP for working with files"
   ]
  },
  {
   "cell_type": "code",
   "execution_count": 26,
   "metadata": {},
   "outputs": [
    {
     "name": "stdout",
     "output_type": "stream",
     "text": [
      "a:\\IDE\\Skillfactory\\PY_15_OOP_principles\n"
     ]
    }
   ],
   "source": [
    "#get current way\n",
    "start_path = os.getcwd()\n",
    "print(start_path)"
   ]
  },
  {
   "cell_type": "code",
   "execution_count": 27,
   "metadata": {},
   "outputs": [
    {
     "data": {
      "text/plain": [
       "'a:\\\\IDE\\\\Skillfactory'"
      ]
     },
     "execution_count": 27,
     "metadata": {},
     "output_type": "execute_result"
    }
   ],
   "source": [
    "os.chdir('..')\n",
    "os.getcwd()"
   ]
  },
  {
   "cell_type": "code",
   "execution_count": 28,
   "metadata": {},
   "outputs": [
    {
     "name": "stdout",
     "output_type": "stream",
     "text": [
      "['PY_10_Pandas', 'PY_11_Pandas', 'PY_12_Pandas', 'PY_13_Visualization', 'PY_14_Clearing_data', 'PY_15_OOP_principles', 'test.txt', 'text.txt']\n",
      "Файл отсутствует в данной директории\n"
     ]
    }
   ],
   "source": [
    "# list of files and directory in the folder\n",
    "import os\n",
    "\n",
    "print(os.listdir())\n",
    "\n",
    "if 'tmp.py' not in os.listdir():\n",
    "    print('Файл отсутствует в данной директории')"
   ]
  },
  {
   "cell_type": "code",
   "execution_count": 29,
   "metadata": {},
   "outputs": [
    {
     "name": "stdout",
     "output_type": "stream",
     "text": [
      "a:\\IDE\\Skillfactory\\PY_15_OOP_principles\n",
      "a:\\IDE\\Skillfactory\\PY_15_OOP_principles\\test\n"
     ]
    }
   ],
   "source": [
    "# connects paths taking into account the specifics OS\n",
    "print(start_path)\n",
    "print(os.path.join(start_path,'test'))"
   ]
  },
  {
   "cell_type": "markdown",
   "metadata": {},
   "source": [
    "### TASK 7.3"
   ]
  },
  {
   "cell_type": "code",
   "execution_count": 30,
   "metadata": {},
   "outputs": [
    {
     "name": "stdout",
     "output_type": "stream",
     "text": [
      "Текущая директория a:\\IDE\\Skillfactory\n",
      "---\n",
      "Список папок ['PY_10_Pandas', 'PY_11_Pandas', 'PY_12_Pandas', 'PY_13_Visualization', 'PY_14_Clearing_data', 'PY_15_OOP_principles']\n",
      "---\n",
      "Список файлов ['test.txt', 'text.txt']\n",
      "---\n",
      "Все пути:\n",
      "Файл  a:\\IDE\\Skillfactory\\test.txt\n",
      "Файл  a:\\IDE\\Skillfactory\\text.txt\n",
      "Папка  a:\\IDE\\Skillfactory\\PY_10_Pandas\n",
      "Папка  a:\\IDE\\Skillfactory\\PY_11_Pandas\n",
      "Папка  a:\\IDE\\Skillfactory\\PY_12_Pandas\n",
      "Папка  a:\\IDE\\Skillfactory\\PY_13_Visualization\n",
      "Папка  a:\\IDE\\Skillfactory\\PY_14_Clearing_data\n",
      "Папка  a:\\IDE\\Skillfactory\\PY_15_OOP_principles\n",
      "===\n",
      "Текущая директория a:\\IDE\\Skillfactory\\PY_10_Pandas\n",
      "---\n",
      "Список папок ['.ipynb_checkpoints', 'data']\n",
      "---\n",
      "Список файлов ['DS_task.ipynb', 'Введение в Pandas.ipynb']\n",
      "---\n",
      "Все пути:\n",
      "Файл  a:\\IDE\\Skillfactory\\PY_10_Pandas\\DS_task.ipynb\n",
      "Файл  a:\\IDE\\Skillfactory\\PY_10_Pandas\\Введение в Pandas.ipynb\n",
      "Папка  a:\\IDE\\Skillfactory\\PY_10_Pandas\\.ipynb_checkpoints\n",
      "Папка  a:\\IDE\\Skillfactory\\PY_10_Pandas\\data\n",
      "===\n",
      "Текущая директория a:\\IDE\\Skillfactory\\PY_10_Pandas\\.ipynb_checkpoints\n",
      "---\n",
      "Папок нет\n",
      "---\n",
      "Файлов нет\n",
      "---\n",
      "===\n",
      "Текущая директория a:\\IDE\\Skillfactory\\PY_10_Pandas\\data\n",
      "---\n",
      "Папок нет\n",
      "---\n",
      "Список файлов ['countries.csv', 'countries.json', 'melb_data.csv', 'students_performance.csv']\n",
      "---\n",
      "Файл  a:\\IDE\\Skillfactory\\PY_10_Pandas\\data\\countries.csv\n",
      "Файл  a:\\IDE\\Skillfactory\\PY_10_Pandas\\data\\countries.json\n",
      "Файл  a:\\IDE\\Skillfactory\\PY_10_Pandas\\data\\melb_data.csv\n",
      "Файл  a:\\IDE\\Skillfactory\\PY_10_Pandas\\data\\students_performance.csv\n",
      "===\n",
      "Текущая директория a:\\IDE\\Skillfactory\\PY_11_Pandas\n",
      "---\n",
      "Список папок ['data']\n",
      "---\n",
      "Список файлов ['DS_task.ipynb', 'Базовая работа с данными.ipynb']\n",
      "---\n",
      "Все пути:\n",
      "Файл  a:\\IDE\\Skillfactory\\PY_11_Pandas\\DS_task.ipynb\n",
      "Файл  a:\\IDE\\Skillfactory\\PY_11_Pandas\\Базовая работа с данными.ipynb\n",
      "Папка  a:\\IDE\\Skillfactory\\PY_11_Pandas\\data\n",
      "===\n",
      "Текущая директория a:\\IDE\\Skillfactory\\PY_11_Pandas\\data\n",
      "---\n",
      "Папок нет\n",
      "---\n",
      "Список файлов ['citibike-tripdata.csv', 'melb_data_ps.csv']\n",
      "---\n",
      "Файл  a:\\IDE\\Skillfactory\\PY_11_Pandas\\data\\citibike-tripdata.csv\n",
      "Файл  a:\\IDE\\Skillfactory\\PY_11_Pandas\\data\\melb_data_ps.csv\n",
      "===\n",
      "Текущая директория a:\\IDE\\Skillfactory\\PY_12_Pandas\n",
      "---\n",
      "Список папок ['data']\n",
      "---\n",
      "Список файлов ['DS_tasks.ipynb', 'Продвинутые методы Pandas.ipynb']\n",
      "---\n",
      "Все пути:\n",
      "Файл  a:\\IDE\\Skillfactory\\PY_12_Pandas\\DS_tasks.ipynb\n",
      "Файл  a:\\IDE\\Skillfactory\\PY_12_Pandas\\Продвинутые методы Pandas.ipynb\n",
      "Папка  a:\\IDE\\Skillfactory\\PY_12_Pandas\\data\n",
      "===\n",
      "Текущая директория a:\\IDE\\Skillfactory\\PY_12_Pandas\\data\n",
      "---\n",
      "Папок нет\n",
      "---\n",
      "Список файлов ['dates.csv', 'melb_data_fe.csv', 'movies.csv', 'orders.csv', 'products.csv', 'ratings1.csv', 'ratings2.csv', 'ratings_movies.csv']\n",
      "---\n",
      "Файл  a:\\IDE\\Skillfactory\\PY_12_Pandas\\data\\dates.csv\n",
      "Файл  a:\\IDE\\Skillfactory\\PY_12_Pandas\\data\\melb_data_fe.csv\n",
      "Файл  a:\\IDE\\Skillfactory\\PY_12_Pandas\\data\\movies.csv\n",
      "Файл  a:\\IDE\\Skillfactory\\PY_12_Pandas\\data\\orders.csv\n",
      "Файл  a:\\IDE\\Skillfactory\\PY_12_Pandas\\data\\products.csv\n",
      "Файл  a:\\IDE\\Skillfactory\\PY_12_Pandas\\data\\ratings1.csv\n",
      "Файл  a:\\IDE\\Skillfactory\\PY_12_Pandas\\data\\ratings2.csv\n",
      "Файл  a:\\IDE\\Skillfactory\\PY_12_Pandas\\data\\ratings_movies.csv\n",
      "===\n",
      "Текущая директория a:\\IDE\\Skillfactory\\PY_13_Visualization\n",
      "---\n",
      "Список папок ['data']\n",
      "---\n",
      "Список файлов ['DS_task_9.ipynb', 'Visualization_Pandas.ipynb', 'Visualization_Plotly.ipynb', 'Visualization_Seaborn.ipynb', 'Визуализация данных.ipynb']\n",
      "---\n",
      "Все пути:\n",
      "Файл  a:\\IDE\\Skillfactory\\PY_13_Visualization\\DS_task_9.ipynb\n",
      "Файл  a:\\IDE\\Skillfactory\\PY_13_Visualization\\Visualization_Pandas.ipynb\n",
      "Файл  a:\\IDE\\Skillfactory\\PY_13_Visualization\\Visualization_Plotly.ipynb\n",
      "Файл  a:\\IDE\\Skillfactory\\PY_13_Visualization\\Visualization_Seaborn.ipynb\n",
      "Файл  a:\\IDE\\Skillfactory\\PY_13_Visualization\\Визуализация данных.ipynb\n",
      "Папка  a:\\IDE\\Skillfactory\\PY_13_Visualization\\data\n",
      "===\n",
      "Текущая директория a:\\IDE\\Skillfactory\\PY_13_Visualization\\data\n",
      "---\n",
      "Папок нет\n",
      "---\n",
      "Список файлов ['churn.csv', 'country_vaccinations.csv', 'covid_data.csv']\n",
      "---\n",
      "Файл  a:\\IDE\\Skillfactory\\PY_13_Visualization\\data\\churn.csv\n",
      "Файл  a:\\IDE\\Skillfactory\\PY_13_Visualization\\data\\country_vaccinations.csv\n",
      "Файл  a:\\IDE\\Skillfactory\\PY_13_Visualization\\data\\covid_data.csv\n",
      "===\n",
      "Текущая директория a:\\IDE\\Skillfactory\\PY_14_Clearing_data\n",
      "---\n",
      "Список папок ['data']\n",
      "---\n",
      "Список файлов ['DS_Task_8.ipynb', 'Сlearing_data.ipynb']\n",
      "---\n",
      "Все пути:\n",
      "Файл  a:\\IDE\\Skillfactory\\PY_14_Clearing_data\\DS_Task_8.ipynb\n",
      "Файл  a:\\IDE\\Skillfactory\\PY_14_Clearing_data\\Сlearing_data.ipynb\n",
      "Папка  a:\\IDE\\Skillfactory\\PY_14_Clearing_data\\data\n",
      "===\n",
      "Текущая директория a:\\IDE\\Skillfactory\\PY_14_Clearing_data\\data\n",
      "---\n",
      "Папок нет\n",
      "---\n",
      "Список файлов ['diabetes_data.csv', 'sber_data.csv']\n",
      "---\n",
      "Файл  a:\\IDE\\Skillfactory\\PY_14_Clearing_data\\data\\diabetes_data.csv\n",
      "Файл  a:\\IDE\\Skillfactory\\PY_14_Clearing_data\\data\\sber_data.csv\n",
      "===\n",
      "Текущая директория a:\\IDE\\Skillfactory\\PY_15_OOP_principles\n",
      "---\n",
      "Список папок ['archive']\n",
      "---\n",
      "Список файлов ['mnumbers.txt', 'OPP_principles.ipynb', 'output.txt', 'text.txt']\n",
      "---\n",
      "Все пути:\n",
      "Файл  a:\\IDE\\Skillfactory\\PY_15_OOP_principles\\mnumbers.txt\n",
      "Файл  a:\\IDE\\Skillfactory\\PY_15_OOP_principles\\OPP_principles.ipynb\n",
      "Файл  a:\\IDE\\Skillfactory\\PY_15_OOP_principles\\output.txt\n",
      "Файл  a:\\IDE\\Skillfactory\\PY_15_OOP_principles\\text.txt\n",
      "Папка  a:\\IDE\\Skillfactory\\PY_15_OOP_principles\\archive\n",
      "===\n",
      "Текущая директория a:\\IDE\\Skillfactory\\PY_15_OOP_principles\\archive\n",
      "---\n",
      "Папок нет\n",
      "---\n",
      "Список файлов ['22-06-13.pkl', '22-06-18.pkl', '22-06-19.pkl']\n",
      "---\n",
      "Файл  a:\\IDE\\Skillfactory\\PY_15_OOP_principles\\archive\\22-06-13.pkl\n",
      "Файл  a:\\IDE\\Skillfactory\\PY_15_OOP_principles\\archive\\22-06-18.pkl\n",
      "Файл  a:\\IDE\\Skillfactory\\PY_15_OOP_principles\\archive\\22-06-19.pkl\n",
      "===\n"
     ]
    }
   ],
   "source": [
    "import os\n",
    "\n",
    "def walk_desc(path=None):\n",
    "    start_path = path if path is not None else os.getcwd()\n",
    "\n",
    "    for root, dirs, files in os.walk(start_path):\n",
    "        print(\"Текущая директория\", root)\n",
    "        print(\"---\")\n",
    "\n",
    "        if dirs:\n",
    "            print(\"Список папок\", dirs)\n",
    "        else:\n",
    "            print(\"Папок нет\")\n",
    "        print(\"---\")\n",
    "\n",
    "        if files:\n",
    "            print(\"Список файлов\", files)\n",
    "        else:\n",
    "            print(\"Файлов нет\")\n",
    "        print(\"---\")\n",
    "\n",
    "        if files and dirs:\n",
    "            print(\"Все пути:\")\n",
    "        for f in files:\n",
    "            print(\"Файл \", os.path.join(root, f))\n",
    "        for d in dirs:\n",
    "            print(\"Папка \", os.path.join(root, d))\n",
    "        print(\"===\")\n",
    "\n",
    "walk_desc()"
   ]
  },
  {
   "cell_type": "markdown",
   "metadata": {},
   "source": [
    "### Working with files"
   ]
  },
  {
   "cell_type": "code",
   "execution_count": 84,
   "metadata": {},
   "outputs": [],
   "source": [
    "fl = open('test11.txt','w',encoding='utf8')\n",
    "\n",
    "# Write string into files\n",
    "fl.write('This is a test string\\n')\n",
    "fl.write('This is a new string\\n')\n",
    "\n",
    "fl.close()"
   ]
  },
  {
   "cell_type": "code",
   "execution_count": 85,
   "metadata": {},
   "outputs": [
    {
     "name": "stdout",
     "output_type": "stream",
     "text": [
      "This is a \n",
      "test string\n",
      "This is a new string\n",
      "\n"
     ]
    }
   ],
   "source": [
    "# Open the file for reading\n",
    "fl = open('test11.txt','r',encoding='utf8')\n",
    "print(fl.read(10))\n",
    "# read the rest of file\n",
    "print(fl.read())\n",
    "fl.close()"
   ]
  },
  {
   "cell_type": "markdown",
   "metadata": {},
   "source": [
    "# Read and write line by line"
   ]
  },
  {
   "cell_type": "code",
   "execution_count": 86,
   "metadata": {},
   "outputs": [
    {
     "data": {
      "text/plain": [
       "<function TextIOWrapper.close()>"
      ]
     },
     "execution_count": 86,
     "metadata": {},
     "output_type": "execute_result"
    }
   ],
   "source": [
    "fl = open('text11.txt','a',encoding='utf8') # open the file for additional writing\n",
    "\n",
    "sequence = [\"other string\\n\", \"123\\n\", \"test test\\n\"]\n",
    "fl.writelines(sequence) # take the strings from sequence and writing file\n",
    "\n",
    "fl.close"
   ]
  },
  {
   "cell_type": "code",
   "execution_count": 87,
   "metadata": {},
   "outputs": [
    {
     "name": "stdout",
     "output_type": "stream",
     "text": [
      "['This is a test string\\n', 'This is a new string\\n']\n"
     ]
    }
   ],
   "source": [
    "fl = open('test11.txt','r',encoding='utf8')\n",
    "\n",
    "print(fl.readlines())\n",
    "\n",
    "fl.close()"
   ]
  },
  {
   "cell_type": "code",
   "execution_count": 68,
   "metadata": {},
   "outputs": [
    {
     "name": "stdout",
     "output_type": "stream",
     "text": [
      "This is a test string\n",
      "\n",
      "This\n",
      " is a new string\n",
      "\n"
     ]
    }
   ],
   "source": [
    "# method readline\n",
    "f1 = open('test1.txt','r',encoding='utf8')\n",
    "\n",
    "print(f1.readline())\n",
    "print(f1.read(4))\n",
    "print(f1.readline())\n",
    "\n",
    "f1.close()"
   ]
  },
  {
   "cell_type": "markdown",
   "metadata": {},
   "source": [
    "### File as iterator"
   ]
  },
  {
   "cell_type": "code",
   "execution_count": 75,
   "metadata": {},
   "outputs": [
    {
     "name": "stdout",
     "output_type": "stream",
     "text": [
      "This is a test string\n",
      "This is a new string\n"
     ]
    }
   ],
   "source": [
    "f = open('test.txt')\n",
    "for line in f:\n",
    "    print(line,end='')"
   ]
  },
  {
   "cell_type": "markdown",
   "metadata": {},
   "source": [
    "### Context manager 'with'"
   ]
  },
  {
   "cell_type": "code",
   "execution_count": 39,
   "metadata": {},
   "outputs": [
    {
     "name": "stdout",
     "output_type": "stream",
     "text": [
      "b'This is a ' b'test string\\r\\nThis is a '\n"
     ]
    }
   ],
   "source": [
    "with open('test.txt','rb') as f:\n",
    "    a = f.read(10)\n",
    "    b = f.read(23)\n",
    "    print(a,b)\n",
    "    "
   ]
  },
  {
   "cell_type": "markdown",
   "metadata": {},
   "source": [
    "### TASK 7.4"
   ]
  },
  {
   "cell_type": "code",
   "execution_count": 40,
   "metadata": {},
   "outputs": [
    {
     "ename": "FileNotFoundError",
     "evalue": "[Errno 2] No such file or directory: 'input.txt'",
     "output_type": "error",
     "traceback": [
      "\u001b[1;31m---------------------------------------------------------------------------\u001b[0m",
      "\u001b[1;31mFileNotFoundError\u001b[0m                         Traceback (most recent call last)",
      "\u001b[1;32ma:\\IDE\\Skillfactory\\PY_15_OOP_principles\\OPP_principles.ipynb Cell 61'\u001b[0m in \u001b[0;36m<cell line: 1>\u001b[1;34m()\u001b[0m\n\u001b[1;32m----> <a href='vscode-notebook-cell:/a%3A/IDE/Skillfactory/PY_15_OOP_principles/OPP_principles.ipynb#ch0000061?line=0'>1</a>\u001b[0m \u001b[39mwith\u001b[39;00m \u001b[39mopen\u001b[39;49m(\u001b[39m'\u001b[39;49m\u001b[39minput.txt\u001b[39;49m\u001b[39m'\u001b[39;49m,\u001b[39m'\u001b[39;49m\u001b[39mr\u001b[39;49m\u001b[39m'\u001b[39;49m) \u001b[39mas\u001b[39;00m input_file:\n\u001b[0;32m      <a href='vscode-notebook-cell:/a%3A/IDE/Skillfactory/PY_15_OOP_principles/OPP_principles.ipynb#ch0000061?line=1'>2</a>\u001b[0m     \u001b[39mwith\u001b[39;00m \u001b[39mopen\u001b[39m(\u001b[39m'\u001b[39m\u001b[39moutput.txt\u001b[39m\u001b[39m'\u001b[39m,\u001b[39m'\u001b[39m\u001b[39mw\u001b[39m\u001b[39m'\u001b[39m) \u001b[39mas\u001b[39;00m output_file:\n\u001b[0;32m      <a href='vscode-notebook-cell:/a%3A/IDE/Skillfactory/PY_15_OOP_principles/OPP_principles.ipynb#ch0000061?line=2'>3</a>\u001b[0m         \u001b[39mfor\u001b[39;00m line \u001b[39min\u001b[39;00m input_file:\n",
      "\u001b[1;31mFileNotFoundError\u001b[0m: [Errno 2] No such file or directory: 'input.txt'"
     ]
    }
   ],
   "source": [
    "with open('input.txt','r') as input_file:\n",
    "    with open('output.txt','w') as output_file:\n",
    "        for line in input_file:\n",
    "            output_file.write(line)\n",
    "        "
   ]
  },
  {
   "cell_type": "markdown",
   "metadata": {},
   "source": [
    "### TASK 7.5"
   ]
  },
  {
   "cell_type": "code",
   "execution_count": null,
   "metadata": {},
   "outputs": [
    {
     "ename": "FileNotFoundError",
     "evalue": "[Errno 2] No such file or directory: 'a:\\\\IDE\\\\Skillfactory\\\\mnumbers.txt'",
     "output_type": "error",
     "traceback": [
      "\u001b[1;31m---------------------------------------------------------------------------\u001b[0m",
      "\u001b[1;31mFileNotFoundError\u001b[0m                         Traceback (most recent call last)",
      "\u001b[1;32ma:\\IDE\\Skillfactory\\PY_15_OOP_principles\\OPP_principles.ipynb Cell 63'\u001b[0m in \u001b[0;36m<cell line: 4>\u001b[1;34m()\u001b[0m\n\u001b[0;32m      <a href='vscode-notebook-cell:/a%3A/IDE/Skillfactory/PY_15_OOP_principles/OPP_principles.ipynb#ch0000063?line=0'>1</a>\u001b[0m \u001b[39m#filename = 'numbers.txt'\u001b[39;00m\n\u001b[0;32m      <a href='vscode-notebook-cell:/a%3A/IDE/Skillfactory/PY_15_OOP_principles/OPP_principles.ipynb#ch0000063?line=1'>2</a>\u001b[0m \u001b[39m#output = 'output.txt'\u001b[39;00m\n\u001b[1;32m----> <a href='vscode-notebook-cell:/a%3A/IDE/Skillfactory/PY_15_OOP_principles/OPP_principles.ipynb#ch0000063?line=3'>4</a>\u001b[0m \u001b[39mwith\u001b[39;00m \u001b[39mopen\u001b[39;49m(\u001b[39m'\u001b[39;49m\u001b[39ma:\u001b[39;49m\u001b[39m\\\u001b[39;49m\u001b[39mIDE\u001b[39;49m\u001b[39m\\\u001b[39;49m\u001b[39mSkillfactory\u001b[39;49m\u001b[39m\\\u001b[39;49m\u001b[39mmnumbers.txt\u001b[39;49m\u001b[39m'\u001b[39;49m) \u001b[39mas\u001b[39;00m f:\n\u001b[0;32m      <a href='vscode-notebook-cell:/a%3A/IDE/Skillfactory/PY_15_OOP_principles/OPP_principles.ipynb#ch0000063?line=4'>5</a>\u001b[0m     min_ \u001b[39m=\u001b[39m max_ \u001b[39m=\u001b[39m \u001b[39mfloat\u001b[39m(f\u001b[39m.\u001b[39mreadline())  \u001b[39m# считали первое число\u001b[39;00m\n\u001b[0;32m      <a href='vscode-notebook-cell:/a%3A/IDE/Skillfactory/PY_15_OOP_principles/OPP_principles.ipynb#ch0000063?line=5'>6</a>\u001b[0m     \u001b[39mfor\u001b[39;00m line \u001b[39min\u001b[39;00m f:\n",
      "\u001b[1;31mFileNotFoundError\u001b[0m: [Errno 2] No such file or directory: 'a:\\\\IDE\\\\Skillfactory\\\\mnumbers.txt'"
     ]
    }
   ],
   "source": [
    "#filename = 'numbers.txt'\n",
    "#output = 'output.txt'\n",
    "\n",
    "with open('a:\\IDE\\Skillfactory\\mnumbers.txt') as f:\n",
    "    min_ = max_ = float(f.readline())  # считали первое число\n",
    "    for line in f:\n",
    "        num =  float(line)\n",
    "        if num > max_:\n",
    "            max_ = num\n",
    "        elif num < min_:\n",
    "            min_ = num\n",
    "\n",
    "    sum_ = min_ + max_\n",
    "\n",
    "with open('a:\\IDE\\Skillfactory\\output.txt', 'w') as f:\n",
    "    f.write(str(sum_))\n",
    "    f.write('\\n')"
   ]
  },
  {
   "cell_type": "code",
   "execution_count": null,
   "metadata": {},
   "outputs": [
    {
     "name": "stdout",
     "output_type": "stream",
     "text": [
      "a:\\IDE\\Skillfactory\n"
     ]
    }
   ],
   "source": [
    "print(os.getcwd())"
   ]
  },
  {
   "cell_type": "markdown",
   "metadata": {},
   "source": [
    "### TASK 7.6"
   ]
  },
  {
   "cell_type": "code",
   "execution_count": null,
   "metadata": {},
   "outputs": [],
   "source": []
  },
  {
   "cell_type": "code",
   "execution_count": 56,
   "metadata": {},
   "outputs": [
    {
     "name": "stdout",
     "output_type": "stream",
     "text": [
      "['This is a test string\\n', 'other string\\n', '123\\n', 'test test\\n']\n"
     ]
    }
   ],
   "source": [
    "f2 = open('test2.txt','w',encoding='utf8')\n",
    "\n",
    "f2.write('This is a test string\\n')\n",
    "\n",
    "f2.close\n",
    "\n",
    "f2 = open('test2.txt', 'a', encoding='utf8') # открываем файл на дозапись\n",
    "\n",
    "sequence = [\"other string\\n\", \"123\\n\", \"test test\\n\"]\n",
    "f2.writelines(sequence) # берет строки из sequence и записывает в файл (без переносов)\n",
    "\n",
    "f2.close()\n",
    "\n",
    "f2 = open('test2.txt', 'r', encoding='utf8')\n",
    "\n",
    "print(f2.readlines()) # считывает все строки в список и возвращает список\n",
    "\n",
    "f2.close()"
   ]
  },
  {
   "cell_type": "code",
   "execution_count": 1,
   "metadata": {},
   "outputs": [
    {
     "name": "stdout",
     "output_type": "stream",
     "text": [
      "test\n"
     ]
    }
   ],
   "source": [
    "print('test')"
   ]
  }
 ],
 "metadata": {
  "interpreter": {
   "hash": "ba4c651cdc5ec17c511bce19f294202fdc45305f9de1f927c569f32faa173ead"
  },
  "kernelspec": {
   "display_name": "Python 3.9.12 64-bit",
   "language": "python",
   "name": "python3"
  },
  "language_info": {
   "codemirror_mode": {
    "name": "ipython",
    "version": 3
   },
   "file_extension": ".py",
   "mimetype": "text/x-python",
   "name": "python",
   "nbconvert_exporter": "python",
   "pygments_lexer": "ipython3",
   "version": "3.9.12"
  },
  "orig_nbformat": 4
 },
 "nbformat": 4,
 "nbformat_minor": 2
}
