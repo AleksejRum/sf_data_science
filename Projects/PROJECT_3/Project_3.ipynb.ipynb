{
  "cells": [
    {
      "cell_type": "code",
      "execution_count": 1,
      "metadata": {
        "colab": {
          "base_uri": "https://localhost:8080/"
        },
        "id": "WuUVmsgXdvEQ",
        "outputId": "6e6e3240-2b93-426e-8a70-6681b5ba74ec"
      },
      "outputs": [],
      "source": [
        "# Import the main libraries\n",
        "import pandas as pd\n",
        "import numpy as np\n",
        "import matplotlib.pyplot as plt\n",
        "import seaborn as sns\n",
        "import math"
      ]
    },
    {
      "cell_type": "markdown",
      "metadata": {
        "id": "3wM2Hdx0HLO-"
      },
      "source": [
        "# 1. Data collection"
      ]
    },
    {
      "cell_type": "code",
      "execution_count": 2,
      "metadata": {
        "colab": {
          "base_uri": "https://localhost:8080/",
          "height": 468
        },
        "id": "oLT9Kd8qd6zZ",
        "outputId": "ef419a2d-2323-4568-cf7a-b517d1d5aa55"
      },
      "outputs": [
        {
          "data": {
            "text/html": [
              "<div>\n",
              "<style scoped>\n",
              "    .dataframe tbody tr th:only-of-type {\n",
              "        vertical-align: middle;\n",
              "    }\n",
              "\n",
              "    .dataframe tbody tr th {\n",
              "        vertical-align: top;\n",
              "    }\n",
              "\n",
              "    .dataframe thead th {\n",
              "        text-align: right;\n",
              "    }\n",
              "</style>\n",
              "<table border=\"1\" class=\"dataframe\">\n",
              "  <thead>\n",
              "    <tr style=\"text-align: right;\">\n",
              "      <th></th>\n",
              "      <th>hotel_address</th>\n",
              "      <th>additional_number_of_scoring</th>\n",
              "      <th>review_date</th>\n",
              "      <th>average_score</th>\n",
              "      <th>hotel_name</th>\n",
              "      <th>reviewer_nationality</th>\n",
              "      <th>negative_review</th>\n",
              "      <th>review_total_negative_word_counts</th>\n",
              "      <th>total_number_of_reviews</th>\n",
              "      <th>positive_review</th>\n",
              "      <th>review_total_positive_word_counts</th>\n",
              "      <th>total_number_of_reviews_reviewer_has_given</th>\n",
              "      <th>reviewer_score</th>\n",
              "      <th>tags</th>\n",
              "      <th>days_since_review</th>\n",
              "      <th>lat</th>\n",
              "      <th>lng</th>\n",
              "    </tr>\n",
              "  </thead>\n",
              "  <tbody>\n",
              "    <tr>\n",
              "      <th>0</th>\n",
              "      <td>Stratton Street Mayfair Westminster Borough Lo...</td>\n",
              "      <td>581</td>\n",
              "      <td>2/19/2016</td>\n",
              "      <td>8.4</td>\n",
              "      <td>The May Fair Hotel</td>\n",
              "      <td>United Kingdom</td>\n",
              "      <td>Leaving</td>\n",
              "      <td>3</td>\n",
              "      <td>1994</td>\n",
              "      <td>Staff were amazing</td>\n",
              "      <td>4</td>\n",
              "      <td>7</td>\n",
              "      <td>10.0</td>\n",
              "      <td>[' Leisure trip ', ' Couple ', ' Studio Suite ...</td>\n",
              "      <td>531 day</td>\n",
              "      <td>51.507894</td>\n",
              "      <td>-0.143671</td>\n",
              "    </tr>\n",
              "    <tr>\n",
              "      <th>1</th>\n",
              "      <td>130 134 Southampton Row Camden London WC1B 5AF...</td>\n",
              "      <td>299</td>\n",
              "      <td>1/12/2017</td>\n",
              "      <td>8.3</td>\n",
              "      <td>Mercure London Bloomsbury Hotel</td>\n",
              "      <td>United Kingdom</td>\n",
              "      <td>poor breakfast</td>\n",
              "      <td>3</td>\n",
              "      <td>1361</td>\n",
              "      <td>location</td>\n",
              "      <td>2</td>\n",
              "      <td>14</td>\n",
              "      <td>6.3</td>\n",
              "      <td>[' Business trip ', ' Couple ', ' Standard Dou...</td>\n",
              "      <td>203 day</td>\n",
              "      <td>51.521009</td>\n",
              "      <td>-0.123097</td>\n",
              "    </tr>\n",
              "    <tr>\n",
              "      <th>2</th>\n",
              "      <td>151 bis Rue de Rennes 6th arr 75006 Paris France</td>\n",
              "      <td>32</td>\n",
              "      <td>10/18/2016</td>\n",
              "      <td>8.9</td>\n",
              "      <td>Legend Saint Germain by Elegancia</td>\n",
              "      <td>China</td>\n",
              "      <td>No kettle in room</td>\n",
              "      <td>6</td>\n",
              "      <td>406</td>\n",
              "      <td>No Positive</td>\n",
              "      <td>0</td>\n",
              "      <td>14</td>\n",
              "      <td>7.5</td>\n",
              "      <td>[' Leisure trip ', ' Solo traveler ', ' Modern...</td>\n",
              "      <td>289 day</td>\n",
              "      <td>48.845377</td>\n",
              "      <td>2.325643</td>\n",
              "    </tr>\n",
              "  </tbody>\n",
              "</table>\n",
              "</div>"
            ],
            "text/plain": [
              "                                       hotel_address  \\\n",
              "0  Stratton Street Mayfair Westminster Borough Lo...   \n",
              "1  130 134 Southampton Row Camden London WC1B 5AF...   \n",
              "2   151 bis Rue de Rennes 6th arr 75006 Paris France   \n",
              "\n",
              "   additional_number_of_scoring review_date  average_score  \\\n",
              "0                           581   2/19/2016            8.4   \n",
              "1                           299   1/12/2017            8.3   \n",
              "2                            32  10/18/2016            8.9   \n",
              "\n",
              "                          hotel_name reviewer_nationality  \\\n",
              "0                 The May Fair Hotel      United Kingdom    \n",
              "1    Mercure London Bloomsbury Hotel      United Kingdom    \n",
              "2  Legend Saint Germain by Elegancia               China    \n",
              "\n",
              "       negative_review  review_total_negative_word_counts  \\\n",
              "0             Leaving                                   3   \n",
              "1       poor breakfast                                  3   \n",
              "2   No kettle in room                                   6   \n",
              "\n",
              "   total_number_of_reviews      positive_review  \\\n",
              "0                     1994   Staff were amazing   \n",
              "1                     1361             location   \n",
              "2                      406          No Positive   \n",
              "\n",
              "   review_total_positive_word_counts  \\\n",
              "0                                  4   \n",
              "1                                  2   \n",
              "2                                  0   \n",
              "\n",
              "   total_number_of_reviews_reviewer_has_given  reviewer_score  \\\n",
              "0                                           7            10.0   \n",
              "1                                          14             6.3   \n",
              "2                                          14             7.5   \n",
              "\n",
              "                                                tags days_since_review  \\\n",
              "0  [' Leisure trip ', ' Couple ', ' Studio Suite ...           531 day   \n",
              "1  [' Business trip ', ' Couple ', ' Standard Dou...           203 day   \n",
              "2  [' Leisure trip ', ' Solo traveler ', ' Modern...           289 day   \n",
              "\n",
              "         lat       lng  \n",
              "0  51.507894 -0.143671  \n",
              "1  51.521009 -0.123097  \n",
              "2  48.845377  2.325643  "
            ]
          },
          "execution_count": 2,
          "metadata": {},
          "output_type": "execute_result"
        }
      ],
      "source": [
        "hotels = pd.read_csv('data/hotels.csv')\n",
        "\n",
        "# Let's see our data\n",
        "hotels.head(3)"
      ]
    },
    {
      "cell_type": "code",
      "execution_count": 3,
      "metadata": {
        "colab": {
          "base_uri": "https://localhost:8080/"
        },
        "id": "AW41Wk5feKmf",
        "outputId": "a5f670a2-576d-47da-f55c-fd66614463cf"
      },
      "outputs": [
        {
          "name": "stdout",
          "output_type": "stream",
          "text": [
            "<class 'pandas.core.frame.DataFrame'>\n",
            "RangeIndex: 386803 entries, 0 to 386802\n",
            "Data columns (total 17 columns):\n",
            " #   Column                                      Non-Null Count   Dtype  \n",
            "---  ------                                      --------------   -----  \n",
            " 0   hotel_address                               386803 non-null  object \n",
            " 1   additional_number_of_scoring                386803 non-null  int64  \n",
            " 2   review_date                                 386803 non-null  object \n",
            " 3   average_score                               386803 non-null  float64\n",
            " 4   hotel_name                                  386803 non-null  object \n",
            " 5   reviewer_nationality                        386803 non-null  object \n",
            " 6   negative_review                             386803 non-null  object \n",
            " 7   review_total_negative_word_counts           386803 non-null  int64  \n",
            " 8   total_number_of_reviews                     386803 non-null  int64  \n",
            " 9   positive_review                             386803 non-null  object \n",
            " 10  review_total_positive_word_counts           386803 non-null  int64  \n",
            " 11  total_number_of_reviews_reviewer_has_given  386803 non-null  int64  \n",
            " 12  reviewer_score                              386803 non-null  float64\n",
            " 13  tags                                        386803 non-null  object \n",
            " 14  days_since_review                           386803 non-null  object \n",
            " 15  lat                                         384355 non-null  float64\n",
            " 16  lng                                         384355 non-null  float64\n",
            "dtypes: float64(4), int64(5), object(8)\n",
            "memory usage: 50.2+ MB\n"
          ]
        }
      ],
      "source": [
        "# Let's the info of data\n",
        "hotels.info()"
      ]
    },
    {
      "cell_type": "markdown",
      "metadata": {
        "id": "MB2i6Nblsmla"
      },
      "source": [
        "**Find out the number of the unique hotels**"
      ]
    },
    {
      "cell_type": "code",
      "execution_count": 4,
      "metadata": {
        "colab": {
          "base_uri": "https://localhost:8080/"
        },
        "id": "7nAIUefAHQci",
        "outputId": "a41cad8e-2db7-47a6-ce7c-9638cb19e88f"
      },
      "outputs": [
        {
          "data": {
            "text/plain": [
              "1492"
            ]
          },
          "execution_count": 4,
          "metadata": {},
          "output_type": "execute_result"
        }
      ],
      "source": [
        "# Number of the unique hotels\n",
        "hotels['hotel_name'].nunique()"
      ]
    },
    {
      "cell_type": "markdown",
      "metadata": {
        "id": "rNRwwFnVsVK2"
      },
      "source": [
        "**Find out the min/max review's year**"
      ]
    },
    {
      "cell_type": "code",
      "execution_count": 5,
      "metadata": {
        "colab": {
          "base_uri": "https://localhost:8080/"
        },
        "id": "uL15Mp7Yasa_",
        "outputId": "16b4bb59-eb22-4951-fb5d-d560495d614f"
      },
      "outputs": [
        {
          "name": "stdout",
          "output_type": "stream",
          "text": [
            "2015-08-04 00:00:00\n",
            "2017-08-03 00:00:00\n"
          ]
        }
      ],
      "source": [
        "# conversion in datetime format\n",
        "hotels['review_year'] = pd.to_datetime(hotels['review_date'])\n",
        "print(hotels['review_year'].min())\n",
        "print(hotels['review_year'].max())"
      ]
    },
    {
      "cell_type": "markdown",
      "metadata": {
        "id": "cROs6jN_sxNL"
      },
      "source": [
        "**Let's find the number of the unique tags**"
      ]
    },
    {
      "cell_type": "code",
      "execution_count": 6,
      "metadata": {
        "id": "yDkcwhJXoDXH"
      },
      "outputs": [],
      "source": [
        "# Change type of the 'tags' feature\n",
        "import ast\n",
        "hotels['tags_list'] = hotels['tags'].apply(lambda x: ast.literal_eval(x))"
      ]
    },
    {
      "cell_type": "code",
      "execution_count": 7,
      "metadata": {
        "id": "gyKTMeZrhImp"
      },
      "outputs": [],
      "source": [
        "# Create list of tag's lists\n",
        "tag_list = list(hotels['tags_list'])"
      ]
    },
    {
      "cell_type": "code",
      "execution_count": 9,
      "metadata": {
        "colab": {
          "base_uri": "https://localhost:8080/"
        },
        "id": "U4H-SFtEoc8W",
        "outputId": "c00f2ef6-5e6c-4b1d-dda3-69d6782cb2de"
      },
      "outputs": [
        {
          "name": "stdout",
          "output_type": "stream",
          "text": [
            "Num of unique tags: 2368\n"
          ]
        }
      ],
      "source": [
        "# Find all unique tags\n",
        "tag_set = set()\n",
        "for i in tag_list:\n",
        "  for j in i:\n",
        "    tag_set.add(j)\n",
        "\n",
        "print(f'Num of unique tags: {len(tag_set)}')"
      ]
    },
    {
      "cell_type": "markdown",
      "metadata": {
        "id": "dEC0uc_lx0yy"
      },
      "source": [
        "**Let's find the most popular tag**"
      ]
    },
    {
      "cell_type": "code",
      "execution_count": 10,
      "metadata": {
        "colab": {
          "base_uri": "https://localhost:8080/"
        },
        "id": "2pI-kAw_oiQ_",
        "outputId": "312a4307-4b76-4c1c-c1af-86c3db6e4754"
      },
      "outputs": [
        {
          "name": "stdout",
          "output_type": "stream",
          "text": [
            "Most popular tag:  Leisure trip - 313592\n"
          ]
        }
      ],
      "source": [
        "# Find the most popular tag\n",
        "tag_dict = {}\n",
        "for i in tag_list:\n",
        "  for j in i:\n",
        "    if j not in tag_dict:\n",
        "      tag_dict[j] = 0\n",
        "    else:\n",
        "      tag_dict[j] += 1  \n",
        "\n",
        "for i in tag_dict:\n",
        "  if tag_dict[i] == max(tag_dict.values()):\n",
        "    print(f'Most popular tag: {i}- {max(tag_dict.values())}')"
      ]
    },
    {
      "cell_type": "code",
      "execution_count": 11,
      "metadata": {
        "id": "bSs_k72kjvMA"
      },
      "outputs": [],
      "source": [
        "hotels.drop('tags_list',axis=1,inplace=True)"
      ]
    },
    {
      "cell_type": "markdown",
      "metadata": {
        "id": "vYfHJmSRuuXx"
      },
      "source": [
        "==================================="
      ]
    },
    {
      "cell_type": "markdown",
      "metadata": {
        "id": "R3MxHTtssciV"
      },
      "source": [
        "# 2. Clearing data"
      ]
    },
    {
      "cell_type": "markdown",
      "metadata": {
        "id": "ZEn9loKlciIf"
      },
      "source": [
        "## 2.1. Working with the gaps"
      ]
    },
    {
      "cell_type": "code",
      "execution_count": 12,
      "metadata": {
        "colab": {
          "base_uri": "https://localhost:8080/"
        },
        "id": "_QlIMX8wcgqT",
        "outputId": "45085075-12d7-4ac5-840e-80ca2975930e"
      },
      "outputs": [
        {
          "data": {
            "text/plain": [
              "lng                                           0.63288\n",
              "lat                                           0.63288\n",
              "hotel_address                                 0.00000\n",
              "additional_number_of_scoring                  0.00000\n",
              "days_since_review                             0.00000\n",
              "tags                                          0.00000\n",
              "reviewer_score                                0.00000\n",
              "total_number_of_reviews_reviewer_has_given    0.00000\n",
              "review_total_positive_word_counts             0.00000\n",
              "positive_review                               0.00000\n",
              "total_number_of_reviews                       0.00000\n",
              "review_total_negative_word_counts             0.00000\n",
              "negative_review                               0.00000\n",
              "reviewer_nationality                          0.00000\n",
              "hotel_name                                    0.00000\n",
              "average_score                                 0.00000\n",
              "review_date                                   0.00000\n",
              "review_year                                   0.00000\n",
              "dtype: float64"
            ]
          },
          "execution_count": 12,
          "metadata": {},
          "output_type": "execute_result"
        }
      ],
      "source": [
        "# Find the columns with the gaps\n",
        "columns_with_null = (hotels.isnull().mean()*100).sort_values(ascending=False)\n",
        "columns_with_null"
      ]
    },
    {
      "cell_type": "code",
      "execution_count": 13,
      "metadata": {
        "id": "xDJn-iw92Vk9"
      },
      "outputs": [],
      "source": [
        "# We'll fill in the None value in 'lng' and 'lat' later\n",
        "#hotels = hotels.fillna()"
      ]
    },
    {
      "cell_type": "markdown",
      "metadata": {
        "id": "dD0KM9gvnVTo"
      },
      "source": [
        "## 2.2. Working with the duplicates"
      ]
    },
    {
      "cell_type": "code",
      "execution_count": 14,
      "metadata": {
        "colab": {
          "base_uri": "https://localhost:8080/"
        },
        "id": "QFbSnmD-nZOC",
        "outputId": "78abcd5f-4233-4138-db71-9c9b7a9eb675"
      },
      "outputs": [
        {
          "name": "stdout",
          "output_type": "stream",
          "text": [
            "Number of the duplicates: 307\n"
          ]
        }
      ],
      "source": [
        "# Find the duplicates\n",
        "mask = hotels.duplicated()\n",
        "hotels_duplicates = hotels[mask]\n",
        "print(f'Number of the duplicates: {hotels_duplicates.shape[0]}')"
      ]
    },
    {
      "cell_type": "code",
      "execution_count": 15,
      "metadata": {
        "colab": {
          "base_uri": "https://localhost:8080/"
        },
        "id": "_hzv3-SHsSqu",
        "outputId": "cd37f17b-d69f-4c75-faa4-195b4d8535e9"
      },
      "outputs": [
        {
          "name": "stdout",
          "output_type": "stream",
          "text": [
            "Number of the duplicates: 0\n"
          ]
        }
      ],
      "source": [
        "# Remove the duplicates\n",
        "hotels = hotels.drop_duplicates()\n",
        "\n",
        "mask = hotels.duplicated()\n",
        "hotels_duplicates = hotels[mask]\n",
        "print(f'Number of the duplicates: {hotels_duplicates.shape[0]}')"
      ]
    },
    {
      "cell_type": "markdown",
      "metadata": {
        "id": "3SWhdcyQs4Le"
      },
      "source": [
        "## 2.3. Working with the outliers"
      ]
    },
    {
      "cell_type": "code",
      "execution_count": 16,
      "metadata": {
        "colab": {
          "base_uri": "https://localhost:8080/"
        },
        "id": "iGH5eYDRXuWC",
        "outputId": "bb628f1e-19e2-43bb-fb25-caa6375f2462"
      },
      "outputs": [
        {
          "data": {
            "text/plain": [
              "count    386496.000000\n",
              "mean        498.504375\n",
              "std         500.365093\n",
              "min           1.000000\n",
              "25%         169.000000\n",
              "50%         342.000000\n",
              "75%         660.000000\n",
              "max        2682.000000\n",
              "Name: additional_number_of_scoring, dtype: float64"
            ]
          },
          "execution_count": 16,
          "metadata": {},
          "output_type": "execute_result"
        }
      ],
      "source": [
        "# let see describe of the feature 'additional_number_of_scoring'\n",
        "hotels['additional_number_of_scoring'].describe()"
      ]
    },
    {
      "cell_type": "code",
      "execution_count": 17,
      "metadata": {
        "colab": {
          "base_uri": "https://localhost:8080/",
          "height": 313
        },
        "id": "n_KWGnElf0Vk",
        "outputId": "ae0e5e3b-5bda-4b20-f9b7-2194e2b1a27d"
      },
      "outputs": [
        {
          "data": {
            "text/plain": [
              "Text(0.5, 1.0, 'Additional_number_of_scoring boxplot')"
            ]
          },
          "execution_count": 17,
          "metadata": {},
          "output_type": "execute_result"
        },
        {
          "data": {
            "image/png": "[encoded data removed]",
            "text/plain": [
              "<Figure size 1080x288 with 2 Axes>"
            ]
          },
          "metadata": {
            "needs_background": "light"
          },
          "output_type": "display_data"
        }
      ],
      "source": [
        "# build the plots for 'additional_number_of_scoring'\n",
        "fig, axes = plt.subplots(nrows=1, ncols=2, figsize=(15,4))\n",
        "\n",
        "histplot = sns.histplot(data=hotels, x='additional_number_of_scoring', ax=axes[0])\n",
        "histplot.set_title('Additional_number_of_scoring histplot')\n",
        "boxplot = sns.boxplot(data=hotels, x='additional_number_of_scoring', ax=axes[1])\n",
        "boxplot.set_title('Additional_number_of_scoring boxplot')"
      ]
    },
    {
      "cell_type": "code",
      "execution_count": 18,
      "metadata": {
        "colab": {
          "base_uri": "https://localhost:8080/"
        },
        "id": "eutP6H0QdRvJ",
        "outputId": "9d5d954b-8262-43bd-e73f-6451dedb08be"
      },
      "outputs": [
        {
          "data": {
            "text/plain": [
              "count    386496.000000\n",
              "mean       2744.679231\n",
              "std        2316.934876\n",
              "min          43.000000\n",
              "25%        1161.000000\n",
              "50%        2134.000000\n",
              "75%        3633.000000\n",
              "max       16670.000000\n",
              "Name: total_number_of_reviews, dtype: float64"
            ]
          },
          "execution_count": 18,
          "metadata": {},
          "output_type": "execute_result"
        }
      ],
      "source": [
        "# let see describe of the feature 'total_number_of_reviews'\n",
        "hotels['total_number_of_reviews'].describe()"
      ]
    },
    {
      "cell_type": "code",
      "execution_count": 19,
      "metadata": {
        "colab": {
          "base_uri": "https://localhost:8080/",
          "height": 313
        },
        "id": "bpauL3TXfaes",
        "outputId": "1b6bbc86-27c2-4b54-b6fb-f8cf42845427"
      },
      "outputs": [
        {
          "data": {
            "text/plain": [
              "Text(0.5, 1.0, 'Total number of reviews boxplot')"
            ]
          },
          "execution_count": 19,
          "metadata": {},
          "output_type": "execute_result"
        },
        {
          "data": {
            "image/png": "[encoded data removed]",
            "text/plain": [
              "<Figure size 1080x288 with 2 Axes>"
            ]
          },
          "metadata": {
            "needs_background": "light"
          },
          "output_type": "display_data"
        }
      ],
      "source": [
        "# build the plots of 'total_number_of_reviews'\n",
        "fig, axes = plt.subplots(nrows=1, ncols=2, figsize=(15,4))\n",
        "\n",
        "histplot = sns.histplot(data=hotels, x='total_number_of_reviews', ax=axes[0])\n",
        "histplot.set_title('Total number of reviews histplot')\n",
        "boxplot = sns.boxplot(data=hotels, x='total_number_of_reviews', ax=axes[1])\n",
        "boxplot.set_title('Total number of reviews boxplot')"
      ]
    },
    {
      "cell_type": "code",
      "execution_count": 20,
      "metadata": {
        "colab": {
          "base_uri": "https://localhost:8080/"
        },
        "id": "8YjWKlBVPdm8",
        "outputId": "55b78306-b7cc-4685-8d5f-e4813e92a7ab"
      },
      "outputs": [
        {
          "name": "stdout",
          "output_type": "stream",
          "text": [
            "Number of outliers z-score method: 1475\n"
          ]
        }
      ],
      "source": [
        "def outliers_z_score(data, feature, log_scale=False, left=3, right=3):\n",
        "  if log_scale:\n",
        "    x = np.log(data[feature]+1)\n",
        "  else:\n",
        "    x = data[feature]\n",
        "  mu = x.mean()\n",
        "  sigma = x.std()\n",
        "  lower_bound = mu - left * sigma\n",
        "  upper_bound = mu + right * sigma\n",
        "  outliers = data[(x < lower_bound) | (x > upper_bound)] \n",
        "  return outliers\n",
        "\n",
        "outliers = outliers_z_score(hotels, 'total_number_of_reviews', log_scale=True, left=3, right=3)\n",
        "\n",
        "print(f'Number of outliers z-score method: {outliers.shape[0]}')"
      ]
    },
    {
      "cell_type": "markdown",
      "metadata": {
        "id": "imZRLLDbiERW"
      },
      "source": [
        "**There are too much the outliers.**"
      ]
    },
    {
      "cell_type": "code",
      "execution_count": 21,
      "metadata": {
        "colab": {
          "base_uri": "https://localhost:8080/"
        },
        "id": "bD-0jD50YrC5",
        "outputId": "b3847a2d-970c-4139-8c95-6a1e39fa2672"
      },
      "outputs": [
        {
          "data": {
            "text/plain": [
              "count    386496.000000\n",
              "mean          8.397421\n",
              "std           0.547861\n",
              "min           5.200000\n",
              "25%           8.100000\n",
              "50%           8.400000\n",
              "75%           8.800000\n",
              "max           9.800000\n",
              "Name: average_score, dtype: float64"
            ]
          },
          "execution_count": 21,
          "metadata": {},
          "output_type": "execute_result"
        }
      ],
      "source": [
        "# let see describe of the feature 'average_score'\n",
        "hotels['average_score'].describe()"
      ]
    },
    {
      "cell_type": "code",
      "execution_count": 22,
      "metadata": {
        "colab": {
          "base_uri": "https://localhost:8080/",
          "height": 312
        },
        "id": "M4DvU1GMgakt",
        "outputId": "f7c5a449-37aa-4064-fe94-d6c096bba37b"
      },
      "outputs": [
        {
          "data": {
            "text/plain": [
              "Text(0.5, 1.0, 'Average score boxplot')"
            ]
          },
          "execution_count": 22,
          "metadata": {},
          "output_type": "execute_result"
        },
        {
          "data": {
            "image/png": "[encoded data removed]",
            "text/plain": [
              "<Figure size 1080x288 with 2 Axes>"
            ]
          },
          "metadata": {
            "needs_background": "light"
          },
          "output_type": "display_data"
        }
      ],
      "source": [
        "# build the plots of 'average_score'\n",
        "fig, axes = plt.subplots(nrows=1, ncols=2, figsize=(15,4))\n",
        "\n",
        "histplot = sns.histplot(data=hotels, x='average_score', ax=axes[0])\n",
        "histplot.set_title('Average score histplot')\n",
        "boxplot = sns.boxplot(data=hotels, x='average_score', ax=axes[1])\n",
        "boxplot.set_title('Average score boxplot')"
      ]
    },
    {
      "cell_type": "code",
      "execution_count": 23,
      "metadata": {
        "colab": {
          "base_uri": "https://localhost:8080/"
        },
        "id": "RTUTfHU4QMms",
        "outputId": "9fc699a6-a248-4e9d-d6b6-76e1f8cbde68"
      },
      "outputs": [
        {
          "name": "stdout",
          "output_type": "stream",
          "text": [
            "Number of outliers z-score method: 1930\n"
          ]
        }
      ],
      "source": [
        "def outliers_z_score(data, feature, log_scale=False, left=3, right=3):\n",
        "  if log_scale:\n",
        "    x = np.log(data[feature]+1)\n",
        "  else:\n",
        "    x = data[feature]\n",
        "  mu = x.mean()\n",
        "  sigma = x.std()\n",
        "  lower_bound = mu - left * sigma\n",
        "  upper_bound = mu + right * sigma\n",
        "  outliers = data[(x < lower_bound) | (x > upper_bound)] \n",
        "  return outliers\n",
        "\n",
        "outliers = outliers_z_score(hotels, 'average_score', log_scale=False, left=3, right=3)\n",
        "\n",
        "print(f'Number of outliers z-score method: {outliers.shape[0]}')"
      ]
    },
    {
      "cell_type": "markdown",
      "metadata": {
        "id": "PeWDqC8qiVFL"
      },
      "source": [
        "**There are too much the outliers.**"
      ]
    },
    {
      "cell_type": "code",
      "execution_count": 24,
      "metadata": {
        "colab": {
          "base_uri": "https://localhost:8080/"
        },
        "id": "gBUGd2EcZD-u",
        "outputId": "179cfdaf-55fe-45d3-ba02-35fccb3a2183"
      },
      "outputs": [
        {
          "data": {
            "text/plain": [
              "count    386496.000000\n",
              "mean         18.539400\n",
              "std          29.703569\n",
              "min           0.000000\n",
              "25%           2.000000\n",
              "50%           9.000000\n",
              "75%          23.000000\n",
              "max         408.000000\n",
              "Name: review_total_negative_word_counts, dtype: float64"
            ]
          },
          "execution_count": 24,
          "metadata": {},
          "output_type": "execute_result"
        }
      ],
      "source": [
        "# let see describe of the feature 'review_total_negative_word_counts'\n",
        "hotels['review_total_negative_word_counts'].describe()"
      ]
    },
    {
      "cell_type": "code",
      "execution_count": 25,
      "metadata": {
        "colab": {
          "base_uri": "https://localhost:8080/",
          "height": 422
        },
        "id": "Y3rZUyxqguTr",
        "outputId": "4a08660c-91a3-4d53-b411-84741b1b7397"
      },
      "outputs": [
        {
          "data": {
            "text/plain": [
              "Text(0.5, 1.0, 'Review total negative word counts histplot')"
            ]
          },
          "execution_count": 25,
          "metadata": {},
          "output_type": "execute_result"
        },
        {
          "data": {
            "image/png": "[encoded data removed]",
            "text/plain": [
              "<Figure size 1296x432 with 2 Axes>"
            ]
          },
          "metadata": {
            "needs_background": "light"
          },
          "output_type": "display_data"
        }
      ],
      "source": [
        "# build the plots of 'review_total_negative_word_counts'\n",
        "fig, axes = plt.subplots(nrows=1, ncols=2, figsize=(18,6))\n",
        "\n",
        "histplot = sns.histplot(data=hotels, x='review_total_negative_word_counts', ax=axes[0])\n",
        "histplot.set_title('Review total negative word counts histplot')\n",
        "boxplot = sns.boxplot(data=hotels, x='review_total_negative_word_counts', ax=axes[1])\n",
        "boxplot.set_title('Review total negative word counts histplot')"
      ]
    },
    {
      "cell_type": "code",
      "execution_count": 26,
      "metadata": {
        "colab": {
          "base_uri": "https://localhost:8080/"
        },
        "id": "IeTCjDTBRQpk",
        "outputId": "babdd6eb-40b5-457c-fee9-ba0bfab612c6"
      },
      "outputs": [
        {
          "name": "stdout",
          "output_type": "stream",
          "text": [
            "Number of outliers z-score method: 0\n"
          ]
        }
      ],
      "source": [
        "def outliers_z_score(data, feature, log_scale=False, left=3, right=3):\n",
        "  if log_scale:\n",
        "    x = np.log(data[feature]+1)\n",
        "  else:\n",
        "    x = data[feature]\n",
        "  mu = x.mean()\n",
        "  sigma = x.std()\n",
        "  lower_bound = mu - left * sigma\n",
        "  upper_bound = mu + right * sigma\n",
        "  outliers = data[(x < lower_bound) | (x > upper_bound)] \n",
        "  return outliers\n",
        "\n",
        "outliers = outliers_z_score(hotels, 'review_total_negative_word_counts', log_scale=True, left=3, right=3)\n",
        "\n",
        "print(f'Number of outliers z-score method: {outliers.shape[0]}')"
      ]
    },
    {
      "cell_type": "markdown",
      "metadata": {
        "id": "8MalvDYMi24O"
      },
      "source": [
        "**There aren't any outliers.**"
      ]
    },
    {
      "cell_type": "code",
      "execution_count": 27,
      "metadata": {
        "colab": {
          "base_uri": "https://localhost:8080/"
        },
        "id": "UsNDFieOdE8o",
        "outputId": "716409bb-e9b7-4812-c2cc-0d8b516f04ea"
      },
      "outputs": [
        {
          "data": {
            "text/plain": [
              "count    386496.000000\n",
              "mean         17.778163\n",
              "std          21.724766\n",
              "min           0.000000\n",
              "25%           5.000000\n",
              "50%          11.000000\n",
              "75%          22.000000\n",
              "max         395.000000\n",
              "Name: review_total_positive_word_counts, dtype: float64"
            ]
          },
          "execution_count": 27,
          "metadata": {},
          "output_type": "execute_result"
        }
      ],
      "source": [
        "# let see describe of the feature 'review_total_positive_word_counts'\n",
        "hotels['review_total_positive_word_counts'].describe()"
      ]
    },
    {
      "cell_type": "code",
      "execution_count": 28,
      "metadata": {
        "colab": {
          "base_uri": "https://localhost:8080/",
          "height": 422
        },
        "id": "PknSjirihNoV",
        "outputId": "1105213b-767f-4f1b-ba95-fe9d777d2be7"
      },
      "outputs": [
        {
          "data": {
            "text/plain": [
              "Text(0.5, 1.0, 'Review total positive word counts histplot')"
            ]
          },
          "execution_count": 28,
          "metadata": {},
          "output_type": "execute_result"
        },
        {
          "data": {
            "image/png": "[encoded data removed]",
            "text/plain": [
              "<Figure size 1296x432 with 2 Axes>"
            ]
          },
          "metadata": {
            "needs_background": "light"
          },
          "output_type": "display_data"
        }
      ],
      "source": [
        "# build the plots of 'review_total_positive_word_counts'\n",
        "fig, axes = plt.subplots(nrows=1, ncols=2, figsize=(18,6))\n",
        "\n",
        "histplot = sns.histplot(data=hotels, x='review_total_positive_word_counts', ax=axes[0])\n",
        "histplot.set_title('Review total positive word counts histplot')\n",
        "boxplot = sns.boxplot(data=hotels, x='review_total_positive_word_counts', ax=axes[1])\n",
        "boxplot.set_title('Review total positive word counts histplot')"
      ]
    },
    {
      "cell_type": "code",
      "execution_count": 29,
      "metadata": {
        "colab": {
          "base_uri": "https://localhost:8080/"
        },
        "id": "KcF68VueRsRI",
        "outputId": "8fded2fe-2475-4f5f-98ac-c0ba5eae73ef"
      },
      "outputs": [
        {
          "name": "stdout",
          "output_type": "stream",
          "text": [
            "Number of outliers z-score method: 160\n"
          ]
        }
      ],
      "source": [
        "def outliers_z_score(data, feature, log_scale=False, left=3, right=3):\n",
        "  if log_scale:\n",
        "    x = np.log(data[feature]+1)\n",
        "  else:\n",
        "    x = data[feature]\n",
        "  mu = x.mean()\n",
        "  sigma = x.std()\n",
        "  lower_bound = mu - left * sigma\n",
        "  upper_bound = mu + right * sigma\n",
        "  outliers = data[(x < lower_bound) | (x > upper_bound)] \n",
        "  return outliers\n",
        "\n",
        "outliers = outliers_z_score(hotels, 'review_total_positive_word_counts', log_scale=True, left=3, right=3)\n",
        "\n",
        "print(f'Number of outliers z-score method: {outliers.shape[0]}')"
      ]
    },
    {
      "cell_type": "markdown",
      "metadata": {
        "id": "0AQN9uiCjGGP"
      },
      "source": [
        "**There are too much the outliers.**"
      ]
    },
    {
      "cell_type": "code",
      "execution_count": 30,
      "metadata": {
        "colab": {
          "base_uri": "https://localhost:8080/"
        },
        "id": "MXng7CqPanSW",
        "outputId": "14b4d3ec-7159-4af6-832b-92c199ae08b5"
      },
      "outputs": [
        {
          "data": {
            "text/plain": [
              "count    386496.000000\n",
              "mean          7.176211\n",
              "std          11.052453\n",
              "min           1.000000\n",
              "25%           1.000000\n",
              "50%           3.000000\n",
              "75%           8.000000\n",
              "max         355.000000\n",
              "Name: total_number_of_reviews_reviewer_has_given, dtype: float64"
            ]
          },
          "execution_count": 30,
          "metadata": {},
          "output_type": "execute_result"
        }
      ],
      "source": [
        "# let see describe of the feature 'total_number_of_reviews_reviewer_has_given'\n",
        "hotels['total_number_of_reviews_reviewer_has_given'].describe()"
      ]
    },
    {
      "cell_type": "code",
      "execution_count": 31,
      "metadata": {
        "colab": {
          "base_uri": "https://localhost:8080/",
          "height": 422
        },
        "id": "tAf8B8BChfTo",
        "outputId": "69a301be-7046-4ce7-9c50-443d7861f81c"
      },
      "outputs": [
        {
          "data": {
            "text/plain": [
              "Text(0.5, 1.0, 'Total number of_reviews reviewer has given')"
            ]
          },
          "execution_count": 31,
          "metadata": {},
          "output_type": "execute_result"
        },
        {
          "data": {
            "image/png": "[encoded data removed]",
            "text/plain": [
              "<Figure size 1296x432 with 2 Axes>"
            ]
          },
          "metadata": {
            "needs_background": "light"
          },
          "output_type": "display_data"
        }
      ],
      "source": [
        "# build the plots 'total_number_of_reviews_reviewer_has_given'\n",
        "fig, axes = plt.subplots(nrows=1, ncols=2, figsize=(18,6))\n",
        "\n",
        "histplot = sns.histplot(data=hotels, x='total_number_of_reviews_reviewer_has_given', ax=axes[0])\n",
        "histplot.set_title('Total number of_reviews reviewer has given')\n",
        "boxplot = sns.boxplot(data=hotels, x='total_number_of_reviews_reviewer_has_given', ax=axes[1])\n",
        "boxplot.set_title('Total number of_reviews reviewer has given')"
      ]
    },
    {
      "cell_type": "code",
      "execution_count": 32,
      "metadata": {
        "colab": {
          "base_uri": "https://localhost:8080/"
        },
        "id": "oQg6q_G4R4d-",
        "outputId": "99717039-b34e-47e1-a1a5-88f3f773b955"
      },
      "outputs": [
        {
          "name": "stdout",
          "output_type": "stream",
          "text": [
            "Number of outliers z-score method: 40\n"
          ]
        }
      ],
      "source": [
        "def outliers_z_score(data, feature, log_scale=False, left=3, right=3):\n",
        "  if log_scale:\n",
        "    x = np.log(data[feature]+1)\n",
        "  else:\n",
        "    x = data[feature]\n",
        "  mu = x.mean()\n",
        "  sigma = x.std()\n",
        "  lower_bound = mu - left * sigma\n",
        "  upper_bound = mu + right * sigma\n",
        "  outliers = data[(x < lower_bound) | (x > upper_bound)] \n",
        "  return outliers\n",
        "\n",
        "outliers = outliers_z_score(hotels, 'total_number_of_reviews_reviewer_has_given', log_scale=True, left=4, right=4)\n",
        "\n",
        "print(f'Number of outliers z-score method: {outliers.shape[0]}')"
      ]
    },
    {
      "cell_type": "markdown",
      "metadata": {
        "id": "Af6sBOPqjLzK"
      },
      "source": [
        "**There are too much the outliers.**"
      ]
    },
    {
      "cell_type": "code",
      "execution_count": 33,
      "metadata": {
        "colab": {
          "base_uri": "https://localhost:8080/"
        },
        "id": "yZSHdHPVbO9F",
        "outputId": "f645509b-a148-427c-8e63-be43b8abe849"
      },
      "outputs": [
        {
          "data": {
            "text/plain": [
              "count    386496.000000\n",
              "mean          8.397299\n",
              "std           1.635747\n",
              "min           2.500000\n",
              "25%           7.500000\n",
              "50%           8.800000\n",
              "75%           9.600000\n",
              "max          10.000000\n",
              "Name: reviewer_score, dtype: float64"
            ]
          },
          "execution_count": 33,
          "metadata": {},
          "output_type": "execute_result"
        }
      ],
      "source": [
        "# let see describe of the feature 'reviewer_score'\n",
        "hotels['reviewer_score'].describe()"
      ]
    },
    {
      "cell_type": "code",
      "execution_count": 34,
      "metadata": {
        "colab": {
          "base_uri": "https://localhost:8080/",
          "height": 422
        },
        "id": "nY_Eh0wxh3B4",
        "outputId": "1df7d1b2-d897-41ea-dd26-b4f6fedefaa9"
      },
      "outputs": [
        {
          "data": {
            "text/plain": [
              "Text(0.5, 1.0, 'reviewer_score boxplot')"
            ]
          },
          "execution_count": 34,
          "metadata": {},
          "output_type": "execute_result"
        },
        {
          "data": {
            "image/png": "[encoded data removed]",
            "text/plain": [
              "<Figure size 1296x432 with 2 Axes>"
            ]
          },
          "metadata": {
            "needs_background": "light"
          },
          "output_type": "display_data"
        }
      ],
      "source": [
        "# build the plots 'reviewer_score'\n",
        "fig, axes = plt.subplots(nrows=1, ncols=2, figsize=(18,6))\n",
        "\n",
        "histplot = sns.histplot(data=hotels, x='reviewer_score', ax=axes[0])\n",
        "histplot.set_title('Reviewer_score histplot')\n",
        "boxplot = sns.boxplot(data=hotels, x='reviewer_score', ax=axes[1])\n",
        "boxplot.set_title('reviewer_score boxplot')"
      ]
    },
    {
      "cell_type": "code",
      "execution_count": 35,
      "metadata": {
        "colab": {
          "base_uri": "https://localhost:8080/"
        },
        "id": "5MNJSTNJSZIl",
        "outputId": "80057612-a0d8-40fc-b51a-755c94a37ac9"
      },
      "outputs": [
        {
          "name": "stdout",
          "output_type": "stream",
          "text": [
            "Number of outliers z-score method: 1628\n"
          ]
        }
      ],
      "source": [
        "def outliers_z_score(data, feature, log_scale=False, left=3, right=3):\n",
        "  if log_scale:\n",
        "    x = np.log(data[feature]+1)\n",
        "  else:\n",
        "    x = data[feature]\n",
        "  mu = x.mean()\n",
        "  sigma = x.std()\n",
        "  lower_bound = mu - left * sigma\n",
        "  upper_bound = mu + right * sigma\n",
        "  outliers = data[(x < lower_bound) | (x > upper_bound)] \n",
        "  return outliers\n",
        "\n",
        "outliers = outliers_z_score(hotels, 'reviewer_score', log_scale=True, left=4.7, right=4)\n",
        "\n",
        "print(f'Number of outliers z-score method: {outliers.shape[0]}')"
      ]
    },
    {
      "cell_type": "markdown",
      "metadata": {
        "id": "HoK7gB1cjQbf"
      },
      "source": [
        "**There are too much the outliers.**"
      ]
    },
    {
      "cell_type": "markdown",
      "metadata": {
        "id": "eaxRDs0zXAE3"
      },
      "source": [
        "**SUMMARY.**\n",
        "**It was not possible to find any obvious outliers.**"
      ]
    },
    {
      "cell_type": "markdown",
      "metadata": {
        "id": "-KiiHfB0wqZs"
      },
      "source": [
        "==================================="
      ]
    },
    {
      "cell_type": "markdown",
      "metadata": {
        "id": "JZrfVSg_ascV"
      },
      "source": [
        "# 3. EDA"
      ]
    },
    {
      "cell_type": "markdown",
      "metadata": {
        "id": "Fz_DWsrVZBWT"
      },
      "source": [
        "## 3.1. Feature engineering "
      ]
    },
    {
      "cell_type": "markdown",
      "metadata": {
        "id": "w2R1Ys02DRky"
      },
      "source": [
        "### Create 'hotel_city' feature"
      ]
    },
    {
      "cell_type": "code",
      "execution_count": 37,
      "metadata": {
        "id": "2HmxTz4TDRQU"
      },
      "outputs": [],
      "source": [
        "# Upload dataset with countries & cities\n",
        "cities = pd.read_csv('data/worldcities.csv')\n",
        "cities.head()\n",
        "# list of city\n",
        "city_l = cities['city']\n",
        "# list of countries\n",
        "country = cities['country']\n",
        "\n",
        "# Create list of tuples (city,country)\n",
        "city_country = []\n",
        "for x, y in zip(list(cities['city']),list(cities['country'])):\n",
        "    city_country.append((x,y))"
      ]
    },
    {
      "cell_type": "code",
      "execution_count": 38,
      "metadata": {
        "id": "fmgmUcA-DfLc"
      },
      "outputs": [],
      "source": [
        "# Split hotel_address for extract city\n",
        "hotels['hotel_address'] = hotels['hotel_address'].apply(lambda x: x.split(' '))"
      ]
    },
    {
      "cell_type": "code",
      "execution_count": 40,
      "metadata": {
        "id": "PqbLkKoYDitL"
      },
      "outputs": [],
      "source": [
        "# Extract the name of the city\n",
        "def get_city(address):\n",
        "  for i in city_l:\n",
        "    if i in address:\n",
        "      return i\n",
        "\n",
        "# Create the new feature 'hotel_city'\n",
        "hotels['hotel_city'] = hotels['hotel_address'].apply(get_city)  "
      ]
    },
    {
      "cell_type": "code",
      "execution_count": 41,
      "metadata": {
        "colab": {
          "base_uri": "https://localhost:8080/"
        },
        "id": "jH0cGWL2Dozx",
        "outputId": "0723dbd0-2078-4094-a8c8-76303b997b72"
      },
      "outputs": [
        {
          "data": {
            "text/plain": [
              "London        196773\n",
              "Barcelona      45132\n",
              "Paris          44528\n",
              "Amsterdam      43004\n",
              "Vienna         29177\n",
              "Milan          27375\n",
              "Lima             448\n",
              "Washington        59\n",
              "Name: hotel_city, dtype: int64"
            ]
          },
          "execution_count": 41,
          "metadata": {},
          "output_type": "execute_result"
        }
      ],
      "source": [
        "# Number of the unique cities\n",
        "hotels['hotel_city'].value_counts()"
      ]
    },
    {
      "cell_type": "markdown",
      "metadata": {
        "id": "wKumbdCRsLZV"
      },
      "source": [
        "**It seems there is a mistake in the 'hotel_city' feature. Let's take a closer look at cities: Lima and Washington.**"
      ]
    },
    {
      "cell_type": "code",
      "execution_count": 42,
      "metadata": {
        "colab": {
          "base_uri": "https://localhost:8080/",
          "height": 206
        },
        "id": "e_I0zQGSsKMH",
        "outputId": "62e6fa5e-1f6e-40d6-9bdc-531f78c89287"
      },
      "outputs": [
        {
          "data": {
            "text/html": [
              "<div>\n",
              "<style scoped>\n",
              "    .dataframe tbody tr th:only-of-type {\n",
              "        vertical-align: middle;\n",
              "    }\n",
              "\n",
              "    .dataframe tbody tr th {\n",
              "        vertical-align: top;\n",
              "    }\n",
              "\n",
              "    .dataframe thead th {\n",
              "        text-align: right;\n",
              "    }\n",
              "</style>\n",
              "<table border=\"1\" class=\"dataframe\">\n",
              "  <thead>\n",
              "    <tr style=\"text-align: right;\">\n",
              "      <th></th>\n",
              "      <th>hotel_address</th>\n",
              "      <th>hotel_city</th>\n",
              "    </tr>\n",
              "  </thead>\n",
              "  <tbody>\n",
              "    <tr>\n",
              "      <th>389</th>\n",
              "      <td>[Piazza, Lima, 2, Central, Station, 20124, Mil...</td>\n",
              "      <td>Lima</td>\n",
              "    </tr>\n",
              "    <tr>\n",
              "      <th>1037</th>\n",
              "      <td>[Piazza, Lima, 2, Central, Station, 20124, Mil...</td>\n",
              "      <td>Lima</td>\n",
              "    </tr>\n",
              "    <tr>\n",
              "      <th>3083</th>\n",
              "      <td>[Piazza, Lima, 2, Central, Station, 20124, Mil...</td>\n",
              "      <td>Lima</td>\n",
              "    </tr>\n",
              "    <tr>\n",
              "      <th>3765</th>\n",
              "      <td>[Piazza, Lima, 2, Central, Station, 20124, Mil...</td>\n",
              "      <td>Lima</td>\n",
              "    </tr>\n",
              "    <tr>\n",
              "      <th>4145</th>\n",
              "      <td>[Piazza, Lima, 2, Central, Station, 20124, Mil...</td>\n",
              "      <td>Lima</td>\n",
              "    </tr>\n",
              "  </tbody>\n",
              "</table>\n",
              "</div>"
            ],
            "text/plain": [
              "                                          hotel_address hotel_city\n",
              "389   [Piazza, Lima, 2, Central, Station, 20124, Mil...       Lima\n",
              "1037  [Piazza, Lima, 2, Central, Station, 20124, Mil...       Lima\n",
              "3083  [Piazza, Lima, 2, Central, Station, 20124, Mil...       Lima\n",
              "3765  [Piazza, Lima, 2, Central, Station, 20124, Mil...       Lima\n",
              "4145  [Piazza, Lima, 2, Central, Station, 20124, Mil...       Lima"
            ]
          },
          "execution_count": 42,
          "metadata": {},
          "output_type": "execute_result"
        }
      ],
      "source": [
        "hotels[hotels['hotel_city']=='Lima'][['hotel_address','hotel_city']].head()"
      ]
    },
    {
      "cell_type": "code",
      "execution_count": 43,
      "metadata": {
        "colab": {
          "base_uri": "https://localhost:8080/",
          "height": 206
        },
        "id": "cJ_m5kGwtK85",
        "outputId": "a0dc2475-3b0d-4751-8d9b-1e87ffcf3855"
      },
      "outputs": [
        {
          "data": {
            "text/html": [
              "<div>\n",
              "<style scoped>\n",
              "    .dataframe tbody tr th:only-of-type {\n",
              "        vertical-align: middle;\n",
              "    }\n",
              "\n",
              "    .dataframe tbody tr th {\n",
              "        vertical-align: top;\n",
              "    }\n",
              "\n",
              "    .dataframe thead th {\n",
              "        text-align: right;\n",
              "    }\n",
              "</style>\n",
              "<table border=\"1\" class=\"dataframe\">\n",
              "  <thead>\n",
              "    <tr style=\"text-align: right;\">\n",
              "      <th></th>\n",
              "      <th>hotel_address</th>\n",
              "      <th>hotel_city</th>\n",
              "    </tr>\n",
              "  </thead>\n",
              "  <tbody>\n",
              "    <tr>\n",
              "      <th>1605</th>\n",
              "      <td>[Via, Washington, 66, Fiera, Milano, City, 201...</td>\n",
              "      <td>Washington</td>\n",
              "    </tr>\n",
              "    <tr>\n",
              "      <th>9988</th>\n",
              "      <td>[Via, Washington, 66, Fiera, Milano, City, 201...</td>\n",
              "      <td>Washington</td>\n",
              "    </tr>\n",
              "    <tr>\n",
              "      <th>18908</th>\n",
              "      <td>[Via, Washington, 66, Fiera, Milano, City, 201...</td>\n",
              "      <td>Washington</td>\n",
              "    </tr>\n",
              "    <tr>\n",
              "      <th>21200</th>\n",
              "      <td>[Via, Washington, 66, Fiera, Milano, City, 201...</td>\n",
              "      <td>Washington</td>\n",
              "    </tr>\n",
              "    <tr>\n",
              "      <th>24487</th>\n",
              "      <td>[Via, Washington, 66, Fiera, Milano, City, 201...</td>\n",
              "      <td>Washington</td>\n",
              "    </tr>\n",
              "  </tbody>\n",
              "</table>\n",
              "</div>"
            ],
            "text/plain": [
              "                                           hotel_address  hotel_city\n",
              "1605   [Via, Washington, 66, Fiera, Milano, City, 201...  Washington\n",
              "9988   [Via, Washington, 66, Fiera, Milano, City, 201...  Washington\n",
              "18908  [Via, Washington, 66, Fiera, Milano, City, 201...  Washington\n",
              "21200  [Via, Washington, 66, Fiera, Milano, City, 201...  Washington\n",
              "24487  [Via, Washington, 66, Fiera, Milano, City, 201...  Washington"
            ]
          },
          "execution_count": 43,
          "metadata": {},
          "output_type": "execute_result"
        }
      ],
      "source": [
        "hotels[hotels['hotel_city']=='Washington'][['hotel_address','hotel_city']].head()"
      ]
    },
    {
      "cell_type": "markdown",
      "metadata": {
        "id": "Apy8HKXGtPUA"
      },
      "source": [
        "**Piazza, Lima and Via, Washington are the Milan city. So we'll change these features.**"
      ]
    },
    {
      "cell_type": "code",
      "execution_count": 44,
      "metadata": {
        "colab": {
          "base_uri": "https://localhost:8080/"
        },
        "id": "tOuL14c0v2pl",
        "outputId": "5b7a681d-192b-4614-fb94-5f1d20c6872c"
      },
      "outputs": [
        {
          "data": {
            "text/plain": [
              "London       196773\n",
              "Barcelona     45132\n",
              "Paris         44528\n",
              "Amsterdam     43004\n",
              "Vienna        29177\n",
              "Milan         27882\n",
              "Name: hotel_city, dtype: int64"
            ]
          },
          "execution_count": 44,
          "metadata": {},
          "output_type": "execute_result"
        }
      ],
      "source": [
        "hotels['hotel_city'] = hotels['hotel_city'].apply(lambda x: 'Milan' if x=='Lima' or x=='Washington' else x)\n",
        "hotels['hotel_city'].value_counts()"
      ]
    },
    {
      "cell_type": "code",
      "execution_count": 45,
      "metadata": {
        "id": "xP0z8-eYECu-"
      },
      "outputs": [],
      "source": [
        "# Create the 'lat_city' feature\n",
        "\n",
        "def get_lat_city(x):\n",
        "  if x == 'London':\n",
        "    return 51.5085\n",
        "  elif x == 'Barcelona':\n",
        "    return 41.3888\n",
        "  elif x == 'Paris':\n",
        "    return 48.8534\n",
        "  elif x == 'Amsterdam':\n",
        "    return 52.374\n",
        "  elif x == 'Vienna':\n",
        "    return 48.2085\n",
        "  elif x == 'Milan':\n",
        "    return 45.4643\n",
        "\n",
        "hotels['lat_city'] = hotels['hotel_city'].apply(get_lat_city)"
      ]
    },
    {
      "cell_type": "code",
      "execution_count": 46,
      "metadata": {
        "id": "QT8mXU0EEkv-"
      },
      "outputs": [],
      "source": [
        "# Create the 'lng_city' feature\n",
        "\n",
        "def get_lng_city(x):\n",
        "  if x == 'London':\n",
        "    return -0.12574\n",
        "  elif x == 'Barcelona':\n",
        "    return 2.15899\n",
        "  elif x == 'Paris':\n",
        "    return 2.3488\n",
        "  elif x == 'Amsterdam':\n",
        "    return 4.88969\n",
        "  elif x == 'Vienna':\n",
        "    return 16.3721\n",
        "  elif x == 'Milan':\n",
        "    return 9.18951\n",
        "\n",
        "hotels['lng_city'] = hotels['hotel_city'].apply(get_lng_city)"
      ]
    },
    {
      "cell_type": "code",
      "execution_count": 47,
      "metadata": {
        "id": "oubRzrZveNhK"
      },
      "outputs": [],
      "source": [
        "# fill in the NaN values in lat and lng\n",
        "\n",
        "city_coord_lt = {\n",
        "    'London': 51.5085,\n",
        "    'Barcelona': 41.3888,\n",
        "    'Paris': 48.8534,\n",
        "    'Amsterdam': 52.374,\n",
        "    'Vienna': 48.2085,\n",
        "    'Milan': 45.4643\n",
        "}  \n",
        "\n",
        "city_coord_lng = {\n",
        "    'London': -0.12574,\n",
        "    'Barcelona': 2.15899,\n",
        "    'Paris': 2.3488,\n",
        "    'Amsterdam': 4.88969,\n",
        "    'Vienna': 16.3721,\n",
        "    'Milan': 9.18951\n",
        "} \n",
        "\n",
        "hotels['lat_lng_city'] = list(zip(hotels.lat,hotels.lng,hotels.hotel_city))\n",
        "hotels['lat_lng'] = hotels['lat_lng_city'].apply(lambda x: (city_coord_lt[x[2]],city_coord_lng[x[2]]) if math.isnan(x[0]) else (x[0],x[1]))"
      ]
    },
    {
      "cell_type": "code",
      "execution_count": 48,
      "metadata": {
        "id": "mfxxzvlpJN56"
      },
      "outputs": [],
      "source": [
        "# The lat & lng without NaN\n",
        "hotels['lat1'] = hotels['lat_lng'].apply(lambda x: x[0])\n",
        "hotels['lng1'] = hotels['lat_lng'].apply(lambda x: x[1])"
      ]
    },
    {
      "cell_type": "code",
      "execution_count": 50,
      "metadata": {
        "colab": {
          "base_uri": "https://localhost:8080/"
        },
        "id": "0xwFJ9sKzA9Q",
        "outputId": "ab0604f3-68b7-4c20-8205-e57e3dfffd3c"
      },
      "outputs": [
        {
          "name": "stdout",
          "output_type": "stream",
          "text": [
            "Requirement already satisfied: geopy in c:\\users\\alex\\appdata\\local\\programs\\python\\python39\\lib\\site-packages (2.2.0)\n",
            "Requirement already satisfied: geographiclib<2,>=1.49 in c:\\users\\alex\\appdata\\local\\programs\\python\\python39\\lib\\site-packages (from geopy) (1.52)\n",
            "Note: you may need to restart the kernel to use updated packages.\n"
          ]
        },
        {
          "name": "stderr",
          "output_type": "stream",
          "text": [
            "WARNING: You are using pip version 22.0.4; however, version 22.3 is available.\n",
            "You should consider upgrading via the 'c:\\Users\\Alex\\AppData\\Local\\Programs\\Python\\Python39\\python.exe -m pip install --upgrade pip' command.\n"
          ]
        }
      ],
      "source": [
        "%pip install geopy"
      ]
    },
    {
      "cell_type": "code",
      "execution_count": 51,
      "metadata": {
        "id": "yGBMR8vszHYy"
      },
      "outputs": [],
      "source": [
        "# Import the geodesic module from the geopy library \n",
        "from geopy.distance import geodesic as GD "
      ]
    },
    {
      "cell_type": "code",
      "execution_count": 52,
      "metadata": {
        "colab": {
          "base_uri": "https://localhost:8080/"
        },
        "id": "LxN7pSzpZAdj",
        "outputId": "bffe7200-24dc-4836-e884-ec6f65feac39"
      },
      "outputs": [
        {
          "data": {
            "text/plain": [
              "count    386496.000000\n",
              "mean          3.143684\n",
              "std           2.580516\n",
              "min           0.000000\n",
              "25%           1.315286\n",
              "50%           2.533573\n",
              "75%           4.114090\n",
              "max          17.303428\n",
              "Name: distance, dtype: float64"
            ]
          },
          "execution_count": 52,
          "metadata": {},
          "output_type": "execute_result"
        }
      ],
      "source": [
        "# Create the new feature 'distance' from the center of the city\n",
        "hotels['distance'] = hotels.apply(lambda x: GD((x['lat1'],x['lng1']),(x['lat_city'],x['lng_city'])).km, axis=1)\n",
        "\n",
        "hotels['distance'].describe()"
      ]
    },
    {
      "cell_type": "markdown",
      "metadata": {
        "id": "FBbUWU_4ggPK"
      },
      "source": [
        "### Extract  integer values from the 'days_since_review'"
      ]
    },
    {
      "cell_type": "code",
      "execution_count": 53,
      "metadata": {
        "id": "cON19VFLedb7"
      },
      "outputs": [],
      "source": [
        "# Extract integer values from the 'days_since_review' feature\n",
        "hotels['days_since_review'] = hotels['days_since_review'].apply(lambda x: int(x.split(' ')[0]))"
      ]
    },
    {
      "cell_type": "markdown",
      "metadata": {
        "id": "yEJ90ENYmTDU"
      },
      "source": [
        "### Create 'review_year' & 'review_quarter' features\n",
        "\n"
      ]
    },
    {
      "cell_type": "code",
      "execution_count": 54,
      "metadata": {
        "id": "llryWo6vmSjM"
      },
      "outputs": [],
      "source": [
        "# create review_year feature\n",
        "#hotels['review_year'] = pd.to_datetime(hotels['review_date']).dt.year\n",
        "\n",
        "# create review_quarter feature\n",
        "hotels['review_quarter'] = pd.to_datetime(hotels['review_date']).dt.quarter"
      ]
    },
    {
      "cell_type": "code",
      "execution_count": 55,
      "metadata": {
        "colab": {
          "base_uri": "https://localhost:8080/"
        },
        "id": "cFKKKVkhf66h",
        "outputId": "e85ae5bd-719e-4604-a42c-325986cdd4ca"
      },
      "outputs": [
        {
          "data": {
            "text/plain": [
              "3    106724\n",
              "2     99073\n",
              "1     91092\n",
              "4     89607\n",
              "Name: review_quarter, dtype: int64"
            ]
          },
          "execution_count": 55,
          "metadata": {},
          "output_type": "execute_result"
        }
      ],
      "source": [
        "hotels['review_quarter'].value_counts()"
      ]
    },
    {
      "cell_type": "code",
      "execution_count": 56,
      "metadata": {
        "colab": {
          "base_uri": "https://localhost:8080/",
          "height": 297
        },
        "id": "XsU-lci4pu4f",
        "outputId": "d010a144-9299-4acf-8959-03e6276b937d"
      },
      "outputs": [
        {
          "data": {
            "text/plain": [
              "<AxesSubplot:xlabel='review_quarter', ylabel='total_number_of_reviews'>"
            ]
          },
          "execution_count": 56,
          "metadata": {},
          "output_type": "execute_result"
        },
        {
          "data": {
            "image/png": "[encoded data removed]",
            "text/plain": [
              "<Figure size 432x288 with 1 Axes>"
            ]
          },
          "metadata": {
            "needs_background": "light"
          },
          "output_type": "display_data"
        }
      ],
      "source": [
        "# Let's look at the 'total_number_of_reviews' depending on the quarter\n",
        "sns.barplot(data=hotels, x='review_quarter',y='total_number_of_reviews')"
      ]
    },
    {
      "cell_type": "markdown",
      "metadata": {
        "id": "Lre-DMV1n9sI"
      },
      "source": [
        "### Create 'reviewer_region' feature\n",
        "\n"
      ]
    },
    {
      "cell_type": "code",
      "execution_count": 59,
      "metadata": {
        "id": "1KcpIfXGn9aJ"
      },
      "outputs": [],
      "source": [
        "# Upload dataset with countries & regions\n",
        "countries_regions = pd.read_csv('data/countries_regions.csv')"
      ]
    },
    {
      "cell_type": "code",
      "execution_count": 61,
      "metadata": {
        "id": "xGSH_Uxovuyb"
      },
      "outputs": [],
      "source": [
        "# Upload dataset with countries2 & codes\n",
        "countries_codes = pd.read_csv('data/iso2-country-codes.csv', sep=',')"
      ]
    },
    {
      "cell_type": "code",
      "execution_count": 64,
      "metadata": {
        "id": "iVOcXXek7nsH"
      },
      "outputs": [],
      "source": [
        "# Change the name in the countries & regions dataset\n",
        "def change_name(alpha):\n",
        "  for i, j in zip(list(countries_codes['Alpha-2 code']), list(countries_codes['English short name lower case'])):\n",
        "    if alpha == i:\n",
        "      return j\n",
        "\n",
        "countries_regions['name'] = countries_regions['alpha-2'].apply(change_name)\n",
        "countries_regions['name'] = countries_regions['name'].apply(lambda x: str(x).lower())"
      ]
    },
    {
      "cell_type": "code",
      "execution_count": 65,
      "metadata": {
        "id": "qCFtIvMtvo0c"
      },
      "outputs": [],
      "source": [
        "# Remove the indents in the 'reviewer_nationality'\n",
        "hotels['reviewer_nationality'] = hotels['reviewer_nationality'].apply(lambda x: x[1:(len(x)-1)])\n",
        "hotels['reviewer_nationality'] = hotels['reviewer_nationality'].apply(lambda x: str(x).lower())\n",
        "\n",
        "# Create list of the dictionaries {country, region}\n",
        "country_region = []\n",
        "for x, y in zip(list(countries_regions['name']),list(countries_regions['region'])):\n",
        "    country_region.append({x:y})  "
      ]
    },
    {
      "cell_type": "code",
      "execution_count": 66,
      "metadata": {
        "id": "2jDz9ugO59QE"
      },
      "outputs": [],
      "source": [
        "# add new feature 'reviewer_region'\n",
        "def get_region_reviewer(country):\n",
        "    for i in country_region:\n",
        "      if country in i:\n",
        "        return i[country] \n",
        "\n",
        "hotels['reviewer_region'] = hotels['reviewer_nationality'].apply(get_region_reviewer)"
      ]
    },
    {
      "cell_type": "code",
      "execution_count": 67,
      "metadata": {
        "colab": {
          "base_uri": "https://localhost:8080/"
        },
        "id": "NBBfHZSM6FCS",
        "outputId": "1f440892-df3d-48e0-cb72-4bfaefb00137"
      },
      "outputs": [
        {
          "data": {
            "text/plain": [
              "Europe          269246\n",
              "Asia             54705\n",
              "Americas         36246\n",
              "Oceania          18768\n",
              "Africa            6700\n",
              "unrecognized       831\n",
              "Name: reviewer_region, dtype: int64"
            ]
          },
          "execution_count": 67,
          "metadata": {},
          "output_type": "execute_result"
        }
      ],
      "source": [
        "# fill in the null values \n",
        "hotels['reviewer_region'] = hotels['reviewer_region'].fillna('unrecognized')\n",
        "\n",
        "hotels['reviewer_region'].value_counts()"
      ]
    },
    {
      "cell_type": "code",
      "execution_count": 68,
      "metadata": {
        "colab": {
          "base_uri": "https://localhost:8080/",
          "height": 303
        },
        "id": "yKBPSWFY2csw",
        "outputId": "cc5d0eaf-74e8-4759-a6f2-6a5a15dd9d14"
      },
      "outputs": [
        {
          "data": {
            "text/plain": [
              "<AxesSubplot:xlabel='reviewer_region', ylabel='total_number_of_reviews_reviewer_has_given'>"
            ]
          },
          "execution_count": 68,
          "metadata": {},
          "output_type": "execute_result"
        },
        {
          "data": {
            "image/png": "[encoded data removed]",
            "text/plain": [
              "<Figure size 432x288 with 1 Axes>"
            ]
          },
          "metadata": {
            "needs_background": "light"
          },
          "output_type": "display_data"
        }
      ],
      "source": [
        "# Let's look at the 'total_number_of_reviews' depending on the quarter\n",
        "sns.barplot(data=hotels, x='reviewer_region', y='total_number_of_reviews_reviewer_has_given')"
      ]
    },
    {
      "cell_type": "markdown",
      "metadata": {
        "id": "7fpyexQ_7mlJ"
      },
      "source": [
        "### Create 'negative_review_yes_no' feature"
      ]
    },
    {
      "cell_type": "code",
      "execution_count": 69,
      "metadata": {
        "id": "a3WZq1Nl-u2_"
      },
      "outputs": [],
      "source": [
        "# create list of the positive phrase in the negative reviwes\n",
        "positive_in_neg_reviews = [\n",
        " ' Nothing',\n",
        " ' Nothing ',\n",
        " 'No Negative',\n",
        " ' No Negative',\n",
        " ' No Negative ',\n",
        " ' Absolutely nothing',\n",
        " ' Absolutely nothing ',\n",
        " ' All fine',\n",
        " ' All fine ',\n",
        " ' All good',\n",
        " ' All good ',\n",
        " ' All great',\n",
        " ' All great ',\n",
        " ' All ok',\n",
        " ' All ok ',\n",
        " ' All perfect',\n",
        " ' All perfect ',\n",
        " ' All was fine',\n",
        " ' All was fine ',\n",
        " ' All was good',\n",
        " ' All was good ',\n",
        " ' All was great',\n",
        " ' All was perfect',\n",
        " ' All was perfect ',\n",
        " ' Cannot think of anything',\n",
        " ' Cannot think of anything ',\n",
        " ' Can t fault it',\n",
        " ' Can t fault it ',\n",
        " ' Can t think of anything',\n",
        " ' Can t think of anything ',\n",
        " ' Couldn t fault it',\n",
        " ' Couldn t fault it ',\n",
        " ' Could not fault anything',\n",
        " ' Could not fault anything ',\n",
        " ' Everything perfect',\n",
        " ' Everything perfect ',\n",
        " ' Everything was excellent',\n",
        " ' Everything was excellent ',\n",
        " ' Everything was fine',\n",
        " ' Everything was fine ',\n",
        " ' Everything was good',\n",
        " ' Everything was good ',\n",
        " ' Everything was great',\n",
        " ' Everything was great ',\n",
        " ' Everything was ok',\n",
        " ' Everything was ok ',\n",
        " ' Everything was perfect',\n",
        " ' Everything was perfect ',\n",
        " ' Everything was very good',\n",
        " ' Everything was very good ',\n",
        " ' Faultless',\n",
        " ' Faultless ',\n",
        " ' Going home',\n",
        " ' Going home ',\n",
        " ' Happy with everything',\n",
        " ' Happy with everything ',\n",
        " ' Having to leave',\n",
        " ' Having to leave ',\n",
        " ' It was all good',\n",
        " ' It was all good ',\n",
        " ' It was perfect',\n",
        " ' It was perfect ',\n",
        " ' I cannot think of anything ',\n",
        " ' I can t think of anything',\n",
        " ' I can t think of anything ',\n",
        " ' I have no complaints',\n",
        " ' I have no complaints ',\n",
        " ' I liked everything',\n",
        " ' I liked everything ',\n",
        " ' I liked it all',\n",
        " ' I liked it all ',\n",
        " ' I loved everything ',\n",
        " ' Liked everything',\n",
        " ' Liked everything ',\n",
        " ' Liked it all',\n",
        " ' Liked it all ',\n",
        " ' Loved everything',\n",
        " ' Loved everything ',\n",
        " ' Loved it all',\n",
        " ' Loved it all ',\n",
        " ' NOTHING',\n",
        " ' NOTHING ',\n",
        " ' Na',\n",
        " ' Na ',\n",
        " ' Nithing',\n",
        " ' Nithing ',\n",
        " ' No',\n",
        " ' Non',\n",
        " ' None',\n",
        " ' None ',\n",
        " ' Non ',\n",
        " ' Nope',\n",
        " ' Nope ',\n",
        " ' Nothin',\n",
        " ' Nothings',\n",
        " ' Nothings ',\n",
        " ' Nothing All good',\n",
        " ' Nothing All good ',\n",
        " ' Nothing I can think of',\n",
        " ' Nothing I can think of ',\n",
        " ' Nothing I didn t like',\n",
        " ' Nothing I didn t like ',\n",
        " ' Nothing I did not like',\n",
        " ' Nothing I did not like ',\n",
        " ' Nothing all excellent',\n",
        " ' Nothing all excellent ',\n",
        " ' Nothing all good',\n",
        " ' Nothing all good ',\n",
        " ' Nothing all great',\n",
        " ' Nothing all great ',\n",
        " ' Nothing all perfect',\n",
        " ' Nothing all perfect ',\n",
        " ' Nothing at all',\n",
        " ' Nothing at all ',\n",
        " ' Nothing bad',\n",
        " ' Nothing bad ',\n",
        " ' Nothing bad to report',\n",
        " ' Nothing bad to report ',\n",
        " ' Nothing bad to say',\n",
        " ' Nothing bad to say ',\n",
        " ' Nothing comes to mind',\n",
        " ' Nothing comes to mind ',\n",
        " ' Nothing could have been better',\n",
        " ' Nothing could have been better ',\n",
        " ' Nothing everything was great',\n",
        " ' Nothing everything was great ',\n",
        " ' Nothing everything was perfect',\n",
        " ' Nothing everything was perfect ',\n",
        " ' Nothing in particular',\n",
        " ' Nothing in particular ',\n",
        " ' Nothing it was all good',\n",
        " ' Nothing it was all good ',\n",
        " ' Nothing it was all great',\n",
        " ' Nothing it was all great ',\n",
        " ' Nothing it was perfect',\n",
        " ' Nothing it was perfect ',\n",
        " ' Nothing much',\n",
        " ' Nothing much ',\n",
        " ' Nothing negative to say',\n",
        " ' Nothing negative to say ',\n",
        " ' Nothing not to like',\n",
        " ' Nothing not to like ',\n",
        " ' Nothing of note',\n",
        " ' Nothing of note ',\n",
        " ' Nothing really',\n",
        " ' Nothing really ',\n",
        " ' Nothing special',\n",
        " ' Nothing special ',\n",
        " ' Nothing specific',\n",
        " ' Nothing specific ',\n",
        " ' Nothing that I can think of',\n",
        " ' Nothing that I can think of ',\n",
        " ' Nothing to complain',\n",
        " ' Nothing to complain ',\n",
        " ' Nothing to complain about',\n",
        " ' Nothing to complain about ',\n",
        " ' Nothing to dislike',\n",
        " ' Nothing to dislike ',\n",
        " ' Nothing to fault',\n",
        " ' Nothing to fault ',\n",
        " ' Nothing to mention',\n",
        " ' Nothing to mention ',\n",
        " ' Nothing to not like',\n",
        " ' Nothing to not like ',\n",
        " ' Nothing to report',\n",
        " ' Nothing to report ',\n",
        " ' Nothing worth mentioning ',\n",
        " ' Nothinh ',\n",
        " ' Nothin ',\n",
        " ' Not a thing',\n",
        " ' Not a thing ',\n",
        " ' Not much',\n",
        " ' Not much ',\n",
        " ' Not one thing',\n",
        " ' Not one thing ',\n",
        " ' Nowt',\n",
        " ' Nowt ',\n",
        " ' No ',\n",
        " ' No bad experience',\n",
        " ' No bad experiences',\n",
        " ' No bad experiences ',\n",
        " ' No bad experience ',\n",
        " ' No complaints',\n",
        " ' No complaints ',\n",
        " ' No complaints at all',\n",
        " ' No complaints at all ',\n",
        " ' No complaints whatsoever',\n",
        " ' No complaints whatsoever ',\n",
        " ' No dislikes',\n",
        " ' No dislikes ',\n",
        " ' No faults',\n",
        " ' No faults ',\n",
        " ' No issues',\n",
        " ' No issues ',\n",
        " ' No issues at all',\n",
        " ' No issues at all ',\n",
        " ' No negatives',\n",
        " ' No negatives ',\n",
        " ' No negative comments',\n",
        " ' No negative comments ',\n",
        " ' No problems',\n",
        " ' No problems ',\n",
        " ' N A',\n",
        " ' N A ',\n",
        " ' N a',\n",
        " ' N a ',\n",
        " ' Perfect',\n",
        " ' Perfect ',\n",
        " ' That we had to leave',\n",
        " ' That we had to leave ',\n",
        " ' There wasn t anything we didn t like',\n",
        " ' There wasn t anything we didn t like ',\n",
        " ' There was nothing I didn t like',\n",
        " ' There was nothing I didn t like ',\n",
        " ' There was nothing not to like',\n",
        " ' There was nothing not to like ',\n",
        " ' There was nothing that we didn t like',\n",
        " ' There was nothing that we didn t like ',\n",
        " ' There was nothing to dislike',\n",
        " ' There was nothing to dislike ',\n",
        " ' There was nothing we didn t like',\n",
        " ' There was nothing we didn t like ',\n",
        " ' Was all good',\n",
        " ' Was all good ',\n",
        " ' We liked everything',\n",
        " ' We liked everything ',\n",
        " ' What s not to like',\n",
        " ' What s not to like ',\n",
        " ' Zero',\n",
        " ' Zero ',\n",
        " ' all good',\n",
        " ' all good ',\n",
        " ' all ok',\n",
        " ' all ok ',\n",
        " ' na',\n",
        " ' no',\n",
        " ' none',\n",
        " ' none ',\n",
        " ' nothing',\n",
        " ' nothing ',\n",
        " ' nothing really',\n",
        " ' nothing really ',\n",
        " ' nothing to complain about',\n",
        " ' nothing to complain about ',\n",
        " ' nothing to dislike',\n",
        " ' nothing to dislike ',\n",
        " ' no ',\n",
        " ' no complaints',\n",
        " ' no complaints ',\n",
        " ' no thing',\n",
        " ' no thing ',\n",
        " ' n a',\n",
        " ' n a ',\n",
        " ' Not applicable',\n",
        " ' Not applicable ',\n",
        " ' No problems at all',\n",
        " ' No problems at all ']"
      ]
    },
    {
      "cell_type": "code",
      "execution_count": 70,
      "metadata": {
        "id": "v57GDnzo-_Zz"
      },
      "outputs": [],
      "source": [
        "# create feature 'negative_review_yes_no'\n",
        "hotels['negative_review_yes_no'] = hotels['negative_review'].apply(lambda x: 0 if x in positive_in_neg_reviews else 1)"
      ]
    },
    {
      "cell_type": "code",
      "execution_count": 71,
      "metadata": {
        "colab": {
          "base_uri": "https://localhost:8080/"
        },
        "id": "301b5VZJgqzU",
        "outputId": "6101ca04-3aa4-4b72-a6c5-9686be7282af"
      },
      "outputs": [
        {
          "data": {
            "text/plain": [
              "1    265611\n",
              "0    120885\n",
              "Name: negative_review_yes_no, dtype: int64"
            ]
          },
          "execution_count": 71,
          "metadata": {},
          "output_type": "execute_result"
        }
      ],
      "source": [
        "hotels['negative_review_yes_no'].value_counts()"
      ]
    },
    {
      "cell_type": "markdown",
      "metadata": {
        "id": "l4sk08AtmG6s"
      },
      "source": [
        "### Create 'positive_review_yes_no' feature"
      ]
    },
    {
      "cell_type": "code",
      "execution_count": 72,
      "metadata": {
        "id": "AjLXj5JbmIHI"
      },
      "outputs": [],
      "source": [
        "# create list of the negative phrase in the negative reviews\n",
        "negative_in_pos_reviews = [\n",
        " 'No Positive',\n",
        " ' No Positive',\n",
        " ' No Positive ',\n",
        " ' Nothing',\n",
        " ' Nothing ',\n",
        " 'Nothing',\n",
        " 'nothing',\n",
        " ' nothing',\n",
        " ' nothing ',\n",
        " 'Not much',\n",
        " ' Not much',\n",
        " ' Not much ',\n",
        " 'Location only',\n",
        " ' Location only',\n",
        " ' Location only ',\n",
        " ' Not a lot',\n",
        " ' Not a lot ',\n",
        " 'Not a lot',\n",
        " ' Only location',\n",
        " ' Only location ',\n",
        " 'Only location',\n",
        " 'Nothing at all',\n",
        " ' Nothing at all',\n",
        " ' Nothing at all ',\n",
        " 'N A',\n",
        " ' N A ',\n",
        " ' N A',\n",
        " 'None',\n",
        " ' None',\n",
        " ' None ',\n",
        " 'Nothing really',\n",
        " ' Nothing really',\n",
        " ' Nothing really ',\n",
        " 'Nothing special',\n",
        " ' Nothing special',\n",
        " ' Nothing special ',\n",
        " 'No',\n",
        " ' No',\n",
        " ' No ',\n",
        " 'No thing',\n",
        " ' No thing',\n",
        " ' No thing ',\n",
        " 'N a',\n",
        " ' N a ',\n",
        " ' N a',\n",
        " 'NOTHING',\n",
        " ' NOTHING',\n",
        " ' NOTHING ',\n",
        " ' Nothing much',\n",
        " 'Nothing much',\n",
        " ' Nothing much ',\n",
        " 'Nothing at all',\n",
        " ' Nothing at all',\n",
        " ' Nothing at all ',\n",
        " 'Nothing in particular',\n",
        " ' Nothing in particular ',\n",
        " ' Nothing in particular',\n",
        " 'no',\n",
        " ' no',\n",
        " ' no ',\n",
        " 'Not alot',\n",
        " ' Not alot',                               \n",
        " ' Not alot ',\n",
        " 'NA',\n",
        " ' NA',\n",
        " ' NA ',\n",
        " 'No breakfast',\n",
        " ' No breakfast',\n",
        " ' No breakfast ']"
      ]
    },
    {
      "cell_type": "code",
      "execution_count": 73,
      "metadata": {
        "id": "VeyfEDRr0hlr"
      },
      "outputs": [],
      "source": [
        "# create feature 'positive_review_yes_no'\n",
        "hotels['positive_review_yes_no'] = hotels['positive_review'].apply(lambda x: 0 if x in negative_in_pos_reviews else 1)"
      ]
    },
    {
      "cell_type": "code",
      "execution_count": 74,
      "metadata": {
        "colab": {
          "base_uri": "https://localhost:8080/"
        },
        "id": "vRlvhuzdg507",
        "outputId": "98080460-c901-4867-f27f-26cf6ec79896"
      },
      "outputs": [
        {
          "data": {
            "text/plain": [
              "1    357783\n",
              "0     28713\n",
              "Name: positive_review_yes_no, dtype: int64"
            ]
          },
          "execution_count": 74,
          "metadata": {},
          "output_type": "execute_result"
        }
      ],
      "source": [
        "hotels['positive_review_yes_no'].value_counts()"
      ]
    },
    {
      "cell_type": "markdown",
      "metadata": {
        "id": "WRZa95cWMNMp"
      },
      "source": [
        "### Create the 'nights' feature"
      ]
    },
    {
      "cell_type": "code",
      "execution_count": 75,
      "metadata": {
        "id": "jyoe6sdaYDVe"
      },
      "outputs": [],
      "source": [
        "lst_night = [' Stayed 1 night ',' Stayed 2 nights ',' Stayed 3 nights ',' Stayed 4 nights ',' Stayed 5 nights ',' Stayed 6 nights ',\\\n",
        "             ' Stayed 7 nights ',' Stayed 8 nights ',' Stayed 9 nights ',' Stayed 10 nights ',' Stayed 11 nights ',\\\n",
        "             ' Stayed 12 nights ',' Stayed 13 nights ',' Stayed 14 nights ',' Stayed 15 nights ',' Stayed 16 nights ',' Stayed 17 nights ',\\\n",
        "              ' Stayed 18 nights ',' Stayed 19 nights ',' Stayed 20 nights ',' Stayed 21 nights ',' Stayed 22 nights ',' Stayed 23 nights ',\\\n",
        "             ' Stayed 24 nights ',' Stayed 25 nights ',' Stayed 26 nights ',' Stayed 27 nights ',' Stayed 28 nights ',' Stayed 29 nights ',' Stayed 30 nights ']\n",
        "\n",
        "def get_night(x):\n",
        "  for i in lst_night:\n",
        "    if i in x:\n",
        "      return int(i.split(' ')[2])\n",
        "\n",
        "hotels['nights'] = hotels['tags'].apply(get_night)"
      ]
    },
    {
      "cell_type": "code",
      "execution_count": 76,
      "metadata": {
        "colab": {
          "base_uri": "https://localhost:8080/"
        },
        "id": "yiBISgH4OAhc",
        "outputId": "cadce1ad-71f7-42e9-f36a-50dbad574e71"
      },
      "outputs": [
        {
          "data": {
            "text/plain": [
              "1.0     145296\n",
              "2.0     100176\n",
              "3.0      71940\n",
              "4.0      35708\n",
              "5.0      15592\n",
              "6.0       7388\n",
              "7.0       5541\n",
              "8.0       1907\n",
              "9.0        966\n",
              "10.0       662\n",
              "11.0       305\n",
              "12.0       217\n",
              "14.0       184\n",
              "13.0       174\n",
              "15.0        87\n",
              "16.0        38\n",
              "17.0        27\n",
              "18.0        24\n",
              "19.0        23\n",
              "21.0        19\n",
              "20.0        17\n",
              "30.0        10\n",
              "27.0        10\n",
              "22.0         8\n",
              "28.0         7\n",
              "23.0         6\n",
              "26.0         6\n",
              "24.0         5\n",
              "25.0         4\n",
              "29.0         3\n",
              "Name: nights, dtype: int64"
            ]
          },
          "execution_count": 76,
          "metadata": {},
          "output_type": "execute_result"
        }
      ],
      "source": [
        "# Count the values of the 'nights' feature\n",
        "hotels['nights'].value_counts().sort_values(ascending=False)"
      ]
    },
    {
      "cell_type": "code",
      "execution_count": 77,
      "metadata": {
        "colab": {
          "base_uri": "https://localhost:8080/"
        },
        "id": "nf2r9USjzZKr",
        "outputId": "6426ee49-faf9-4576-c45a-e8743efe71c4"
      },
      "outputs": [
        {
          "data": {
            "text/plain": [
              "0.0003777529392283491"
            ]
          },
          "execution_count": 77,
          "metadata": {},
          "output_type": "execute_result"
        }
      ],
      "source": [
        "# Find the None values\n",
        "hotels['nights'].isnull().mean()"
      ]
    },
    {
      "cell_type": "code",
      "execution_count": 78,
      "metadata": {
        "id": "xPQ8pEFNOQvD"
      },
      "outputs": [],
      "source": [
        "# Fill in the None values\n",
        "hotels['nights'] = hotels['nights'].fillna(1)"
      ]
    },
    {
      "cell_type": "markdown",
      "metadata": {
        "id": "UvSQheoSMUzc"
      },
      "source": [
        "### Create the 'Trip' feature"
      ]
    },
    {
      "cell_type": "code",
      "execution_count": 79,
      "metadata": {
        "id": "X1Qsc4GY2nYV"
      },
      "outputs": [],
      "source": [
        "# Create the new feature 'Leasure_trip'\n",
        "hotels['Leasure_trip'] = hotels['tags'].apply(lambda x: 1 if ' Leisure trip ' in x else 0)"
      ]
    },
    {
      "cell_type": "code",
      "execution_count": 80,
      "metadata": {
        "colab": {
          "base_uri": "https://localhost:8080/"
        },
        "id": "jdLZ7oICR1t6",
        "outputId": "9f2465f2-b5ec-4358-b59e-fc00efd961db"
      },
      "outputs": [
        {
          "data": {
            "text/plain": [
              "1    313353\n",
              "0     73143\n",
              "Name: Leasure_trip, dtype: int64"
            ]
          },
          "execution_count": 80,
          "metadata": {},
          "output_type": "execute_result"
        }
      ],
      "source": [
        "hotels['Leasure_trip'].value_counts().sort_values(ascending=False)"
      ]
    },
    {
      "cell_type": "markdown",
      "metadata": {
        "id": "sf7cg8lBMX1i"
      },
      "source": [
        "### Create the 'Travelers_qtn' feature"
      ]
    },
    {
      "cell_type": "code",
      "execution_count": 81,
      "metadata": {
        "id": "gPx4pGjNluLP"
      },
      "outputs": [],
      "source": [
        "# Create new feature\n",
        "def get_travelers(x):\n",
        "  if ' Couple ' in x:\n",
        "    return 'Couple'\n",
        "  elif ' Solo traveler ' in x:\n",
        "    return 'Solo traveler'\n",
        "  elif ' Group ' in x:\n",
        "    return 'Group'\n",
        "  elif ' Family with young children ' in x:\n",
        "    return 'Family with young children'\n",
        "  elif ' Family with older children ' in x:\n",
        "    return 'Family with older children'\n",
        "  elif ' Travelers with friends ' in x:\n",
        "    return 'Travelers with friends'       \n",
        "\n",
        "hotels['Travelers_qtn'] = hotels['tags'].apply(get_travelers)"
      ]
    },
    {
      "cell_type": "code",
      "execution_count": 82,
      "metadata": {
        "colab": {
          "base_uri": "https://localhost:8080/"
        },
        "id": "-nsWt8OXSnJA",
        "outputId": "5b9eb649-5dd7-4a4f-e049-8714e4d1a9e8"
      },
      "outputs": [
        {
          "data": {
            "text/plain": [
              "Couple                        189046\n",
              "Solo traveler                  81166\n",
              "Group                          49057\n",
              "Family with young children     45810\n",
              "Family with older children     19787\n",
              "Travelers with friends          1630\n",
              "Name: Travelers_qtn, dtype: int64"
            ]
          },
          "execution_count": 82,
          "metadata": {},
          "output_type": "execute_result"
        }
      ],
      "source": [
        "hotels['Travelers_qtn'].value_counts().sort_values(ascending=False)"
      ]
    },
    {
      "cell_type": "code",
      "execution_count": 83,
      "metadata": {
        "colab": {
          "base_uri": "https://localhost:8080/"
        },
        "id": "g8F7dKO_S8-W",
        "outputId": "2af80a66-1e80-4a13-c9dd-0cc94b071c16"
      },
      "outputs": [
        {
          "data": {
            "text/plain": [
              "0.0"
            ]
          },
          "execution_count": 83,
          "metadata": {},
          "output_type": "execute_result"
        }
      ],
      "source": [
        "# Find the None values\n",
        "hotels['Travelers_qtn'].isnull().mean()"
      ]
    },
    {
      "cell_type": "markdown",
      "metadata": {
        "id": "xkDEzad5McNj"
      },
      "source": [
        "### Create the 'type_number' feature"
      ]
    },
    {
      "cell_type": "code",
      "execution_count": 84,
      "metadata": {
        "id": "tmsdWeiXYkc6"
      },
      "outputs": [],
      "source": [
        "lst_room = [' Twin Room ',' Double Room ',' Single ',' Queen ',' King Room ',' Triple ',' Suite ',\\\n",
        "            ' Studio ',' Family Room ',' Quadruple ',' 2 rooms ',' 3 rooms ',' Standard Room ',' Classic Room ',\\\n",
        "            ' Twin Guest Room',' Double Hilton Guestroom ',' Standard Room with 1 Double Bed ',' Standard Double ',\\\n",
        "            ' Double Deluxe Room ',' Studio Suite ',' King Hilton Guest Room ']\n",
        "\n",
        "lst_room1 = [' Single ',' 1 room ']\n",
        "lst_room2 = [' Twin Room ',' Double Room ',' 2 rooms ',' Standard Room ',' Classic Room ',' Twin Guest Room',\\\n",
        "             ' Double Hilton Guestroom ',' Standard Room with 1 Double Bed ',' Standard Double ']\n",
        "lst_room3 = [' Triple ',' 3 rooms ']\n",
        "lst_room4 = [' Quadruple ']\n",
        "lst_room5 = [' Queen ']\n",
        "lst_room6 = [' King Room ',' King Hilton Guest Room ']\n",
        "lst_room7 = [' Suite ']\n",
        "lst_room8 = [' Studio ',' Studio Suite ']\n",
        "\n",
        "def get_room(x):\n",
        "  for i in lst_room:\n",
        "    if i in lst_room1 and i in x:\n",
        "      return 'Single'\n",
        "    if i in lst_room2 and i in x:\n",
        "      return 'Double_Twin'\n",
        "    if i in lst_room3 and i in x:\n",
        "      return 'Triple'\n",
        "    if i in lst_room4 and i in x:\n",
        "      return 'Quadruple'\n",
        "    if i in lst_room5 and i in x:\n",
        "      return 'Queen'\n",
        "    if i in lst_room6 and i in x:\n",
        "      return 'King'\n",
        "    if i in lst_room7 and i in x:\n",
        "      return 'Suite'\n",
        "    if i in lst_room8 and i in x:\n",
        "      return 'Studio'      \n",
        "\n",
        "hotels['type_room'] = hotels['tags'].apply(get_room)"
      ]
    },
    {
      "cell_type": "code",
      "execution_count": 85,
      "metadata": {
        "colab": {
          "base_uri": "https://localhost:8080/"
        },
        "id": "wIW85UhvrduM",
        "outputId": "28f92193-1e3e-40d9-ae69-31886c8fd50e"
      },
      "outputs": [
        {
          "data": {
            "text/plain": [
              "Double_Twin    267696\n",
              "Queen           22060\n",
              "Single          19769\n",
              "King            18670\n",
              "Suite           12397\n",
              "Triple           7613\n",
              "Studio           3393\n",
              "Quadruple        1363\n",
              "Name: type_room, dtype: int64"
            ]
          },
          "execution_count": 85,
          "metadata": {},
          "output_type": "execute_result"
        }
      ],
      "source": [
        "hotels['type_room'].value_counts().sort_values(ascending=False)"
      ]
    },
    {
      "cell_type": "code",
      "execution_count": 86,
      "metadata": {
        "colab": {
          "base_uri": "https://localhost:8080/"
        },
        "id": "r8OZFVOfprBZ",
        "outputId": "d1ba52fa-daa3-48bb-b933-7afabbd18870"
      },
      "outputs": [
        {
          "data": {
            "text/plain": [
              "0.0867667453220732"
            ]
          },
          "execution_count": 86,
          "metadata": {},
          "output_type": "execute_result"
        }
      ],
      "source": [
        "# Find the None values\n",
        "hotels['type_room'].isnull().mean()"
      ]
    },
    {
      "cell_type": "code",
      "execution_count": 87,
      "metadata": {
        "id": "cFmdyTl1qCQi"
      },
      "outputs": [],
      "source": [
        "hotels['type_room'] = hotels['type_room'].fillna('Double_Twin')"
      ]
    },
    {
      "cell_type": "markdown",
      "metadata": {
        "id": "Iw9V-17xMe61"
      },
      "source": [
        "### Create the new feature 'mobile_submitt'"
      ]
    },
    {
      "cell_type": "code",
      "execution_count": 88,
      "metadata": {
        "colab": {
          "base_uri": "https://localhost:8080/"
        },
        "id": "YQvwskONJnIM",
        "outputId": "3f42f349-e2f8-45cf-92e6-2092b4532dfd"
      },
      "outputs": [
        {
          "data": {
            "text/plain": [
              "1    230608\n",
              "0    155888\n",
              "Name: mobile_submitt, dtype: int64"
            ]
          },
          "execution_count": 88,
          "metadata": {},
          "output_type": "execute_result"
        }
      ],
      "source": [
        "# Create the new feature 'mobile_submitt'\n",
        "hotels['mobile_submitt'] = hotels['tags'].apply(lambda x: 1 if ' Submitted from a mobile device ' in x else 0)\n",
        "\n",
        "# Let's see the number of unique values in 'tag5_mobile_submitt'\n",
        "hotels['mobile_submitt'].value_counts()"
      ]
    },
    {
      "cell_type": "markdown",
      "metadata": {
        "id": "YbK5DcZLbtQF"
      },
      "source": [
        "## 3.2 Feature selection, Feature coding, Normalization & Standardization "
      ]
    },
    {
      "cell_type": "markdown",
      "metadata": {
        "id": "SZP7rXQ9PJHA"
      },
      "source": [
        "### Feature selection"
      ]
    },
    {
      "cell_type": "code",
      "execution_count": 89,
      "metadata": {
        "colab": {
          "base_uri": "https://localhost:8080/"
        },
        "id": "TYTL7FnPO93i",
        "outputId": "e4b40dd1-75c2-4149-b133-501ab79aff29"
      },
      "outputs": [
        {
          "name": "stdout",
          "output_type": "stream",
          "text": [
            "<class 'pandas.core.frame.DataFrame'>\n",
            "Int64Index: 386496 entries, 0 to 386802\n",
            "Data columns (total 35 columns):\n",
            " #   Column                                      Non-Null Count   Dtype         \n",
            "---  ------                                      --------------   -----         \n",
            " 0   hotel_address                               386496 non-null  object        \n",
            " 1   additional_number_of_scoring                386496 non-null  int64         \n",
            " 2   review_date                                 386496 non-null  object        \n",
            " 3   average_score                               386496 non-null  float64       \n",
            " 4   hotel_name                                  386496 non-null  object        \n",
            " 5   reviewer_nationality                        386496 non-null  object        \n",
            " 6   negative_review                             386496 non-null  object        \n",
            " 7   review_total_negative_word_counts           386496 non-null  int64         \n",
            " 8   total_number_of_reviews                     386496 non-null  int64         \n",
            " 9   positive_review                             386496 non-null  object        \n",
            " 10  review_total_positive_word_counts           386496 non-null  int64         \n",
            " 11  total_number_of_reviews_reviewer_has_given  386496 non-null  int64         \n",
            " 12  reviewer_score                              386496 non-null  float64       \n",
            " 13  tags                                        386496 non-null  object        \n",
            " 14  days_since_review                           386496 non-null  int64         \n",
            " 15  lat                                         384048 non-null  float64       \n",
            " 16  lng                                         384048 non-null  float64       \n",
            " 17  review_year                                 386496 non-null  datetime64[ns]\n",
            " 18  hotel_city                                  386496 non-null  object        \n",
            " 19  lat_city                                    386496 non-null  float64       \n",
            " 20  lng_city                                    386496 non-null  float64       \n",
            " 21  lat_lng_city                                386496 non-null  object        \n",
            " 22  lat_lng                                     386496 non-null  object        \n",
            " 23  lat1                                        386496 non-null  float64       \n",
            " 24  lng1                                        386496 non-null  float64       \n",
            " 25  distance                                    386496 non-null  float64       \n",
            " 26  review_quarter                              386496 non-null  int64         \n",
            " 27  reviewer_region                             386496 non-null  object        \n",
            " 28  negative_review_yes_no                      386496 non-null  int64         \n",
            " 29  positive_review_yes_no                      386496 non-null  int64         \n",
            " 30  nights                                      386496 non-null  float64       \n",
            " 31  Leasure_trip                                386496 non-null  int64         \n",
            " 32  Travelers_qtn                               386496 non-null  object        \n",
            " 33  type_room                                   386496 non-null  object        \n",
            " 34  mobile_submitt                              386496 non-null  int64         \n",
            "dtypes: datetime64[ns](1), float64(10), int64(11), object(13)\n",
            "memory usage: 114.2+ MB\n"
          ]
        }
      ],
      "source": [
        "# Let's see our dataframe\n",
        "hotels.info()"
      ]
    },
    {
      "cell_type": "code",
      "execution_count": 90,
      "metadata": {
        "id": "wTuNWfWsPHxo"
      },
      "outputs": [],
      "source": [
        "# Remove the unnecessary features\n",
        "hotels.drop(['hotel_address','review_date','hotel_name','reviewer_nationality','negative_review',\\\n",
        "             'positive_review','tags','lat','lng','hotel_city','lat_city','lng_city','lat_lng',\\\n",
        "             'lat1','lng1','lat_lng_city','review_year'], axis=1, inplace=True)"
      ]
    },
    {
      "cell_type": "markdown",
      "metadata": {
        "id": "NYJy3XRFXFSX"
      },
      "source": [
        "### Feature coding"
      ]
    },
    {
      "cell_type": "code",
      "execution_count": 91,
      "metadata": {
        "id": "bNAZ8-RgYo2u"
      },
      "outputs": [],
      "source": [
        "# The One Hot Encoding for some features\n",
        "hotels = pd.get_dummies(hotels,columns=['review_quarter','reviewer_region','type_room','Travelers_qtn'])"
      ]
    },
    {
      "cell_type": "code",
      "execution_count": 92,
      "metadata": {
        "colab": {
          "base_uri": "https://localhost:8080/",
          "height": 254
        },
        "id": "JAKbkedzWY8-",
        "outputId": "15bb4543-9b69-438e-c058-ef0d02ae2122"
      },
      "outputs": [
        {
          "data": {
            "text/html": [
              "<div>\n",
              "<style scoped>\n",
              "    .dataframe tbody tr th:only-of-type {\n",
              "        vertical-align: middle;\n",
              "    }\n",
              "\n",
              "    .dataframe tbody tr th {\n",
              "        vertical-align: top;\n",
              "    }\n",
              "\n",
              "    .dataframe thead th {\n",
              "        text-align: right;\n",
              "    }\n",
              "</style>\n",
              "<table border=\"1\" class=\"dataframe\">\n",
              "  <thead>\n",
              "    <tr style=\"text-align: right;\">\n",
              "      <th></th>\n",
              "      <th>additional_number_of_scoring</th>\n",
              "      <th>average_score</th>\n",
              "      <th>review_total_negative_word_counts</th>\n",
              "      <th>total_number_of_reviews</th>\n",
              "      <th>review_total_positive_word_counts</th>\n",
              "      <th>total_number_of_reviews_reviewer_has_given</th>\n",
              "      <th>reviewer_score</th>\n",
              "      <th>days_since_review</th>\n",
              "      <th>distance</th>\n",
              "      <th>negative_review_yes_no</th>\n",
              "      <th>...</th>\n",
              "      <th>type_room_Single</th>\n",
              "      <th>type_room_Studio</th>\n",
              "      <th>type_room_Suite</th>\n",
              "      <th>type_room_Triple</th>\n",
              "      <th>Travelers_qtn_Couple</th>\n",
              "      <th>Travelers_qtn_Family with older children</th>\n",
              "      <th>Travelers_qtn_Family with young children</th>\n",
              "      <th>Travelers_qtn_Group</th>\n",
              "      <th>Travelers_qtn_Solo traveler</th>\n",
              "      <th>Travelers_qtn_Travelers with friends</th>\n",
              "    </tr>\n",
              "  </thead>\n",
              "  <tbody>\n",
              "    <tr>\n",
              "      <th>0</th>\n",
              "      <td>581</td>\n",
              "      <td>8.4</td>\n",
              "      <td>3</td>\n",
              "      <td>1994</td>\n",
              "      <td>4</td>\n",
              "      <td>7</td>\n",
              "      <td>10.0</td>\n",
              "      <td>531</td>\n",
              "      <td>1.246716</td>\n",
              "      <td>1</td>\n",
              "      <td>...</td>\n",
              "      <td>0</td>\n",
              "      <td>0</td>\n",
              "      <td>1</td>\n",
              "      <td>0</td>\n",
              "      <td>1</td>\n",
              "      <td>0</td>\n",
              "      <td>0</td>\n",
              "      <td>0</td>\n",
              "      <td>0</td>\n",
              "      <td>0</td>\n",
              "    </tr>\n",
              "    <tr>\n",
              "      <th>1</th>\n",
              "      <td>299</td>\n",
              "      <td>8.3</td>\n",
              "      <td>3</td>\n",
              "      <td>1361</td>\n",
              "      <td>2</td>\n",
              "      <td>14</td>\n",
              "      <td>6.3</td>\n",
              "      <td>203</td>\n",
              "      <td>1.403718</td>\n",
              "      <td>1</td>\n",
              "      <td>...</td>\n",
              "      <td>0</td>\n",
              "      <td>0</td>\n",
              "      <td>0</td>\n",
              "      <td>0</td>\n",
              "      <td>1</td>\n",
              "      <td>0</td>\n",
              "      <td>0</td>\n",
              "      <td>0</td>\n",
              "      <td>0</td>\n",
              "      <td>0</td>\n",
              "    </tr>\n",
              "    <tr>\n",
              "      <th>2</th>\n",
              "      <td>32</td>\n",
              "      <td>8.9</td>\n",
              "      <td>6</td>\n",
              "      <td>406</td>\n",
              "      <td>0</td>\n",
              "      <td>14</td>\n",
              "      <td>7.5</td>\n",
              "      <td>289</td>\n",
              "      <td>1.919501</td>\n",
              "      <td>1</td>\n",
              "      <td>...</td>\n",
              "      <td>0</td>\n",
              "      <td>0</td>\n",
              "      <td>0</td>\n",
              "      <td>0</td>\n",
              "      <td>0</td>\n",
              "      <td>0</td>\n",
              "      <td>0</td>\n",
              "      <td>0</td>\n",
              "      <td>1</td>\n",
              "      <td>0</td>\n",
              "    </tr>\n",
              "  </tbody>\n",
              "</table>\n",
              "<p>3 rows × 38 columns</p>\n",
              "</div>"
            ],
            "text/plain": [
              "   additional_number_of_scoring  average_score  \\\n",
              "0                           581            8.4   \n",
              "1                           299            8.3   \n",
              "2                            32            8.9   \n",
              "\n",
              "   review_total_negative_word_counts  total_number_of_reviews  \\\n",
              "0                                  3                     1994   \n",
              "1                                  3                     1361   \n",
              "2                                  6                      406   \n",
              "\n",
              "   review_total_positive_word_counts  \\\n",
              "0                                  4   \n",
              "1                                  2   \n",
              "2                                  0   \n",
              "\n",
              "   total_number_of_reviews_reviewer_has_given  reviewer_score  \\\n",
              "0                                           7            10.0   \n",
              "1                                          14             6.3   \n",
              "2                                          14             7.5   \n",
              "\n",
              "   days_since_review  distance  negative_review_yes_no  ...  type_room_Single  \\\n",
              "0                531  1.246716                       1  ...                 0   \n",
              "1                203  1.403718                       1  ...                 0   \n",
              "2                289  1.919501                       1  ...                 0   \n",
              "\n",
              "   type_room_Studio  type_room_Suite  type_room_Triple  Travelers_qtn_Couple  \\\n",
              "0                 0                1                 0                     1   \n",
              "1                 0                0                 0                     1   \n",
              "2                 0                0                 0                     0   \n",
              "\n",
              "   Travelers_qtn_Family with older children  \\\n",
              "0                                         0   \n",
              "1                                         0   \n",
              "2                                         0   \n",
              "\n",
              "   Travelers_qtn_Family with young children  Travelers_qtn_Group  \\\n",
              "0                                         0                    0   \n",
              "1                                         0                    0   \n",
              "2                                         0                    0   \n",
              "\n",
              "   Travelers_qtn_Solo traveler  Travelers_qtn_Travelers with friends  \n",
              "0                            0                                     0  \n",
              "1                            0                                     0  \n",
              "2                            1                                     0  \n",
              "\n",
              "[3 rows x 38 columns]"
            ]
          },
          "execution_count": 92,
          "metadata": {},
          "output_type": "execute_result"
        }
      ],
      "source": [
        "hotels.head(3)"
      ]
    },
    {
      "cell_type": "code",
      "execution_count": 94,
      "metadata": {
        "colab": {
          "base_uri": "https://localhost:8080/"
        },
        "id": "VSKvzDMD_j5G",
        "outputId": "680cd68e-937a-4aae-e4c9-612d353da83a"
      },
      "outputs": [
        {
          "name": "stdout",
          "output_type": "stream",
          "text": [
            "Requirement already satisfied: category_encoders in c:\\users\\alex\\appdata\\local\\programs\\python\\python39\\lib\\site-packages (2.5.0)Note: you may need to restart the kernel to use updated packages.\n",
            "\n",
            "Requirement already satisfied: patsy>=0.5.1 in c:\\users\\alex\\appdata\\local\\programs\\python\\python39\\lib\\site-packages (from category_encoders) (0.5.2)\n",
            "Requirement already satisfied: scikit-learn>=0.20.0 in c:\\users\\alex\\appdata\\local\\programs\\python\\python39\\lib\\site-packages (from category_encoders) (1.1.2)\n",
            "Requirement already satisfied: statsmodels>=0.9.0 in c:\\users\\alex\\appdata\\local\\programs\\python\\python39\\lib\\site-packages (from category_encoders) (0.13.2)\n",
            "Requirement already satisfied: pandas>=1.0.5 in c:\\users\\alex\\appdata\\local\\programs\\python\\python39\\lib\\site-packages (from category_encoders) (1.4.2)\n",
            "Requirement already satisfied: scipy>=1.0.0 in c:\\users\\alex\\appdata\\local\\programs\\python\\python39\\lib\\site-packages (from category_encoders) (1.8.1)\n",
            "Requirement already satisfied: numpy>=1.14.0 in c:\\users\\alex\\appdata\\local\\programs\\python\\python39\\lib\\site-packages (from category_encoders) (1.22.3)\n",
            "Requirement already satisfied: python-dateutil>=2.8.1 in c:\\users\\alex\\appdata\\local\\programs\\python\\python39\\lib\\site-packages (from pandas>=1.0.5->category_encoders) (2.8.2)\n",
            "Requirement already satisfied: pytz>=2020.1 in c:\\users\\alex\\appdata\\local\\programs\\python\\python39\\lib\\site-packages (from pandas>=1.0.5->category_encoders) (2022.1)\n",
            "Requirement already satisfied: six in c:\\users\\alex\\appdata\\local\\programs\\python\\python39\\lib\\site-packages (from patsy>=0.5.1->category_encoders) (1.16.0)\n",
            "Requirement already satisfied: threadpoolctl>=2.0.0 in c:\\users\\alex\\appdata\\local\\programs\\python\\python39\\lib\\site-packages (from scikit-learn>=0.20.0->category_encoders) (3.1.0)\n",
            "Requirement already satisfied: joblib>=1.0.0 in c:\\users\\alex\\appdata\\local\\programs\\python\\python39\\lib\\site-packages (from scikit-learn>=0.20.0->category_encoders) (1.1.0)\n",
            "Requirement already satisfied: packaging>=21.3 in c:\\users\\alex\\appdata\\local\\programs\\python\\python39\\lib\\site-packages (from statsmodels>=0.9.0->category_encoders) (21.3)\n",
            "Requirement already satisfied: pyparsing!=3.0.5,>=2.0.2 in c:\\users\\alex\\appdata\\local\\programs\\python\\python39\\lib\\site-packages (from packaging>=21.3->statsmodels>=0.9.0->category_encoders) (3.0.8)\n"
          ]
        },
        {
          "name": "stderr",
          "output_type": "stream",
          "text": [
            "WARNING: You are using pip version 22.0.4; however, version 22.3 is available.\n",
            "You should consider upgrading via the 'c:\\Users\\Alex\\AppData\\Local\\Programs\\Python\\Python39\\python.exe -m pip install --upgrade pip' command.\n"
          ]
        }
      ],
      "source": [
        "%pip install category_encoders"
      ]
    },
    {
      "cell_type": "markdown",
      "metadata": {
        "id": "PGyYfhp7jl5S"
      },
      "source": [
        "**We'll not use it**"
      ]
    },
    {
      "cell_type": "code",
      "execution_count": 95,
      "metadata": {
        "id": "xHXwoVW120KO"
      },
      "outputs": [],
      "source": [
        "# Binary encoding\n",
        "#import category_encoders as ce \n",
        "\n",
        "#bin_encoder = ce.BinaryEncoder(cols=['nights'])\n",
        "#type_bin = bin_encoder.fit_transform(hotels['nights'])\n",
        "#hotels = pd.concat([hotels, type_bin], axis=1)\n",
        "\n",
        "#hotels.head(3)"
      ]
    },
    {
      "cell_type": "markdown",
      "metadata": {
        "id": "ii-O7uBu9G9F"
      },
      "source": [
        "### Feature selection. Correlation 2."
      ]
    },
    {
      "cell_type": "markdown",
      "metadata": {
        "id": "s9YAh2to9LwW"
      },
      "source": [
        "**Let's build the 'Pearson correlation' and 'Spearman correlation' matrix for the review's info.**"
      ]
    },
    {
      "cell_type": "code",
      "execution_count": 96,
      "metadata": {
        "colab": {
          "base_uri": "https://localhost:8080/",
          "height": 613
        },
        "id": "FVqOroNH8_tY",
        "outputId": "f0c4dd44-b08d-4b07-f728-78293630ff23"
      },
      "outputs": [
        {
          "data": {
            "text/plain": [
              "<AxesSubplot:>"
            ]
          },
          "execution_count": 96,
          "metadata": {},
          "output_type": "execute_result"
        },
        {
          "data": {
            "image/png": "[encoded data removed]",
            "text/plain": [
              "<Figure size 576x432 with 2 Axes>"
            ]
          },
          "metadata": {
            "needs_background": "light"
          },
          "output_type": "display_data"
        }
      ],
      "source": [
        "# Let's build the 'Pearson correlation' matrix for the review's info\n",
        "hotels_review = hotels[['additional_number_of_scoring','average_score','review_total_negative_word_counts',\\\n",
        "                        'total_number_of_reviews','review_total_positive_word_counts',\\\n",
        "                        'total_number_of_reviews_reviewer_has_given','reviewer_score']]\n",
        "\n",
        "fig = plt.figure(figsize=(8,6))\n",
        "sns.heatmap(hotels_review.corr(), annot=True)"
      ]
    },
    {
      "cell_type": "code",
      "execution_count": 97,
      "metadata": {
        "colab": {
          "base_uri": "https://localhost:8080/",
          "height": 613
        },
        "id": "K8Vhz4hj9RNH",
        "outputId": "0b18d351-dd8b-4e14-d0c0-4f93aafc7879"
      },
      "outputs": [
        {
          "data": {
            "text/plain": [
              "<AxesSubplot:>"
            ]
          },
          "execution_count": 97,
          "metadata": {},
          "output_type": "execute_result"
        },
        {
          "data": {
            "image/png": "[encoded data removed]",
            "text/plain": [
              "<Figure size 576x432 with 2 Axes>"
            ]
          },
          "metadata": {
            "needs_background": "light"
          },
          "output_type": "display_data"
        }
      ],
      "source": [
        "# Let's build the 'Spearman correlation' matrix for the review's info\n",
        "hotels_review = hotels[['additional_number_of_scoring','average_score','review_total_negative_word_counts'\\\n",
        "                        ,'total_number_of_reviews','review_total_positive_word_counts',\\\n",
        "                        'total_number_of_reviews_reviewer_has_given','reviewer_score']]\n",
        "\n",
        "fig = plt.figure(figsize=(8,6))\n",
        "sns.heatmap(hotels_review.corr(method='spearman'), annot=True)"
      ]
    },
    {
      "cell_type": "markdown",
      "metadata": {
        "id": "WLC0J-r49f2u"
      },
      "source": [
        "**We can see strong relationship in correlation between 'additional_number_of_scoring' and 'total_number_of_reviews' features.\n",
        "Let's see on the scatterplot of this features.**"
      ]
    },
    {
      "cell_type": "code",
      "execution_count": 98,
      "metadata": {
        "colab": {
          "base_uri": "https://localhost:8080/",
          "height": 356
        },
        "id": "9gXjv1_x9fTX",
        "outputId": "0404f263-c149-4d07-d693-1cad9c009476"
      },
      "outputs": [
        {
          "data": {
            "text/plain": [
              "<AxesSubplot:xlabel='additional_number_of_scoring', ylabel='total_number_of_reviews'>"
            ]
          },
          "execution_count": 98,
          "metadata": {},
          "output_type": "execute_result"
        },
        {
          "data": {
            "image/png": "[encoded data removed]",
            "text/plain": [
              "<Figure size 720x360 with 1 Axes>"
            ]
          },
          "metadata": {
            "needs_background": "light"
          },
          "output_type": "display_data"
        }
      ],
      "source": [
        "ax = plt.figure(figsize=(10,5))\n",
        "sns.scatterplot(data=hotels, x= 'additional_number_of_scoring', y='total_number_of_reviews')"
      ]
    },
    {
      "cell_type": "markdown",
      "metadata": {
        "id": "-BkXidDs9o30"
      },
      "source": [
        "**Based on the form of the plot, we can say that the correlation between the features is positive and quite strong. With increasing values, the connection weakens. Let's make a nonparametric Spearman correlation test.**"
      ]
    },
    {
      "cell_type": "code",
      "execution_count": 99,
      "metadata": {
        "colab": {
          "base_uri": "https://localhost:8080/"
        },
        "id": "DTGGRcem9xBB",
        "outputId": "a525aab6-f22e-4be7-8968-6da001f1a8c9"
      },
      "outputs": [
        {
          "name": "stdout",
          "output_type": "stream",
          "text": [
            "correlation = 0.8591688174949661, p = 0.0\n",
            "0.0 <= 0.05. There is a correlation between the features\n"
          ]
        }
      ],
      "source": [
        "# Import library\n",
        "from scipy.stats import spearmanr\n",
        "\n",
        "H0 = 'There is no correlation between the features'\n",
        "H1 = 'There is a correlation between the features'\n",
        "alpha = 0.05 # level of significance\n",
        "\n",
        "corr, p = spearmanr(hotels['additional_number_of_scoring'], hotels['total_number_of_reviews'])\n",
        "print(f'correlation = {corr}, p = {round(p,2)}')\n",
        "\n",
        "if p>alpha:\n",
        "    print(f'{p} > {alpha}. {H0}')\n",
        "else:\n",
        "    print(f'{p} <= {alpha}. {H1}')"
      ]
    },
    {
      "cell_type": "markdown",
      "metadata": {
        "id": "g7A-bZq1Qhg-"
      },
      "source": [
        "**We've found out that there is a clear correlation between these features. The coefficient of such correlation is quite high, so we can remove one of these features. Drop the 'additional_number_of_scoring' feature.**"
      ]
    },
    {
      "cell_type": "code",
      "execution_count": 100,
      "metadata": {
        "id": "9DKh2ghDAPDF"
      },
      "outputs": [],
      "source": [
        "hotels.drop(['additional_number_of_scoring'],axis=1,inplace=True)"
      ]
    },
    {
      "cell_type": "markdown",
      "metadata": {
        "id": "0Cms-nifbUXR"
      },
      "source": [
        "### Normalization and Standardization 1"
      ]
    },
    {
      "cell_type": "code",
      "execution_count": 101,
      "metadata": {
        "id": "N7BYehDRRaak"
      },
      "outputs": [],
      "source": [
        "# Import for normalization & standardization\n",
        "from sklearn import preprocessing"
      ]
    },
    {
      "cell_type": "code",
      "execution_count": 102,
      "metadata": {
        "colab": {
          "base_uri": "https://localhost:8080/",
          "height": 516
        },
        "id": "3cZC8c49uE8K",
        "outputId": "46e7bba8-fd56-405c-c409-5a8fdb113afd"
      },
      "outputs": [
        {
          "data": {
            "text/plain": [
              "Text(0.5, 1.0, 'reviewer_score')"
            ]
          },
          "execution_count": 102,
          "metadata": {},
          "output_type": "execute_result"
        },
        {
          "data": {
            "image/png": "[encoded data removed]",
            "text/plain": [
              "<Figure size 1080x576 with 6 Axes>"
            ]
          },
          "metadata": {
            "needs_background": "light"
          },
          "output_type": "display_data"
        }
      ],
      "source": [
        "# Let's see on the distribution of some review's features:\n",
        "fig, axes = plt.subplots(nrows=2, ncols=3, figsize=(15,8))\n",
        "\n",
        "axes[0,0].hist(x=hotels['average_score'])\n",
        "axes[0,1].hist(x=hotels['review_total_negative_word_counts'])\n",
        "axes[0,2].hist(x=hotels['total_number_of_reviews'])\n",
        "axes[1,0].hist(x=hotels['review_total_positive_word_counts'])\n",
        "axes[1,1].hist(x=hotels['total_number_of_reviews_reviewer_has_given'])\n",
        "axes[1,2].hist(x=hotels['reviewer_score'])\n",
        "\n",
        "axes[0,0].set_title('average_score')\n",
        "axes[0,1].set_title('review_total_negative_word_counts')\n",
        "axes[0,2].set_title('total_number_of_reviews')\n",
        "axes[1,0].set_title('review_total_positive_word_counts')\n",
        "axes[1,1].set_title('total_number_of_reviews_reviewer_has_given')\n",
        "axes[1,2].set_title('reviewer_score')"
      ]
    },
    {
      "cell_type": "markdown",
      "metadata": {
        "id": "ZYo2GjlEHhnw"
      },
      "source": [
        "**Obviously, the features (except average_score) are not distributed normally and there are outliers (see paragraph 2.3. 'Working with the outliers' above). So we'll use the normalization (ROBUSTSCALER). For average_score feature we'll make the normality test.**"
      ]
    },
    {
      "cell_type": "code",
      "execution_count": 103,
      "metadata": {
        "id": "LIinW7AEQt0V"
      },
      "outputs": [],
      "source": [
        "# Initializing the RobustScaler normalizer\n",
        "#r_scaler = preprocessing.RobustScaler()\n",
        "\n",
        "# Copy dataset 'hotels' with our features\n",
        "#hotels_copy1 = r_scaler.fit_transform(hotels[['review_total_negative_word_counts','total_number_of_reviews',\\\n",
        "                                              #'review_total_positive_word_counts','total_number_of_reviews_reviewer_has_given']])\n",
        "\n",
        "# Replacing the values in the dataset with normalized ones\n",
        "#hotels[['review_total_negative_word_counts','total_number_of_reviews',\\\n",
        "       # 'review_total_positive_word_counts','total_number_of_reviews_reviewer_has_given']] = \\\n",
        "       # pd.DataFrame(hotels_copy1, columns=['review_total_negative_word_counts',\\\n",
        "       # 'total_number_of_reviews','review_total_positive_word_counts','total_number_of_reviews_reviewer_has_given'])\n",
        "\n",
        "# display dataset after normalization\n",
        "#hotels.head(3)"
      ]
    },
    {
      "cell_type": "markdown",
      "metadata": {
        "id": "7xKOsChsvsUC"
      },
      "source": [
        "**It seems that the 'average_score' feature is distributed normally. Let's check it out.**"
      ]
    },
    {
      "cell_type": "code",
      "execution_count": 104,
      "metadata": {
        "colab": {
          "base_uri": "https://localhost:8080/",
          "height": 297
        },
        "id": "jitIsWguwcP1",
        "outputId": "39fd5e71-8278-43da-db78-7c335996b2bd"
      },
      "outputs": [
        {
          "data": {
            "image/png": "[encoded data removed]",
            "text/plain": [
              "<Figure size 432x288 with 2 Axes>"
            ]
          },
          "metadata": {
            "needs_background": "light"
          },
          "output_type": "display_data"
        }
      ],
      "source": [
        "# library for calculation\n",
        "from scipy import stats\n",
        "\n",
        "# Let's look at destribution and qq-plot\n",
        "plt.subplot(1,2,1)\n",
        "stats.probplot(hotels['average_score'], plot=plt) # qq plot\n",
        "\n",
        "plt.subplot(1,2,2)\n",
        "plt.hist(hotels['average_score']) # histogram\n",
        "\n",
        "plt.tight_layout()\n",
        "plt.show()"
      ]
    },
    {
      "cell_type": "markdown",
      "metadata": {
        "id": "VKvbf8zmJkhL"
      },
      "source": [
        "**In general, the resulting plots are similar to normal distribution plots.\n",
        "Let's make the D'Agostino's K2 normality test.**\n"
      ]
    },
    {
      "cell_type": "code",
      "execution_count": 105,
      "metadata": {
        "colab": {
          "base_uri": "https://localhost:8080/"
        },
        "id": "4JBCA6NfRjmU",
        "outputId": "ad014e67-6413-4b38-bce3-557017c0908e"
      },
      "outputs": [
        {
          "name": "stdout",
          "output_type": "stream",
          "text": [
            "0.0\n",
            "The data is not distributed normally\n"
          ]
        }
      ],
      "source": [
        "# import normaltest\n",
        "from scipy.stats import normaltest\n",
        "\n",
        "H0 = 'The data is distributed normally' # null hypothesis\n",
        "H1 = 'The data is not distributed normally' # alternative hypothesis\n",
        "alpha = 0.05 # level of significance\n",
        "\n",
        "_, p = normaltest(hotels['average_score'])\n",
        "print(p)\n",
        "\n",
        "# interpretation \n",
        "if p > alpha:\n",
        "  print(H0)\n",
        "else:\n",
        "  print(H1) "
      ]
    },
    {
      "cell_type": "markdown",
      "metadata": {
        "id": "d9fX9ei4hYwg"
      },
      "source": [
        "**The data in 'average_score' feature is not distributed normally. We'll use the normalization (MinMaxScaler)**\n",
        "<br>We'll not use it"
      ]
    },
    {
      "cell_type": "code",
      "execution_count": null,
      "metadata": {
        "id": "z9HSw1CuR7s5"
      },
      "outputs": [],
      "source": [
        "# Initializing the MinMaxScaler normalizer\n",
        "##mm_scaler = preprocessing.MinMaxScaler()\n",
        "\n",
        "# Copy dataset 'hotels' with our features\n",
        "#hotels_copy2 = mm_scaler.fit_transform(hotels[['average_score']])\n",
        "\n",
        "# Replacing the values in the dataset with normalized ones\n",
        "#hotels['average_score'] = pd.DataFrame(hotels_copy2, columns=['average_score'])\n",
        "\n",
        "# display dataset after normalization\n",
        "#hotels.head(3)"
      ]
    },
    {
      "cell_type": "markdown",
      "metadata": {
        "id": "2K5Fhfu4Sy_t"
      },
      "source": [
        "### Feature selection. Correlation 2."
      ]
    },
    {
      "cell_type": "markdown",
      "metadata": {
        "id": "rwE3tK-xZ62O"
      },
      "source": [
        "**Let's build the Pearson and Spearman correlation matrices for the time's info**"
      ]
    },
    {
      "cell_type": "code",
      "execution_count": 106,
      "metadata": {
        "colab": {
          "base_uri": "https://localhost:8080/",
          "height": 423
        },
        "id": "iJ-NlcyQZghm",
        "outputId": "f16ecc32-5d16-40ee-9388-bb3a41d87b64"
      },
      "outputs": [
        {
          "data": {
            "text/plain": [
              "<AxesSubplot:>"
            ]
          },
          "execution_count": 106,
          "metadata": {},
          "output_type": "execute_result"
        },
        {
          "data": {
            "image/png": "[encoded data removed]",
            "text/plain": [
              "<Figure size 432x360 with 2 Axes>"
            ]
          },
          "metadata": {
            "needs_background": "light"
          },
          "output_type": "display_data"
        }
      ],
      "source": [
        "hotels_time = hotels[['days_since_review','review_quarter_1','review_quarter_2','review_quarter_3','review_quarter_4']]\n",
        "\n",
        "fig = plt.figure(figsize=(6,5))\n",
        "sns.heatmap(hotels_time.corr(method='spearman'), annot=True)"
      ]
    },
    {
      "cell_type": "code",
      "execution_count": 107,
      "metadata": {
        "colab": {
          "base_uri": "https://localhost:8080/",
          "height": 423
        },
        "id": "kgavTsv4daXh",
        "outputId": "cff89df5-c780-4f23-eb62-76c9f4ce0427"
      },
      "outputs": [
        {
          "data": {
            "text/plain": [
              "<AxesSubplot:>"
            ]
          },
          "execution_count": 107,
          "metadata": {},
          "output_type": "execute_result"
        },
        {
          "data": {
            "image/png": "[encoded data removed]",
            "text/plain": [
              "<Figure size 432x360 with 2 Axes>"
            ]
          },
          "metadata": {
            "needs_background": "light"
          },
          "output_type": "display_data"
        }
      ],
      "source": [
        "fig = plt.figure(figsize=(6,5))\n",
        "sns.heatmap(hotels_time.corr(), annot=True)"
      ]
    },
    {
      "cell_type": "markdown",
      "metadata": {
        "id": "XwKu14ZRrnX5"
      },
      "source": [
        "**It seems no correlation between the features.**"
      ]
    },
    {
      "cell_type": "markdown",
      "metadata": {
        "id": "edPtaRoNvYUh"
      },
      "source": [
        "### Normalization and Standardization 2"
      ]
    },
    {
      "cell_type": "markdown",
      "metadata": {
        "id": "8djsJ349vhUk"
      },
      "source": [
        "**Let's check the distribution of the 'days_since_review' feature**"
      ]
    },
    {
      "cell_type": "code",
      "execution_count": 108,
      "metadata": {
        "colab": {
          "base_uri": "https://localhost:8080/",
          "height": 297
        },
        "id": "k9B48WQIvbsS",
        "outputId": "f7125a74-3f31-454a-f4e3-372aeef4a921"
      },
      "outputs": [
        {
          "data": {
            "image/png": "[encoded data removed]",
            "text/plain": [
              "<Figure size 432x288 with 2 Axes>"
            ]
          },
          "metadata": {
            "needs_background": "light"
          },
          "output_type": "display_data"
        }
      ],
      "source": [
        "# Create pp plot and histogram \n",
        "plt.subplot(1, 2, 1)\n",
        "stats.probplot(hotels['days_since_review'], plot=plt) # qq plot\n",
        "\n",
        "plt.subplot(1, 2, 2)\n",
        "plt.hist(hotels['days_since_review']) # histogram\n",
        "\n",
        "plt.tight_layout() \n",
        "plt.show() # просмотр графика"
      ]
    },
    {
      "cell_type": "markdown",
      "metadata": {
        "id": "DZ045yvaw47O"
      },
      "source": [
        "**The distribution of the 'days_since_review' feature is not normal. So we can use normalization (MinMaxScaler)**\n",
        "<br>We'll not use it"
      ]
    },
    {
      "cell_type": "code",
      "execution_count": 109,
      "metadata": {
        "id": "2-ZbW9Lpy0T-"
      },
      "outputs": [],
      "source": [
        "# Initializing the MinMaxScaler normalizer\n",
        "#mm_scaler = preprocessing.MinMaxScaler()\n",
        "\n",
        "# Copy dataset 'hotels' with our features\n",
        "#hotels_copy3 = mm_scaler.fit_transform(hotels[['days_since_review']])\n",
        "\n",
        "# Replacing the values in the dataset with normalized ones\n",
        "#hotels['days_since_review'] = pd.DataFrame(hotels_copy3, columns=['days_since_review'])\n",
        "\n",
        "# display dataset after normalization\n",
        "#hotels.head(3)"
      ]
    },
    {
      "cell_type": "markdown",
      "metadata": {
        "id": "Pii9o6p8zMze"
      },
      "source": [
        "### Feature selection. Correlation 3."
      ]
    },
    {
      "cell_type": "markdown",
      "metadata": {
        "id": "QhfQbpV_vAEa"
      },
      "source": [
        "**Let's build the Spearman correlation matrices for the location's info**"
      ]
    },
    {
      "cell_type": "code",
      "execution_count": 110,
      "metadata": {
        "colab": {
          "base_uri": "https://localhost:8080/",
          "height": 483
        },
        "id": "lbVUx3DxzPOF",
        "outputId": "4ad3cc56-2985-4304-d4cd-83b01340b982"
      },
      "outputs": [
        {
          "data": {
            "text/plain": [
              "<AxesSubplot:>"
            ]
          },
          "execution_count": 110,
          "metadata": {},
          "output_type": "execute_result"
        },
        {
          "data": {
            "image/png": "[encoded data removed]",
            "text/plain": [
              "<Figure size 432x360 with 2 Axes>"
            ]
          },
          "metadata": {
            "needs_background": "light"
          },
          "output_type": "display_data"
        }
      ],
      "source": [
        "reviewer_location = hotels[['reviewer_region_Africa','reviewer_region_Americas','reviewer_region_Asia',\\\n",
        "                            'reviewer_region_Europe','reviewer_region_Oceania','reviewer_region_unrecognized','distance']]\n",
        "\n",
        "fig = plt.figure(figsize=(6,5))\n",
        "sns.heatmap(reviewer_location.corr(method='spearman'), annot=True)                  "
      ]
    },
    {
      "cell_type": "markdown",
      "metadata": {
        "id": "RkAup1aq3nix"
      },
      "source": [
        "### Feature selection. Correlation 4."
      ]
    },
    {
      "cell_type": "markdown",
      "metadata": {
        "id": "ekQtNJRKvMut"
      },
      "source": [
        "**Let's build the Spearman correlation matrices for the tag's info**"
      ]
    },
    {
      "cell_type": "code",
      "execution_count": 111,
      "metadata": {
        "colab": {
          "base_uri": "https://localhost:8080/",
          "height": 1000
        },
        "id": "_hoaTLhb0jtC",
        "outputId": "afd04082-4a38-452d-f5f3-744459daec86"
      },
      "outputs": [
        {
          "data": {
            "text/plain": [
              "<AxesSubplot:>"
            ]
          },
          "execution_count": 111,
          "metadata": {},
          "output_type": "execute_result"
        },
        {
          "data": {
            "image/png": "[encoded data removed]",
            "text/plain": [
              "<Figure size 1584x1224 with 2 Axes>"
            ]
          },
          "metadata": {
            "needs_background": "light"
          },
          "output_type": "display_data"
        }
      ],
      "source": [
        "hotel_tags = hotels[['Leasure_trip','mobile_submitt','type_room_Double_Twin','type_room_King','type_room_Quadruple',\\\n",
        "                     'type_room_Queen','type_room_Single','type_room_Studio','type_room_Suite','type_room_Triple',\\\n",
        "                     'Travelers_qtn_Couple','Travelers_qtn_Family with older children','Travelers_qtn_Family with young children',\\\n",
        "                     'Travelers_qtn_Group','Travelers_qtn_Solo traveler','Travelers_qtn_Travelers with friends','nights']]\n",
        "\n",
        "fig = plt.figure(figsize=(22,17))\n",
        "sns.heatmap(hotel_tags.corr(method='spearman'), annot=True)       "
      ]
    },
    {
      "cell_type": "markdown",
      "metadata": {
        "id": "Urv3K-8B60_X"
      },
      "source": [
        "**There seems to be no multicorrelation between the features**"
      ]
    },
    {
      "cell_type": "code",
      "execution_count": 112,
      "metadata": {
        "colab": {
          "base_uri": "https://localhost:8080/"
        },
        "id": "aE_VVzhlbk7d",
        "outputId": "02672220-883a-4f6a-a54a-f5f99179cbca"
      },
      "outputs": [
        {
          "data": {
            "text/plain": [
              "average_score                                 0.0\n",
              "review_total_negative_word_counts             0.0\n",
              "total_number_of_reviews                       0.0\n",
              "review_total_positive_word_counts             0.0\n",
              "total_number_of_reviews_reviewer_has_given    0.0\n",
              "reviewer_score                                0.0\n",
              "days_since_review                             0.0\n",
              "distance                                      0.0\n",
              "negative_review_yes_no                        0.0\n",
              "positive_review_yes_no                        0.0\n",
              "nights                                        0.0\n",
              "Leasure_trip                                  0.0\n",
              "mobile_submitt                                0.0\n",
              "review_quarter_1                              0.0\n",
              "review_quarter_2                              0.0\n",
              "review_quarter_3                              0.0\n",
              "review_quarter_4                              0.0\n",
              "reviewer_region_Africa                        0.0\n",
              "reviewer_region_Americas                      0.0\n",
              "reviewer_region_Asia                          0.0\n",
              "reviewer_region_Europe                        0.0\n",
              "reviewer_region_Oceania                       0.0\n",
              "reviewer_region_unrecognized                  0.0\n",
              "type_room_Double_Twin                         0.0\n",
              "type_room_King                                0.0\n",
              "type_room_Quadruple                           0.0\n",
              "type_room_Queen                               0.0\n",
              "type_room_Single                              0.0\n",
              "type_room_Studio                              0.0\n",
              "type_room_Suite                               0.0\n",
              "type_room_Triple                              0.0\n",
              "Travelers_qtn_Couple                          0.0\n",
              "Travelers_qtn_Family with older children      0.0\n",
              "Travelers_qtn_Family with young children      0.0\n",
              "Travelers_qtn_Group                           0.0\n",
              "Travelers_qtn_Solo traveler                   0.0\n",
              "Travelers_qtn_Travelers with friends          0.0\n",
              "dtype: float64"
            ]
          },
          "execution_count": 112,
          "metadata": {},
          "output_type": "execute_result"
        }
      ],
      "source": [
        "hotels.isnull().mean()"
      ]
    },
    {
      "cell_type": "markdown",
      "metadata": {
        "id": "D_jgEIRbaBxE"
      },
      "source": [
        "==================================="
      ]
    },
    {
      "cell_type": "markdown",
      "metadata": {
        "id": "su6DrrQDeYpg"
      },
      "source": [
        "# 4 Modelling"
      ]
    },
    {
      "cell_type": "markdown",
      "metadata": {
        "id": "UWjjIJpzNabE"
      },
      "source": [
        "## 4.1. Splitting the data in the train & test"
      ]
    },
    {
      "cell_type": "code",
      "execution_count": 113,
      "metadata": {
        "id": "yr_dfyc6eSiQ"
      },
      "outputs": [],
      "source": [
        "# Let's break the data frame into parts necessary for training and testing the model \n",
        "# X - data with information about hotels\n",
        "# y - target variable (hotel ratings)  \n",
        "\n",
        "X = hotels.drop(['reviewer_score'], axis = 1)  \n",
        "y = hotels['reviewer_score'] "
      ]
    },
    {
      "cell_type": "code",
      "execution_count": 114,
      "metadata": {
        "colab": {
          "base_uri": "https://localhost:8080/",
          "height": 254
        },
        "id": "zIhEKVZ7eWAH",
        "outputId": "3a012b11-315a-472b-a9bf-bff799302415"
      },
      "outputs": [
        {
          "data": {
            "text/html": [
              "<div>\n",
              "<style scoped>\n",
              "    .dataframe tbody tr th:only-of-type {\n",
              "        vertical-align: middle;\n",
              "    }\n",
              "\n",
              "    .dataframe tbody tr th {\n",
              "        vertical-align: top;\n",
              "    }\n",
              "\n",
              "    .dataframe thead th {\n",
              "        text-align: right;\n",
              "    }\n",
              "</style>\n",
              "<table border=\"1\" class=\"dataframe\">\n",
              "  <thead>\n",
              "    <tr style=\"text-align: right;\">\n",
              "      <th></th>\n",
              "      <th>average_score</th>\n",
              "      <th>review_total_negative_word_counts</th>\n",
              "      <th>total_number_of_reviews</th>\n",
              "      <th>review_total_positive_word_counts</th>\n",
              "      <th>total_number_of_reviews_reviewer_has_given</th>\n",
              "      <th>days_since_review</th>\n",
              "      <th>distance</th>\n",
              "      <th>negative_review_yes_no</th>\n",
              "      <th>positive_review_yes_no</th>\n",
              "      <th>nights</th>\n",
              "      <th>...</th>\n",
              "      <th>type_room_Single</th>\n",
              "      <th>type_room_Studio</th>\n",
              "      <th>type_room_Suite</th>\n",
              "      <th>type_room_Triple</th>\n",
              "      <th>Travelers_qtn_Couple</th>\n",
              "      <th>Travelers_qtn_Family with older children</th>\n",
              "      <th>Travelers_qtn_Family with young children</th>\n",
              "      <th>Travelers_qtn_Group</th>\n",
              "      <th>Travelers_qtn_Solo traveler</th>\n",
              "      <th>Travelers_qtn_Travelers with friends</th>\n",
              "    </tr>\n",
              "  </thead>\n",
              "  <tbody>\n",
              "    <tr>\n",
              "      <th>0</th>\n",
              "      <td>8.4</td>\n",
              "      <td>3</td>\n",
              "      <td>1994</td>\n",
              "      <td>4</td>\n",
              "      <td>7</td>\n",
              "      <td>531</td>\n",
              "      <td>1.246716</td>\n",
              "      <td>1</td>\n",
              "      <td>1</td>\n",
              "      <td>2.0</td>\n",
              "      <td>...</td>\n",
              "      <td>0</td>\n",
              "      <td>0</td>\n",
              "      <td>1</td>\n",
              "      <td>0</td>\n",
              "      <td>1</td>\n",
              "      <td>0</td>\n",
              "      <td>0</td>\n",
              "      <td>0</td>\n",
              "      <td>0</td>\n",
              "      <td>0</td>\n",
              "    </tr>\n",
              "    <tr>\n",
              "      <th>1</th>\n",
              "      <td>8.3</td>\n",
              "      <td>3</td>\n",
              "      <td>1361</td>\n",
              "      <td>2</td>\n",
              "      <td>14</td>\n",
              "      <td>203</td>\n",
              "      <td>1.403718</td>\n",
              "      <td>1</td>\n",
              "      <td>1</td>\n",
              "      <td>1.0</td>\n",
              "      <td>...</td>\n",
              "      <td>0</td>\n",
              "      <td>0</td>\n",
              "      <td>0</td>\n",
              "      <td>0</td>\n",
              "      <td>1</td>\n",
              "      <td>0</td>\n",
              "      <td>0</td>\n",
              "      <td>0</td>\n",
              "      <td>0</td>\n",
              "      <td>0</td>\n",
              "    </tr>\n",
              "    <tr>\n",
              "      <th>2</th>\n",
              "      <td>8.9</td>\n",
              "      <td>6</td>\n",
              "      <td>406</td>\n",
              "      <td>0</td>\n",
              "      <td>14</td>\n",
              "      <td>289</td>\n",
              "      <td>1.919501</td>\n",
              "      <td>1</td>\n",
              "      <td>0</td>\n",
              "      <td>3.0</td>\n",
              "      <td>...</td>\n",
              "      <td>0</td>\n",
              "      <td>0</td>\n",
              "      <td>0</td>\n",
              "      <td>0</td>\n",
              "      <td>0</td>\n",
              "      <td>0</td>\n",
              "      <td>0</td>\n",
              "      <td>0</td>\n",
              "      <td>1</td>\n",
              "      <td>0</td>\n",
              "    </tr>\n",
              "  </tbody>\n",
              "</table>\n",
              "<p>3 rows × 36 columns</p>\n",
              "</div>"
            ],
            "text/plain": [
              "   average_score  review_total_negative_word_counts  total_number_of_reviews  \\\n",
              "0            8.4                                  3                     1994   \n",
              "1            8.3                                  3                     1361   \n",
              "2            8.9                                  6                      406   \n",
              "\n",
              "   review_total_positive_word_counts  \\\n",
              "0                                  4   \n",
              "1                                  2   \n",
              "2                                  0   \n",
              "\n",
              "   total_number_of_reviews_reviewer_has_given  days_since_review  distance  \\\n",
              "0                                           7                531  1.246716   \n",
              "1                                          14                203  1.403718   \n",
              "2                                          14                289  1.919501   \n",
              "\n",
              "   negative_review_yes_no  positive_review_yes_no  nights  ...  \\\n",
              "0                       1                       1     2.0  ...   \n",
              "1                       1                       1     1.0  ...   \n",
              "2                       1                       0     3.0  ...   \n",
              "\n",
              "   type_room_Single  type_room_Studio  type_room_Suite  type_room_Triple  \\\n",
              "0                 0                 0                1                 0   \n",
              "1                 0                 0                0                 0   \n",
              "2                 0                 0                0                 0   \n",
              "\n",
              "   Travelers_qtn_Couple  Travelers_qtn_Family with older children  \\\n",
              "0                     1                                         0   \n",
              "1                     1                                         0   \n",
              "2                     0                                         0   \n",
              "\n",
              "   Travelers_qtn_Family with young children  Travelers_qtn_Group  \\\n",
              "0                                         0                    0   \n",
              "1                                         0                    0   \n",
              "2                                         0                    0   \n",
              "\n",
              "   Travelers_qtn_Solo traveler  Travelers_qtn_Travelers with friends  \n",
              "0                            0                                     0  \n",
              "1                            0                                     0  \n",
              "2                            1                                     0  \n",
              "\n",
              "[3 rows x 36 columns]"
            ]
          },
          "metadata": {},
          "output_type": "display_data"
        }
      ],
      "source": [
        "display(X.head(3))"
      ]
    },
    {
      "cell_type": "code",
      "execution_count": 115,
      "metadata": {
        "id": "ZaL10B-keu4v"
      },
      "outputs": [],
      "source": [
        "# Import a special tool for splitting:  \n",
        "from sklearn.model_selection import train_test_split  "
      ]
    },
    {
      "cell_type": "code",
      "execution_count": 116,
      "metadata": {
        "id": "K7lBMgJZeys2"
      },
      "outputs": [],
      "source": [
        "# Datasets labeled \"train\" will be used to train the model, \"test\" - for testing.\n",
        "# For testing, we will use 25% of the original dataset.\n",
        "X_train, X_test, y_train, y_test = train_test_split(X, y, test_size=0.25, random_state=42)"
      ]
    },
    {
      "cell_type": "code",
      "execution_count": 117,
      "metadata": {
        "colab": {
          "base_uri": "https://localhost:8080/",
          "height": 139
        },
        "id": "gvaaE3gmez-e",
        "outputId": "a76ef991-cd3c-49fc-c74f-30d311897ca1"
      },
      "outputs": [
        {
          "data": {
            "text/plain": [
              "(289872, 36)"
            ]
          },
          "metadata": {},
          "output_type": "display_data"
        },
        {
          "name": "stdout",
          "output_type": "stream",
          "text": [
            "-------------\n"
          ]
        },
        {
          "data": {
            "text/plain": [
              "(96624, 36)"
            ]
          },
          "metadata": {},
          "output_type": "display_data"
        },
        {
          "name": "stdout",
          "output_type": "stream",
          "text": [
            "-------------\n"
          ]
        },
        {
          "data": {
            "text/plain": [
              "(289872,)"
            ]
          },
          "metadata": {},
          "output_type": "display_data"
        },
        {
          "name": "stdout",
          "output_type": "stream",
          "text": [
            "-------------\n"
          ]
        },
        {
          "data": {
            "text/plain": [
              "(96624,)"
            ]
          },
          "metadata": {},
          "output_type": "display_data"
        }
      ],
      "source": [
        "display(X_train.shape)\n",
        "print('-------------')\n",
        "display(X_test.shape)\n",
        "print('-------------')\n",
        "display(y_train.shape)\n",
        "print('-------------')\n",
        "display(y_test.shape)"
      ]
    },
    {
      "cell_type": "markdown",
      "metadata": {
        "id": "anpqGiBINgLn"
      },
      "source": [
        "## 4.2. Assessment of the significance of categorical features"
      ]
    },
    {
      "cell_type": "markdown",
      "metadata": {
        "id": "ZvuXdwCmPJhW"
      },
      "source": [
        "### chi2 for categorical features"
      ]
    },
    {
      "cell_type": "code",
      "execution_count": 118,
      "metadata": {
        "colab": {
          "base_uri": "https://localhost:8080/",
          "height": 609
        },
        "id": "4aX8qwTbOukn",
        "outputId": "64f777ea-1be0-45e4-98f4-c4ffd31c1264"
      },
      "outputs": [
        {
          "data": {
            "text/plain": [
              "<AxesSubplot:>"
            ]
          },
          "execution_count": 118,
          "metadata": {},
          "output_type": "execute_result"
        },
        {
          "data": {
            "image/png": "[encoded data removed]",
            "text/plain": [
              "<Figure size 864x720 with 1 Axes>"
            ]
          },
          "metadata": {
            "needs_background": "light"
          },
          "output_type": "display_data"
        }
      ],
      "source": [
        "fig = plt.figure(figsize=(12,10))\n",
        "\n",
        "cat_cols = ['average_score','negative_review_yes_no','positive_review_yes_no',\\\n",
        "            'Leasure_trip','mobile_submitt','review_quarter_1','review_quarter_2','review_quarter_3',\\\n",
        "            'review_quarter_4','reviewer_region_Africa','reviewer_region_Americas','reviewer_region_Asia',\\\n",
        "            'reviewer_region_Europe','reviewer_region_Oceania','reviewer_region_unrecognized','type_room_Double_Twin',\\\n",
        "            'type_room_King','type_room_Quadruple','type_room_Queen','type_room_Single','type_room_Studio','type_room_Suite',\\\n",
        "            'type_room_Triple','Travelers_qtn_Couple','Travelers_qtn_Family with older children','Travelers_qtn_Family with young children',\\\n",
        "            'Travelers_qtn_Group','Travelers_qtn_Solo traveler','Travelers_qtn_Travelers with friends','nights']\n",
        "\n",
        "\n",
        "y=y.astype('int')\n",
        "\n",
        "from sklearn.feature_selection import chi2 \n",
        "\n",
        "imp_cat = pd.Series(chi2(X[cat_cols], y)[0], index=cat_cols)\n",
        "imp_cat.sort_values(inplace = True)\n",
        "imp_cat.plot(kind = 'barh')    "
      ]
    },
    {
      "cell_type": "markdown",
      "metadata": {
        "id": "_Fq5CczLPQzN"
      },
      "source": [
        "### Anova for the continuous features"
      ]
    },
    {
      "cell_type": "code",
      "execution_count": 119,
      "metadata": {
        "colab": {
          "base_uri": "https://localhost:8080/",
          "height": 337
        },
        "id": "SaKKKFl4PGDA",
        "outputId": "04011a90-b818-46ac-c85e-bce39c4eb3f1"
      },
      "outputs": [
        {
          "data": {
            "text/plain": [
              "<AxesSubplot:>"
            ]
          },
          "execution_count": 119,
          "metadata": {},
          "output_type": "execute_result"
        },
        {
          "data": {
            "image/png": "[encoded data removed]",
            "text/plain": [
              "<Figure size 576x360 with 1 Axes>"
            ]
          },
          "metadata": {
            "needs_background": "light"
          },
          "output_type": "display_data"
        }
      ],
      "source": [
        "fig = plt.figure(figsize=(8,5))\n",
        "\n",
        "num_cols = ['review_total_negative_word_counts','total_number_of_reviews','review_total_positive_word_counts',\\\n",
        "            'total_number_of_reviews_reviewer_has_given','days_since_review','distance']\n",
        "\n",
        "\n",
        "from sklearn.feature_selection import f_classif # anova\n",
        "\n",
        "imp_num = pd.Series(f_classif(X[num_cols], y)[0], index = num_cols)\n",
        "imp_num.sort_values(inplace = True)\n",
        "imp_num.plot(kind = 'barh')     "
      ]
    },
    {
      "cell_type": "markdown",
      "metadata": {
        "id": "lU5hmvx2Nm3x"
      },
      "source": [
        "## 4.3. Modelling "
      ]
    },
    {
      "cell_type": "code",
      "execution_count": 120,
      "metadata": {
        "id": "m1s3Kt6Ge3wl"
      },
      "outputs": [],
      "source": [
        "\n",
        "# Import libraries:  \n",
        "from sklearn.ensemble import RandomForestRegressor # the tool for create and train the model \n",
        "from sklearn import metrics # the tools to evaluate the accuracy of the model\n",
        "  \n",
        "# Create the model \n",
        "regr = RandomForestRegressor(n_estimators=100)  \n",
        "      \n",
        "# Train the model on the train data\n",
        "regr.fit(X_train, y_train)  \n",
        "      \n",
        "# Use a trained model to predict the rating of hotels in the test sample.  \n",
        "# The predicted values are written to the y_pred \n",
        "y_pred = regr.predict(X_test)  "
      ]
    },
    {
      "cell_type": "code",
      "execution_count": 121,
      "metadata": {
        "colab": {
          "base_uri": "https://localhost:8080/"
        },
        "id": "rRRjwOyOe7SN",
        "outputId": "1987c5db-a11f-44d3-c1c5-7101bdf6799a"
      },
      "outputs": [
        {
          "name": "stdout",
          "output_type": "stream",
          "text": [
            "MAPE: 0.1328771314889322\n"
          ]
        }
      ],
      "source": [
        "# Compare the predicted values (y_pred) with the test (y_test), and see how they differ\n",
        "# The metric Mean Absolute Percentage Error (MAPE) shows the average absolute percentage error of the predicted values from the actual ones.\n",
        "\n",
        "print('MAPE:', metrics.mean_absolute_percentage_error(y_test, y_pred))"
      ]
    }
  ],
  "metadata": {
    "colab": {
      "collapsed_sections": [],
      "provenance": []
    },
    "kernelspec": {
      "display_name": "Python 3.9.12 64-bit",
      "language": "python",
      "name": "python3"
    },
    "language_info": {
      "codemirror_mode": {
        "name": "ipython",
        "version": 3
      },
      "file_extension": ".py",
      "mimetype": "text/x-python",
      "name": "python",
      "nbconvert_exporter": "python",
      "pygments_lexer": "ipython3",
      "version": "3.9.12"
    },
    "vscode": {
      "interpreter": {
        "hash": "ba4c651cdc5ec17c511bce19f294202fdc45305f9de1f927c569f32faa173ead"
      }
    }
  },
  "nbformat": 4,
  "nbformat_minor": 0
}
