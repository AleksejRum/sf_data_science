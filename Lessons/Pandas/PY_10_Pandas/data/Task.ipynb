{
 "cells": [
  {
   "cell_type": "code",
   "execution_count": null,
   "metadata": {},
   "outputs": [],
   "source": []
  }
 ],
 "metadata": {
  "kernelspec": {
   "display_name": "Python 3.10.5 64-bit (system)",
   "language": "python",
   "name": "python3"
  },
  "language_info": {
   "name": "python",
   "version": "3.10.5"
  },
  "orig_nbformat": 4,
  "vscode": {
   "interpreter": {
    "hash": "64c9ac4a82e4bc9bcb3f45840ea9f3b8342dd7c18596f5c427061808a861d154"
   }
  }
 },
 "nbformat": 4,
 "nbformat_minor": 2
}
